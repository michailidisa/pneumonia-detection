{
  "nbformat": 4,
  "nbformat_minor": 0,
  "metadata": {
    "colab": {
      "name": "Best_notebook2.ipynb",
      "provenance": [],
      "collapsed_sections": [
        "G7UMh8jMRzFV",
        "cSzpNMKE2RBS",
        "AZIlmSvKEWLE",
        "czz_AfPCD_LW",
        "ETDeu8cDNGx-",
        "Q_kxDqMvkbR1",
        "CypbrvSq1esj",
        "vP1yh4MKI8wl",
        "rKWKCHYvJx6A",
        "jqwUHGq0LC35",
        "1tBeyxo348rC",
        "-5n68tdlp-9i",
        "g1pTRhgaqwmd"
      ]
    },
    "kernelspec": {
      "name": "python3",
      "display_name": "Python 3"
    },
    "language_info": {
      "name": "python"
    }
  },
  "cells": [
    {
      "cell_type": "markdown",
      "metadata": {
        "id": "G7UMh8jMRzFV"
      },
      "source": [
        "# Initial Process to Insert the data"
      ]
    },
    {
      "cell_type": "markdown",
      "metadata": {
        "id": "Vq37k8PjDsM3"
      },
      "source": [
        "Import data through Kaggle to Google Drive"
      ]
    },
    {
      "cell_type": "code",
      "execution_count": null,
      "metadata": {
        "colab": {
          "base_uri": "https://localhost:8080/",
          "height": 375
        },
        "id": "5_87vLGsMEwg",
        "outputId": "44cae3ba-6d7d-45d6-aed9-2f0319ca6066"
      },
      "outputs": [
        {
          "ename": "KeyboardInterrupt",
          "evalue": "ignored",
          "output_type": "error",
          "traceback": [
            "\u001b[0;31m---------------------------------------------------------------------------\u001b[0m",
            "\u001b[0;31mKeyboardInterrupt\u001b[0m                         Traceback (most recent call last)",
            "\u001b[0;32m<ipython-input-1-6e9eac1e3d4a>\u001b[0m in \u001b[0;36m<module>\u001b[0;34m()\u001b[0m\n\u001b[1;32m      1\u001b[0m \u001b[0;32mfrom\u001b[0m \u001b[0mgoogle\u001b[0m\u001b[0;34m.\u001b[0m\u001b[0mcolab\u001b[0m \u001b[0;32mimport\u001b[0m \u001b[0mdrive\u001b[0m\u001b[0;34m\u001b[0m\u001b[0;34m\u001b[0m\u001b[0m\n\u001b[0;32m----> 2\u001b[0;31m \u001b[0mdrive\u001b[0m\u001b[0;34m.\u001b[0m\u001b[0mmount\u001b[0m\u001b[0;34m(\u001b[0m\u001b[0;34m'/content/gdrive'\u001b[0m\u001b[0;34m)\u001b[0m\u001b[0;34m\u001b[0m\u001b[0;34m\u001b[0m\u001b[0m\n\u001b[0m\u001b[1;32m      3\u001b[0m \u001b[0mget_ipython\u001b[0m\u001b[0;34m(\u001b[0m\u001b[0;34m)\u001b[0m\u001b[0;34m.\u001b[0m\u001b[0msystem\u001b[0m\u001b[0;34m(\u001b[0m\u001b[0;34m'ls'\u001b[0m\u001b[0;34m)\u001b[0m\u001b[0;34m\u001b[0m\u001b[0;34m\u001b[0m\u001b[0m\n\u001b[1;32m      4\u001b[0m \u001b[0mos\u001b[0m\u001b[0;34m.\u001b[0m\u001b[0menviron\u001b[0m\u001b[0;34m[\u001b[0m\u001b[0;34m'KAGGLE_CONFIG_DIR'\u001b[0m\u001b[0;34m]\u001b[0m \u001b[0;34m=\u001b[0m \u001b[0;34m\"/content/gdrive/MyDrive/ColabNotebooks/inputs\"\u001b[0m\u001b[0;34m\u001b[0m\u001b[0;34m\u001b[0m\u001b[0m\n\u001b[1;32m      5\u001b[0m \u001b[0;31m#changing the working directory\u001b[0m\u001b[0;34m\u001b[0m\u001b[0;34m\u001b[0m\u001b[0;34m\u001b[0m\u001b[0m\n",
            "\u001b[0;32m/usr/local/lib/python3.7/dist-packages/google/colab/drive.py\u001b[0m in \u001b[0;36mmount\u001b[0;34m(mountpoint, force_remount, timeout_ms)\u001b[0m\n\u001b[1;32m    107\u001b[0m       \u001b[0mforce_remount\u001b[0m\u001b[0;34m=\u001b[0m\u001b[0mforce_remount\u001b[0m\u001b[0;34m,\u001b[0m\u001b[0;34m\u001b[0m\u001b[0;34m\u001b[0m\u001b[0m\n\u001b[1;32m    108\u001b[0m       \u001b[0mtimeout_ms\u001b[0m\u001b[0;34m=\u001b[0m\u001b[0mtimeout_ms\u001b[0m\u001b[0;34m,\u001b[0m\u001b[0;34m\u001b[0m\u001b[0;34m\u001b[0m\u001b[0m\n\u001b[0;32m--> 109\u001b[0;31m       ephemeral=True)\n\u001b[0m\u001b[1;32m    110\u001b[0m \u001b[0;34m\u001b[0m\u001b[0m\n\u001b[1;32m    111\u001b[0m \u001b[0;34m\u001b[0m\u001b[0m\n",
            "\u001b[0;32m/usr/local/lib/python3.7/dist-packages/google/colab/drive.py\u001b[0m in \u001b[0;36m_mount\u001b[0;34m(mountpoint, force_remount, timeout_ms, ephemeral)\u001b[0m\n\u001b[1;32m    126\u001b[0m   \u001b[0;32mif\u001b[0m \u001b[0mephemeral\u001b[0m\u001b[0;34m:\u001b[0m\u001b[0;34m\u001b[0m\u001b[0;34m\u001b[0m\u001b[0m\n\u001b[1;32m    127\u001b[0m     _message.blocking_request(\n\u001b[0;32m--> 128\u001b[0;31m         'request_auth', request={'authType': 'dfs_ephemeral'}, timeout_sec=None)\n\u001b[0m\u001b[1;32m    129\u001b[0m \u001b[0;34m\u001b[0m\u001b[0m\n\u001b[1;32m    130\u001b[0m   \u001b[0mmountpoint\u001b[0m \u001b[0;34m=\u001b[0m \u001b[0m_os\u001b[0m\u001b[0;34m.\u001b[0m\u001b[0mpath\u001b[0m\u001b[0;34m.\u001b[0m\u001b[0mexpanduser\u001b[0m\u001b[0;34m(\u001b[0m\u001b[0mmountpoint\u001b[0m\u001b[0;34m)\u001b[0m\u001b[0;34m\u001b[0m\u001b[0;34m\u001b[0m\u001b[0m\n",
            "\u001b[0;32m/usr/local/lib/python3.7/dist-packages/google/colab/_message.py\u001b[0m in \u001b[0;36mblocking_request\u001b[0;34m(request_type, request, timeout_sec, parent)\u001b[0m\n\u001b[1;32m    173\u001b[0m   request_id = send_request(\n\u001b[1;32m    174\u001b[0m       request_type, request, parent=parent, expect_reply=True)\n\u001b[0;32m--> 175\u001b[0;31m   \u001b[0;32mreturn\u001b[0m \u001b[0mread_reply_from_input\u001b[0m\u001b[0;34m(\u001b[0m\u001b[0mrequest_id\u001b[0m\u001b[0;34m,\u001b[0m \u001b[0mtimeout_sec\u001b[0m\u001b[0;34m)\u001b[0m\u001b[0;34m\u001b[0m\u001b[0;34m\u001b[0m\u001b[0m\n\u001b[0m",
            "\u001b[0;32m/usr/local/lib/python3.7/dist-packages/google/colab/_message.py\u001b[0m in \u001b[0;36mread_reply_from_input\u001b[0;34m(message_id, timeout_sec)\u001b[0m\n\u001b[1;32m     99\u001b[0m     \u001b[0mreply\u001b[0m \u001b[0;34m=\u001b[0m \u001b[0m_read_next_input_message\u001b[0m\u001b[0;34m(\u001b[0m\u001b[0;34m)\u001b[0m\u001b[0;34m\u001b[0m\u001b[0;34m\u001b[0m\u001b[0m\n\u001b[1;32m    100\u001b[0m     \u001b[0;32mif\u001b[0m \u001b[0mreply\u001b[0m \u001b[0;34m==\u001b[0m \u001b[0m_NOT_READY\u001b[0m \u001b[0;32mor\u001b[0m \u001b[0;32mnot\u001b[0m \u001b[0misinstance\u001b[0m\u001b[0;34m(\u001b[0m\u001b[0mreply\u001b[0m\u001b[0;34m,\u001b[0m \u001b[0mdict\u001b[0m\u001b[0;34m)\u001b[0m\u001b[0;34m:\u001b[0m\u001b[0;34m\u001b[0m\u001b[0;34m\u001b[0m\u001b[0m\n\u001b[0;32m--> 101\u001b[0;31m       \u001b[0mtime\u001b[0m\u001b[0;34m.\u001b[0m\u001b[0msleep\u001b[0m\u001b[0;34m(\u001b[0m\u001b[0;36m0.025\u001b[0m\u001b[0;34m)\u001b[0m\u001b[0;34m\u001b[0m\u001b[0;34m\u001b[0m\u001b[0m\n\u001b[0m\u001b[1;32m    102\u001b[0m       \u001b[0;32mcontinue\u001b[0m\u001b[0;34m\u001b[0m\u001b[0;34m\u001b[0m\u001b[0m\n\u001b[1;32m    103\u001b[0m     if (reply.get('type') == 'colab_reply' and\n",
            "\u001b[0;31mKeyboardInterrupt\u001b[0m: "
          ]
        }
      ],
      "source": [
        "from google.colab import drive\n",
        "drive.mount('/content/gdrive')\n",
        "!ls\n",
        "os.environ['KAGGLE_CONFIG_DIR'] = \"/content/gdrive/MyDrive/ColabNotebooks/inputs\"\n",
        "#changing the working directory\n",
        "%cd \"/content/gdrive/MyDrive/ColabNotebooks/inputs\"\n",
        "#Check the present working directory using pwd command\n",
        "!pwd\n",
        "\n",
        "#kaggle API file\n",
        "! kaggle competitions download -c detect-pneumonia-spring-2022\n",
        "\n",
        "!ls \n",
        "\n",
        "#unzipping the zip files and deleting the zip files\n",
        "!unzip \\*.zip  && rm *.zip"
      ]
    },
    {
      "cell_type": "code",
      "execution_count": null,
      "metadata": {
        "id": "BpFztTXdGD6f"
      },
      "outputs": [],
      "source": [
        "import os\n",
        "import cv2\n",
        "import pickle\n",
        "import numpy as np\n",
        "import pandas as pd\n",
        "import matplotlib.pyplot as plt\n",
        "import seaborn as sns\n",
        "from tqdm import tqdm"
      ]
    },
    {
      "cell_type": "markdown",
      "metadata": {
        "id": "FLC8soy-JK3Z"
      },
      "source": [
        "\n",
        "\n",
        "> Indented block\n",
        "\n",
        "\n",
        "*   Resize the pictures to 224 x 224 & RGB & Panding\n",
        "\n",
        "*   Get the labels from the file\n"
      ]
    },
    {
      "cell_type": "code",
      "execution_count": null,
      "metadata": {
        "id": "qx7yRnFxI9hl"
      },
      "outputs": [],
      "source": [
        "def load_normal(norm_path, labels_path):\n",
        "    norm_files = np.array(os.listdir(norm_path))\n",
        "    labels = pd.read_csv(labels_path)\n",
        "    \n",
        "    norm_images = []\n",
        "    norm_labels = []\n",
        "    BLACK =[0,0,0]\n",
        "    for image in norm_files:\n",
        "        \n",
        "        #get the label of each image in a list \n",
        "        a = labels[labels[\"file_name\"]==str(image)].index.values\n",
        "        b = labels.iloc[a][\"class_id\"].values\n",
        "        norm_labels.append(b)\n",
        "\n",
        "        #transform the images \n",
        "        path = norm_path + \"/\" + image\n",
        "        image = cv2.imread(path)\n",
        "        im_height, im_width, channels = image.shape\n",
        "        if im_height > im_width:\n",
        "          x2 = im_height - im_width\n",
        "          x1 = 0\n",
        "        else:\n",
        "          x1 = im_width - im_height\n",
        "          x2 = 0\n",
        "        constant= cv2.copyMakeBorder(image,x1,x1,x2,x2,cv2.BORDER_CONSTANT, value=BLACK)        \n",
        "        image = cv2.resize(constant, dsize=(224,224))\n",
        "        norm_images.append(image)\n",
        "\n",
        "        \n",
        "    norm_images = np.array(norm_images)\n",
        "    norm_labels = np.array(norm_labels)\n",
        "    \n",
        "    return norm_images, norm_labels"
      ]
    },
    {
      "cell_type": "code",
      "execution_count": null,
      "metadata": {
        "id": "RSzwP1hAbJhE"
      },
      "outputs": [],
      "source": [
        "def load_normal_test(norm_path):\n",
        "\n",
        "    norm_files = np.array(os.listdir(norm_path))\n",
        "    norm_images = []\n",
        "    image_names = []\n",
        "    BLACK =[0,0,0]\n",
        "\n",
        "    for image in norm_files:\n",
        "        \n",
        "        image_names.append(image)\n",
        "        #transform the images \n",
        "        path = norm_path + \"/\" + image\n",
        "        image = cv2.imread(path)\n",
        "        im_height, im_width, channels = image.shape\n",
        "        if im_height > im_width:\n",
        "          x2 = im_height - im_width\n",
        "          x1 = 0\n",
        "        else:\n",
        "          x1 = im_width - im_height\n",
        "          x2 = 0\n",
        "        constant= cv2.copyMakeBorder(image,x1,x1,x2,x2,cv2.BORDER_CONSTANT, value=BLACK)        \n",
        "        image = cv2.resize(constant, dsize=(224,224))\n",
        "        norm_images.append(image)\n",
        "\n",
        "        \n",
        "    norm_images = np.array(norm_images)\n",
        "    image_names = np.array(image_names)                         \n",
        "                         \n",
        "    return norm_images, image_names"
      ]
    },
    {
      "cell_type": "code",
      "execution_count": null,
      "metadata": {
        "id": "um45_zseJrq1"
      },
      "outputs": [],
      "source": [
        "norm_images, norm_labels =  load_normal('/content/gdrive/MyDrive/ColabNotebooks/inputs/train_images', '/content/gdrive/MyDrive/ColabNotebooks/inputs/labels_train.csv')"
      ]
    },
    {
      "cell_type": "code",
      "execution_count": null,
      "metadata": {
        "id": "J_AbVtEObK-5"
      },
      "outputs": [],
      "source": [
        "norm_images_test, names =  load_normal_test('/content/gdrive/MyDrive/ColabNotebooks/inputs/test_images')"
      ]
    },
    {
      "cell_type": "code",
      "execution_count": null,
      "metadata": {
        "colab": {
          "base_uri": "https://localhost:8080/"
        },
        "id": "7xIKFwsmaAwA",
        "outputId": "94507a97-9d11-478a-f481-5859ba027588"
      },
      "outputs": [
        {
          "data": {
            "text/plain": [
              "(4672, 224, 224, 3)"
            ]
          },
          "execution_count": 24,
          "metadata": {},
          "output_type": "execute_result"
        }
      ],
      "source": [
        "X_train = norm_images\n",
        "X_train.shape"
      ]
    },
    {
      "cell_type": "code",
      "execution_count": null,
      "metadata": {
        "colab": {
          "base_uri": "https://localhost:8080/"
        },
        "id": "7U6ebugAFNoa",
        "outputId": "baa929c6-142d-4992-e5f7-f81e1c78ff86"
      },
      "outputs": [
        {
          "data": {
            "text/plain": [
              "(4672, 1)"
            ]
          },
          "execution_count": 16,
          "metadata": {},
          "output_type": "execute_result"
        }
      ],
      "source": [
        "y_train = norm_labels\n",
        "y_train.shape"
      ]
    },
    {
      "cell_type": "code",
      "execution_count": null,
      "metadata": {
        "colab": {
          "base_uri": "https://localhost:8080/"
        },
        "id": "aBT1hSbsbQCI",
        "outputId": "3f3218a3-62ec-42bf-a285-a1a6e1915a79"
      },
      "outputs": [
        {
          "data": {
            "text/plain": [
              "(1168, 224, 224, 3)"
            ]
          },
          "execution_count": 28,
          "metadata": {},
          "output_type": "execute_result"
        }
      ],
      "source": [
        "X_test = norm_images_test\n",
        "X_test.shape"
      ]
    },
    {
      "cell_type": "code",
      "execution_count": null,
      "metadata": {
        "colab": {
          "base_uri": "https://localhost:8080/",
          "height": 302
        },
        "id": "v113eIz6FxL2",
        "outputId": "06350aba-3eb8-45f4-f32b-debc18051c67"
      },
      "outputs": [
        {
          "name": "stderr",
          "output_type": "stream",
          "text": [
            "/usr/local/lib/python3.7/dist-packages/matplotlib/text.py:1165: FutureWarning: elementwise comparison failed; returning scalar instead, but in the future will perform elementwise comparison\n",
            "  if s != self._text:\n"
          ]
        },
        {
          "data": {
            "image/png": "[encoded data removed]",
            "text/plain": [
              "<Figure size 1152x288 with 14 Axes>"
            ]
          },
          "metadata": {},
          "output_type": "display_data"
        }
      ],
      "source": [
        "fig, axes = plt.subplots(ncols=7, nrows=2, figsize=(16, 4))\n",
        "\n",
        "indices = np.random.choice(len(X_train), 14)\n",
        "counter = 0\n",
        "\n",
        "for i in range(2):\n",
        "    for j in range(7):\n",
        "        axes[i,j].set_title(y_train[indices[counter]])\n",
        "        axes[i,j].imshow(X_train[indices[counter]], cmap='gray')\n",
        "        axes[i,j].get_xaxis().set_visible(False)\n",
        "        axes[i,j].get_yaxis().set_visible(False)\n",
        "        counter += 1\n",
        "plt.show()"
      ]
    },
    {
      "cell_type": "code",
      "execution_count": null,
      "metadata": {
        "colab": {
          "base_uri": "https://localhost:8080/"
        },
        "id": "Crjzl50bMZch",
        "outputId": "67f02a99-db75-4229-c062-1a63f92b2201"
      },
      "outputs": [
        {
          "name": "stdout",
          "output_type": "stream",
          "text": [
            "/content/gdrive/MyDrive/ColabNotebooks/inputs\n"
          ]
        }
      ],
      "source": [
        "#changing the working directory\n",
        "%cd \"/content/gdrive/MyDrive/ColabNotebooks/inputs\""
      ]
    },
    {
      "cell_type": "code",
      "execution_count": null,
      "metadata": {
        "id": "RZtHXW5sGNyg"
      },
      "outputs": [],
      "source": [
        "# Use this to save variables\n",
        "with open('pneumonia_data3.pickle', 'wb') as f:\n",
        "    pickle.dump((X_train, y_train), f)# Use this to load variables"
      ]
    },
    {
      "cell_type": "code",
      "execution_count": null,
      "metadata": {
        "id": "ssZDp47sbChy"
      },
      "outputs": [],
      "source": [
        "# Use this to save variables\n",
        "with open('pneumonia_data_test3.pickle', 'wb') as f:\n",
        "    pickle.dump((X_test), f)# Use this to load variables"
      ]
    },
    {
      "cell_type": "code",
      "execution_count": null,
      "metadata": {
        "id": "j6dqCAknolrT"
      },
      "outputs": [],
      "source": [
        "pd.DataFrame(names).to_csv(\"submission3.csv\", index=False, header = [\"file_name\"])"
      ]
    },
    {
      "cell_type": "markdown",
      "metadata": {
        "id": "cSzpNMKE2RBS"
      },
      "source": [
        "#Initial Start for all models"
      ]
    },
    {
      "cell_type": "code",
      "execution_count": null,
      "metadata": {
        "id": "DfhttMNqR-AU"
      },
      "outputs": [],
      "source": [
        "#Already Inserted Previously\n",
        "import os\n",
        "import cv2\n",
        "import pickle\n",
        "import numpy as np\n",
        "import pandas as pd\n",
        "import matplotlib.pyplot as plt\n",
        "import seaborn as sns\n",
        "import tensorflow as tf\n",
        "from google.colab import drive\n",
        "from tqdm import tqdm\n",
        "from sklearn.preprocessing import OneHotEncoder\n",
        "from sklearn.metrics import confusion_matrix\n",
        "from keras import optimizers\n",
        "from keras.models import Model, load_model, Sequential\n",
        "from keras.layers import Dense, Input, Conv2D, MaxPool2D, Flatten, Dropout, BatchNormalization, GlobalAveragePooling2D\n",
        "from keras.layers import Conv2D, SeparableConv2D, MaxPool2D, LeakyReLU, Activation\n",
        "from keras.callbacks import ModelCheckpoint, ReduceLROnPlateau, EarlyStopping\n",
        "from keras.regularizers import L1L2\n",
        "from keras.preprocessing.image import ImageDataGenerator\n",
        "import csv"
      ]
    },
    {
      "cell_type": "code",
      "execution_count": null,
      "metadata": {
        "colab": {
          "base_uri": "https://localhost:8080/"
        },
        "id": "3TCEJ0fhSpto",
        "outputId": "daadc257-6544-4fdf-eee3-130fc8dae0c2"
      },
      "outputs": [
        {
          "output_type": "stream",
          "name": "stdout",
          "text": [
            "Mounted at /content/gdrive\n"
          ]
        }
      ],
      "source": [
        "drive.mount('/content/gdrive')"
      ]
    },
    {
      "cell_type": "code",
      "execution_count": null,
      "metadata": {
        "colab": {
          "base_uri": "https://localhost:8080/"
        },
        "id": "chgKQLsqU_B_",
        "outputId": "92ffc34e-78cf-4978-8435-48b8b9f424fd"
      },
      "outputs": [
        {
          "output_type": "stream",
          "name": "stdout",
          "text": [
            "/content/gdrive/MyDrive/ColabNotebooks/inputs\n"
          ]
        }
      ],
      "source": [
        "#changing the working directory\n",
        "%cd \"/content/gdrive/MyDrive/ColabNotebooks/inputs\""
      ]
    },
    {
      "cell_type": "code",
      "execution_count": null,
      "metadata": {
        "id": "ygPczKofMzEB"
      },
      "outputs": [],
      "source": [
        "with open('pneumonia_data3.pickle', 'rb') as f:\n",
        "    (X_train, y_train) = pickle.load(f)"
      ]
    },
    {
      "cell_type": "code",
      "execution_count": null,
      "metadata": {
        "id": "aIefp_ROarzi"
      },
      "outputs": [],
      "source": [
        "with open('pneumonia_data_test3.pickle', 'rb') as f:\n",
        "    (X_test) = pickle.load(f)"
      ]
    },
    {
      "cell_type": "code",
      "execution_count": null,
      "metadata": {
        "colab": {
          "base_uri": "https://localhost:8080/"
        },
        "id": "d8kw-zI3NCIg",
        "outputId": "bf6c09db-eb98-4517-f390-5e2a5cfb31d0"
      },
      "outputs": [
        {
          "output_type": "execute_result",
          "data": {
            "text/plain": [
              "(4672, 224, 224, 3)"
            ]
          },
          "metadata": {},
          "execution_count": 9
        }
      ],
      "source": [
        "X_train.shape"
      ]
    },
    {
      "cell_type": "code",
      "execution_count": null,
      "metadata": {
        "colab": {
          "base_uri": "https://localhost:8080/"
        },
        "id": "qDc5gJcta0jk",
        "outputId": "d55aabab-e710-408a-e2a2-421f5ff12ae2"
      },
      "outputs": [
        {
          "output_type": "execute_result",
          "data": {
            "text/plain": [
              "(1168, 224, 224, 3)"
            ]
          },
          "metadata": {},
          "execution_count": 10
        }
      ],
      "source": [
        "X_test.shape"
      ]
    },
    {
      "cell_type": "code",
      "source": [
        "y_train.shape"
      ],
      "metadata": {
        "colab": {
          "base_uri": "https://localhost:8080/"
        },
        "id": "ZhlMhvcmmVaZ",
        "outputId": "38420802-4304-446c-d04a-31de071e8e87"
      },
      "execution_count": null,
      "outputs": [
        {
          "output_type": "execute_result",
          "data": {
            "text/plain": [
              "(4672, 1)"
            ]
          },
          "metadata": {},
          "execution_count": 11
        }
      ]
    },
    {
      "cell_type": "code",
      "execution_count": null,
      "metadata": {
        "id": "AFglv1WgNFlK"
      },
      "outputs": [],
      "source": [
        "one_hot_encoder = OneHotEncoder(sparse=False)\n",
        "y_train = one_hot_encoder.fit_transform(y_train)"
      ]
    },
    {
      "cell_type": "code",
      "source": [
        "y_train.shape"
      ],
      "metadata": {
        "colab": {
          "base_uri": "https://localhost:8080/"
        },
        "id": "n9iIC3upy2eU",
        "outputId": "736bdb41-1f81-4e4c-cda1-a8c799da13b7"
      },
      "execution_count": null,
      "outputs": [
        {
          "output_type": "execute_result",
          "data": {
            "text/plain": [
              "(4672, 3)"
            ]
          },
          "metadata": {},
          "execution_count": 13
        }
      ]
    },
    {
      "cell_type": "code",
      "source": [
        "datagen = ImageDataGenerator(\n",
        "        rotation_range = 2,\n",
        "        zoom_range = 0.1, \n",
        "        width_shift_range = 0.1, \n",
        "        height_shift_range = 0.1,\n",
        "        brightness_range=[0.6,1.4],\n",
        "        fill_mode= \"nearest\",validation_split=0.1)"
      ],
      "metadata": {
        "id": "jpQWGPqzNaCh"
      },
      "execution_count": null,
      "outputs": []
    },
    {
      "cell_type": "code",
      "source": [
        "datagen.fit(X_train)\n",
        "train_gen = datagen.flow(X_train, y_train, batch_size=32, subset=\"training\")\n",
        "valid_gen = datagen.flow(X_train, y_train, batch_size=32, subset= \"validation\")"
      ],
      "metadata": {
        "id": "A8zqO9PUNaGc"
      },
      "execution_count": null,
      "outputs": []
    },
    {
      "cell_type": "markdown",
      "source": [
        "#Models -> From 22 models only the 16 used on Soft Voting"
      ],
      "metadata": {
        "id": "TSAq0cxG2aQr"
      }
    },
    {
      "cell_type": "markdown",
      "metadata": {
        "id": "AZIlmSvKEWLE"
      },
      "source": [
        "###EfficientNetB0 ->  Removed on Final Results"
      ]
    },
    {
      "cell_type": "code",
      "execution_count": null,
      "metadata": {
        "id": "x1mQAHHdSdiH",
        "colab": {
          "base_uri": "https://localhost:8080/"
        },
        "outputId": "8c08e414-4721-43a0-c1cb-3031d0aeb5e0"
      },
      "outputs": [
        {
          "output_type": "stream",
          "name": "stdout",
          "text": [
            "Downloading data from https://storage.googleapis.com/keras-applications/efficientnetb0_notop.h5\n",
            "16711680/16705208 [==============================] - 0s 0us/step\n",
            "16719872/16705208 [==============================] - 0s 0us/step\n"
          ]
        }
      ],
      "source": [
        "base_model = tf.keras.applications.EfficientNetB0(include_top=False,\n",
        "                                     weights='imagenet',\n",
        "                                     input_shape=(224, 224, 3))\n",
        "x = base_model.output\n",
        "x = tf.keras.layers.GlobalAveragePooling2D()(x)\n",
        "x = Dense(512, activation=None, kernel_regularizer = L1L2(l1=1e-5, l2=1e-3))(x)\n",
        "x = BatchNormalization()(x)\n",
        "x = Activation('swish')(x)\n",
        "x = Dropout(0.3)(x)\n",
        "x = Dense(512, activation=None, kernel_regularizer = L1L2(l1=1e-5, l2=1e-3))(x)\n",
        "x = BatchNormalization()(x)\n",
        "x = Activation('swish')(x)\n",
        "x = Dropout(0.3)(x)\n",
        "ouput1 = Dense(3, activation= 'softmax')(x)\n",
        "\n",
        "model = Model(inputs=base_model.input, outputs=ouput1)\n",
        "\n",
        "model.compile(loss='categorical_crossentropy', \n",
        "              optimizer=tf.keras.optimizers.Adam(1e-4, decay = 1e-4 * 0.1), metrics=['acc'])"
      ]
    },
    {
      "cell_type": "code",
      "execution_count": null,
      "metadata": {
        "colab": {
          "base_uri": "https://localhost:8080/"
        },
        "id": "OT2-lxbB24XD",
        "outputId": "ea6fd3f2-a457-4e04-ff64-47b64aac63b3"
      },
      "outputs": [
        {
          "output_type": "stream",
          "name": "stdout",
          "text": [
            "Model: \"model\"\n",
            "__________________________________________________________________________________________________\n",
            " Layer (type)                   Output Shape         Param #     Connected to                     \n",
            "==================================================================================================\n",
            " input_1 (InputLayer)           [(None, 224, 224, 3  0           []                               \n",
            "                                )]                                                                \n",
            "                                                                                                  \n",
            " rescaling (Rescaling)          (None, 224, 224, 3)  0           ['input_1[0][0]']                \n",
            "                                                                                                  \n",
            " normalization (Normalization)  (None, 224, 224, 3)  7           ['rescaling[0][0]']              \n",
            "                                                                                                  \n",
            " stem_conv_pad (ZeroPadding2D)  (None, 225, 225, 3)  0           ['normalization[0][0]']          \n",
            "                                                                                                  \n",
            " stem_conv (Conv2D)             (None, 112, 112, 32  864         ['stem_conv_pad[0][0]']          \n",
            "                                )                                                                 \n",
            "                                                                                                  \n",
            " stem_bn (BatchNormalization)   (None, 112, 112, 32  128         ['stem_conv[0][0]']              \n",
            "                                )                                                                 \n",
            "                                                                                                  \n",
            " stem_activation (Activation)   (None, 112, 112, 32  0           ['stem_bn[0][0]']                \n",
            "                                )                                                                 \n",
            "                                                                                                  \n",
            " block1a_dwconv (DepthwiseConv2  (None, 112, 112, 32  288        ['stem_activation[0][0]']        \n",
            " D)                             )                                                                 \n",
            "                                                                                                  \n",
            " block1a_bn (BatchNormalization  (None, 112, 112, 32  128        ['block1a_dwconv[0][0]']         \n",
            " )                              )                                                                 \n",
            "                                                                                                  \n",
            " block1a_activation (Activation  (None, 112, 112, 32  0          ['block1a_bn[0][0]']             \n",
            " )                              )                                                                 \n",
            "                                                                                                  \n",
            " block1a_se_squeeze (GlobalAver  (None, 32)          0           ['block1a_activation[0][0]']     \n",
            " agePooling2D)                                                                                    \n",
            "                                                                                                  \n",
            " block1a_se_reshape (Reshape)   (None, 1, 1, 32)     0           ['block1a_se_squeeze[0][0]']     \n",
            "                                                                                                  \n",
            " block1a_se_reduce (Conv2D)     (None, 1, 1, 8)      264         ['block1a_se_reshape[0][0]']     \n",
            "                                                                                                  \n",
            " block1a_se_expand (Conv2D)     (None, 1, 1, 32)     288         ['block1a_se_reduce[0][0]']      \n",
            "                                                                                                  \n",
            " block1a_se_excite (Multiply)   (None, 112, 112, 32  0           ['block1a_activation[0][0]',     \n",
            "                                )                                 'block1a_se_expand[0][0]']      \n",
            "                                                                                                  \n",
            " block1a_project_conv (Conv2D)  (None, 112, 112, 16  512         ['block1a_se_excite[0][0]']      \n",
            "                                )                                                                 \n",
            "                                                                                                  \n",
            " block1a_project_bn (BatchNorma  (None, 112, 112, 16  64         ['block1a_project_conv[0][0]']   \n",
            " lization)                      )                                                                 \n",
            "                                                                                                  \n",
            " block2a_expand_conv (Conv2D)   (None, 112, 112, 96  1536        ['block1a_project_bn[0][0]']     \n",
            "                                )                                                                 \n",
            "                                                                                                  \n",
            " block2a_expand_bn (BatchNormal  (None, 112, 112, 96  384        ['block2a_expand_conv[0][0]']    \n",
            " ization)                       )                                                                 \n",
            "                                                                                                  \n",
            " block2a_expand_activation (Act  (None, 112, 112, 96  0          ['block2a_expand_bn[0][0]']      \n",
            " ivation)                       )                                                                 \n",
            "                                                                                                  \n",
            " block2a_dwconv_pad (ZeroPaddin  (None, 113, 113, 96  0          ['block2a_expand_activation[0][0]\n",
            " g2D)                           )                                ']                               \n",
            "                                                                                                  \n",
            " block2a_dwconv (DepthwiseConv2  (None, 56, 56, 96)  864         ['block2a_dwconv_pad[0][0]']     \n",
            " D)                                                                                               \n",
            "                                                                                                  \n",
            " block2a_bn (BatchNormalization  (None, 56, 56, 96)  384         ['block2a_dwconv[0][0]']         \n",
            " )                                                                                                \n",
            "                                                                                                  \n",
            " block2a_activation (Activation  (None, 56, 56, 96)  0           ['block2a_bn[0][0]']             \n",
            " )                                                                                                \n",
            "                                                                                                  \n",
            " block2a_se_squeeze (GlobalAver  (None, 96)          0           ['block2a_activation[0][0]']     \n",
            " agePooling2D)                                                                                    \n",
            "                                                                                                  \n",
            " block2a_se_reshape (Reshape)   (None, 1, 1, 96)     0           ['block2a_se_squeeze[0][0]']     \n",
            "                                                                                                  \n",
            " block2a_se_reduce (Conv2D)     (None, 1, 1, 4)      388         ['block2a_se_reshape[0][0]']     \n",
            "                                                                                                  \n",
            " block2a_se_expand (Conv2D)     (None, 1, 1, 96)     480         ['block2a_se_reduce[0][0]']      \n",
            "                                                                                                  \n",
            " block2a_se_excite (Multiply)   (None, 56, 56, 96)   0           ['block2a_activation[0][0]',     \n",
            "                                                                  'block2a_se_expand[0][0]']      \n",
            "                                                                                                  \n",
            " block2a_project_conv (Conv2D)  (None, 56, 56, 24)   2304        ['block2a_se_excite[0][0]']      \n",
            "                                                                                                  \n",
            " block2a_project_bn (BatchNorma  (None, 56, 56, 24)  96          ['block2a_project_conv[0][0]']   \n",
            " lization)                                                                                        \n",
            "                                                                                                  \n",
            " block2b_expand_conv (Conv2D)   (None, 56, 56, 144)  3456        ['block2a_project_bn[0][0]']     \n",
            "                                                                                                  \n",
            " block2b_expand_bn (BatchNormal  (None, 56, 56, 144)  576        ['block2b_expand_conv[0][0]']    \n",
            " ization)                                                                                         \n",
            "                                                                                                  \n",
            " block2b_expand_activation (Act  (None, 56, 56, 144)  0          ['block2b_expand_bn[0][0]']      \n",
            " ivation)                                                                                         \n",
            "                                                                                                  \n",
            " block2b_dwconv (DepthwiseConv2  (None, 56, 56, 144)  1296       ['block2b_expand_activation[0][0]\n",
            " D)                                                              ']                               \n",
            "                                                                                                  \n",
            " block2b_bn (BatchNormalization  (None, 56, 56, 144)  576        ['block2b_dwconv[0][0]']         \n",
            " )                                                                                                \n",
            "                                                                                                  \n",
            " block2b_activation (Activation  (None, 56, 56, 144)  0          ['block2b_bn[0][0]']             \n",
            " )                                                                                                \n",
            "                                                                                                  \n",
            " block2b_se_squeeze (GlobalAver  (None, 144)         0           ['block2b_activation[0][0]']     \n",
            " agePooling2D)                                                                                    \n",
            "                                                                                                  \n",
            " block2b_se_reshape (Reshape)   (None, 1, 1, 144)    0           ['block2b_se_squeeze[0][0]']     \n",
            "                                                                                                  \n",
            " block2b_se_reduce (Conv2D)     (None, 1, 1, 6)      870         ['block2b_se_reshape[0][0]']     \n",
            "                                                                                                  \n",
            " block2b_se_expand (Conv2D)     (None, 1, 1, 144)    1008        ['block2b_se_reduce[0][0]']      \n",
            "                                                                                                  \n",
            " block2b_se_excite (Multiply)   (None, 56, 56, 144)  0           ['block2b_activation[0][0]',     \n",
            "                                                                  'block2b_se_expand[0][0]']      \n",
            "                                                                                                  \n",
            " block2b_project_conv (Conv2D)  (None, 56, 56, 24)   3456        ['block2b_se_excite[0][0]']      \n",
            "                                                                                                  \n",
            " block2b_project_bn (BatchNorma  (None, 56, 56, 24)  96          ['block2b_project_conv[0][0]']   \n",
            " lization)                                                                                        \n",
            "                                                                                                  \n",
            " block2b_drop (Dropout)         (None, 56, 56, 24)   0           ['block2b_project_bn[0][0]']     \n",
            "                                                                                                  \n",
            " block2b_add (Add)              (None, 56, 56, 24)   0           ['block2b_drop[0][0]',           \n",
            "                                                                  'block2a_project_bn[0][0]']     \n",
            "                                                                                                  \n",
            " block3a_expand_conv (Conv2D)   (None, 56, 56, 144)  3456        ['block2b_add[0][0]']            \n",
            "                                                                                                  \n",
            " block3a_expand_bn (BatchNormal  (None, 56, 56, 144)  576        ['block3a_expand_conv[0][0]']    \n",
            " ization)                                                                                         \n",
            "                                                                                                  \n",
            " block3a_expand_activation (Act  (None, 56, 56, 144)  0          ['block3a_expand_bn[0][0]']      \n",
            " ivation)                                                                                         \n",
            "                                                                                                  \n",
            " block3a_dwconv_pad (ZeroPaddin  (None, 59, 59, 144)  0          ['block3a_expand_activation[0][0]\n",
            " g2D)                                                            ']                               \n",
            "                                                                                                  \n",
            " block3a_dwconv (DepthwiseConv2  (None, 28, 28, 144)  3600       ['block3a_dwconv_pad[0][0]']     \n",
            " D)                                                                                               \n",
            "                                                                                                  \n",
            " block3a_bn (BatchNormalization  (None, 28, 28, 144)  576        ['block3a_dwconv[0][0]']         \n",
            " )                                                                                                \n",
            "                                                                                                  \n",
            " block3a_activation (Activation  (None, 28, 28, 144)  0          ['block3a_bn[0][0]']             \n",
            " )                                                                                                \n",
            "                                                                                                  \n",
            " block3a_se_squeeze (GlobalAver  (None, 144)         0           ['block3a_activation[0][0]']     \n",
            " agePooling2D)                                                                                    \n",
            "                                                                                                  \n",
            " block3a_se_reshape (Reshape)   (None, 1, 1, 144)    0           ['block3a_se_squeeze[0][0]']     \n",
            "                                                                                                  \n",
            " block3a_se_reduce (Conv2D)     (None, 1, 1, 6)      870         ['block3a_se_reshape[0][0]']     \n",
            "                                                                                                  \n",
            " block3a_se_expand (Conv2D)     (None, 1, 1, 144)    1008        ['block3a_se_reduce[0][0]']      \n",
            "                                                                                                  \n",
            " block3a_se_excite (Multiply)   (None, 28, 28, 144)  0           ['block3a_activation[0][0]',     \n",
            "                                                                  'block3a_se_expand[0][0]']      \n",
            "                                                                                                  \n",
            " block3a_project_conv (Conv2D)  (None, 28, 28, 40)   5760        ['block3a_se_excite[0][0]']      \n",
            "                                                                                                  \n",
            " block3a_project_bn (BatchNorma  (None, 28, 28, 40)  160         ['block3a_project_conv[0][0]']   \n",
            " lization)                                                                                        \n",
            "                                                                                                  \n",
            " block3b_expand_conv (Conv2D)   (None, 28, 28, 240)  9600        ['block3a_project_bn[0][0]']     \n",
            "                                                                                                  \n",
            " block3b_expand_bn (BatchNormal  (None, 28, 28, 240)  960        ['block3b_expand_conv[0][0]']    \n",
            " ization)                                                                                         \n",
            "                                                                                                  \n",
            " block3b_expand_activation (Act  (None, 28, 28, 240)  0          ['block3b_expand_bn[0][0]']      \n",
            " ivation)                                                                                         \n",
            "                                                                                                  \n",
            " block3b_dwconv (DepthwiseConv2  (None, 28, 28, 240)  6000       ['block3b_expand_activation[0][0]\n",
            " D)                                                              ']                               \n",
            "                                                                                                  \n",
            " block3b_bn (BatchNormalization  (None, 28, 28, 240)  960        ['block3b_dwconv[0][0]']         \n",
            " )                                                                                                \n",
            "                                                                                                  \n",
            " block3b_activation (Activation  (None, 28, 28, 240)  0          ['block3b_bn[0][0]']             \n",
            " )                                                                                                \n",
            "                                                                                                  \n",
            " block3b_se_squeeze (GlobalAver  (None, 240)         0           ['block3b_activation[0][0]']     \n",
            " agePooling2D)                                                                                    \n",
            "                                                                                                  \n",
            " block3b_se_reshape (Reshape)   (None, 1, 1, 240)    0           ['block3b_se_squeeze[0][0]']     \n",
            "                                                                                                  \n",
            " block3b_se_reduce (Conv2D)     (None, 1, 1, 10)     2410        ['block3b_se_reshape[0][0]']     \n",
            "                                                                                                  \n",
            " block3b_se_expand (Conv2D)     (None, 1, 1, 240)    2640        ['block3b_se_reduce[0][0]']      \n",
            "                                                                                                  \n",
            " block3b_se_excite (Multiply)   (None, 28, 28, 240)  0           ['block3b_activation[0][0]',     \n",
            "                                                                  'block3b_se_expand[0][0]']      \n",
            "                                                                                                  \n",
            " block3b_project_conv (Conv2D)  (None, 28, 28, 40)   9600        ['block3b_se_excite[0][0]']      \n",
            "                                                                                                  \n",
            " block3b_project_bn (BatchNorma  (None, 28, 28, 40)  160         ['block3b_project_conv[0][0]']   \n",
            " lization)                                                                                        \n",
            "                                                                                                  \n",
            " block3b_drop (Dropout)         (None, 28, 28, 40)   0           ['block3b_project_bn[0][0]']     \n",
            "                                                                                                  \n",
            " block3b_add (Add)              (None, 28, 28, 40)   0           ['block3b_drop[0][0]',           \n",
            "                                                                  'block3a_project_bn[0][0]']     \n",
            "                                                                                                  \n",
            " block4a_expand_conv (Conv2D)   (None, 28, 28, 240)  9600        ['block3b_add[0][0]']            \n",
            "                                                                                                  \n",
            " block4a_expand_bn (BatchNormal  (None, 28, 28, 240)  960        ['block4a_expand_conv[0][0]']    \n",
            " ization)                                                                                         \n",
            "                                                                                                  \n",
            " block4a_expand_activation (Act  (None, 28, 28, 240)  0          ['block4a_expand_bn[0][0]']      \n",
            " ivation)                                                                                         \n",
            "                                                                                                  \n",
            " block4a_dwconv_pad (ZeroPaddin  (None, 29, 29, 240)  0          ['block4a_expand_activation[0][0]\n",
            " g2D)                                                            ']                               \n",
            "                                                                                                  \n",
            " block4a_dwconv (DepthwiseConv2  (None, 14, 14, 240)  2160       ['block4a_dwconv_pad[0][0]']     \n",
            " D)                                                                                               \n",
            "                                                                                                  \n",
            " block4a_bn (BatchNormalization  (None, 14, 14, 240)  960        ['block4a_dwconv[0][0]']         \n",
            " )                                                                                                \n",
            "                                                                                                  \n",
            " block4a_activation (Activation  (None, 14, 14, 240)  0          ['block4a_bn[0][0]']             \n",
            " )                                                                                                \n",
            "                                                                                                  \n",
            " block4a_se_squeeze (GlobalAver  (None, 240)         0           ['block4a_activation[0][0]']     \n",
            " agePooling2D)                                                                                    \n",
            "                                                                                                  \n",
            " block4a_se_reshape (Reshape)   (None, 1, 1, 240)    0           ['block4a_se_squeeze[0][0]']     \n",
            "                                                                                                  \n",
            " block4a_se_reduce (Conv2D)     (None, 1, 1, 10)     2410        ['block4a_se_reshape[0][0]']     \n",
            "                                                                                                  \n",
            " block4a_se_expand (Conv2D)     (None, 1, 1, 240)    2640        ['block4a_se_reduce[0][0]']      \n",
            "                                                                                                  \n",
            " block4a_se_excite (Multiply)   (None, 14, 14, 240)  0           ['block4a_activation[0][0]',     \n",
            "                                                                  'block4a_se_expand[0][0]']      \n",
            "                                                                                                  \n",
            " block4a_project_conv (Conv2D)  (None, 14, 14, 80)   19200       ['block4a_se_excite[0][0]']      \n",
            "                                                                                                  \n",
            " block4a_project_bn (BatchNorma  (None, 14, 14, 80)  320         ['block4a_project_conv[0][0]']   \n",
            " lization)                                                                                        \n",
            "                                                                                                  \n",
            " block4b_expand_conv (Conv2D)   (None, 14, 14, 480)  38400       ['block4a_project_bn[0][0]']     \n",
            "                                                                                                  \n",
            " block4b_expand_bn (BatchNormal  (None, 14, 14, 480)  1920       ['block4b_expand_conv[0][0]']    \n",
            " ization)                                                                                         \n",
            "                                                                                                  \n",
            " block4b_expand_activation (Act  (None, 14, 14, 480)  0          ['block4b_expand_bn[0][0]']      \n",
            " ivation)                                                                                         \n",
            "                                                                                                  \n",
            " block4b_dwconv (DepthwiseConv2  (None, 14, 14, 480)  4320       ['block4b_expand_activation[0][0]\n",
            " D)                                                              ']                               \n",
            "                                                                                                  \n",
            " block4b_bn (BatchNormalization  (None, 14, 14, 480)  1920       ['block4b_dwconv[0][0]']         \n",
            " )                                                                                                \n",
            "                                                                                                  \n",
            " block4b_activation (Activation  (None, 14, 14, 480)  0          ['block4b_bn[0][0]']             \n",
            " )                                                                                                \n",
            "                                                                                                  \n",
            " block4b_se_squeeze (GlobalAver  (None, 480)         0           ['block4b_activation[0][0]']     \n",
            " agePooling2D)                                                                                    \n",
            "                                                                                                  \n",
            " block4b_se_reshape (Reshape)   (None, 1, 1, 480)    0           ['block4b_se_squeeze[0][0]']     \n",
            "                                                                                                  \n",
            " block4b_se_reduce (Conv2D)     (None, 1, 1, 20)     9620        ['block4b_se_reshape[0][0]']     \n",
            "                                                                                                  \n",
            " block4b_se_expand (Conv2D)     (None, 1, 1, 480)    10080       ['block4b_se_reduce[0][0]']      \n",
            "                                                                                                  \n",
            " block4b_se_excite (Multiply)   (None, 14, 14, 480)  0           ['block4b_activation[0][0]',     \n",
            "                                                                  'block4b_se_expand[0][0]']      \n",
            "                                                                                                  \n",
            " block4b_project_conv (Conv2D)  (None, 14, 14, 80)   38400       ['block4b_se_excite[0][0]']      \n",
            "                                                                                                  \n",
            " block4b_project_bn (BatchNorma  (None, 14, 14, 80)  320         ['block4b_project_conv[0][0]']   \n",
            " lization)                                                                                        \n",
            "                                                                                                  \n",
            " block4b_drop (Dropout)         (None, 14, 14, 80)   0           ['block4b_project_bn[0][0]']     \n",
            "                                                                                                  \n",
            " block4b_add (Add)              (None, 14, 14, 80)   0           ['block4b_drop[0][0]',           \n",
            "                                                                  'block4a_project_bn[0][0]']     \n",
            "                                                                                                  \n",
            " block4c_expand_conv (Conv2D)   (None, 14, 14, 480)  38400       ['block4b_add[0][0]']            \n",
            "                                                                                                  \n",
            " block4c_expand_bn (BatchNormal  (None, 14, 14, 480)  1920       ['block4c_expand_conv[0][0]']    \n",
            " ization)                                                                                         \n",
            "                                                                                                  \n",
            " block4c_expand_activation (Act  (None, 14, 14, 480)  0          ['block4c_expand_bn[0][0]']      \n",
            " ivation)                                                                                         \n",
            "                                                                                                  \n",
            " block4c_dwconv (DepthwiseConv2  (None, 14, 14, 480)  4320       ['block4c_expand_activation[0][0]\n",
            " D)                                                              ']                               \n",
            "                                                                                                  \n",
            " block4c_bn (BatchNormalization  (None, 14, 14, 480)  1920       ['block4c_dwconv[0][0]']         \n",
            " )                                                                                                \n",
            "                                                                                                  \n",
            " block4c_activation (Activation  (None, 14, 14, 480)  0          ['block4c_bn[0][0]']             \n",
            " )                                                                                                \n",
            "                                                                                                  \n",
            " block4c_se_squeeze (GlobalAver  (None, 480)         0           ['block4c_activation[0][0]']     \n",
            " agePooling2D)                                                                                    \n",
            "                                                                                                  \n",
            " block4c_se_reshape (Reshape)   (None, 1, 1, 480)    0           ['block4c_se_squeeze[0][0]']     \n",
            "                                                                                                  \n",
            " block4c_se_reduce (Conv2D)     (None, 1, 1, 20)     9620        ['block4c_se_reshape[0][0]']     \n",
            "                                                                                                  \n",
            " block4c_se_expand (Conv2D)     (None, 1, 1, 480)    10080       ['block4c_se_reduce[0][0]']      \n",
            "                                                                                                  \n",
            " block4c_se_excite (Multiply)   (None, 14, 14, 480)  0           ['block4c_activation[0][0]',     \n",
            "                                                                  'block4c_se_expand[0][0]']      \n",
            "                                                                                                  \n",
            " block4c_project_conv (Conv2D)  (None, 14, 14, 80)   38400       ['block4c_se_excite[0][0]']      \n",
            "                                                                                                  \n",
            " block4c_project_bn (BatchNorma  (None, 14, 14, 80)  320         ['block4c_project_conv[0][0]']   \n",
            " lization)                                                                                        \n",
            "                                                                                                  \n",
            " block4c_drop (Dropout)         (None, 14, 14, 80)   0           ['block4c_project_bn[0][0]']     \n",
            "                                                                                                  \n",
            " block4c_add (Add)              (None, 14, 14, 80)   0           ['block4c_drop[0][0]',           \n",
            "                                                                  'block4b_add[0][0]']            \n",
            "                                                                                                  \n",
            " block5a_expand_conv (Conv2D)   (None, 14, 14, 480)  38400       ['block4c_add[0][0]']            \n",
            "                                                                                                  \n",
            " block5a_expand_bn (BatchNormal  (None, 14, 14, 480)  1920       ['block5a_expand_conv[0][0]']    \n",
            " ization)                                                                                         \n",
            "                                                                                                  \n",
            " block5a_expand_activation (Act  (None, 14, 14, 480)  0          ['block5a_expand_bn[0][0]']      \n",
            " ivation)                                                                                         \n",
            "                                                                                                  \n",
            " block5a_dwconv (DepthwiseConv2  (None, 14, 14, 480)  12000      ['block5a_expand_activation[0][0]\n",
            " D)                                                              ']                               \n",
            "                                                                                                  \n",
            " block5a_bn (BatchNormalization  (None, 14, 14, 480)  1920       ['block5a_dwconv[0][0]']         \n",
            " )                                                                                                \n",
            "                                                                                                  \n",
            " block5a_activation (Activation  (None, 14, 14, 480)  0          ['block5a_bn[0][0]']             \n",
            " )                                                                                                \n",
            "                                                                                                  \n",
            " block5a_se_squeeze (GlobalAver  (None, 480)         0           ['block5a_activation[0][0]']     \n",
            " agePooling2D)                                                                                    \n",
            "                                                                                                  \n",
            " block5a_se_reshape (Reshape)   (None, 1, 1, 480)    0           ['block5a_se_squeeze[0][0]']     \n",
            "                                                                                                  \n",
            " block5a_se_reduce (Conv2D)     (None, 1, 1, 20)     9620        ['block5a_se_reshape[0][0]']     \n",
            "                                                                                                  \n",
            " block5a_se_expand (Conv2D)     (None, 1, 1, 480)    10080       ['block5a_se_reduce[0][0]']      \n",
            "                                                                                                  \n",
            " block5a_se_excite (Multiply)   (None, 14, 14, 480)  0           ['block5a_activation[0][0]',     \n",
            "                                                                  'block5a_se_expand[0][0]']      \n",
            "                                                                                                  \n",
            " block5a_project_conv (Conv2D)  (None, 14, 14, 112)  53760       ['block5a_se_excite[0][0]']      \n",
            "                                                                                                  \n",
            " block5a_project_bn (BatchNorma  (None, 14, 14, 112)  448        ['block5a_project_conv[0][0]']   \n",
            " lization)                                                                                        \n",
            "                                                                                                  \n",
            " block5b_expand_conv (Conv2D)   (None, 14, 14, 672)  75264       ['block5a_project_bn[0][0]']     \n",
            "                                                                                                  \n",
            " block5b_expand_bn (BatchNormal  (None, 14, 14, 672)  2688       ['block5b_expand_conv[0][0]']    \n",
            " ization)                                                                                         \n",
            "                                                                                                  \n",
            " block5b_expand_activation (Act  (None, 14, 14, 672)  0          ['block5b_expand_bn[0][0]']      \n",
            " ivation)                                                                                         \n",
            "                                                                                                  \n",
            " block5b_dwconv (DepthwiseConv2  (None, 14, 14, 672)  16800      ['block5b_expand_activation[0][0]\n",
            " D)                                                              ']                               \n",
            "                                                                                                  \n",
            " block5b_bn (BatchNormalization  (None, 14, 14, 672)  2688       ['block5b_dwconv[0][0]']         \n",
            " )                                                                                                \n",
            "                                                                                                  \n",
            " block5b_activation (Activation  (None, 14, 14, 672)  0          ['block5b_bn[0][0]']             \n",
            " )                                                                                                \n",
            "                                                                                                  \n",
            " block5b_se_squeeze (GlobalAver  (None, 672)         0           ['block5b_activation[0][0]']     \n",
            " agePooling2D)                                                                                    \n",
            "                                                                                                  \n",
            " block5b_se_reshape (Reshape)   (None, 1, 1, 672)    0           ['block5b_se_squeeze[0][0]']     \n",
            "                                                                                                  \n",
            " block5b_se_reduce (Conv2D)     (None, 1, 1, 28)     18844       ['block5b_se_reshape[0][0]']     \n",
            "                                                                                                  \n",
            " block5b_se_expand (Conv2D)     (None, 1, 1, 672)    19488       ['block5b_se_reduce[0][0]']      \n",
            "                                                                                                  \n",
            " block5b_se_excite (Multiply)   (None, 14, 14, 672)  0           ['block5b_activation[0][0]',     \n",
            "                                                                  'block5b_se_expand[0][0]']      \n",
            "                                                                                                  \n",
            " block5b_project_conv (Conv2D)  (None, 14, 14, 112)  75264       ['block5b_se_excite[0][0]']      \n",
            "                                                                                                  \n",
            " block5b_project_bn (BatchNorma  (None, 14, 14, 112)  448        ['block5b_project_conv[0][0]']   \n",
            " lization)                                                                                        \n",
            "                                                                                                  \n",
            " block5b_drop (Dropout)         (None, 14, 14, 112)  0           ['block5b_project_bn[0][0]']     \n",
            "                                                                                                  \n",
            " block5b_add (Add)              (None, 14, 14, 112)  0           ['block5b_drop[0][0]',           \n",
            "                                                                  'block5a_project_bn[0][0]']     \n",
            "                                                                                                  \n",
            " block5c_expand_conv (Conv2D)   (None, 14, 14, 672)  75264       ['block5b_add[0][0]']            \n",
            "                                                                                                  \n",
            " block5c_expand_bn (BatchNormal  (None, 14, 14, 672)  2688       ['block5c_expand_conv[0][0]']    \n",
            " ization)                                                                                         \n",
            "                                                                                                  \n",
            " block5c_expand_activation (Act  (None, 14, 14, 672)  0          ['block5c_expand_bn[0][0]']      \n",
            " ivation)                                                                                         \n",
            "                                                                                                  \n",
            " block5c_dwconv (DepthwiseConv2  (None, 14, 14, 672)  16800      ['block5c_expand_activation[0][0]\n",
            " D)                                                              ']                               \n",
            "                                                                                                  \n",
            " block5c_bn (BatchNormalization  (None, 14, 14, 672)  2688       ['block5c_dwconv[0][0]']         \n",
            " )                                                                                                \n",
            "                                                                                                  \n",
            " block5c_activation (Activation  (None, 14, 14, 672)  0          ['block5c_bn[0][0]']             \n",
            " )                                                                                                \n",
            "                                                                                                  \n",
            " block5c_se_squeeze (GlobalAver  (None, 672)         0           ['block5c_activation[0][0]']     \n",
            " agePooling2D)                                                                                    \n",
            "                                                                                                  \n",
            " block5c_se_reshape (Reshape)   (None, 1, 1, 672)    0           ['block5c_se_squeeze[0][0]']     \n",
            "                                                                                                  \n",
            " block5c_se_reduce (Conv2D)     (None, 1, 1, 28)     18844       ['block5c_se_reshape[0][0]']     \n",
            "                                                                                                  \n",
            " block5c_se_expand (Conv2D)     (None, 1, 1, 672)    19488       ['block5c_se_reduce[0][0]']      \n",
            "                                                                                                  \n",
            " block5c_se_excite (Multiply)   (None, 14, 14, 672)  0           ['block5c_activation[0][0]',     \n",
            "                                                                  'block5c_se_expand[0][0]']      \n",
            "                                                                                                  \n",
            " block5c_project_conv (Conv2D)  (None, 14, 14, 112)  75264       ['block5c_se_excite[0][0]']      \n",
            "                                                                                                  \n",
            " block5c_project_bn (BatchNorma  (None, 14, 14, 112)  448        ['block5c_project_conv[0][0]']   \n",
            " lization)                                                                                        \n",
            "                                                                                                  \n",
            " block5c_drop (Dropout)         (None, 14, 14, 112)  0           ['block5c_project_bn[0][0]']     \n",
            "                                                                                                  \n",
            " block5c_add (Add)              (None, 14, 14, 112)  0           ['block5c_drop[0][0]',           \n",
            "                                                                  'block5b_add[0][0]']            \n",
            "                                                                                                  \n",
            " block6a_expand_conv (Conv2D)   (None, 14, 14, 672)  75264       ['block5c_add[0][0]']            \n",
            "                                                                                                  \n",
            " block6a_expand_bn (BatchNormal  (None, 14, 14, 672)  2688       ['block6a_expand_conv[0][0]']    \n",
            " ization)                                                                                         \n",
            "                                                                                                  \n",
            " block6a_expand_activation (Act  (None, 14, 14, 672)  0          ['block6a_expand_bn[0][0]']      \n",
            " ivation)                                                                                         \n",
            "                                                                                                  \n",
            " block6a_dwconv_pad (ZeroPaddin  (None, 17, 17, 672)  0          ['block6a_expand_activation[0][0]\n",
            " g2D)                                                            ']                               \n",
            "                                                                                                  \n",
            " block6a_dwconv (DepthwiseConv2  (None, 7, 7, 672)   16800       ['block6a_dwconv_pad[0][0]']     \n",
            " D)                                                                                               \n",
            "                                                                                                  \n",
            " block6a_bn (BatchNormalization  (None, 7, 7, 672)   2688        ['block6a_dwconv[0][0]']         \n",
            " )                                                                                                \n",
            "                                                                                                  \n",
            " block6a_activation (Activation  (None, 7, 7, 672)   0           ['block6a_bn[0][0]']             \n",
            " )                                                                                                \n",
            "                                                                                                  \n",
            " block6a_se_squeeze (GlobalAver  (None, 672)         0           ['block6a_activation[0][0]']     \n",
            " agePooling2D)                                                                                    \n",
            "                                                                                                  \n",
            " block6a_se_reshape (Reshape)   (None, 1, 1, 672)    0           ['block6a_se_squeeze[0][0]']     \n",
            "                                                                                                  \n",
            " block6a_se_reduce (Conv2D)     (None, 1, 1, 28)     18844       ['block6a_se_reshape[0][0]']     \n",
            "                                                                                                  \n",
            " block6a_se_expand (Conv2D)     (None, 1, 1, 672)    19488       ['block6a_se_reduce[0][0]']      \n",
            "                                                                                                  \n",
            " block6a_se_excite (Multiply)   (None, 7, 7, 672)    0           ['block6a_activation[0][0]',     \n",
            "                                                                  'block6a_se_expand[0][0]']      \n",
            "                                                                                                  \n",
            " block6a_project_conv (Conv2D)  (None, 7, 7, 192)    129024      ['block6a_se_excite[0][0]']      \n",
            "                                                                                                  \n",
            " block6a_project_bn (BatchNorma  (None, 7, 7, 192)   768         ['block6a_project_conv[0][0]']   \n",
            " lization)                                                                                        \n",
            "                                                                                                  \n",
            " block6b_expand_conv (Conv2D)   (None, 7, 7, 1152)   221184      ['block6a_project_bn[0][0]']     \n",
            "                                                                                                  \n",
            " block6b_expand_bn (BatchNormal  (None, 7, 7, 1152)  4608        ['block6b_expand_conv[0][0]']    \n",
            " ization)                                                                                         \n",
            "                                                                                                  \n",
            " block6b_expand_activation (Act  (None, 7, 7, 1152)  0           ['block6b_expand_bn[0][0]']      \n",
            " ivation)                                                                                         \n",
            "                                                                                                  \n",
            " block6b_dwconv (DepthwiseConv2  (None, 7, 7, 1152)  28800       ['block6b_expand_activation[0][0]\n",
            " D)                                                              ']                               \n",
            "                                                                                                  \n",
            " block6b_bn (BatchNormalization  (None, 7, 7, 1152)  4608        ['block6b_dwconv[0][0]']         \n",
            " )                                                                                                \n",
            "                                                                                                  \n",
            " block6b_activation (Activation  (None, 7, 7, 1152)  0           ['block6b_bn[0][0]']             \n",
            " )                                                                                                \n",
            "                                                                                                  \n",
            " block6b_se_squeeze (GlobalAver  (None, 1152)        0           ['block6b_activation[0][0]']     \n",
            " agePooling2D)                                                                                    \n",
            "                                                                                                  \n",
            " block6b_se_reshape (Reshape)   (None, 1, 1, 1152)   0           ['block6b_se_squeeze[0][0]']     \n",
            "                                                                                                  \n",
            " block6b_se_reduce (Conv2D)     (None, 1, 1, 48)     55344       ['block6b_se_reshape[0][0]']     \n",
            "                                                                                                  \n",
            " block6b_se_expand (Conv2D)     (None, 1, 1, 1152)   56448       ['block6b_se_reduce[0][0]']      \n",
            "                                                                                                  \n",
            " block6b_se_excite (Multiply)   (None, 7, 7, 1152)   0           ['block6b_activation[0][0]',     \n",
            "                                                                  'block6b_se_expand[0][0]']      \n",
            "                                                                                                  \n",
            " block6b_project_conv (Conv2D)  (None, 7, 7, 192)    221184      ['block6b_se_excite[0][0]']      \n",
            "                                                                                                  \n",
            " block6b_project_bn (BatchNorma  (None, 7, 7, 192)   768         ['block6b_project_conv[0][0]']   \n",
            " lization)                                                                                        \n",
            "                                                                                                  \n",
            " block6b_drop (Dropout)         (None, 7, 7, 192)    0           ['block6b_project_bn[0][0]']     \n",
            "                                                                                                  \n",
            " block6b_add (Add)              (None, 7, 7, 192)    0           ['block6b_drop[0][0]',           \n",
            "                                                                  'block6a_project_bn[0][0]']     \n",
            "                                                                                                  \n",
            " block6c_expand_conv (Conv2D)   (None, 7, 7, 1152)   221184      ['block6b_add[0][0]']            \n",
            "                                                                                                  \n",
            " block6c_expand_bn (BatchNormal  (None, 7, 7, 1152)  4608        ['block6c_expand_conv[0][0]']    \n",
            " ization)                                                                                         \n",
            "                                                                                                  \n",
            " block6c_expand_activation (Act  (None, 7, 7, 1152)  0           ['block6c_expand_bn[0][0]']      \n",
            " ivation)                                                                                         \n",
            "                                                                                                  \n",
            " block6c_dwconv (DepthwiseConv2  (None, 7, 7, 1152)  28800       ['block6c_expand_activation[0][0]\n",
            " D)                                                              ']                               \n",
            "                                                                                                  \n",
            " block6c_bn (BatchNormalization  (None, 7, 7, 1152)  4608        ['block6c_dwconv[0][0]']         \n",
            " )                                                                                                \n",
            "                                                                                                  \n",
            " block6c_activation (Activation  (None, 7, 7, 1152)  0           ['block6c_bn[0][0]']             \n",
            " )                                                                                                \n",
            "                                                                                                  \n",
            " block6c_se_squeeze (GlobalAver  (None, 1152)        0           ['block6c_activation[0][0]']     \n",
            " agePooling2D)                                                                                    \n",
            "                                                                                                  \n",
            " block6c_se_reshape (Reshape)   (None, 1, 1, 1152)   0           ['block6c_se_squeeze[0][0]']     \n",
            "                                                                                                  \n",
            " block6c_se_reduce (Conv2D)     (None, 1, 1, 48)     55344       ['block6c_se_reshape[0][0]']     \n",
            "                                                                                                  \n",
            " block6c_se_expand (Conv2D)     (None, 1, 1, 1152)   56448       ['block6c_se_reduce[0][0]']      \n",
            "                                                                                                  \n",
            " block6c_se_excite (Multiply)   (None, 7, 7, 1152)   0           ['block6c_activation[0][0]',     \n",
            "                                                                  'block6c_se_expand[0][0]']      \n",
            "                                                                                                  \n",
            " block6c_project_conv (Conv2D)  (None, 7, 7, 192)    221184      ['block6c_se_excite[0][0]']      \n",
            "                                                                                                  \n",
            " block6c_project_bn (BatchNorma  (None, 7, 7, 192)   768         ['block6c_project_conv[0][0]']   \n",
            " lization)                                                                                        \n",
            "                                                                                                  \n",
            " block6c_drop (Dropout)         (None, 7, 7, 192)    0           ['block6c_project_bn[0][0]']     \n",
            "                                                                                                  \n",
            " block6c_add (Add)              (None, 7, 7, 192)    0           ['block6c_drop[0][0]',           \n",
            "                                                                  'block6b_add[0][0]']            \n",
            "                                                                                                  \n",
            " block6d_expand_conv (Conv2D)   (None, 7, 7, 1152)   221184      ['block6c_add[0][0]']            \n",
            "                                                                                                  \n",
            " block6d_expand_bn (BatchNormal  (None, 7, 7, 1152)  4608        ['block6d_expand_conv[0][0]']    \n",
            " ization)                                                                                         \n",
            "                                                                                                  \n",
            " block6d_expand_activation (Act  (None, 7, 7, 1152)  0           ['block6d_expand_bn[0][0]']      \n",
            " ivation)                                                                                         \n",
            "                                                                                                  \n",
            " block6d_dwconv (DepthwiseConv2  (None, 7, 7, 1152)  28800       ['block6d_expand_activation[0][0]\n",
            " D)                                                              ']                               \n",
            "                                                                                                  \n",
            " block6d_bn (BatchNormalization  (None, 7, 7, 1152)  4608        ['block6d_dwconv[0][0]']         \n",
            " )                                                                                                \n",
            "                                                                                                  \n",
            " block6d_activation (Activation  (None, 7, 7, 1152)  0           ['block6d_bn[0][0]']             \n",
            " )                                                                                                \n",
            "                                                                                                  \n",
            " block6d_se_squeeze (GlobalAver  (None, 1152)        0           ['block6d_activation[0][0]']     \n",
            " agePooling2D)                                                                                    \n",
            "                                                                                                  \n",
            " block6d_se_reshape (Reshape)   (None, 1, 1, 1152)   0           ['block6d_se_squeeze[0][0]']     \n",
            "                                                                                                  \n",
            " block6d_se_reduce (Conv2D)     (None, 1, 1, 48)     55344       ['block6d_se_reshape[0][0]']     \n",
            "                                                                                                  \n",
            " block6d_se_expand (Conv2D)     (None, 1, 1, 1152)   56448       ['block6d_se_reduce[0][0]']      \n",
            "                                                                                                  \n",
            " block6d_se_excite (Multiply)   (None, 7, 7, 1152)   0           ['block6d_activation[0][0]',     \n",
            "                                                                  'block6d_se_expand[0][0]']      \n",
            "                                                                                                  \n",
            " block6d_project_conv (Conv2D)  (None, 7, 7, 192)    221184      ['block6d_se_excite[0][0]']      \n",
            "                                                                                                  \n",
            " block6d_project_bn (BatchNorma  (None, 7, 7, 192)   768         ['block6d_project_conv[0][0]']   \n",
            " lization)                                                                                        \n",
            "                                                                                                  \n",
            " block6d_drop (Dropout)         (None, 7, 7, 192)    0           ['block6d_project_bn[0][0]']     \n",
            "                                                                                                  \n",
            " block6d_add (Add)              (None, 7, 7, 192)    0           ['block6d_drop[0][0]',           \n",
            "                                                                  'block6c_add[0][0]']            \n",
            "                                                                                                  \n",
            " block7a_expand_conv (Conv2D)   (None, 7, 7, 1152)   221184      ['block6d_add[0][0]']            \n",
            "                                                                                                  \n",
            " block7a_expand_bn (BatchNormal  (None, 7, 7, 1152)  4608        ['block7a_expand_conv[0][0]']    \n",
            " ization)                                                                                         \n",
            "                                                                                                  \n",
            " block7a_expand_activation (Act  (None, 7, 7, 1152)  0           ['block7a_expand_bn[0][0]']      \n",
            " ivation)                                                                                         \n",
            "                                                                                                  \n",
            " block7a_dwconv (DepthwiseConv2  (None, 7, 7, 1152)  10368       ['block7a_expand_activation[0][0]\n",
            " D)                                                              ']                               \n",
            "                                                                                                  \n",
            " block7a_bn (BatchNormalization  (None, 7, 7, 1152)  4608        ['block7a_dwconv[0][0]']         \n",
            " )                                                                                                \n",
            "                                                                                                  \n",
            " block7a_activation (Activation  (None, 7, 7, 1152)  0           ['block7a_bn[0][0]']             \n",
            " )                                                                                                \n",
            "                                                                                                  \n",
            " block7a_se_squeeze (GlobalAver  (None, 1152)        0           ['block7a_activation[0][0]']     \n",
            " agePooling2D)                                                                                    \n",
            "                                                                                                  \n",
            " block7a_se_reshape (Reshape)   (None, 1, 1, 1152)   0           ['block7a_se_squeeze[0][0]']     \n",
            "                                                                                                  \n",
            " block7a_se_reduce (Conv2D)     (None, 1, 1, 48)     55344       ['block7a_se_reshape[0][0]']     \n",
            "                                                                                                  \n",
            " block7a_se_expand (Conv2D)     (None, 1, 1, 1152)   56448       ['block7a_se_reduce[0][0]']      \n",
            "                                                                                                  \n",
            " block7a_se_excite (Multiply)   (None, 7, 7, 1152)   0           ['block7a_activation[0][0]',     \n",
            "                                                                  'block7a_se_expand[0][0]']      \n",
            "                                                                                                  \n",
            " block7a_project_conv (Conv2D)  (None, 7, 7, 320)    368640      ['block7a_se_excite[0][0]']      \n",
            "                                                                                                  \n",
            " block7a_project_bn (BatchNorma  (None, 7, 7, 320)   1280        ['block7a_project_conv[0][0]']   \n",
            " lization)                                                                                        \n",
            "                                                                                                  \n",
            " top_conv (Conv2D)              (None, 7, 7, 1280)   409600      ['block7a_project_bn[0][0]']     \n",
            "                                                                                                  \n",
            " top_bn (BatchNormalization)    (None, 7, 7, 1280)   5120        ['top_conv[0][0]']               \n",
            "                                                                                                  \n",
            " top_activation (Activation)    (None, 7, 7, 1280)   0           ['top_bn[0][0]']                 \n",
            "                                                                                                  \n",
            " global_average_pooling2d (Glob  (None, 1280)        0           ['top_activation[0][0]']         \n",
            " alAveragePooling2D)                                                                              \n",
            "                                                                                                  \n",
            " dense (Dense)                  (None, 512)          655872      ['global_average_pooling2d[0][0]'\n",
            "                                                                 ]                                \n",
            "                                                                                                  \n",
            " batch_normalization (BatchNorm  (None, 512)         2048        ['dense[0][0]']                  \n",
            " alization)                                                                                       \n",
            "                                                                                                  \n",
            " activation (Activation)        (None, 512)          0           ['batch_normalization[0][0]']    \n",
            "                                                                                                  \n",
            " dropout (Dropout)              (None, 512)          0           ['activation[0][0]']             \n",
            "                                                                                                  \n",
            " dense_1 (Dense)                (None, 512)          262656      ['dropout[0][0]']                \n",
            "                                                                                                  \n",
            " batch_normalization_1 (BatchNo  (None, 512)         2048        ['dense_1[0][0]']                \n",
            " rmalization)                                                                                     \n",
            "                                                                                                  \n",
            " activation_1 (Activation)      (None, 512)          0           ['batch_normalization_1[0][0]']  \n",
            "                                                                                                  \n",
            " dropout_1 (Dropout)            (None, 512)          0           ['activation_1[0][0]']           \n",
            "                                                                                                  \n",
            " dense_2 (Dense)                (None, 3)            1539        ['dropout_1[0][0]']              \n",
            "                                                                                                  \n",
            "==================================================================================================\n",
            "Total params: 4,973,734\n",
            "Trainable params: 4,929,663\n",
            "Non-trainable params: 44,071\n",
            "__________________________________________________________________________________________________\n"
          ]
        }
      ],
      "source": [
        "model.summary()"
      ]
    },
    {
      "cell_type": "code",
      "execution_count": null,
      "metadata": {
        "id": "1yevqqT8__L9"
      },
      "outputs": [],
      "source": [
        "learning_rate_reduction = ReduceLROnPlateau(monitor='val_loss', patience = 2, verbose=1,factor=0.3, min_lr=0.00000001)\n",
        "chkpt = ModelCheckpoint(filepath='best_model_effB0.hdf5', monitor='val_loss', save_best_only=True, save_weights_only=True)\n",
        "early_stopping = tf.keras.callbacks.EarlyStopping(patience=13, monitor='val_loss', restore_best_weights=True)"
      ]
    },
    {
      "cell_type": "code",
      "execution_count": null,
      "metadata": {
        "colab": {
          "base_uri": "https://localhost:8080/"
        },
        "id": "Efyom1D5FfIN",
        "outputId": "52830afe-b511-4181-bae5-768ec1aabcfb"
      },
      "outputs": [
        {
          "output_type": "stream",
          "name": "stdout",
          "text": [
            "Epoch 1/25\n",
            "132/132 [==============================] - 76s 424ms/step - loss: 2.3447 - acc: 0.6540 - val_loss: 2.2193 - val_acc: 0.7516 - lr: 1.0000e-04\n",
            "Epoch 2/25\n",
            "132/132 [==============================] - 52s 392ms/step - loss: 2.0571 - acc: 0.7731 - val_loss: 2.0654 - val_acc: 0.7816 - lr: 1.0000e-04\n",
            "Epoch 3/25\n",
            "132/132 [==============================] - 52s 389ms/step - loss: 1.9919 - acc: 0.7855 - val_loss: 2.0237 - val_acc: 0.7580 - lr: 1.0000e-04\n",
            "Epoch 4/25\n",
            "132/132 [==============================] - 51s 389ms/step - loss: 1.9087 - acc: 0.8131 - val_loss: 1.9222 - val_acc: 0.7880 - lr: 1.0000e-04\n",
            "Epoch 5/25\n",
            "132/132 [==============================] - 52s 389ms/step - loss: 1.8656 - acc: 0.8174 - val_loss: 1.8846 - val_acc: 0.8223 - lr: 1.0000e-04\n",
            "Epoch 6/25\n",
            "132/132 [==============================] - 52s 390ms/step - loss: 1.8122 - acc: 0.8278 - val_loss: 1.8030 - val_acc: 0.8415 - lr: 1.0000e-04\n",
            "Epoch 7/25\n",
            "132/132 [==============================] - 52s 391ms/step - loss: 1.7659 - acc: 0.8361 - val_loss: 1.7666 - val_acc: 0.8330 - lr: 1.0000e-04\n",
            "Epoch 8/25\n",
            "132/132 [==============================] - 51s 387ms/step - loss: 1.7138 - acc: 0.8457 - val_loss: 1.7229 - val_acc: 0.8266 - lr: 1.0000e-04\n",
            "Epoch 9/25\n",
            "132/132 [==============================] - 52s 389ms/step - loss: 1.6551 - acc: 0.8564 - val_loss: 1.7101 - val_acc: 0.8330 - lr: 1.0000e-04\n",
            "Epoch 10/25\n",
            "132/132 [==============================] - 51s 388ms/step - loss: 1.6077 - acc: 0.8671 - val_loss: 1.6823 - val_acc: 0.8180 - lr: 1.0000e-04\n",
            "Epoch 11/25\n",
            "132/132 [==============================] - 51s 386ms/step - loss: 1.5606 - acc: 0.8775 - val_loss: 1.6771 - val_acc: 0.8437 - lr: 1.0000e-04\n",
            "Epoch 12/25\n",
            "132/132 [==============================] - 51s 381ms/step - loss: 1.5035 - acc: 0.8859 - val_loss: 1.6977 - val_acc: 0.8030 - lr: 1.0000e-04\n",
            "Epoch 13/25\n",
            "132/132 [==============================] - 51s 386ms/step - loss: 1.4647 - acc: 0.8875 - val_loss: 1.5772 - val_acc: 0.8587 - lr: 1.0000e-04\n",
            "Epoch 14/25\n",
            "132/132 [==============================] - 50s 379ms/step - loss: 1.4013 - acc: 0.9061 - val_loss: 1.6778 - val_acc: 0.8137 - lr: 1.0000e-04\n",
            "Epoch 15/25\n",
            "132/132 [==============================] - 51s 386ms/step - loss: 1.3528 - acc: 0.9101 - val_loss: 1.5608 - val_acc: 0.8330 - lr: 1.0000e-04\n",
            "Epoch 16/25\n",
            "132/132 [==============================] - 51s 387ms/step - loss: 1.2976 - acc: 0.9208 - val_loss: 1.5526 - val_acc: 0.8458 - lr: 1.0000e-04\n",
            "Epoch 17/25\n",
            "132/132 [==============================] - 50s 380ms/step - loss: 1.2687 - acc: 0.9113 - val_loss: 1.5787 - val_acc: 0.8287 - lr: 1.0000e-04\n",
            "Epoch 18/25\n",
            "132/132 [==============================] - ETA: 0s - loss: 1.2210 - acc: 0.9320\n",
            "Epoch 18: ReduceLROnPlateau reducing learning rate to 2.9999999242136255e-05.\n",
            "132/132 [==============================] - 50s 380ms/step - loss: 1.2210 - acc: 0.9320 - val_loss: 1.5626 - val_acc: 0.8223 - lr: 1.0000e-04\n",
            "Epoch 19/25\n",
            "132/132 [==============================] - 51s 387ms/step - loss: 1.1876 - acc: 0.9334 - val_loss: 1.4987 - val_acc: 0.8373 - lr: 3.0000e-05\n",
            "Epoch 20/25\n",
            "132/132 [==============================] - 51s 387ms/step - loss: 1.1408 - acc: 0.9496 - val_loss: 1.4876 - val_acc: 0.8522 - lr: 3.0000e-05\n",
            "Epoch 21/25\n",
            "132/132 [==============================] - 50s 379ms/step - loss: 1.1256 - acc: 0.9463 - val_loss: 1.5298 - val_acc: 0.8287 - lr: 3.0000e-05\n",
            "Epoch 22/25\n",
            "132/132 [==============================] - ETA: 0s - loss: 1.1066 - acc: 0.9555\n",
            "Epoch 22: ReduceLROnPlateau reducing learning rate to 8.999999772640877e-06.\n",
            "132/132 [==============================] - 50s 379ms/step - loss: 1.1066 - acc: 0.9555 - val_loss: 1.4944 - val_acc: 0.8266 - lr: 3.0000e-05\n",
            "Epoch 23/25\n",
            "132/132 [==============================] - 51s 387ms/step - loss: 1.0863 - acc: 0.9593 - val_loss: 1.4766 - val_acc: 0.8565 - lr: 9.0000e-06\n",
            "Epoch 24/25\n",
            "132/132 [==============================] - 50s 380ms/step - loss: 1.0900 - acc: 0.9586 - val_loss: 1.5307 - val_acc: 0.8437 - lr: 9.0000e-06\n",
            "Epoch 25/25\n",
            "132/132 [==============================] - ETA: 0s - loss: 1.0789 - acc: 0.9577\n",
            "Epoch 25: ReduceLROnPlateau reducing learning rate to 2.6999998226528985e-06.\n",
            "132/132 [==============================] - 50s 380ms/step - loss: 1.0789 - acc: 0.9577 - val_loss: 1.4915 - val_acc: 0.8501 - lr: 9.0000e-06\n"
          ]
        }
      ],
      "source": [
        "history = model.fit(train_gen, epochs=25, validation_data=valid_gen, callbacks=[learning_rate_reduction, chkpt, early_stopping])"
      ]
    },
    {
      "cell_type": "code",
      "execution_count": null,
      "metadata": {
        "id": "3H8lXnaT5WWR",
        "colab": {
          "base_uri": "https://localhost:8080/",
          "height": 390
        },
        "outputId": "6ddbf460-64e5-4c35-af6f-396affbb616a"
      },
      "outputs": [
        {
          "output_type": "display_data",
          "data": {
            "text/plain": [
              "<Figure size 576x432 with 1 Axes>"
            ],
            "image/png": "[encoded data removed]"
          },
          "metadata": {
            "needs_background": "light"
          }
        }
      ],
      "source": [
        "plt.figure(figsize=(8,6))\n",
        "plt.title('Accuracy scores')\n",
        "plt.plot(history.history['acc'])\n",
        "plt.plot(history.history['val_acc'])\n",
        "plt.legend(['acc', 'val_acc'])\n",
        "plt.show()"
      ]
    },
    {
      "cell_type": "code",
      "execution_count": null,
      "metadata": {
        "id": "ZCohnN9fI83-"
      },
      "outputs": [],
      "source": [
        "model.load_weights(\"best_model_effB0.hdf5\")\n",
        "preds = model.predict(X_test)\n",
        "labelled_preds = one_hot_encoder.inverse_transform(preds)\n",
        "pred = pd.DataFrame(labelled_preds, columns =[\"class_id\"])\n",
        "df = pd.read_csv('submission3.csv')\n",
        "df ['class_id']= pred\n",
        "df.to_csv(\"final_submission51.csv\", index=False)"
      ]
    },
    {
      "cell_type": "markdown",
      "metadata": {
        "id": "czz_AfPCD_LW"
      },
      "source": [
        "###EfficienNetB1"
      ]
    },
    {
      "cell_type": "code",
      "execution_count": null,
      "metadata": {
        "id": "3k4xGHGhDrxB",
        "colab": {
          "base_uri": "https://localhost:8080/"
        },
        "outputId": "47ed3d66-7446-42f1-d947-ba130862ae82"
      },
      "outputs": [
        {
          "output_type": "stream",
          "name": "stdout",
          "text": [
            "Downloading data from https://storage.googleapis.com/keras-applications/efficientnetb1_notop.h5\n",
            "27025408/27018416 [==============================] - 0s 0us/step\n",
            "27033600/27018416 [==============================] - 0s 0us/step\n"
          ]
        }
      ],
      "source": [
        "base_model1 = tf.keras.applications.EfficientNetB1(include_top=False,\n",
        "                                     weights='imagenet',\n",
        "                                     input_shape=(224, 224, 3))\n",
        "x = base_model1.output\n",
        "x = tf.keras.layers.GlobalAveragePooling2D()(x)\n",
        "x = Dense(512, activation=None, kernel_regularizer = L1L2(l1=1e-5, l2=1e-3))(x)\n",
        "x = BatchNormalization()(x)\n",
        "x = Activation('swish')(x)\n",
        "x = Dropout(0.3)(x)\n",
        "x = Dense(512, activation=None, kernel_regularizer = L1L2(l1=1e-5, l2=1e-3))(x)\n",
        "x = BatchNormalization()(x)\n",
        "x = Activation('swish')(x)\n",
        "x = Dropout(0.3)(x)\n",
        "ouput1 = Dense(3, activation= 'softmax')(x)\n",
        "\n",
        "model1 = Model(inputs=base_model1.input, outputs=ouput1)\n",
        "\n",
        "model1.compile(loss='categorical_crossentropy', \n",
        "              optimizer=tf.keras.optimizers.Adam(1e-3, decay = 1e-3 * 0.1), metrics=['acc'])"
      ]
    },
    {
      "cell_type": "code",
      "execution_count": null,
      "metadata": {
        "id": "-EoTlwfJErhA",
        "colab": {
          "base_uri": "https://localhost:8080/"
        },
        "outputId": "2ffae4a4-4f93-47d0-f677-9545d347b0bf"
      },
      "outputs": [
        {
          "output_type": "stream",
          "name": "stdout",
          "text": [
            "Epoch 1/50\n",
            "132/132 [==============================] - 66s 409ms/step - loss: 2.1128 - acc: 0.7358 - val_loss: 2.2550 - val_acc: 0.7837 - lr: 0.0010\n",
            "Epoch 2/50\n",
            "132/132 [==============================] - 52s 392ms/step - loss: 1.6266 - acc: 0.8036 - val_loss: 1.4536 - val_acc: 0.7966 - lr: 0.0010\n",
            "Epoch 3/50\n",
            "132/132 [==============================] - 52s 390ms/step - loss: 1.2768 - acc: 0.8124 - val_loss: 1.2425 - val_acc: 0.7752 - lr: 0.0010\n",
            "Epoch 4/50\n",
            "132/132 [==============================] - 52s 393ms/step - loss: 0.9949 - acc: 0.8273 - val_loss: 0.8790 - val_acc: 0.8223 - lr: 0.0010\n",
            "Epoch 5/50\n",
            "132/132 [==============================] - 51s 384ms/step - loss: 0.7947 - acc: 0.8350 - val_loss: 3.7587 - val_acc: 0.5225 - lr: 0.0010\n",
            "Epoch 6/50\n",
            "132/132 [==============================] - 52s 394ms/step - loss: 0.6548 - acc: 0.8447 - val_loss: 0.5964 - val_acc: 0.8137 - lr: 0.0010\n",
            "Epoch 7/50\n",
            "132/132 [==============================] - 51s 385ms/step - loss: 0.5273 - acc: 0.8635 - val_loss: 0.6030 - val_acc: 0.8308 - lr: 0.0010\n",
            "Epoch 8/50\n",
            "132/132 [==============================] - ETA: 0s - loss: 0.4787 - acc: 0.8618\n",
            "Epoch 8: ReduceLROnPlateau reducing learning rate to 0.0003000000142492354.\n",
            "132/132 [==============================] - 51s 384ms/step - loss: 0.4787 - acc: 0.8618 - val_loss: 0.6134 - val_acc: 0.8073 - lr: 0.0010\n",
            "Epoch 9/50\n",
            "132/132 [==============================] - 53s 397ms/step - loss: 0.3662 - acc: 0.8996 - val_loss: 0.4513 - val_acc: 0.8373 - lr: 3.0000e-04\n",
            "Epoch 10/50\n",
            "132/132 [==============================] - 51s 386ms/step - loss: 0.2966 - acc: 0.9175 - val_loss: 0.4762 - val_acc: 0.8437 - lr: 3.0000e-04\n",
            "Epoch 11/50\n",
            "132/132 [==============================] - ETA: 0s - loss: 0.2777 - acc: 0.9234\n",
            "Epoch 11: ReduceLROnPlateau reducing learning rate to 9.000000427477062e-05.\n",
            "132/132 [==============================] - 51s 385ms/step - loss: 0.2777 - acc: 0.9234 - val_loss: 0.4551 - val_acc: 0.8480 - lr: 3.0000e-04\n",
            "Epoch 12/50\n",
            "132/132 [==============================] - 51s 386ms/step - loss: 0.2108 - acc: 0.9503 - val_loss: 0.4886 - val_acc: 0.8608 - lr: 9.0000e-05\n",
            "Epoch 13/50\n",
            "132/132 [==============================] - ETA: 0s - loss: 0.1856 - acc: 0.9570\n",
            "Epoch 13: ReduceLROnPlateau reducing learning rate to 2.700000040931627e-05.\n",
            "132/132 [==============================] - 51s 385ms/step - loss: 0.1856 - acc: 0.9570 - val_loss: 0.5647 - val_acc: 0.8565 - lr: 9.0000e-05\n",
            "Epoch 14/50\n",
            "132/132 [==============================] - 51s 385ms/step - loss: 0.1679 - acc: 0.9627 - val_loss: 0.5205 - val_acc: 0.8587 - lr: 2.7000e-05\n",
            "Epoch 15/50\n",
            "132/132 [==============================] - ETA: 0s - loss: 0.1573 - acc: 0.9658\n",
            "Epoch 15: ReduceLROnPlateau reducing learning rate to 8.100000013655517e-06.\n",
            "132/132 [==============================] - 51s 384ms/step - loss: 0.1573 - acc: 0.9658 - val_loss: 0.5602 - val_acc: 0.8630 - lr: 2.7000e-05\n",
            "Epoch 16/50\n",
            "132/132 [==============================] - 51s 385ms/step - loss: 0.1586 - acc: 0.9669 - val_loss: 0.5492 - val_acc: 0.8587 - lr: 8.1000e-06\n",
            "Epoch 17/50\n",
            "132/132 [==============================] - ETA: 0s - loss: 0.1489 - acc: 0.9707\n",
            "Epoch 17: ReduceLROnPlateau reducing learning rate to 2.429999949526973e-06.\n",
            "132/132 [==============================] - 51s 382ms/step - loss: 0.1489 - acc: 0.9707 - val_loss: 0.5450 - val_acc: 0.8672 - lr: 8.1000e-06\n",
            "Epoch 18/50\n",
            "132/132 [==============================] - 51s 384ms/step - loss: 0.1545 - acc: 0.9653 - val_loss: 0.6204 - val_acc: 0.8522 - lr: 2.4300e-06\n",
            "Epoch 19/50\n",
            "132/132 [==============================] - ETA: 0s - loss: 0.1490 - acc: 0.9693\n",
            "Epoch 19: ReduceLROnPlateau reducing learning rate to 7.289999985005124e-07.\n",
            "132/132 [==============================] - 51s 385ms/step - loss: 0.1490 - acc: 0.9693 - val_loss: 0.5471 - val_acc: 0.8522 - lr: 2.4300e-06\n",
            "Epoch 20/50\n",
            "132/132 [==============================] - 51s 384ms/step - loss: 0.1481 - acc: 0.9688 - val_loss: 0.5849 - val_acc: 0.8651 - lr: 7.2900e-07\n",
            "Epoch 21/50\n",
            "132/132 [==============================] - ETA: 0s - loss: 0.1484 - acc: 0.9679\n",
            "Epoch 21: ReduceLROnPlateau reducing learning rate to 2.1870000637136398e-07.\n",
            "132/132 [==============================] - 51s 385ms/step - loss: 0.1484 - acc: 0.9679 - val_loss: 0.5941 - val_acc: 0.8608 - lr: 7.2900e-07\n",
            "Epoch 22/50\n",
            "132/132 [==============================] - 52s 388ms/step - loss: 0.1509 - acc: 0.9650 - val_loss: 0.5586 - val_acc: 0.8522 - lr: 2.1870e-07\n"
          ]
        }
      ],
      "source": [
        "learning_rate_reduction = ReduceLROnPlateau(monitor='val_loss', patience = 2, verbose=1,factor=0.3, min_lr=0.00000001)\n",
        "chkpt = ModelCheckpoint(filepath='best_model_effB1.hdf5', monitor='val_loss', save_best_only=True, save_weights_only=True)\n",
        "early_stopping = tf.keras.callbacks.EarlyStopping(patience=13, monitor='val_loss', restore_best_weights=True)\n",
        "\n",
        "history = model1.fit(train_gen, epochs=50, validation_data=valid_gen, callbacks=[learning_rate_reduction, chkpt, early_stopping])"
      ]
    },
    {
      "cell_type": "code",
      "execution_count": null,
      "metadata": {
        "id": "HpXxI7QvE35b"
      },
      "outputs": [],
      "source": [
        "model1.load_weights(\"best_model_effB1.hdf5\")\n",
        "preds = model1.predict(X_test)\n",
        "labelled_preds = one_hot_encoder.inverse_transform(preds)\n",
        "pred = pd.DataFrame(labelled_preds, columns =[\"class_id\"])\n",
        "df = pd.read_csv('submission3.csv')\n",
        "df ['class_id']= pred\n",
        "df.to_csv(\"final_submission52.csv\", index=False)"
      ]
    },
    {
      "cell_type": "markdown",
      "metadata": {
        "id": "ETDeu8cDNGx-"
      },
      "source": [
        "### EfficienNetB2"
      ]
    },
    {
      "cell_type": "code",
      "execution_count": null,
      "metadata": {
        "id": "pkM8CDwjNJph",
        "colab": {
          "base_uri": "https://localhost:8080/"
        },
        "outputId": "0c8a2090-8e25-46b6-a127-827116d48f06"
      },
      "outputs": [
        {
          "output_type": "stream",
          "name": "stdout",
          "text": [
            "Downloading data from https://storage.googleapis.com/keras-applications/efficientnetb2_notop.h5\n",
            "31793152/31790344 [==============================] - 0s 0us/step\n",
            "31801344/31790344 [==============================] - 0s 0us/step\n"
          ]
        }
      ],
      "source": [
        "base_model2 = tf.keras.applications.EfficientNetB2(include_top=False,\n",
        "                                     weights='imagenet',\n",
        "                                     input_shape=(224, 224, 3))\n",
        "x = base_model2.output\n",
        "x = tf.keras.layers.GlobalAveragePooling2D()(x)\n",
        "x = Dense(512, activation=None, kernel_regularizer = L1L2(l1=1e-5, l2=1e-3))(x)\n",
        "x = BatchNormalization()(x)\n",
        "x = Activation('swish')(x)\n",
        "x = Dropout(0.3)(x)\n",
        "x = Dense(512, activation=None, kernel_regularizer = L1L2(l1=1e-5, l2=1e-3))(x)\n",
        "x = BatchNormalization()(x)\n",
        "x = Activation('swish')(x)\n",
        "x = Dropout(0.3)(x)\n",
        "ouput1 = Dense(3, activation= 'softmax')(x)\n",
        "\n",
        "model2 = Model(inputs=base_model2.input, outputs=ouput1)\n",
        "\n",
        "model2.compile(loss='categorical_crossentropy', \n",
        "              optimizer=tf.keras.optimizers.Adam(1e-3, decay = 1e-3 * 0.1), metrics=['acc'])"
      ]
    },
    {
      "cell_type": "code",
      "execution_count": null,
      "metadata": {
        "colab": {
          "base_uri": "https://localhost:8080/"
        },
        "id": "liKrCAVONWHW",
        "outputId": "516084a4-546e-4960-e1f4-a987d5534943"
      },
      "outputs": [
        {
          "output_type": "stream",
          "name": "stdout",
          "text": [
            "Epoch 1/50\n",
            "132/132 [==============================] - 67s 416ms/step - loss: 2.1077 - acc: 0.7317 - val_loss: 1.8626 - val_acc: 0.7645 - lr: 0.0010\n",
            "Epoch 2/50\n",
            "132/132 [==============================] - 53s 396ms/step - loss: 1.6126 - acc: 0.7979 - val_loss: 1.7177 - val_acc: 0.7859 - lr: 0.0010\n",
            "Epoch 3/50\n",
            "132/132 [==============================] - 52s 389ms/step - loss: 1.2582 - acc: 0.8052 - val_loss: 2.4651 - val_acc: 0.7473 - lr: 0.0010\n",
            "Epoch 4/50\n",
            "132/132 [==============================] - 52s 395ms/step - loss: 0.9797 - acc: 0.8157 - val_loss: 1.0910 - val_acc: 0.6467 - lr: 0.0010\n",
            "Epoch 5/50\n",
            "132/132 [==============================] - 53s 397ms/step - loss: 1.0581 - acc: 0.7434 - val_loss: 0.9519 - val_acc: 0.7195 - lr: 0.0010\n",
            "Epoch 6/50\n",
            "132/132 [==============================] - 53s 397ms/step - loss: 0.8164 - acc: 0.7857 - val_loss: 0.9020 - val_acc: 0.7730 - lr: 0.0010\n",
            "Epoch 7/50\n",
            "132/132 [==============================] - 53s 397ms/step - loss: 0.7053 - acc: 0.7929 - val_loss: 0.8893 - val_acc: 0.6788 - lr: 0.0010\n",
            "Epoch 8/50\n",
            "132/132 [==============================] - 53s 398ms/step - loss: 0.6600 - acc: 0.7995 - val_loss: 0.6657 - val_acc: 0.7580 - lr: 0.0010\n",
            "Epoch 9/50\n",
            "132/132 [==============================] - 53s 398ms/step - loss: 0.5477 - acc: 0.8174 - val_loss: 0.6153 - val_acc: 0.8158 - lr: 0.0010\n",
            "Epoch 10/50\n",
            "132/132 [==============================] - 52s 395ms/step - loss: 0.5368 - acc: 0.8188 - val_loss: 0.6930 - val_acc: 0.7452 - lr: 0.0010\n",
            "Epoch 11/50\n",
            "132/132 [==============================] - 53s 400ms/step - loss: 0.5250 - acc: 0.8228 - val_loss: 0.5989 - val_acc: 0.7709 - lr: 0.0010\n",
            "Epoch 12/50\n",
            "132/132 [==============================] - 53s 399ms/step - loss: 0.4909 - acc: 0.8228 - val_loss: 0.5904 - val_acc: 0.7752 - lr: 0.0010\n",
            "Epoch 13/50\n",
            "132/132 [==============================] - 52s 391ms/step - loss: 0.5345 - acc: 0.8171 - val_loss: 0.7307 - val_acc: 0.7645 - lr: 0.0010\n",
            "Epoch 14/50\n",
            "132/132 [==============================] - 53s 397ms/step - loss: 0.4762 - acc: 0.8392 - val_loss: 0.5025 - val_acc: 0.8351 - lr: 0.0010\n",
            "Epoch 15/50\n",
            "132/132 [==============================] - 52s 389ms/step - loss: 0.4627 - acc: 0.8369 - val_loss: 0.5149 - val_acc: 0.8073 - lr: 0.0010\n",
            "Epoch 16/50\n",
            "132/132 [==============================] - ETA: 0s - loss: 0.4523 - acc: 0.8430\n",
            "Epoch 16: ReduceLROnPlateau reducing learning rate to 0.0003000000142492354.\n",
            "132/132 [==============================] - 52s 388ms/step - loss: 0.4523 - acc: 0.8430 - val_loss: 1.3685 - val_acc: 0.7859 - lr: 0.0010\n",
            "Epoch 17/50\n",
            "132/132 [==============================] - 53s 399ms/step - loss: 0.4344 - acc: 0.8471 - val_loss: 0.4466 - val_acc: 0.8415 - lr: 3.0000e-04\n",
            "Epoch 18/50\n",
            "132/132 [==============================] - 52s 388ms/step - loss: 0.3775 - acc: 0.8642 - val_loss: 0.4974 - val_acc: 0.8201 - lr: 3.0000e-04\n",
            "Epoch 19/50\n",
            "132/132 [==============================] - ETA: 0s - loss: 0.3949 - acc: 0.8597\n",
            "Epoch 19: ReduceLROnPlateau reducing learning rate to 9.000000427477062e-05.\n",
            "132/132 [==============================] - 52s 388ms/step - loss: 0.3949 - acc: 0.8597 - val_loss: 0.4971 - val_acc: 0.8223 - lr: 3.0000e-04\n",
            "Epoch 20/50\n",
            "132/132 [==============================] - 53s 400ms/step - loss: 0.3483 - acc: 0.8735 - val_loss: 0.4200 - val_acc: 0.8394 - lr: 9.0000e-05\n",
            "Epoch 21/50\n",
            "132/132 [==============================] - 52s 388ms/step - loss: 0.3279 - acc: 0.8832 - val_loss: 0.4249 - val_acc: 0.8480 - lr: 9.0000e-05\n",
            "Epoch 22/50\n",
            "132/132 [==============================] - 53s 398ms/step - loss: 0.3202 - acc: 0.8861 - val_loss: 0.4115 - val_acc: 0.8351 - lr: 9.0000e-05\n",
            "Epoch 23/50\n",
            "132/132 [==============================] - 52s 392ms/step - loss: 0.3069 - acc: 0.8904 - val_loss: 0.4420 - val_acc: 0.8415 - lr: 9.0000e-05\n",
            "Epoch 24/50\n",
            "132/132 [==============================] - ETA: 0s - loss: 0.3049 - acc: 0.8882\n",
            "Epoch 24: ReduceLROnPlateau reducing learning rate to 2.700000040931627e-05.\n",
            "132/132 [==============================] - 52s 391ms/step - loss: 0.3049 - acc: 0.8882 - val_loss: 0.4335 - val_acc: 0.8394 - lr: 9.0000e-05\n",
            "Epoch 25/50\n",
            "132/132 [==============================] - 52s 389ms/step - loss: 0.2938 - acc: 0.8966 - val_loss: 0.4460 - val_acc: 0.8244 - lr: 2.7000e-05\n",
            "Epoch 26/50\n",
            "132/132 [==============================] - ETA: 0s - loss: 0.2753 - acc: 0.9077\n",
            "Epoch 26: ReduceLROnPlateau reducing learning rate to 8.100000013655517e-06.\n",
            "132/132 [==============================] - 52s 391ms/step - loss: 0.2753 - acc: 0.9077 - val_loss: 0.4710 - val_acc: 0.8287 - lr: 2.7000e-05\n",
            "Epoch 27/50\n",
            "132/132 [==============================] - 52s 395ms/step - loss: 0.2815 - acc: 0.9006 - val_loss: 0.4567 - val_acc: 0.8180 - lr: 8.1000e-06\n",
            "Epoch 28/50\n",
            "132/132 [==============================] - ETA: 0s - loss: 0.2773 - acc: 0.9025\n",
            "Epoch 28: ReduceLROnPlateau reducing learning rate to 2.429999949526973e-06.\n",
            "132/132 [==============================] - 51s 387ms/step - loss: 0.2773 - acc: 0.9025 - val_loss: 0.4533 - val_acc: 0.8287 - lr: 8.1000e-06\n",
            "Epoch 29/50\n",
            "132/132 [==============================] - 51s 386ms/step - loss: 0.2766 - acc: 0.9039 - val_loss: 0.4470 - val_acc: 0.8308 - lr: 2.4300e-06\n",
            "Epoch 30/50\n",
            "132/132 [==============================] - ETA: 0s - loss: 0.2787 - acc: 0.9025\n",
            "Epoch 30: ReduceLROnPlateau reducing learning rate to 7.289999985005124e-07.\n",
            "132/132 [==============================] - 52s 389ms/step - loss: 0.2787 - acc: 0.9025 - val_loss: 0.4401 - val_acc: 0.8330 - lr: 2.4300e-06\n",
            "Epoch 31/50\n",
            "132/132 [==============================] - 52s 389ms/step - loss: 0.2645 - acc: 0.9099 - val_loss: 0.4545 - val_acc: 0.8223 - lr: 7.2900e-07\n",
            "Epoch 32/50\n",
            "132/132 [==============================] - ETA: 0s - loss: 0.2708 - acc: 0.9008\n",
            "Epoch 32: ReduceLROnPlateau reducing learning rate to 2.1870000637136398e-07.\n",
            "132/132 [==============================] - 51s 386ms/step - loss: 0.2708 - acc: 0.9008 - val_loss: 0.4655 - val_acc: 0.8201 - lr: 7.2900e-07\n",
            "Epoch 33/50\n",
            "132/132 [==============================] - 52s 388ms/step - loss: 0.2722 - acc: 0.9049 - val_loss: 0.4686 - val_acc: 0.8244 - lr: 2.1870e-07\n",
            "Epoch 34/50\n",
            "132/132 [==============================] - ETA: 0s - loss: 0.2683 - acc: 0.9006\n",
            "Epoch 34: ReduceLROnPlateau reducing learning rate to 6.561000276406048e-08.\n",
            "132/132 [==============================] - 51s 388ms/step - loss: 0.2683 - acc: 0.9006 - val_loss: 0.4448 - val_acc: 0.8373 - lr: 2.1870e-07\n",
            "Epoch 35/50\n",
            "132/132 [==============================] - 52s 388ms/step - loss: 0.2775 - acc: 0.9025 - val_loss: 0.4614 - val_acc: 0.8266 - lr: 6.5610e-08\n"
          ]
        }
      ],
      "source": [
        "learning_rate_reduction = ReduceLROnPlateau(monitor='val_loss', patience = 2, verbose=1,factor=0.3, min_lr=0.00000001)\n",
        "chkpt = ModelCheckpoint(filepath='best_model_effB2.hdf5', monitor='val_loss', save_best_only=True, save_weights_only=True)\n",
        "early_stopping = tf.keras.callbacks.EarlyStopping(patience=13, monitor='val_loss', restore_best_weights=True)\n",
        "\n",
        "history2 = model2.fit(train_gen, epochs=50, validation_data=valid_gen, callbacks=[learning_rate_reduction, chkpt, early_stopping])"
      ]
    },
    {
      "cell_type": "code",
      "execution_count": null,
      "metadata": {
        "id": "ZCH0uWBLNa7t"
      },
      "outputs": [],
      "source": [
        "model2.load_weights(\"best_model_effB2.hdf5\")\n",
        "preds = model2.predict(X_test)\n",
        "labelled_preds = one_hot_encoder.inverse_transform(preds)\n",
        "pred = pd.DataFrame(labelled_preds, columns =[\"class_id\"])\n",
        "df = pd.read_csv('submission3.csv')\n",
        "df ['class_id']= pred\n",
        "df.to_csv(\"final_submission53.csv\", index=False)"
      ]
    },
    {
      "cell_type": "markdown",
      "metadata": {
        "id": "Q_kxDqMvkbR1"
      },
      "source": [
        "###EfficientNetB3 -> B3_2 & B3_6 Removed on Final Results"
      ]
    },
    {
      "cell_type": "code",
      "execution_count": null,
      "metadata": {
        "colab": {
          "base_uri": "https://localhost:8080/"
        },
        "outputId": "5e867793-ba3a-4fa0-b3a4-91f82a84be46",
        "id": "qCeVn_bJkbR9"
      },
      "outputs": [
        {
          "name": "stdout",
          "output_type": "stream",
          "text": [
            "Downloading data from https://storage.googleapis.com/keras-applications/efficientnetb3_notop.h5\n",
            "43941888/43941136 [==============================] - 0s 0us/step\n",
            "43950080/43941136 [==============================] - 0s 0us/step\n"
          ]
        }
      ],
      "source": [
        "base_model3 = tf.keras.applications.EfficientNetB3(include_top=False,\n",
        "                                     weights='imagenet',\n",
        "                                     input_shape=(224, 224, 3))\n",
        "x = base_model3.output\n",
        "x = tf.keras.layers.GlobalAveragePooling2D()(x)\n",
        "x = Dense(512, activation=None, kernel_regularizer = L1L2(l1=1e-5, l2=1e-3))(x)\n",
        "x = BatchNormalization()(x)\n",
        "x = Activation('swish')(x)\n",
        "x = Dropout(0.3)(x)\n",
        "x = Dense(512, activation=None, kernel_regularizer = L1L2(l1=1e-5, l2=1e-3))(x)\n",
        "x = BatchNormalization()(x)\n",
        "x = Activation('swish')(x)\n",
        "x = Dropout(0.3)(x)\n",
        "ouput1 = Dense(3, activation= 'softmax')(x)\n",
        "\n",
        "model3 = Model(inputs=base_model3.input, outputs=ouput1)\n",
        "\n",
        "model3.compile(loss='binary_crossentropy', \n",
        "              optimizer='adam', metrics=['acc'])"
      ]
    },
    {
      "cell_type": "code",
      "execution_count": null,
      "metadata": {
        "colab": {
          "base_uri": "https://localhost:8080/"
        },
        "outputId": "10eda9b9-4367-49f8-8b9e-645643390ec7",
        "id": "0kPa11QwkbR9"
      },
      "outputs": [
        {
          "name": "stdout",
          "output_type": "stream",
          "text": [
            "Epoch 1/50\n",
            "132/132 [==============================] - 92s 514ms/step - loss: 1.6898 - acc: 0.7453 - val_loss: 1.4207 - val_acc: 0.7173 - lr: 0.0010\n",
            "Epoch 2/50\n",
            "132/132 [==============================] - 61s 460ms/step - loss: 0.9286 - acc: 0.8048 - val_loss: 0.6943 - val_acc: 0.7859 - lr: 0.0010\n",
            "Epoch 3/50\n",
            "132/132 [==============================] - 61s 464ms/step - loss: 0.5483 - acc: 0.8166 - val_loss: 0.5136 - val_acc: 0.8158 - lr: 0.0010\n",
            "Epoch 4/50\n",
            "132/132 [==============================] - 61s 461ms/step - loss: 0.3795 - acc: 0.8333 - val_loss: 0.4615 - val_acc: 0.7088 - lr: 0.0010\n",
            "Epoch 5/50\n",
            "132/132 [==============================] - 61s 462ms/step - loss: 0.3179 - acc: 0.8426 - val_loss: 0.3392 - val_acc: 0.8137 - lr: 0.0010\n",
            "Epoch 6/50\n",
            "132/132 [==============================] - 60s 452ms/step - loss: 0.2858 - acc: 0.8499 - val_loss: 0.5332 - val_acc: 0.6852 - lr: 0.0010\n",
            "Epoch 7/50\n",
            "132/132 [==============================] - ETA: 0s - loss: 0.2773 - acc: 0.8597\n",
            "Epoch 7: ReduceLROnPlateau reducing learning rate to 0.0003000000142492354.\n",
            "132/132 [==============================] - 59s 448ms/step - loss: 0.2773 - acc: 0.8597 - val_loss: 0.4920 - val_acc: 0.7709 - lr: 0.0010\n",
            "Epoch 8/50\n",
            "132/132 [==============================] - 61s 460ms/step - loss: 0.2074 - acc: 0.9049 - val_loss: 0.2943 - val_acc: 0.8223 - lr: 3.0000e-04\n",
            "Epoch 9/50\n",
            "132/132 [==============================] - 60s 449ms/step - loss: 0.1632 - acc: 0.9225 - val_loss: 0.3189 - val_acc: 0.8073 - lr: 3.0000e-04\n",
            "Epoch 10/50\n",
            "132/132 [==============================] - ETA: 0s - loss: 0.1433 - acc: 0.9303\n",
            "Epoch 10: ReduceLROnPlateau reducing learning rate to 9.000000427477062e-05.\n",
            "132/132 [==============================] - 60s 450ms/step - loss: 0.1433 - acc: 0.9303 - val_loss: 0.3043 - val_acc: 0.8308 - lr: 3.0000e-04\n",
            "Epoch 11/50\n",
            "132/132 [==============================] - 60s 449ms/step - loss: 0.1099 - acc: 0.9486 - val_loss: 0.3006 - val_acc: 0.8351 - lr: 9.0000e-05\n",
            "Epoch 12/50\n",
            "132/132 [==============================] - 61s 461ms/step - loss: 0.0808 - acc: 0.9681 - val_loss: 0.2862 - val_acc: 0.8437 - lr: 9.0000e-05\n",
            "Epoch 13/50\n",
            "132/132 [==============================] - 60s 449ms/step - loss: 0.0727 - acc: 0.9691 - val_loss: 0.3024 - val_acc: 0.8522 - lr: 9.0000e-05\n",
            "Epoch 14/50\n",
            "132/132 [==============================] - ETA: 0s - loss: 0.0668 - acc: 0.9715\n",
            "Epoch 14: ReduceLROnPlateau reducing learning rate to 2.700000040931627e-05.\n",
            "132/132 [==============================] - 60s 450ms/step - loss: 0.0668 - acc: 0.9715 - val_loss: 0.3789 - val_acc: 0.8415 - lr: 9.0000e-05\n",
            "Epoch 15/50\n",
            "132/132 [==============================] - 60s 449ms/step - loss: 0.0568 - acc: 0.9786 - val_loss: 0.3823 - val_acc: 0.8330 - lr: 2.7000e-05\n",
            "Epoch 16/50\n",
            "132/132 [==============================] - ETA: 0s - loss: 0.0563 - acc: 0.9774\n",
            "Epoch 16: ReduceLROnPlateau reducing learning rate to 8.100000013655517e-06.\n",
            "132/132 [==============================] - 60s 450ms/step - loss: 0.0563 - acc: 0.9774 - val_loss: 0.3852 - val_acc: 0.8394 - lr: 2.7000e-05\n",
            "Epoch 17/50\n",
            "132/132 [==============================] - 60s 450ms/step - loss: 0.0506 - acc: 0.9776 - val_loss: 0.3684 - val_acc: 0.8415 - lr: 8.1000e-06\n",
            "Epoch 18/50\n",
            "132/132 [==============================] - ETA: 0s - loss: 0.0474 - acc: 0.9831\n",
            "Epoch 18: ReduceLROnPlateau reducing learning rate to 2.429999949526973e-06.\n",
            "132/132 [==============================] - 60s 449ms/step - loss: 0.0474 - acc: 0.9831 - val_loss: 0.3965 - val_acc: 0.8394 - lr: 8.1000e-06\n",
            "Epoch 19/50\n",
            "132/132 [==============================] - 60s 449ms/step - loss: 0.0440 - acc: 0.9834 - val_loss: 0.3899 - val_acc: 0.8480 - lr: 2.4300e-06\n",
            "Epoch 20/50\n",
            "132/132 [==============================] - ETA: 0s - loss: 0.0458 - acc: 0.9812\n",
            "Epoch 20: ReduceLROnPlateau reducing learning rate to 7.289999985005124e-07.\n",
            "132/132 [==============================] - 60s 449ms/step - loss: 0.0458 - acc: 0.9812 - val_loss: 0.4008 - val_acc: 0.8330 - lr: 2.4300e-06\n",
            "Epoch 21/50\n",
            "132/132 [==============================] - 60s 450ms/step - loss: 0.0419 - acc: 0.9855 - val_loss: 0.4032 - val_acc: 0.8458 - lr: 7.2900e-07\n",
            "Epoch 22/50\n",
            "132/132 [==============================] - ETA: 0s - loss: 0.0471 - acc: 0.9798\n",
            "Epoch 22: ReduceLROnPlateau reducing learning rate to 2.1870000637136398e-07.\n",
            "132/132 [==============================] - 59s 446ms/step - loss: 0.0471 - acc: 0.9798 - val_loss: 0.4217 - val_acc: 0.8308 - lr: 7.2900e-07\n",
            "Epoch 23/50\n",
            "132/132 [==============================] - 60s 451ms/step - loss: 0.0454 - acc: 0.9817 - val_loss: 0.4031 - val_acc: 0.8373 - lr: 2.1870e-07\n",
            "Epoch 24/50\n",
            "132/132 [==============================] - ETA: 0s - loss: 0.0437 - acc: 0.9834\n",
            "Epoch 24: ReduceLROnPlateau reducing learning rate to 6.561000276406048e-08.\n",
            "132/132 [==============================] - 60s 450ms/step - loss: 0.0437 - acc: 0.9834 - val_loss: 0.3589 - val_acc: 0.8522 - lr: 2.1870e-07\n",
            "Epoch 25/50\n",
            "132/132 [==============================] - 60s 451ms/step - loss: 0.0403 - acc: 0.9848 - val_loss: 0.4114 - val_acc: 0.8158 - lr: 6.5610e-08\n"
          ]
        }
      ],
      "source": [
        "learning_rate_reduction = ReduceLROnPlateau(monitor='val_loss', patience = 2, verbose=1,factor=0.3, min_lr=0.00000001)\n",
        "chkpt = ModelCheckpoint(filepath='best_model_effB3.hdf5', monitor='val_loss', save_best_only=True, save_weights_only=True)\n",
        "early_stopping = tf.keras.callbacks.EarlyStopping(patience=13, monitor='val_loss', restore_best_weights=True)\n",
        "\n",
        "history3 = model3.fit(train_gen, epochs=50, validation_data=valid_gen, callbacks=[learning_rate_reduction, chkpt, early_stopping])"
      ]
    },
    {
      "cell_type": "code",
      "execution_count": null,
      "metadata": {
        "id": "l0gGpuw0kbR9"
      },
      "outputs": [],
      "source": [
        "model3.load_weights(\"best_model_effB3.hdf5\")\n",
        "preds = model3.predict(X_test)\n",
        "labelled_preds = one_hot_encoder.inverse_transform(preds)\n",
        "pred = pd.DataFrame(labelled_preds, columns =[\"class_id\"])\n",
        "df = pd.read_csv('submission3.csv')\n",
        "df ['class_id']= pred\n",
        "df.to_csv(\"final_submission54.csv\", index=False)"
      ]
    },
    {
      "cell_type": "code",
      "execution_count": null,
      "metadata": {
        "colab": {
          "base_uri": "https://localhost:8080/"
        },
        "id": "z8uxmuG1V31c",
        "outputId": "e3ce9df0-8fd2-4553-bd2b-b031ee20578b"
      },
      "outputs": [
        {
          "name": "stdout",
          "output_type": "stream",
          "text": [
            "Epoch 1/50\n",
            "132/132 [==============================] - 82s 498ms/step - loss: 1.6582 - acc: 0.7527 - val_loss: 1.4054 - val_acc: 0.6831 - lr: 0.0010\n",
            "Epoch 2/50\n",
            "132/132 [==============================] - 60s 451ms/step - loss: 0.9021 - acc: 0.8012 - val_loss: 1.3075 - val_acc: 0.6681 - lr: 0.0010\n",
            "Epoch 3/50\n",
            "132/132 [==============================] - 61s 457ms/step - loss: 0.5361 - acc: 0.8112 - val_loss: 0.4975 - val_acc: 0.7966 - lr: 0.0010\n",
            "Epoch 4/50\n",
            "132/132 [==============================] - 59s 447ms/step - loss: 0.3923 - acc: 0.8226 - val_loss: 0.3967 - val_acc: 0.7687 - lr: 0.0010\n",
            "Epoch 5/50\n",
            "132/132 [==============================] - ETA: 0s - loss: 0.3402 - acc: 0.8333\n",
            "Epoch 5: ReduceLROnPlateau reducing learning rate to 0.0003000000142492354.\n",
            "132/132 [==============================] - 59s 446ms/step - loss: 0.3402 - acc: 0.8333 - val_loss: 0.5264 - val_acc: 0.6895 - lr: 0.0010\n",
            "Epoch 6/50\n",
            "132/132 [==============================] - 60s 449ms/step - loss: 0.2769 - acc: 0.8595 - val_loss: 0.3411 - val_acc: 0.7944 - lr: 3.0000e-04\n",
            "Epoch 7/50\n",
            "132/132 [==============================] - 61s 459ms/step - loss: 0.2321 - acc: 0.8837 - val_loss: 0.3040 - val_acc: 0.8180 - lr: 3.0000e-04\n",
            "Epoch 8/50\n",
            "132/132 [==============================] - 60s 449ms/step - loss: 0.2009 - acc: 0.9037 - val_loss: 0.3216 - val_acc: 0.7966 - lr: 3.0000e-04\n",
            "Epoch 9/50\n",
            "132/132 [==============================] - ETA: 0s - loss: 0.1743 - acc: 0.9180\n",
            "Epoch 9: ReduceLROnPlateau reducing learning rate to 9.000000427477062e-05.\n",
            "132/132 [==============================] - 59s 446ms/step - loss: 0.1743 - acc: 0.9180 - val_loss: 0.3451 - val_acc: 0.8137 - lr: 3.0000e-04\n",
            "Epoch 10/50\n",
            "132/132 [==============================] - 61s 459ms/step - loss: 0.1357 - acc: 0.9346 - val_loss: 0.3140 - val_acc: 0.8330 - lr: 9.0000e-05\n",
            "Epoch 11/50\n",
            "132/132 [==============================] - 59s 448ms/step - loss: 0.1171 - acc: 0.9463 - val_loss: 0.3031 - val_acc: 0.8266 - lr: 9.0000e-05\n",
            "Epoch 12/50\n",
            "132/132 [==============================] - ETA: 0s - loss: 0.1042 - acc: 0.9555\n",
            "Epoch 12: ReduceLROnPlateau reducing learning rate to 2.700000040931627e-05.\n",
            "132/132 [==============================] - 59s 446ms/step - loss: 0.1042 - acc: 0.9555 - val_loss: 0.3458 - val_acc: 0.8201 - lr: 9.0000e-05\n",
            "Epoch 13/50\n",
            "132/132 [==============================] - 61s 458ms/step - loss: 0.0747 - acc: 0.9696 - val_loss: 0.3409 - val_acc: 0.8373 - lr: 2.7000e-05\n",
            "Epoch 14/50\n",
            "132/132 [==============================] - 60s 450ms/step - loss: 0.0784 - acc: 0.9679 - val_loss: 0.3711 - val_acc: 0.8266 - lr: 2.7000e-05\n",
            "Epoch 15/50\n",
            "132/132 [==============================] - ETA: 0s - loss: 0.0738 - acc: 0.9707\n",
            "Epoch 15: ReduceLROnPlateau reducing learning rate to 8.100000013655517e-06.\n",
            "132/132 [==============================] - 59s 447ms/step - loss: 0.0738 - acc: 0.9707 - val_loss: 0.3762 - val_acc: 0.8330 - lr: 2.7000e-05\n",
            "Epoch 16/50\n",
            "132/132 [==============================] - 59s 445ms/step - loss: 0.0622 - acc: 0.9750 - val_loss: 0.3541 - val_acc: 0.8287 - lr: 8.1000e-06\n",
            "Epoch 17/50\n",
            "132/132 [==============================] - ETA: 0s - loss: 0.0639 - acc: 0.9755\n",
            "Epoch 17: ReduceLROnPlateau reducing learning rate to 2.429999949526973e-06.\n",
            "132/132 [==============================] - 59s 446ms/step - loss: 0.0639 - acc: 0.9755 - val_loss: 0.3832 - val_acc: 0.8330 - lr: 8.1000e-06\n",
            "Epoch 18/50\n",
            "132/132 [==============================] - 59s 446ms/step - loss: 0.0654 - acc: 0.9724 - val_loss: 0.3922 - val_acc: 0.8308 - lr: 2.4300e-06\n",
            "Epoch 19/50\n",
            "132/132 [==============================] - ETA: 0s - loss: 0.0625 - acc: 0.9736\n",
            "Epoch 19: ReduceLROnPlateau reducing learning rate to 7.289999985005124e-07.\n",
            "132/132 [==============================] - 59s 446ms/step - loss: 0.0625 - acc: 0.9736 - val_loss: 0.3896 - val_acc: 0.8330 - lr: 2.4300e-06\n",
            "Epoch 20/50\n",
            "132/132 [==============================] - 59s 448ms/step - loss: 0.0584 - acc: 0.9767 - val_loss: 0.3857 - val_acc: 0.8373 - lr: 7.2900e-07\n",
            "Epoch 21/50\n",
            "132/132 [==============================] - ETA: 0s - loss: 0.0643 - acc: 0.9746\n",
            "Epoch 21: ReduceLROnPlateau reducing learning rate to 2.1870000637136398e-07.\n",
            "132/132 [==============================] - 59s 446ms/step - loss: 0.0643 - acc: 0.9746 - val_loss: 0.3969 - val_acc: 0.8201 - lr: 7.2900e-07\n",
            "Epoch 22/50\n",
            "132/132 [==============================] - 59s 448ms/step - loss: 0.0646 - acc: 0.9734 - val_loss: 0.4260 - val_acc: 0.8244 - lr: 2.1870e-07\n",
            "Epoch 23/50\n",
            "132/132 [==============================] - ETA: 0s - loss: 0.0625 - acc: 0.9757\n",
            "Epoch 23: ReduceLROnPlateau reducing learning rate to 6.561000276406048e-08.\n",
            "132/132 [==============================] - 59s 448ms/step - loss: 0.0625 - acc: 0.9757 - val_loss: 0.4012 - val_acc: 0.8373 - lr: 2.1870e-07\n",
            "Epoch 24/50\n",
            "132/132 [==============================] - 60s 449ms/step - loss: 0.0614 - acc: 0.9760 - val_loss: 0.3803 - val_acc: 0.8308 - lr: 6.5610e-08\n",
            "Epoch 25/50\n",
            "132/132 [==============================] - ETA: 0s - loss: 0.0556 - acc: 0.9815\n",
            "Epoch 25: ReduceLROnPlateau reducing learning rate to 1.9683000829218145e-08.\n",
            "132/132 [==============================] - 59s 445ms/step - loss: 0.0556 - acc: 0.9815 - val_loss: 0.4240 - val_acc: 0.8244 - lr: 6.5610e-08\n",
            "Epoch 26/50\n",
            "132/132 [==============================] - 59s 447ms/step - loss: 0.0658 - acc: 0.9722 - val_loss: 0.3872 - val_acc: 0.8266 - lr: 1.9683e-08\n"
          ]
        }
      ],
      "source": [
        "learning_rate_reduction = ReduceLROnPlateau(monitor='val_acc', patience = 2, verbose=1,factor=0.3, min_lr=0.00000001)\n",
        "chkpt = ModelCheckpoint(filepath='best_model_effB3_vol2.hdf5', monitor='val_acc', save_best_only=True, save_weights_only=True)\n",
        "early_stopping = tf.keras.callbacks.EarlyStopping(patience=13, monitor='val_acc', restore_best_weights=True)\n",
        "\n",
        "history3 = model3.fit(train_gen, epochs=50, validation_data=valid_gen, callbacks=[learning_rate_reduction, chkpt, early_stopping])"
      ]
    },
    {
      "cell_type": "code",
      "execution_count": null,
      "metadata": {
        "id": "bcUjyVDBV35H"
      },
      "outputs": [],
      "source": [
        "model3.load_weights(\"best_model_effB3_vol2.hdf5\")\n",
        "preds = model3.predict(X_test)\n",
        "labelled_preds = one_hot_encoder.inverse_transform(preds)\n",
        "pred = pd.DataFrame(labelled_preds, columns =[\"class_id\"])\n",
        "df = pd.read_csv('submission3.csv')\n",
        "df ['class_id']= pred\n",
        "df.to_csv(\"final_submission54_vol2.csv\", index=False)"
      ]
    },
    {
      "cell_type": "markdown",
      "metadata": {
        "id": "LRZVrDxGeoX0"
      },
      "source": [
        "31) "
      ]
    },
    {
      "cell_type": "code",
      "execution_count": null,
      "metadata": {
        "id": "wL5VLQBg2zHi"
      },
      "outputs": [],
      "source": [
        "base_model31 = tf.keras.applications.EfficientNetB3(include_top=False,\n",
        "                                     weights='imagenet',\n",
        "                                     input_shape=(224, 224, 3))\n",
        "x = base_model31.output\n",
        "x = tf.keras.layers.GlobalAveragePooling2D()(x)\n",
        "x = Dense(512, activation=None, kernel_regularizer = L1L2(l1=1e-6, l2=1e-4))(x)\n",
        "x = BatchNormalization()(x)\n",
        "x = Activation('swish')(x)\n",
        "x = Dropout(0.2)(x)\n",
        "x = Dense(512, activation=None, kernel_regularizer = L1L2(l1=1e-6, l2=1e-4))(x)\n",
        "x = BatchNormalization()(x)\n",
        "x = Activation('swish')(x)\n",
        "x = Dropout(0.2)(x)\n",
        "ouput1 = Dense(3, activation= 'softmax')(x)\n",
        "\n",
        "model31 = Model(inputs=base_model31.input, outputs=ouput1)\n",
        "\n",
        "model31.compile(loss='binary_crossentropy', \n",
        "              optimizer='adam', metrics=['acc'])"
      ]
    },
    {
      "cell_type": "code",
      "execution_count": null,
      "metadata": {
        "colab": {
          "base_uri": "https://localhost:8080/"
        },
        "id": "KmL5RTX-22-7",
        "outputId": "38ee1d97-490b-4db4-8164-128d4783d037"
      },
      "outputs": [
        {
          "name": "stdout",
          "output_type": "stream",
          "text": [
            "Epoch 1/50\n",
            "132/132 [==============================] - 77s 478ms/step - loss: 0.5388 - acc: 0.7565 - val_loss: 0.6924 - val_acc: 0.7645 - lr: 0.0010\n",
            "Epoch 2/50\n",
            "132/132 [==============================] - 61s 456ms/step - loss: 0.4446 - acc: 0.8064 - val_loss: 0.4197 - val_acc: 0.8094 - lr: 0.0010\n",
            "Epoch 3/50\n",
            "132/132 [==============================] - 59s 448ms/step - loss: 0.3956 - acc: 0.8195 - val_loss: 0.4476 - val_acc: 0.8030 - lr: 0.0010\n",
            "Epoch 4/50\n",
            "132/132 [==============================] - ETA: 0s - loss: 0.3620 - acc: 0.8266\n",
            "Epoch 4: ReduceLROnPlateau reducing learning rate to 0.0003000000142492354.\n",
            "132/132 [==============================] - 60s 449ms/step - loss: 0.3620 - acc: 0.8266 - val_loss: 0.7402 - val_acc: 0.4882 - lr: 0.0010\n",
            "Epoch 5/50\n",
            "132/132 [==============================] - 61s 457ms/step - loss: 0.2947 - acc: 0.8735 - val_loss: 0.3524 - val_acc: 0.8244 - lr: 3.0000e-04\n",
            "Epoch 6/50\n",
            "132/132 [==============================] - 60s 449ms/step - loss: 0.2581 - acc: 0.8908 - val_loss: 0.3558 - val_acc: 0.8266 - lr: 3.0000e-04\n",
            "Epoch 7/50\n",
            "132/132 [==============================] - 61s 461ms/step - loss: 0.2372 - acc: 0.9027 - val_loss: 0.3377 - val_acc: 0.8201 - lr: 3.0000e-04\n",
            "Epoch 8/50\n",
            "132/132 [==============================] - 59s 448ms/step - loss: 0.2136 - acc: 0.9120 - val_loss: 0.3467 - val_acc: 0.8073 - lr: 3.0000e-04\n",
            "Epoch 9/50\n",
            "132/132 [==============================] - ETA: 0s - loss: 0.1876 - acc: 0.9279\n",
            "Epoch 9: ReduceLROnPlateau reducing learning rate to 9.000000427477062e-05.\n",
            "132/132 [==============================] - 59s 447ms/step - loss: 0.1876 - acc: 0.9279 - val_loss: 0.3813 - val_acc: 0.8266 - lr: 3.0000e-04\n",
            "Epoch 10/50\n",
            "132/132 [==============================] - 59s 447ms/step - loss: 0.1535 - acc: 0.9463 - val_loss: 0.3535 - val_acc: 0.8373 - lr: 9.0000e-05\n",
            "Epoch 11/50\n",
            "132/132 [==============================] - ETA: 0s - loss: 0.1204 - acc: 0.9658\n",
            "Epoch 11: ReduceLROnPlateau reducing learning rate to 2.700000040931627e-05.\n",
            "132/132 [==============================] - 59s 448ms/step - loss: 0.1204 - acc: 0.9658 - val_loss: 0.3800 - val_acc: 0.8394 - lr: 9.0000e-05\n",
            "Epoch 12/50\n",
            "132/132 [==============================] - 60s 450ms/step - loss: 0.1118 - acc: 0.9693 - val_loss: 0.4053 - val_acc: 0.8266 - lr: 2.7000e-05\n",
            "Epoch 13/50\n",
            "132/132 [==============================] - ETA: 0s - loss: 0.1069 - acc: 0.9741\n",
            "Epoch 13: ReduceLROnPlateau reducing learning rate to 8.100000013655517e-06.\n",
            "132/132 [==============================] - 59s 448ms/step - loss: 0.1069 - acc: 0.9741 - val_loss: 0.3949 - val_acc: 0.8330 - lr: 2.7000e-05\n",
            "Epoch 14/50\n",
            "132/132 [==============================] - 60s 452ms/step - loss: 0.1018 - acc: 0.9746 - val_loss: 0.4221 - val_acc: 0.8330 - lr: 8.1000e-06\n",
            "Epoch 15/50\n",
            "132/132 [==============================] - ETA: 0s - loss: 0.0960 - acc: 0.9795\n",
            "Epoch 15: ReduceLROnPlateau reducing learning rate to 2.429999949526973e-06.\n",
            "132/132 [==============================] - 59s 448ms/step - loss: 0.0960 - acc: 0.9795 - val_loss: 0.3943 - val_acc: 0.8394 - lr: 8.1000e-06\n",
            "Epoch 16/50\n",
            "132/132 [==============================] - 59s 447ms/step - loss: 0.0939 - acc: 0.9815 - val_loss: 0.4059 - val_acc: 0.8308 - lr: 2.4300e-06\n",
            "Epoch 17/50\n",
            "132/132 [==============================] - ETA: 0s - loss: 0.0953 - acc: 0.9791\n",
            "Epoch 17: ReduceLROnPlateau reducing learning rate to 7.289999985005124e-07.\n",
            "132/132 [==============================] - 60s 449ms/step - loss: 0.0953 - acc: 0.9791 - val_loss: 0.3857 - val_acc: 0.8544 - lr: 2.4300e-06\n",
            "Epoch 18/50\n",
            "132/132 [==============================] - 60s 450ms/step - loss: 0.1026 - acc: 0.9748 - val_loss: 0.4342 - val_acc: 0.8137 - lr: 7.2900e-07\n",
            "Epoch 19/50\n",
            "132/132 [==============================] - ETA: 0s - loss: 0.0953 - acc: 0.9793\n",
            "Epoch 19: ReduceLROnPlateau reducing learning rate to 2.1870000637136398e-07.\n",
            "132/132 [==============================] - 60s 449ms/step - loss: 0.0953 - acc: 0.9793 - val_loss: 0.4385 - val_acc: 0.8223 - lr: 7.2900e-07\n",
            "Epoch 20/50\n",
            "132/132 [==============================] - 60s 451ms/step - loss: 0.0984 - acc: 0.9776 - val_loss: 0.4174 - val_acc: 0.8266 - lr: 2.1870e-07\n"
          ]
        }
      ],
      "source": [
        "learning_rate_reduction = ReduceLROnPlateau(monitor='val_loss', patience = 2, verbose=1,factor=0.3, min_lr=0.00000001)\n",
        "chkpt = ModelCheckpoint(filepath='best_model_effB3_1.hdf5', monitor='val_loss', save_best_only=True, save_weights_only=True)\n",
        "early_stopping = tf.keras.callbacks.EarlyStopping(patience=13, monitor='val_loss', restore_best_weights=True)\n",
        "\n",
        "history31 = model31.fit(train_gen, epochs=50, validation_data=valid_gen, callbacks=[learning_rate_reduction, chkpt, early_stopping])"
      ]
    },
    {
      "cell_type": "code",
      "execution_count": null,
      "metadata": {
        "id": "r0xKjRN03KXG"
      },
      "outputs": [],
      "source": [
        "model31.load_weights(\"best_model_effB3_1.hdf5\")\n",
        "preds = model31.predict(X_test)\n",
        "labelled_preds = one_hot_encoder.inverse_transform(preds)\n",
        "pred = pd.DataFrame(labelled_preds, columns =[\"class_id\"])\n",
        "df = pd.read_csv('submission3.csv')\n",
        "df ['class_id']= pred\n",
        "df.to_csv(\"final_submission65.csv\", index=False)"
      ]
    },
    {
      "cell_type": "code",
      "execution_count": null,
      "metadata": {
        "colab": {
          "base_uri": "https://localhost:8080/"
        },
        "id": "zrrHuYvcdaXy",
        "outputId": "094ff355-91d0-49b9-933c-2d6f4bbf17d9"
      },
      "outputs": [
        {
          "name": "stdout",
          "output_type": "stream",
          "text": [
            "Epoch 1/50\n",
            "132/132 [==============================] - 82s 492ms/step - loss: 0.5457 - acc: 0.7467 - val_loss: 0.4880 - val_acc: 0.7944 - lr: 0.0010\n",
            "Epoch 2/50\n",
            "132/132 [==============================] - 68s 517ms/step - loss: 0.4474 - acc: 0.8105 - val_loss: 0.4456 - val_acc: 0.7880 - lr: 0.0010\n",
            "Epoch 3/50\n",
            "132/132 [==============================] - 61s 460ms/step - loss: 0.4079 - acc: 0.8202 - val_loss: 0.4241 - val_acc: 0.8180 - lr: 0.0010\n",
            "Epoch 4/50\n",
            "132/132 [==============================] - 60s 453ms/step - loss: 0.3719 - acc: 0.8378 - val_loss: 0.3940 - val_acc: 0.8051 - lr: 0.0010\n",
            "Epoch 5/50\n",
            "132/132 [==============================] - ETA: 0s - loss: 0.3366 - acc: 0.8428\n",
            "Epoch 5: ReduceLROnPlateau reducing learning rate to 0.0003000000142492354.\n",
            "132/132 [==============================] - 60s 452ms/step - loss: 0.3366 - acc: 0.8428 - val_loss: 0.5471 - val_acc: 0.6660 - lr: 0.0010\n",
            "Epoch 6/50\n",
            "132/132 [==============================] - 61s 460ms/step - loss: 0.2642 - acc: 0.8894 - val_loss: 0.3291 - val_acc: 0.8308 - lr: 3.0000e-04\n",
            "Epoch 7/50\n",
            "132/132 [==============================] - 61s 460ms/step - loss: 0.2371 - acc: 0.9027 - val_loss: 0.3436 - val_acc: 0.8373 - lr: 3.0000e-04\n",
            "Epoch 8/50\n",
            "132/132 [==============================] - 60s 449ms/step - loss: 0.2162 - acc: 0.9120 - val_loss: 0.3513 - val_acc: 0.8266 - lr: 3.0000e-04\n",
            "Epoch 9/50\n",
            "132/132 [==============================] - ETA: 0s - loss: 0.1862 - acc: 0.9263\n",
            "Epoch 9: ReduceLROnPlateau reducing learning rate to 9.000000427477062e-05.\n",
            "132/132 [==============================] - 60s 449ms/step - loss: 0.1862 - acc: 0.9263 - val_loss: 0.3615 - val_acc: 0.8223 - lr: 3.0000e-04\n",
            "Epoch 10/50\n",
            "132/132 [==============================] - 60s 449ms/step - loss: 0.1457 - acc: 0.9484 - val_loss: 0.3659 - val_acc: 0.8223 - lr: 9.0000e-05\n",
            "Epoch 11/50\n",
            "132/132 [==============================] - ETA: 0s - loss: 0.1256 - acc: 0.9615\n",
            "Epoch 11: ReduceLROnPlateau reducing learning rate to 2.700000040931627e-05.\n",
            "132/132 [==============================] - 59s 447ms/step - loss: 0.1256 - acc: 0.9615 - val_loss: 0.3832 - val_acc: 0.8266 - lr: 9.0000e-05\n",
            "Epoch 12/50\n",
            "132/132 [==============================] - 59s 448ms/step - loss: 0.1173 - acc: 0.9646 - val_loss: 0.3983 - val_acc: 0.8330 - lr: 2.7000e-05\n",
            "Epoch 13/50\n",
            "132/132 [==============================] - ETA: 0s - loss: 0.1080 - acc: 0.9722\n",
            "Epoch 13: ReduceLROnPlateau reducing learning rate to 8.100000013655517e-06.\n",
            "132/132 [==============================] - 60s 449ms/step - loss: 0.1080 - acc: 0.9722 - val_loss: 0.3777 - val_acc: 0.8351 - lr: 2.7000e-05\n",
            "Epoch 14/50\n",
            "132/132 [==============================] - 60s 450ms/step - loss: 0.1020 - acc: 0.9755 - val_loss: 0.4107 - val_acc: 0.8351 - lr: 8.1000e-06\n",
            "Epoch 15/50\n",
            "132/132 [==============================] - 61s 461ms/step - loss: 0.1088 - acc: 0.9727 - val_loss: 0.3870 - val_acc: 0.8501 - lr: 8.1000e-06\n",
            "Epoch 16/50\n",
            "132/132 [==============================] - 60s 449ms/step - loss: 0.1026 - acc: 0.9746 - val_loss: 0.4042 - val_acc: 0.8480 - lr: 8.1000e-06\n",
            "Epoch 17/50\n",
            "132/132 [==============================] - ETA: 0s - loss: 0.1040 - acc: 0.9760\n",
            "Epoch 17: ReduceLROnPlateau reducing learning rate to 2.429999949526973e-06.\n",
            "132/132 [==============================] - 60s 450ms/step - loss: 0.1040 - acc: 0.9760 - val_loss: 0.3994 - val_acc: 0.8458 - lr: 8.1000e-06\n",
            "Epoch 18/50\n",
            "132/132 [==============================] - 61s 460ms/step - loss: 0.1036 - acc: 0.9743 - val_loss: 0.3915 - val_acc: 0.8522 - lr: 2.4300e-06\n",
            "Epoch 19/50\n",
            "132/132 [==============================] - 60s 449ms/step - loss: 0.1008 - acc: 0.9748 - val_loss: 0.3921 - val_acc: 0.8501 - lr: 2.4300e-06\n",
            "Epoch 20/50\n",
            "132/132 [==============================] - ETA: 0s - loss: 0.0965 - acc: 0.9769\n",
            "Epoch 20: ReduceLROnPlateau reducing learning rate to 7.289999985005124e-07.\n",
            "132/132 [==============================] - 60s 449ms/step - loss: 0.0965 - acc: 0.9769 - val_loss: 0.4018 - val_acc: 0.8501 - lr: 2.4300e-06\n",
            "Epoch 21/50\n",
            "132/132 [==============================] - 59s 448ms/step - loss: 0.1001 - acc: 0.9762 - val_loss: 0.4236 - val_acc: 0.8373 - lr: 7.2900e-07\n",
            "Epoch 22/50\n",
            "132/132 [==============================] - ETA: 0s - loss: 0.0946 - acc: 0.9795\n",
            "Epoch 22: ReduceLROnPlateau reducing learning rate to 2.1870000637136398e-07.\n",
            "132/132 [==============================] - 60s 450ms/step - loss: 0.0946 - acc: 0.9795 - val_loss: 0.4054 - val_acc: 0.8330 - lr: 7.2900e-07\n",
            "Epoch 23/50\n",
            "132/132 [==============================] - 61s 457ms/step - loss: 0.0913 - acc: 0.9798 - val_loss: 0.3944 - val_acc: 0.8544 - lr: 2.1870e-07\n",
            "Epoch 24/50\n",
            "132/132 [==============================] - 59s 448ms/step - loss: 0.0952 - acc: 0.9795 - val_loss: 0.4249 - val_acc: 0.8458 - lr: 2.1870e-07\n",
            "Epoch 25/50\n",
            "132/132 [==============================] - ETA: 0s - loss: 0.0913 - acc: 0.9807\n",
            "Epoch 25: ReduceLROnPlateau reducing learning rate to 6.561000276406048e-08.\n",
            "132/132 [==============================] - 60s 450ms/step - loss: 0.0913 - acc: 0.9807 - val_loss: 0.4196 - val_acc: 0.8480 - lr: 2.1870e-07\n",
            "Epoch 26/50\n",
            "132/132 [==============================] - 60s 450ms/step - loss: 0.1002 - acc: 0.9772 - val_loss: 0.3974 - val_acc: 0.8394 - lr: 6.5610e-08\n",
            "Epoch 27/50\n",
            "132/132 [==============================] - 61s 462ms/step - loss: 0.0915 - acc: 0.9805 - val_loss: 0.3793 - val_acc: 0.8565 - lr: 6.5610e-08\n",
            "Epoch 28/50\n",
            "132/132 [==============================] - 60s 449ms/step - loss: 0.0927 - acc: 0.9815 - val_loss: 0.4189 - val_acc: 0.8330 - lr: 6.5610e-08\n",
            "Epoch 29/50\n",
            "132/132 [==============================] - 61s 458ms/step - loss: 0.0971 - acc: 0.9788 - val_loss: 0.3777 - val_acc: 0.8587 - lr: 6.5610e-08\n",
            "Epoch 30/50\n",
            "132/132 [==============================] - 59s 446ms/step - loss: 0.0954 - acc: 0.9784 - val_loss: 0.4145 - val_acc: 0.8480 - lr: 6.5610e-08\n",
            "Epoch 31/50\n",
            "132/132 [==============================] - ETA: 0s - loss: 0.0952 - acc: 0.9786\n",
            "Epoch 31: ReduceLROnPlateau reducing learning rate to 1.9683000829218145e-08.\n",
            "132/132 [==============================] - 59s 448ms/step - loss: 0.0952 - acc: 0.9786 - val_loss: 0.4028 - val_acc: 0.8415 - lr: 6.5610e-08\n",
            "Epoch 32/50\n",
            "132/132 [==============================] - 59s 448ms/step - loss: 0.1013 - acc: 0.9774 - val_loss: 0.4151 - val_acc: 0.8330 - lr: 1.9683e-08\n",
            "Epoch 33/50\n",
            "132/132 [==============================] - ETA: 0s - loss: 0.1015 - acc: 0.9748\n",
            "Epoch 33: ReduceLROnPlateau reducing learning rate to 1e-08.\n",
            "132/132 [==============================] - 59s 448ms/step - loss: 0.1015 - acc: 0.9748 - val_loss: 0.3986 - val_acc: 0.8480 - lr: 1.9683e-08\n",
            "Epoch 34/50\n",
            "132/132 [==============================] - 60s 449ms/step - loss: 0.0960 - acc: 0.9769 - val_loss: 0.4023 - val_acc: 0.8565 - lr: 1.0000e-08\n",
            "Epoch 35/50\n",
            "132/132 [==============================] - 60s 449ms/step - loss: 0.0974 - acc: 0.9757 - val_loss: 0.3939 - val_acc: 0.8480 - lr: 1.0000e-08\n",
            "Epoch 36/50\n",
            "132/132 [==============================] - 59s 447ms/step - loss: 0.0957 - acc: 0.9793 - val_loss: 0.4324 - val_acc: 0.8244 - lr: 1.0000e-08\n",
            "Epoch 37/50\n",
            "132/132 [==============================] - 60s 451ms/step - loss: 0.0967 - acc: 0.9798 - val_loss: 0.4211 - val_acc: 0.8394 - lr: 1.0000e-08\n",
            "Epoch 38/50\n",
            "132/132 [==============================] - 59s 448ms/step - loss: 0.0966 - acc: 0.9795 - val_loss: 0.4285 - val_acc: 0.8480 - lr: 1.0000e-08\n",
            "Epoch 39/50\n",
            "132/132 [==============================] - 59s 447ms/step - loss: 0.0972 - acc: 0.9755 - val_loss: 0.4282 - val_acc: 0.8308 - lr: 1.0000e-08\n",
            "Epoch 40/50\n",
            "132/132 [==============================] - 59s 448ms/step - loss: 0.0989 - acc: 0.9762 - val_loss: 0.4299 - val_acc: 0.8330 - lr: 1.0000e-08\n",
            "Epoch 41/50\n",
            "132/132 [==============================] - 60s 449ms/step - loss: 0.1007 - acc: 0.9765 - val_loss: 0.4045 - val_acc: 0.8373 - lr: 1.0000e-08\n",
            "Epoch 42/50\n",
            "132/132 [==============================] - 60s 449ms/step - loss: 0.0962 - acc: 0.9788 - val_loss: 0.4080 - val_acc: 0.8522 - lr: 1.0000e-08\n"
          ]
        }
      ],
      "source": [
        "learning_rate_reduction = ReduceLROnPlateau(monitor='val_acc', patience = 2, verbose=1,factor=0.3, min_lr=0.00000001)\n",
        "chkpt = ModelCheckpoint(filepath='best_model_effB3_1_vol2.hdf5', monitor='val_acc', save_best_only=True, save_weights_only=True)\n",
        "early_stopping = tf.keras.callbacks.EarlyStopping(patience=13, monitor='val_acc', restore_best_weights=True)\n",
        "\n",
        "history31 = model31.fit(train_gen, epochs=50, validation_data=valid_gen, callbacks=[learning_rate_reduction, chkpt, early_stopping])"
      ]
    },
    {
      "cell_type": "code",
      "execution_count": null,
      "metadata": {
        "id": "md6f-KBOdafD"
      },
      "outputs": [],
      "source": [
        "model31.load_weights(\"best_model_effB3_1_vol2.hdf5\")\n",
        "preds = model31.predict(X_test)\n",
        "labelled_preds = one_hot_encoder.inverse_transform(preds)\n",
        "pred = pd.DataFrame(labelled_preds, columns =[\"class_id\"])\n",
        "df = pd.read_csv('submission3.csv')\n",
        "df ['class_id']= pred\n",
        "df.to_csv(\"final_submission65_vol2.csv\", index=False)"
      ]
    },
    {
      "cell_type": "markdown",
      "metadata": {
        "id": "hzZce1zP6shK"
      },
      "source": [
        "32)"
      ]
    },
    {
      "cell_type": "code",
      "execution_count": null,
      "metadata": {
        "id": "TQQvBJDS3KZv"
      },
      "outputs": [],
      "source": [
        "base_model32 = tf.keras.applications.EfficientNetB3(include_top=False,\n",
        "                                     weights='imagenet',\n",
        "                                     input_shape=(224, 224, 3))\n",
        "x = base_model32.output\n",
        "x = tf.keras.layers.GlobalAveragePooling2D()(x)\n",
        "x = Dense(512, activation=None, kernel_regularizer = L1L2(l1=1e-5, l2=1e-3))(x)\n",
        "x = BatchNormalization()(x)\n",
        "x = Activation('swish')(x)\n",
        "x = Dropout(0.5)(x)\n",
        "x = Dense(512, activation=None, kernel_regularizer = L1L2(l1=1e-5, l2=1e-3))(x)\n",
        "x = BatchNormalization()(x)\n",
        "x = Activation('swish')(x)\n",
        "x = Dropout(0.5)(x)\n",
        "ouput1 = Dense(3, activation= 'sigmoid')(x)\n",
        "\n",
        "model32 = Model(inputs=base_model32.input, outputs=ouput1)\n",
        "\n",
        "model32.compile(loss='binary_crossentropy', \n",
        "              optimizer='adam', metrics=['acc'])"
      ]
    },
    {
      "cell_type": "code",
      "execution_count": null,
      "metadata": {
        "colab": {
          "base_uri": "https://localhost:8080/"
        },
        "id": "zpqHUDIS3ITF",
        "outputId": "3a3e2bcf-f47e-4913-f4ef-ca62382aed8d"
      },
      "outputs": [
        {
          "name": "stdout",
          "output_type": "stream",
          "text": [
            "Epoch 1/50\n",
            "132/132 [==============================] - 78s 489ms/step - loss: 1.7552 - acc: 0.7396 - val_loss: 1.4863 - val_acc: 0.7409 - lr: 0.0010\n",
            "Epoch 2/50\n",
            "132/132 [==============================] - 60s 454ms/step - loss: 1.0696 - acc: 0.8000 - val_loss: 0.8772 - val_acc: 0.8158 - lr: 0.0010\n",
            "Epoch 3/50\n",
            "132/132 [==============================] - 61s 459ms/step - loss: 0.6488 - acc: 0.8197 - val_loss: 0.5593 - val_acc: 0.7944 - lr: 0.0010\n",
            "Epoch 4/50\n",
            "132/132 [==============================] - 61s 457ms/step - loss: 0.4568 - acc: 0.8347 - val_loss: 0.4788 - val_acc: 0.7944 - lr: 0.0010\n",
            "Epoch 5/50\n",
            "132/132 [==============================] - 61s 458ms/step - loss: 0.3677 - acc: 0.8376 - val_loss: 0.4429 - val_acc: 0.8030 - lr: 0.0010\n",
            "Epoch 6/50\n",
            "132/132 [==============================] - 61s 459ms/step - loss: 0.3267 - acc: 0.8423 - val_loss: 0.3952 - val_acc: 0.7645 - lr: 0.0010\n",
            "Epoch 7/50\n",
            "132/132 [==============================] - 60s 450ms/step - loss: 0.3035 - acc: 0.8599 - val_loss: 0.4292 - val_acc: 0.7859 - lr: 0.0010\n",
            "Epoch 8/50\n",
            "132/132 [==============================] - ETA: 0s - loss: 0.2800 - acc: 0.8683\n",
            "Epoch 8: ReduceLROnPlateau reducing learning rate to 0.0003000000142492354.\n",
            "132/132 [==============================] - 59s 447ms/step - loss: 0.2800 - acc: 0.8683 - val_loss: 0.4545 - val_acc: 0.7516 - lr: 0.0010\n",
            "Epoch 9/50\n",
            "132/132 [==============================] - 61s 457ms/step - loss: 0.2146 - acc: 0.9037 - val_loss: 0.3358 - val_acc: 0.8244 - lr: 3.0000e-04\n",
            "Epoch 10/50\n",
            "132/132 [==============================] - 61s 458ms/step - loss: 0.1612 - acc: 0.9334 - val_loss: 0.3212 - val_acc: 0.8201 - lr: 3.0000e-04\n",
            "Epoch 11/50\n",
            "132/132 [==============================] - 59s 447ms/step - loss: 0.1450 - acc: 0.9384 - val_loss: 0.3421 - val_acc: 0.8266 - lr: 3.0000e-04\n",
            "Epoch 12/50\n",
            "132/132 [==============================] - ETA: 0s - loss: 0.1284 - acc: 0.9451\n",
            "Epoch 12: ReduceLROnPlateau reducing learning rate to 9.000000427477062e-05.\n",
            "132/132 [==============================] - 59s 447ms/step - loss: 0.1284 - acc: 0.9451 - val_loss: 0.3522 - val_acc: 0.8051 - lr: 3.0000e-04\n",
            "Epoch 13/50\n",
            "132/132 [==============================] - 59s 448ms/step - loss: 0.0948 - acc: 0.9643 - val_loss: 0.3390 - val_acc: 0.8373 - lr: 9.0000e-05\n",
            "Epoch 14/50\n",
            "132/132 [==============================] - ETA: 0s - loss: 0.0757 - acc: 0.9736\n",
            "Epoch 14: ReduceLROnPlateau reducing learning rate to 2.700000040931627e-05.\n",
            "132/132 [==============================] - 59s 446ms/step - loss: 0.0757 - acc: 0.9736 - val_loss: 0.3459 - val_acc: 0.8415 - lr: 9.0000e-05\n",
            "Epoch 15/50\n",
            "132/132 [==============================] - 59s 448ms/step - loss: 0.0722 - acc: 0.9738 - val_loss: 0.3709 - val_acc: 0.8480 - lr: 2.7000e-05\n",
            "Epoch 16/50\n",
            "132/132 [==============================] - ETA: 0s - loss: 0.0609 - acc: 0.9784\n",
            "Epoch 16: ReduceLROnPlateau reducing learning rate to 8.100000013655517e-06.\n",
            "132/132 [==============================] - 59s 448ms/step - loss: 0.0609 - acc: 0.9784 - val_loss: 0.3665 - val_acc: 0.8373 - lr: 2.7000e-05\n",
            "Epoch 17/50\n",
            "132/132 [==============================] - 60s 450ms/step - loss: 0.0580 - acc: 0.9807 - val_loss: 0.3837 - val_acc: 0.8330 - lr: 8.1000e-06\n",
            "Epoch 18/50\n",
            "132/132 [==============================] - ETA: 0s - loss: 0.0566 - acc: 0.9815\n",
            "Epoch 18: ReduceLROnPlateau reducing learning rate to 2.429999949526973e-06.\n",
            "132/132 [==============================] - 60s 449ms/step - loss: 0.0566 - acc: 0.9815 - val_loss: 0.4060 - val_acc: 0.8330 - lr: 8.1000e-06\n",
            "Epoch 19/50\n",
            "132/132 [==============================] - 59s 448ms/step - loss: 0.0587 - acc: 0.9791 - val_loss: 0.3717 - val_acc: 0.8458 - lr: 2.4300e-06\n",
            "Epoch 20/50\n",
            "132/132 [==============================] - ETA: 0s - loss: 0.0566 - acc: 0.9786\n",
            "Epoch 20: ReduceLROnPlateau reducing learning rate to 7.289999985005124e-07.\n",
            "132/132 [==============================] - 60s 449ms/step - loss: 0.0566 - acc: 0.9786 - val_loss: 0.3979 - val_acc: 0.8522 - lr: 2.4300e-06\n",
            "Epoch 21/50\n",
            "132/132 [==============================] - 60s 451ms/step - loss: 0.0505 - acc: 0.9848 - val_loss: 0.3712 - val_acc: 0.8458 - lr: 7.2900e-07\n",
            "Epoch 22/50\n",
            "132/132 [==============================] - ETA: 0s - loss: 0.0524 - acc: 0.9795\n",
            "Epoch 22: ReduceLROnPlateau reducing learning rate to 2.1870000637136398e-07.\n",
            "132/132 [==============================] - 59s 447ms/step - loss: 0.0524 - acc: 0.9795 - val_loss: 0.3453 - val_acc: 0.8651 - lr: 7.2900e-07\n",
            "Epoch 23/50\n",
            "132/132 [==============================] - 60s 449ms/step - loss: 0.0573 - acc: 0.9800 - val_loss: 0.3959 - val_acc: 0.8458 - lr: 2.1870e-07\n"
          ]
        }
      ],
      "source": [
        "learning_rate_reduction = ReduceLROnPlateau(monitor='val_loss', patience = 2, verbose=1,factor=0.3, min_lr=0.00000001)\n",
        "chkpt = ModelCheckpoint(filepath='best_model_effB3_2.hdf5', monitor='val_loss', save_best_only=True, save_weights_only=True)\n",
        "early_stopping = tf.keras.callbacks.EarlyStopping(patience=13, monitor='val_loss', restore_best_weights=True)\n",
        "\n",
        "history32 = model32.fit(train_gen, epochs=50, validation_data=valid_gen, callbacks=[learning_rate_reduction, chkpt, early_stopping])"
      ]
    },
    {
      "cell_type": "code",
      "execution_count": null,
      "metadata": {
        "id": "28ymisEQ3pwJ"
      },
      "outputs": [],
      "source": [
        "model32.load_weights(\"best_model_effB3_2.hdf5\")\n",
        "preds = model32.predict(X_test)\n",
        "labelled_preds = one_hot_encoder.inverse_transform(preds)\n",
        "pred = pd.DataFrame(labelled_preds, columns =[\"class_id\"])\n",
        "df = pd.read_csv('submission3.csv')\n",
        "df ['class_id']= pred\n",
        "df.to_csv(\"final_submission66.csv\", index=False)"
      ]
    },
    {
      "cell_type": "code",
      "execution_count": null,
      "metadata": {
        "colab": {
          "base_uri": "https://localhost:8080/"
        },
        "id": "5T-DE1f4d1mH",
        "outputId": "a00c4017-fda0-405b-bf5f-82fca4c95776"
      },
      "outputs": [
        {
          "name": "stdout",
          "output_type": "stream",
          "text": [
            "Epoch 1/50\n",
            "132/132 [==============================] - 81s 514ms/step - loss: 1.7897 - acc: 0.7356 - val_loss: 1.4909 - val_acc: 0.7816 - lr: 0.0010\n",
            "Epoch 2/50\n",
            "132/132 [==============================] - 59s 446ms/step - loss: 1.1272 - acc: 0.7902 - val_loss: 0.9439 - val_acc: 0.7537 - lr: 0.0010\n",
            "Epoch 3/50\n",
            "132/132 [==============================] - ETA: 0s - loss: 0.7202 - acc: 0.8012\n",
            "Epoch 3: ReduceLROnPlateau reducing learning rate to 0.0003000000142492354.\n",
            "132/132 [==============================] - 59s 446ms/step - loss: 0.7202 - acc: 0.8012 - val_loss: 1.2123 - val_acc: 0.7238 - lr: 0.0010\n",
            "Epoch 4/50\n",
            "132/132 [==============================] - 61s 457ms/step - loss: 0.5031 - acc: 0.8409 - val_loss: 0.5017 - val_acc: 0.8009 - lr: 3.0000e-04\n",
            "Epoch 5/50\n",
            "132/132 [==============================] - 60s 455ms/step - loss: 0.4114 - acc: 0.8623 - val_loss: 0.4491 - val_acc: 0.8137 - lr: 3.0000e-04\n",
            "Epoch 6/50\n",
            "132/132 [==============================] - 61s 459ms/step - loss: 0.3540 - acc: 0.8716 - val_loss: 0.3925 - val_acc: 0.8373 - lr: 3.0000e-04\n",
            "Epoch 7/50\n",
            "132/132 [==============================] - 59s 445ms/step - loss: 0.3055 - acc: 0.8856 - val_loss: 0.3868 - val_acc: 0.8116 - lr: 3.0000e-04\n",
            "Epoch 8/50\n",
            "132/132 [==============================] - ETA: 0s - loss: 0.2676 - acc: 0.8954\n",
            "Epoch 8: ReduceLROnPlateau reducing learning rate to 9.000000427477062e-05.\n",
            "132/132 [==============================] - 59s 447ms/step - loss: 0.2676 - acc: 0.8954 - val_loss: 0.4677 - val_acc: 0.7602 - lr: 3.0000e-04\n",
            "Epoch 9/50\n",
            "132/132 [==============================] - 59s 447ms/step - loss: 0.2047 - acc: 0.9291 - val_loss: 0.3455 - val_acc: 0.8287 - lr: 9.0000e-05\n",
            "Epoch 10/50\n",
            "132/132 [==============================] - ETA: 0s - loss: 0.1813 - acc: 0.9436\n",
            "Epoch 10: ReduceLROnPlateau reducing learning rate to 2.700000040931627e-05.\n",
            "132/132 [==============================] - 59s 446ms/step - loss: 0.1813 - acc: 0.9436 - val_loss: 0.3488 - val_acc: 0.8351 - lr: 9.0000e-05\n",
            "Epoch 11/50\n",
            "132/132 [==============================] - 59s 448ms/step - loss: 0.1567 - acc: 0.9493 - val_loss: 0.3704 - val_acc: 0.8330 - lr: 2.7000e-05\n",
            "Epoch 12/50\n",
            "132/132 [==============================] - ETA: 0s - loss: 0.1407 - acc: 0.9665\n",
            "Epoch 12: ReduceLROnPlateau reducing learning rate to 8.100000013655517e-06.\n",
            "132/132 [==============================] - 59s 446ms/step - loss: 0.1407 - acc: 0.9665 - val_loss: 0.3985 - val_acc: 0.8266 - lr: 2.7000e-05\n",
            "Epoch 13/50\n",
            "132/132 [==============================] - 59s 445ms/step - loss: 0.1292 - acc: 0.9677 - val_loss: 0.3962 - val_acc: 0.8223 - lr: 8.1000e-06\n",
            "Epoch 14/50\n",
            "132/132 [==============================] - ETA: 0s - loss: 0.1309 - acc: 0.9660\n",
            "Epoch 14: ReduceLROnPlateau reducing learning rate to 2.429999949526973e-06.\n",
            "132/132 [==============================] - 59s 445ms/step - loss: 0.1309 - acc: 0.9660 - val_loss: 0.3955 - val_acc: 0.8308 - lr: 8.1000e-06\n",
            "Epoch 15/50\n",
            "132/132 [==============================] - 61s 457ms/step - loss: 0.1253 - acc: 0.9672 - val_loss: 0.3910 - val_acc: 0.8415 - lr: 2.4300e-06\n",
            "Epoch 16/50\n",
            "132/132 [==============================] - 59s 447ms/step - loss: 0.1206 - acc: 0.9738 - val_loss: 0.4186 - val_acc: 0.8223 - lr: 2.4300e-06\n",
            "Epoch 17/50\n",
            "132/132 [==============================] - ETA: 0s - loss: 0.1262 - acc: 0.9658\n",
            "Epoch 17: ReduceLROnPlateau reducing learning rate to 7.289999985005124e-07.\n",
            "132/132 [==============================] - 59s 447ms/step - loss: 0.1262 - acc: 0.9658 - val_loss: 0.4044 - val_acc: 0.8373 - lr: 2.4300e-06\n",
            "Epoch 18/50\n",
            "132/132 [==============================] - 59s 445ms/step - loss: 0.1237 - acc: 0.9679 - val_loss: 0.4076 - val_acc: 0.8330 - lr: 7.2900e-07\n",
            "Epoch 19/50\n",
            "132/132 [==============================] - ETA: 0s - loss: 0.1194 - acc: 0.9712\n",
            "Epoch 19: ReduceLROnPlateau reducing learning rate to 2.1870000637136398e-07.\n",
            "132/132 [==============================] - 59s 445ms/step - loss: 0.1194 - acc: 0.9712 - val_loss: 0.4188 - val_acc: 0.8244 - lr: 7.2900e-07\n",
            "Epoch 20/50\n",
            "132/132 [==============================] - 59s 446ms/step - loss: 0.1263 - acc: 0.9679 - val_loss: 0.4064 - val_acc: 0.8308 - lr: 2.1870e-07\n",
            "Epoch 21/50\n",
            "132/132 [==============================] - ETA: 0s - loss: 0.1242 - acc: 0.9703\n",
            "Epoch 21: ReduceLROnPlateau reducing learning rate to 6.561000276406048e-08.\n",
            "132/132 [==============================] - 59s 448ms/step - loss: 0.1242 - acc: 0.9703 - val_loss: 0.4071 - val_acc: 0.8308 - lr: 2.1870e-07\n",
            "Epoch 22/50\n",
            "132/132 [==============================] - 59s 446ms/step - loss: 0.1216 - acc: 0.9698 - val_loss: 0.4352 - val_acc: 0.8394 - lr: 6.5610e-08\n",
            "Epoch 23/50\n",
            "132/132 [==============================] - ETA: 0s - loss: 0.1236 - acc: 0.9686\n",
            "Epoch 23: ReduceLROnPlateau reducing learning rate to 1.9683000829218145e-08.\n",
            "132/132 [==============================] - 59s 445ms/step - loss: 0.1236 - acc: 0.9686 - val_loss: 0.4127 - val_acc: 0.8287 - lr: 6.5610e-08\n",
            "Epoch 24/50\n",
            "132/132 [==============================] - 59s 446ms/step - loss: 0.1224 - acc: 0.9688 - val_loss: 0.4060 - val_acc: 0.8244 - lr: 1.9683e-08\n",
            "Epoch 25/50\n",
            "132/132 [==============================] - 61s 459ms/step - loss: 0.1220 - acc: 0.9707 - val_loss: 0.4013 - val_acc: 0.8458 - lr: 1.9683e-08\n",
            "Epoch 26/50\n",
            "132/132 [==============================] - 59s 446ms/step - loss: 0.1314 - acc: 0.9634 - val_loss: 0.4063 - val_acc: 0.8373 - lr: 1.9683e-08\n",
            "Epoch 27/50\n",
            "132/132 [==============================] - ETA: 0s - loss: 0.1263 - acc: 0.9658\n",
            "Epoch 27: ReduceLROnPlateau reducing learning rate to 1e-08.\n",
            "132/132 [==============================] - 59s 445ms/step - loss: 0.1263 - acc: 0.9658 - val_loss: 0.4097 - val_acc: 0.8330 - lr: 1.9683e-08\n",
            "Epoch 28/50\n",
            "132/132 [==============================] - 59s 447ms/step - loss: 0.1212 - acc: 0.9691 - val_loss: 0.4123 - val_acc: 0.8287 - lr: 1.0000e-08\n",
            "Epoch 29/50\n",
            "132/132 [==============================] - 59s 445ms/step - loss: 0.1220 - acc: 0.9705 - val_loss: 0.4104 - val_acc: 0.8308 - lr: 1.0000e-08\n",
            "Epoch 30/50\n",
            "132/132 [==============================] - 59s 447ms/step - loss: 0.1212 - acc: 0.9693 - val_loss: 0.4234 - val_acc: 0.8415 - lr: 1.0000e-08\n",
            "Epoch 31/50\n",
            "132/132 [==============================] - 59s 446ms/step - loss: 0.1176 - acc: 0.9715 - val_loss: 0.4018 - val_acc: 0.8415 - lr: 1.0000e-08\n",
            "Epoch 32/50\n",
            "132/132 [==============================] - 59s 445ms/step - loss: 0.1243 - acc: 0.9686 - val_loss: 0.4194 - val_acc: 0.8394 - lr: 1.0000e-08\n",
            "Epoch 33/50\n",
            "132/132 [==============================] - 59s 447ms/step - loss: 0.1255 - acc: 0.9681 - val_loss: 0.4229 - val_acc: 0.8351 - lr: 1.0000e-08\n",
            "Epoch 34/50\n",
            "132/132 [==============================] - 60s 456ms/step - loss: 0.1296 - acc: 0.9639 - val_loss: 0.3772 - val_acc: 0.8501 - lr: 1.0000e-08\n",
            "Epoch 35/50\n",
            "132/132 [==============================] - 59s 444ms/step - loss: 0.1269 - acc: 0.9686 - val_loss: 0.4329 - val_acc: 0.8287 - lr: 1.0000e-08\n",
            "Epoch 36/50\n",
            "132/132 [==============================] - 59s 445ms/step - loss: 0.1222 - acc: 0.9707 - val_loss: 0.4020 - val_acc: 0.8415 - lr: 1.0000e-08\n",
            "Epoch 37/50\n",
            "132/132 [==============================] - 59s 447ms/step - loss: 0.1190 - acc: 0.9729 - val_loss: 0.4448 - val_acc: 0.8244 - lr: 1.0000e-08\n",
            "Epoch 38/50\n",
            "132/132 [==============================] - 59s 447ms/step - loss: 0.1240 - acc: 0.9691 - val_loss: 0.3997 - val_acc: 0.8287 - lr: 1.0000e-08\n",
            "Epoch 39/50\n",
            "132/132 [==============================] - 59s 446ms/step - loss: 0.1246 - acc: 0.9686 - val_loss: 0.4466 - val_acc: 0.8373 - lr: 1.0000e-08\n",
            "Epoch 40/50\n",
            "132/132 [==============================] - 59s 445ms/step - loss: 0.1255 - acc: 0.9698 - val_loss: 0.4102 - val_acc: 0.8266 - lr: 1.0000e-08\n",
            "Epoch 41/50\n",
            "132/132 [==============================] - 59s 447ms/step - loss: 0.1233 - acc: 0.9719 - val_loss: 0.4100 - val_acc: 0.8308 - lr: 1.0000e-08\n",
            "Epoch 42/50\n",
            "132/132 [==============================] - 61s 458ms/step - loss: 0.1244 - acc: 0.9684 - val_loss: 0.3878 - val_acc: 0.8522 - lr: 1.0000e-08\n",
            "Epoch 43/50\n",
            "132/132 [==============================] - 59s 448ms/step - loss: 0.1222 - acc: 0.9691 - val_loss: 0.3993 - val_acc: 0.8415 - lr: 1.0000e-08\n",
            "Epoch 44/50\n",
            "132/132 [==============================] - 59s 447ms/step - loss: 0.1267 - acc: 0.9686 - val_loss: 0.3840 - val_acc: 0.8501 - lr: 1.0000e-08\n",
            "Epoch 45/50\n",
            "132/132 [==============================] - 59s 445ms/step - loss: 0.1265 - acc: 0.9677 - val_loss: 0.3904 - val_acc: 0.8394 - lr: 1.0000e-08\n",
            "Epoch 46/50\n",
            "132/132 [==============================] - 59s 444ms/step - loss: 0.1256 - acc: 0.9686 - val_loss: 0.4190 - val_acc: 0.8394 - lr: 1.0000e-08\n",
            "Epoch 47/50\n",
            "132/132 [==============================] - 59s 446ms/step - loss: 0.1268 - acc: 0.9660 - val_loss: 0.4203 - val_acc: 0.8223 - lr: 1.0000e-08\n",
            "Epoch 48/50\n",
            "132/132 [==============================] - 59s 446ms/step - loss: 0.1209 - acc: 0.9712 - val_loss: 0.4266 - val_acc: 0.8373 - lr: 1.0000e-08\n",
            "Epoch 49/50\n",
            "132/132 [==============================] - 59s 446ms/step - loss: 0.1236 - acc: 0.9684 - val_loss: 0.4040 - val_acc: 0.8373 - lr: 1.0000e-08\n",
            "Epoch 50/50\n",
            "132/132 [==============================] - 59s 446ms/step - loss: 0.1285 - acc: 0.9650 - val_loss: 0.4003 - val_acc: 0.8437 - lr: 1.0000e-08\n"
          ]
        }
      ],
      "source": [
        "learning_rate_reduction = ReduceLROnPlateau(monitor='val_acc', patience = 2, verbose=1,factor=0.3, min_lr=0.00000001)\n",
        "chkpt = ModelCheckpoint(filepath='best_model_effB3_2_vol2.hdf5', monitor='val_acc', save_best_only=True, save_weights_only=True)\n",
        "early_stopping = tf.keras.callbacks.EarlyStopping(patience=13, monitor='val_acc', restore_best_weights=True)\n",
        "\n",
        "history32 = model32.fit(train_gen, epochs=50, validation_data=valid_gen, callbacks=[learning_rate_reduction, chkpt, early_stopping])"
      ]
    },
    {
      "cell_type": "code",
      "execution_count": null,
      "metadata": {
        "id": "AkEprY6yd1o_"
      },
      "outputs": [],
      "source": [
        "model32.load_weights(\"best_model_effB3_2_vol2.hdf5\")\n",
        "preds = model32.predict(X_test)\n",
        "labelled_preds = one_hot_encoder.inverse_transform(preds)\n",
        "pred = pd.DataFrame(labelled_preds, columns =[\"class_id\"])\n",
        "df = pd.read_csv('submission3.csv')\n",
        "df ['class_id']= pred\n",
        "df.to_csv(\"final_submission66_vol2.csv\", index=False)"
      ]
    },
    {
      "cell_type": "markdown",
      "metadata": {
        "id": "bLbneLbW4yDt"
      },
      "source": [
        "33)"
      ]
    },
    {
      "cell_type": "code",
      "execution_count": null,
      "metadata": {
        "id": "BHZV8m7M41-S"
      },
      "outputs": [],
      "source": [
        "base_model33 = tf.keras.applications.EfficientNetB3(include_top=False,\n",
        "                                     weights='imagenet',\n",
        "                                     input_shape=(224, 224, 3))\n",
        "x = base_model33.output\n",
        "x = tf.keras.layers.GlobalAveragePooling2D()(x)\n",
        "x = Dense(512, activation=None, kernel_regularizer = L1L2(l1=1e-5, l2=1e-3))(x)\n",
        "x = BatchNormalization()(x)\n",
        "x = Activation('swish')(x)\n",
        "x = Dropout(0.5)(x)\n",
        "x = Dense(256, activation=None, kernel_regularizer = L1L2(l1=1e-5, l2=1e-3))(x)\n",
        "x = BatchNormalization()(x)\n",
        "x = Activation('swish')(x)\n",
        "x = Dropout(0.5)(x)\n",
        "ouput1 = Dense(3, activation= 'softmax')(x)\n",
        "\n",
        "model33 = Model(inputs=base_model33.input, outputs=ouput1)\n",
        "\n",
        "model33.compile(loss='binary_crossentropy', \n",
        "              optimizer='adam', metrics=['acc'])"
      ]
    },
    {
      "cell_type": "code",
      "execution_count": null,
      "metadata": {
        "colab": {
          "base_uri": "https://localhost:8080/"
        },
        "id": "xH0GTPz942Ec",
        "outputId": "92474e8c-fcba-4738-c786-20416157c4a1"
      },
      "outputs": [
        {
          "name": "stdout",
          "output_type": "stream",
          "text": [
            "Epoch 1/50\n",
            "132/132 [==============================] - 80s 494ms/step - loss: 1.5700 - acc: 0.7484 - val_loss: 1.4567 - val_acc: 0.5246 - lr: 0.0010\n",
            "Epoch 2/50\n",
            "132/132 [==============================] - 61s 458ms/step - loss: 0.9561 - acc: 0.7902 - val_loss: 0.7686 - val_acc: 0.8051 - lr: 0.0010\n",
            "Epoch 3/50\n",
            "132/132 [==============================] - 61s 459ms/step - loss: 0.5940 - acc: 0.8214 - val_loss: 0.5365 - val_acc: 0.7859 - lr: 0.0010\n",
            "Epoch 4/50\n",
            "132/132 [==============================] - 61s 457ms/step - loss: 0.4543 - acc: 0.8228 - val_loss: 0.4306 - val_acc: 0.7923 - lr: 0.0010\n",
            "Epoch 5/50\n",
            "132/132 [==============================] - 61s 460ms/step - loss: 0.3690 - acc: 0.8309 - val_loss: 0.3772 - val_acc: 0.7966 - lr: 0.0010\n",
            "Epoch 6/50\n",
            "132/132 [==============================] - 61s 460ms/step - loss: 0.3183 - acc: 0.8366 - val_loss: 0.3657 - val_acc: 0.7816 - lr: 0.0010\n",
            "Epoch 7/50\n",
            "132/132 [==============================] - 60s 449ms/step - loss: 0.3017 - acc: 0.8559 - val_loss: 0.3994 - val_acc: 0.7602 - lr: 0.0010\n",
            "Epoch 8/50\n",
            "132/132 [==============================] - 61s 459ms/step - loss: 0.2801 - acc: 0.8587 - val_loss: 0.3319 - val_acc: 0.7966 - lr: 0.0010\n",
            "Epoch 9/50\n",
            "132/132 [==============================] - 60s 449ms/step - loss: 0.2597 - acc: 0.8711 - val_loss: 0.4640 - val_acc: 0.7537 - lr: 0.0010\n",
            "Epoch 10/50\n",
            "132/132 [==============================] - ETA: 0s - loss: 0.2495 - acc: 0.8780\n",
            "Epoch 10: ReduceLROnPlateau reducing learning rate to 0.0003000000142492354.\n",
            "132/132 [==============================] - 60s 449ms/step - loss: 0.2495 - acc: 0.8780 - val_loss: 0.4206 - val_acc: 0.7923 - lr: 0.0010\n",
            "Epoch 11/50\n",
            "132/132 [==============================] - 60s 449ms/step - loss: 0.1820 - acc: 0.9163 - val_loss: 0.3321 - val_acc: 0.8158 - lr: 3.0000e-04\n",
            "Epoch 12/50\n",
            "132/132 [==============================] - ETA: 0s - loss: 0.1386 - acc: 0.9401\n",
            "Epoch 12: ReduceLROnPlateau reducing learning rate to 9.000000427477062e-05.\n",
            "132/132 [==============================] - 60s 449ms/step - loss: 0.1386 - acc: 0.9401 - val_loss: 0.3678 - val_acc: 0.8009 - lr: 3.0000e-04\n",
            "Epoch 13/50\n",
            "132/132 [==============================] - 61s 460ms/step - loss: 0.1099 - acc: 0.9541 - val_loss: 0.2969 - val_acc: 0.8287 - lr: 9.0000e-05\n",
            "Epoch 14/50\n",
            "132/132 [==============================] - 60s 449ms/step - loss: 0.0861 - acc: 0.9667 - val_loss: 0.3235 - val_acc: 0.8287 - lr: 9.0000e-05\n",
            "Epoch 15/50\n",
            "132/132 [==============================] - ETA: 0s - loss: 0.0807 - acc: 0.9655\n",
            "Epoch 15: ReduceLROnPlateau reducing learning rate to 2.700000040931627e-05.\n",
            "132/132 [==============================] - 59s 447ms/step - loss: 0.0807 - acc: 0.9655 - val_loss: 0.3182 - val_acc: 0.8480 - lr: 9.0000e-05\n",
            "Epoch 16/50\n",
            "132/132 [==============================] - 60s 450ms/step - loss: 0.0699 - acc: 0.9748 - val_loss: 0.3382 - val_acc: 0.8351 - lr: 2.7000e-05\n",
            "Epoch 17/50\n",
            "132/132 [==============================] - ETA: 0s - loss: 0.0687 - acc: 0.9762\n",
            "Epoch 17: ReduceLROnPlateau reducing learning rate to 8.100000013655517e-06.\n",
            "132/132 [==============================] - 59s 448ms/step - loss: 0.0687 - acc: 0.9762 - val_loss: 0.3314 - val_acc: 0.8437 - lr: 2.7000e-05\n",
            "Epoch 18/50\n",
            "132/132 [==============================] - 59s 448ms/step - loss: 0.0623 - acc: 0.9793 - val_loss: 0.3570 - val_acc: 0.8373 - lr: 8.1000e-06\n",
            "Epoch 19/50\n",
            "132/132 [==============================] - ETA: 0s - loss: 0.0622 - acc: 0.9774\n",
            "Epoch 19: ReduceLROnPlateau reducing learning rate to 2.429999949526973e-06.\n",
            "132/132 [==============================] - 60s 449ms/step - loss: 0.0622 - acc: 0.9774 - val_loss: 0.3367 - val_acc: 0.8544 - lr: 8.1000e-06\n",
            "Epoch 20/50\n",
            "132/132 [==============================] - 60s 450ms/step - loss: 0.0627 - acc: 0.9776 - val_loss: 0.3633 - val_acc: 0.8373 - lr: 2.4300e-06\n",
            "Epoch 21/50\n",
            "132/132 [==============================] - ETA: 0s - loss: 0.0647 - acc: 0.9765\n",
            "Epoch 21: ReduceLROnPlateau reducing learning rate to 7.289999985005124e-07.\n",
            "132/132 [==============================] - 59s 448ms/step - loss: 0.0647 - acc: 0.9765 - val_loss: 0.3384 - val_acc: 0.8565 - lr: 2.4300e-06\n",
            "Epoch 22/50\n",
            "132/132 [==============================] - 60s 450ms/step - loss: 0.0587 - acc: 0.9805 - val_loss: 0.3307 - val_acc: 0.8480 - lr: 7.2900e-07\n",
            "Epoch 23/50\n",
            "132/132 [==============================] - ETA: 0s - loss: 0.0612 - acc: 0.9767\n",
            "Epoch 23: ReduceLROnPlateau reducing learning rate to 2.1870000637136398e-07.\n",
            "132/132 [==============================] - 60s 450ms/step - loss: 0.0612 - acc: 0.9767 - val_loss: 0.3629 - val_acc: 0.8351 - lr: 7.2900e-07\n",
            "Epoch 24/50\n",
            "132/132 [==============================] - 60s 450ms/step - loss: 0.0618 - acc: 0.9769 - val_loss: 0.3136 - val_acc: 0.8522 - lr: 2.1870e-07\n",
            "Epoch 25/50\n",
            "132/132 [==============================] - ETA: 0s - loss: 0.0587 - acc: 0.9800\n",
            "Epoch 25: ReduceLROnPlateau reducing learning rate to 6.561000276406048e-08.\n",
            "132/132 [==============================] - 59s 448ms/step - loss: 0.0587 - acc: 0.9800 - val_loss: 0.3307 - val_acc: 0.8394 - lr: 2.1870e-07\n",
            "Epoch 26/50\n",
            "132/132 [==============================] - 60s 449ms/step - loss: 0.0615 - acc: 0.9769 - val_loss: 0.3449 - val_acc: 0.8437 - lr: 6.5610e-08\n"
          ]
        }
      ],
      "source": [
        "learning_rate_reduction = ReduceLROnPlateau(monitor='val_loss', patience = 2, verbose=1,factor=0.3, min_lr=0.00000001)\n",
        "chkpt = ModelCheckpoint(filepath='best_model_effB3_3.hdf5', monitor='val_loss', save_best_only=True, save_weights_only=True)\n",
        "early_stopping = tf.keras.callbacks.EarlyStopping(patience=13, monitor='val_loss', restore_best_weights=True)\n",
        "\n",
        "history33 = model33.fit(train_gen, epochs=50, validation_data=valid_gen, callbacks=[learning_rate_reduction, chkpt, early_stopping])"
      ]
    },
    {
      "cell_type": "code",
      "execution_count": null,
      "metadata": {
        "id": "93_-Cer_5H5a"
      },
      "outputs": [],
      "source": [
        "model33.load_weights(\"best_model_effB3_3.hdf5\")\n",
        "preds = model33.predict(X_test)\n",
        "labelled_preds = one_hot_encoder.inverse_transform(preds)\n",
        "pred = pd.DataFrame(labelled_preds, columns =[\"class_id\"])\n",
        "df = pd.read_csv('submission3.csv')\n",
        "df ['class_id']= pred\n",
        "df.to_csv(\"final_submission67.csv\", index=False)"
      ]
    },
    {
      "cell_type": "code",
      "execution_count": null,
      "metadata": {
        "colab": {
          "base_uri": "https://localhost:8080/"
        },
        "id": "ld2UJ8lPpk-O",
        "outputId": "e7d6d4b7-b056-4ad6-d3ea-c9e37c04dea7"
      },
      "outputs": [
        {
          "name": "stdout",
          "output_type": "stream",
          "text": [
            "Epoch 1/50\n",
            "132/132 [==============================] - 76s 473ms/step - loss: 1.5697 - acc: 0.7398 - val_loss: 1.2292 - val_acc: 0.8094 - lr: 0.0010\n",
            "Epoch 2/50\n",
            "132/132 [==============================] - 59s 448ms/step - loss: 0.9530 - acc: 0.7960 - val_loss: 0.8177 - val_acc: 0.7987 - lr: 0.0010\n",
            "Epoch 3/50\n",
            "132/132 [==============================] - ETA: 0s - loss: 0.5973 - acc: 0.8205\n",
            "Epoch 3: ReduceLROnPlateau reducing learning rate to 0.0003000000142492354.\n",
            "132/132 [==============================] - 59s 448ms/step - loss: 0.5973 - acc: 0.8205 - val_loss: 0.6276 - val_acc: 0.7452 - lr: 0.0010\n",
            "Epoch 4/50\n",
            "132/132 [==============================] - 61s 461ms/step - loss: 0.4285 - acc: 0.8523 - val_loss: 0.4241 - val_acc: 0.8308 - lr: 3.0000e-04\n",
            "Epoch 5/50\n",
            "132/132 [==============================] - 59s 446ms/step - loss: 0.3631 - acc: 0.8683 - val_loss: 0.4132 - val_acc: 0.8223 - lr: 3.0000e-04\n",
            "Epoch 6/50\n",
            "132/132 [==============================] - ETA: 0s - loss: 0.3136 - acc: 0.8873\n",
            "Epoch 6: ReduceLROnPlateau reducing learning rate to 9.000000427477062e-05.\n",
            "132/132 [==============================] - 59s 447ms/step - loss: 0.3136 - acc: 0.8873 - val_loss: 0.4432 - val_acc: 0.7944 - lr: 3.0000e-04\n",
            "Epoch 7/50\n",
            "132/132 [==============================] - 61s 460ms/step - loss: 0.2526 - acc: 0.9151 - val_loss: 0.3494 - val_acc: 0.8437 - lr: 9.0000e-05\n",
            "Epoch 8/50\n",
            "132/132 [==============================] - 60s 449ms/step - loss: 0.2278 - acc: 0.9279 - val_loss: 0.3702 - val_acc: 0.8223 - lr: 9.0000e-05\n",
            "Epoch 9/50\n",
            "132/132 [==============================] - ETA: 0s - loss: 0.2055 - acc: 0.9317\n",
            "Epoch 9: ReduceLROnPlateau reducing learning rate to 2.700000040931627e-05.\n",
            "132/132 [==============================] - 59s 447ms/step - loss: 0.2055 - acc: 0.9317 - val_loss: 0.3711 - val_acc: 0.8308 - lr: 9.0000e-05\n",
            "Epoch 10/50\n",
            "132/132 [==============================] - 61s 458ms/step - loss: 0.1803 - acc: 0.9510 - val_loss: 0.3489 - val_acc: 0.8501 - lr: 2.7000e-05\n",
            "Epoch 11/50\n",
            "132/132 [==============================] - 59s 448ms/step - loss: 0.1738 - acc: 0.9484 - val_loss: 0.3324 - val_acc: 0.8415 - lr: 2.7000e-05\n",
            "Epoch 12/50\n",
            "132/132 [==============================] - ETA: 0s - loss: 0.1629 - acc: 0.9572\n",
            "Epoch 12: ReduceLROnPlateau reducing learning rate to 8.100000013655517e-06.\n",
            "132/132 [==============================] - 59s 448ms/step - loss: 0.1629 - acc: 0.9572 - val_loss: 0.3698 - val_acc: 0.8415 - lr: 2.7000e-05\n",
            "Epoch 13/50\n",
            "132/132 [==============================] - 59s 446ms/step - loss: 0.1448 - acc: 0.9639 - val_loss: 0.4134 - val_acc: 0.8351 - lr: 8.1000e-06\n",
            "Epoch 14/50\n",
            "132/132 [==============================] - 61s 459ms/step - loss: 0.1555 - acc: 0.9593 - val_loss: 0.3658 - val_acc: 0.8522 - lr: 8.1000e-06\n",
            "Epoch 15/50\n",
            "132/132 [==============================] - 61s 458ms/step - loss: 0.1508 - acc: 0.9636 - val_loss: 0.3561 - val_acc: 0.8544 - lr: 8.1000e-06\n",
            "Epoch 16/50\n",
            "132/132 [==============================] - 59s 448ms/step - loss: 0.1482 - acc: 0.9646 - val_loss: 0.3821 - val_acc: 0.8415 - lr: 8.1000e-06\n",
            "Epoch 17/50\n",
            "132/132 [==============================] - ETA: 0s - loss: 0.1449 - acc: 0.9653\n",
            "Epoch 17: ReduceLROnPlateau reducing learning rate to 2.429999949526973e-06.\n",
            "132/132 [==============================] - 59s 447ms/step - loss: 0.1449 - acc: 0.9653 - val_loss: 0.3751 - val_acc: 0.8394 - lr: 8.1000e-06\n",
            "Epoch 18/50\n",
            "132/132 [==============================] - 59s 448ms/step - loss: 0.1443 - acc: 0.9650 - val_loss: 0.3621 - val_acc: 0.8522 - lr: 2.4300e-06\n",
            "Epoch 19/50\n",
            "132/132 [==============================] - ETA: 0s - loss: 0.1394 - acc: 0.9660\n",
            "Epoch 19: ReduceLROnPlateau reducing learning rate to 7.289999985005124e-07.\n",
            "132/132 [==============================] - 60s 450ms/step - loss: 0.1394 - acc: 0.9660 - val_loss: 0.4035 - val_acc: 0.8330 - lr: 2.4300e-06\n",
            "Epoch 20/50\n",
            "132/132 [==============================] - 59s 447ms/step - loss: 0.1443 - acc: 0.9629 - val_loss: 0.3655 - val_acc: 0.8437 - lr: 7.2900e-07\n",
            "Epoch 21/50\n",
            "132/132 [==============================] - ETA: 0s - loss: 0.1394 - acc: 0.9674\n",
            "Epoch 21: ReduceLROnPlateau reducing learning rate to 2.1870000637136398e-07.\n",
            "132/132 [==============================] - 60s 449ms/step - loss: 0.1394 - acc: 0.9674 - val_loss: 0.3994 - val_acc: 0.8373 - lr: 7.2900e-07\n",
            "Epoch 22/50\n",
            "132/132 [==============================] - 59s 446ms/step - loss: 0.1374 - acc: 0.9662 - val_loss: 0.3951 - val_acc: 0.8330 - lr: 2.1870e-07\n",
            "Epoch 23/50\n",
            "132/132 [==============================] - ETA: 0s - loss: 0.1364 - acc: 0.9693\n",
            "Epoch 23: ReduceLROnPlateau reducing learning rate to 6.561000276406048e-08.\n",
            "132/132 [==============================] - 60s 449ms/step - loss: 0.1364 - acc: 0.9693 - val_loss: 0.3898 - val_acc: 0.8437 - lr: 2.1870e-07\n",
            "Epoch 24/50\n",
            "132/132 [==============================] - 59s 448ms/step - loss: 0.1393 - acc: 0.9703 - val_loss: 0.3659 - val_acc: 0.8501 - lr: 6.5610e-08\n",
            "Epoch 25/50\n",
            "132/132 [==============================] - ETA: 0s - loss: 0.1392 - acc: 0.9679\n",
            "Epoch 25: ReduceLROnPlateau reducing learning rate to 1.9683000829218145e-08.\n",
            "132/132 [==============================] - 60s 451ms/step - loss: 0.1392 - acc: 0.9679 - val_loss: 0.4166 - val_acc: 0.8330 - lr: 6.5610e-08\n",
            "Epoch 26/50\n",
            "132/132 [==============================] - 59s 447ms/step - loss: 0.1419 - acc: 0.9669 - val_loss: 0.3675 - val_acc: 0.8544 - lr: 1.9683e-08\n",
            "Epoch 27/50\n",
            "132/132 [==============================] - ETA: 0s - loss: 0.1385 - acc: 0.9646\n",
            "Epoch 27: ReduceLROnPlateau reducing learning rate to 1e-08.\n",
            "132/132 [==============================] - 60s 449ms/step - loss: 0.1385 - acc: 0.9646 - val_loss: 0.3860 - val_acc: 0.8330 - lr: 1.9683e-08\n",
            "Epoch 28/50\n",
            "132/132 [==============================] - 60s 451ms/step - loss: 0.1400 - acc: 0.9612 - val_loss: 0.3779 - val_acc: 0.8287 - lr: 1.0000e-08\n"
          ]
        }
      ],
      "source": [
        "learning_rate_reduction = ReduceLROnPlateau(monitor='val_acc', patience = 2, verbose=1,factor=0.3, min_lr=0.00000001)\n",
        "chkpt = ModelCheckpoint(filepath='best_model_effB3_3_vol2.hdf5', monitor='val_acc', save_best_only=True, save_weights_only=True)\n",
        "early_stopping = tf.keras.callbacks.EarlyStopping(patience=13, monitor='val_acc', restore_best_weights=True)\n",
        "\n",
        "history33 = model33.fit(train_gen, epochs=50, validation_data=valid_gen, callbacks=[learning_rate_reduction, chkpt, early_stopping])"
      ]
    },
    {
      "cell_type": "code",
      "execution_count": null,
      "metadata": {
        "id": "GNy5hh2NplB5"
      },
      "outputs": [],
      "source": [
        "model33.load_weights(\"best_model_effB3_3_vol2.hdf5\")\n",
        "preds = model33.predict(X_test)\n",
        "labelled_preds = one_hot_encoder.inverse_transform(preds)\n",
        "pred = pd.DataFrame(labelled_preds, columns =[\"class_id\"])\n",
        "df = pd.read_csv('submission3.csv')\n",
        "df ['class_id']= pred\n",
        "df.to_csv(\"final_submission67_vol2.csv\", index=False)"
      ]
    },
    {
      "cell_type": "markdown",
      "metadata": {
        "id": "QxajfbxX6JXv"
      },
      "source": [
        "34)"
      ]
    },
    {
      "cell_type": "code",
      "execution_count": null,
      "metadata": {
        "id": "F-_KfCKa6JDG"
      },
      "outputs": [],
      "source": [
        "base_model34 = tf.keras.applications.EfficientNetB3(include_top=False,\n",
        "                                     weights='imagenet',\n",
        "                                     input_shape=(224, 224, 3))\n",
        "x = base_model34.output\n",
        "x = tf.keras.layers.GlobalAveragePooling2D()(x)\n",
        "x = Dense(256, activation=None, kernel_regularizer = L1L2(l1=1e-5, l2=1e-3))(x)\n",
        "x = BatchNormalization()(x)\n",
        "x = Activation('swish')(x)\n",
        "x = Dropout(0.3)(x)\n",
        "x = Dense(256, activation=None, kernel_regularizer = L1L2(l1=1e-5, l2=1e-3))(x)\n",
        "x = BatchNormalization()(x)\n",
        "x = Activation('swish')(x)\n",
        "x = Dropout(0.3)(x)\n",
        "ouput1 = Dense(3, activation= 'softmax')(x)\n",
        "\n",
        "model34 = Model(inputs=base_model34.input, outputs=ouput1)\n",
        "\n",
        "model34.compile(loss='binary_crossentropy', \n",
        "              optimizer='adam', metrics=['acc'])"
      ]
    },
    {
      "cell_type": "code",
      "execution_count": null,
      "metadata": {
        "colab": {
          "base_uri": "https://localhost:8080/"
        },
        "id": "6zIF1W1m6aAy",
        "outputId": "52385f28-376c-4da0-e518-a253cd64fa3d"
      },
      "outputs": [
        {
          "name": "stdout",
          "output_type": "stream",
          "text": [
            "Epoch 1/50\n",
            "132/132 [==============================] - 77s 473ms/step - loss: 1.1164 - acc: 0.7432 - val_loss: 1.2949 - val_acc: 0.6081 - lr: 0.0010\n",
            "Epoch 2/50\n",
            "132/132 [==============================] - 61s 456ms/step - loss: 0.7312 - acc: 0.7924 - val_loss: 0.7025 - val_acc: 0.7537 - lr: 0.0010\n",
            "Epoch 3/50\n",
            "132/132 [==============================] - 60s 455ms/step - loss: 0.4956 - acc: 0.8205 - val_loss: 0.4583 - val_acc: 0.7923 - lr: 0.0010\n",
            "Epoch 4/50\n",
            "132/132 [==============================] - 61s 460ms/step - loss: 0.3907 - acc: 0.8283 - val_loss: 0.3841 - val_acc: 0.8009 - lr: 0.0010\n",
            "Epoch 5/50\n",
            "132/132 [==============================] - 59s 448ms/step - loss: 0.3131 - acc: 0.8433 - val_loss: 0.4088 - val_acc: 0.7901 - lr: 0.0010\n",
            "Epoch 6/50\n",
            "132/132 [==============================] - 61s 461ms/step - loss: 0.2853 - acc: 0.8518 - val_loss: 0.3288 - val_acc: 0.8223 - lr: 0.0010\n",
            "Epoch 7/50\n",
            "132/132 [==============================] - 59s 448ms/step - loss: 0.2676 - acc: 0.8592 - val_loss: 0.3928 - val_acc: 0.7452 - lr: 0.0010\n",
            "Epoch 8/50\n",
            "132/132 [==============================] - 61s 456ms/step - loss: 0.2473 - acc: 0.8678 - val_loss: 0.3125 - val_acc: 0.8223 - lr: 0.0010\n",
            "Epoch 9/50\n",
            "132/132 [==============================] - 59s 448ms/step - loss: 0.2257 - acc: 0.8780 - val_loss: 0.5588 - val_acc: 0.6788 - lr: 0.0010\n",
            "Epoch 10/50\n",
            "132/132 [==============================] - ETA: 0s - loss: 0.2066 - acc: 0.8946\n",
            "Epoch 10: ReduceLROnPlateau reducing learning rate to 0.0003000000142492354.\n",
            "132/132 [==============================] - 60s 449ms/step - loss: 0.2066 - acc: 0.8946 - val_loss: 0.3571 - val_acc: 0.7987 - lr: 0.0010\n",
            "Epoch 11/50\n",
            "132/132 [==============================] - 61s 457ms/step - loss: 0.1432 - acc: 0.9294 - val_loss: 0.2939 - val_acc: 0.8351 - lr: 3.0000e-04\n",
            "Epoch 12/50\n",
            "132/132 [==============================] - 59s 448ms/step - loss: 0.1082 - acc: 0.9512 - val_loss: 0.3067 - val_acc: 0.8137 - lr: 3.0000e-04\n",
            "Epoch 13/50\n",
            "132/132 [==============================] - ETA: 0s - loss: 0.0926 - acc: 0.9600\n",
            "Epoch 13: ReduceLROnPlateau reducing learning rate to 9.000000427477062e-05.\n",
            "132/132 [==============================] - 60s 449ms/step - loss: 0.0926 - acc: 0.9600 - val_loss: 0.3607 - val_acc: 0.8158 - lr: 3.0000e-04\n",
            "Epoch 14/50\n",
            "132/132 [==============================] - 59s 446ms/step - loss: 0.0688 - acc: 0.9698 - val_loss: 0.3396 - val_acc: 0.8266 - lr: 9.0000e-05\n",
            "Epoch 15/50\n",
            "132/132 [==============================] - ETA: 0s - loss: 0.0541 - acc: 0.9769\n",
            "Epoch 15: ReduceLROnPlateau reducing learning rate to 2.700000040931627e-05.\n",
            "132/132 [==============================] - 60s 451ms/step - loss: 0.0541 - acc: 0.9769 - val_loss: 0.2990 - val_acc: 0.8437 - lr: 9.0000e-05\n",
            "Epoch 16/50\n",
            "132/132 [==============================] - 59s 448ms/step - loss: 0.0502 - acc: 0.9776 - val_loss: 0.3233 - val_acc: 0.8415 - lr: 2.7000e-05\n",
            "Epoch 17/50\n",
            "132/132 [==============================] - ETA: 0s - loss: 0.0473 - acc: 0.9803\n",
            "Epoch 17: ReduceLROnPlateau reducing learning rate to 8.100000013655517e-06.\n",
            "132/132 [==============================] - 59s 448ms/step - loss: 0.0473 - acc: 0.9803 - val_loss: 0.3536 - val_acc: 0.8522 - lr: 2.7000e-05\n",
            "Epoch 18/50\n",
            "132/132 [==============================] - 59s 448ms/step - loss: 0.0461 - acc: 0.9815 - val_loss: 0.3729 - val_acc: 0.8223 - lr: 8.1000e-06\n",
            "Epoch 19/50\n",
            "132/132 [==============================] - ETA: 0s - loss: 0.0421 - acc: 0.9826\n",
            "Epoch 19: ReduceLROnPlateau reducing learning rate to 2.429999949526973e-06.\n",
            "132/132 [==============================] - 60s 449ms/step - loss: 0.0421 - acc: 0.9826 - val_loss: 0.3296 - val_acc: 0.8608 - lr: 8.1000e-06\n",
            "Epoch 20/50\n",
            "132/132 [==============================] - 59s 447ms/step - loss: 0.0398 - acc: 0.9850 - val_loss: 0.3658 - val_acc: 0.8244 - lr: 2.4300e-06\n",
            "Epoch 21/50\n",
            "132/132 [==============================] - ETA: 0s - loss: 0.0412 - acc: 0.9855\n",
            "Epoch 21: ReduceLROnPlateau reducing learning rate to 7.289999985005124e-07.\n",
            "132/132 [==============================] - 60s 450ms/step - loss: 0.0412 - acc: 0.9855 - val_loss: 0.3657 - val_acc: 0.8351 - lr: 2.4300e-06\n",
            "Epoch 22/50\n",
            "132/132 [==============================] - 59s 448ms/step - loss: 0.0438 - acc: 0.9834 - val_loss: 0.3786 - val_acc: 0.8373 - lr: 7.2900e-07\n",
            "Epoch 23/50\n",
            "132/132 [==============================] - ETA: 0s - loss: 0.0434 - acc: 0.9850\n",
            "Epoch 23: ReduceLROnPlateau reducing learning rate to 2.1870000637136398e-07.\n",
            "132/132 [==============================] - 60s 449ms/step - loss: 0.0434 - acc: 0.9850 - val_loss: 0.3395 - val_acc: 0.8480 - lr: 7.2900e-07\n",
            "Epoch 24/50\n",
            "132/132 [==============================] - 60s 449ms/step - loss: 0.0431 - acc: 0.9831 - val_loss: 0.3722 - val_acc: 0.8373 - lr: 2.1870e-07\n"
          ]
        }
      ],
      "source": [
        "learning_rate_reduction = ReduceLROnPlateau(monitor='val_loss', patience = 2, verbose=1,factor=0.3, min_lr=0.00000001)\n",
        "chkpt = ModelCheckpoint(filepath='best_model_effB3_4.hdf5', monitor='val_loss', save_best_only=True, save_weights_only=True)\n",
        "early_stopping = tf.keras.callbacks.EarlyStopping(patience=13, monitor='val_loss', restore_best_weights=True)\n",
        "\n",
        "history34 = model34.fit(train_gen, epochs=50, validation_data=valid_gen, callbacks=[learning_rate_reduction, chkpt, early_stopping])"
      ]
    },
    {
      "cell_type": "code",
      "execution_count": null,
      "metadata": {
        "id": "7rFyucID6hnk"
      },
      "outputs": [],
      "source": [
        "model34.load_weights(\"best_model_effB3_4.hdf5\")\n",
        "preds = model34.predict(X_test)\n",
        "labelled_preds = one_hot_encoder.inverse_transform(preds)\n",
        "pred = pd.DataFrame(labelled_preds, columns =[\"class_id\"])\n",
        "df = pd.read_csv('submission3.csv')\n",
        "df ['class_id']= pred\n",
        "df.to_csv(\"final_submission68.csv\", index=False)"
      ]
    },
    {
      "cell_type": "code",
      "execution_count": null,
      "metadata": {
        "colab": {
          "base_uri": "https://localhost:8080/"
        },
        "id": "VVfy6dIW8x0B",
        "outputId": "b4dbbe78-24ed-4b17-f9a6-eacdcd7145b8"
      },
      "outputs": [
        {
          "name": "stdout",
          "output_type": "stream",
          "text": [
            "Epoch 1/50\n",
            "132/132 [==============================] - 117s 683ms/step - loss: 1.1094 - acc: 0.7391 - val_loss: 0.8978 - val_acc: 0.7495 - lr: 0.0010\n",
            "Epoch 2/50\n",
            "132/132 [==============================] - 86s 646ms/step - loss: 0.7211 - acc: 0.7990 - val_loss: 0.6638 - val_acc: 0.7901 - lr: 0.0010\n",
            "Epoch 3/50\n",
            "132/132 [==============================] - 86s 648ms/step - loss: 0.4933 - acc: 0.8214 - val_loss: 0.4531 - val_acc: 0.8009 - lr: 0.0010\n",
            "Epoch 4/50\n",
            "132/132 [==============================] - 85s 638ms/step - loss: 0.3716 - acc: 0.8307 - val_loss: 0.6413 - val_acc: 0.5675 - lr: 0.0010\n",
            "Epoch 5/50\n",
            "132/132 [==============================] - ETA: 0s - loss: 0.3299 - acc: 0.8235\n",
            "Epoch 5: ReduceLROnPlateau reducing learning rate to 0.0003000000142492354.\n",
            "132/132 [==============================] - 84s 635ms/step - loss: 0.3299 - acc: 0.8235 - val_loss: 0.3975 - val_acc: 0.7859 - lr: 0.0010\n",
            "Epoch 6/50\n",
            "132/132 [==============================] - 86s 646ms/step - loss: 0.2584 - acc: 0.8697 - val_loss: 0.3002 - val_acc: 0.8266 - lr: 3.0000e-04\n",
            "Epoch 7/50\n",
            "132/132 [==============================] - 84s 635ms/step - loss: 0.2138 - acc: 0.8899 - val_loss: 0.3423 - val_acc: 0.8073 - lr: 3.0000e-04\n",
            "Epoch 8/50\n",
            "132/132 [==============================] - 85s 643ms/step - loss: 0.1839 - acc: 0.9058 - val_loss: 0.3305 - val_acc: 0.8394 - lr: 3.0000e-04\n",
            "Epoch 9/50\n",
            "132/132 [==============================] - 84s 634ms/step - loss: 0.1678 - acc: 0.9210 - val_loss: 0.3324 - val_acc: 0.8201 - lr: 3.0000e-04\n",
            "Epoch 10/50\n",
            "132/132 [==============================] - ETA: 0s - loss: 0.1575 - acc: 0.9187\n",
            "Epoch 10: ReduceLROnPlateau reducing learning rate to 9.000000427477062e-05.\n",
            "132/132 [==============================] - 84s 634ms/step - loss: 0.1575 - acc: 0.9187 - val_loss: 0.3315 - val_acc: 0.8030 - lr: 3.0000e-04\n",
            "Epoch 11/50\n",
            "132/132 [==============================] - 84s 637ms/step - loss: 0.1100 - acc: 0.9541 - val_loss: 0.2973 - val_acc: 0.8373 - lr: 9.0000e-05\n",
            "Epoch 12/50\n",
            "132/132 [==============================] - ETA: 0s - loss: 0.0865 - acc: 0.9691\n",
            "Epoch 12: ReduceLROnPlateau reducing learning rate to 2.700000040931627e-05.\n",
            "132/132 [==============================] - 84s 635ms/step - loss: 0.0865 - acc: 0.9691 - val_loss: 0.3718 - val_acc: 0.8180 - lr: 9.0000e-05\n",
            "Epoch 13/50\n",
            "132/132 [==============================] - 84s 634ms/step - loss: 0.0762 - acc: 0.9717 - val_loss: 0.3490 - val_acc: 0.8287 - lr: 2.7000e-05\n",
            "Epoch 14/50\n",
            "132/132 [==============================] - ETA: 0s - loss: 0.0751 - acc: 0.9757\n",
            "Epoch 14: ReduceLROnPlateau reducing learning rate to 8.100000013655517e-06.\n",
            "132/132 [==============================] - 84s 638ms/step - loss: 0.0751 - acc: 0.9757 - val_loss: 0.3313 - val_acc: 0.8330 - lr: 2.7000e-05\n",
            "Epoch 15/50\n",
            "132/132 [==============================] - 86s 646ms/step - loss: 0.0693 - acc: 0.9746 - val_loss: 0.3293 - val_acc: 0.8522 - lr: 8.1000e-06\n",
            "Epoch 16/50\n",
            "132/132 [==============================] - 84s 635ms/step - loss: 0.0639 - acc: 0.9765 - val_loss: 0.3538 - val_acc: 0.8330 - lr: 8.1000e-06\n",
            "Epoch 17/50\n",
            "132/132 [==============================] - ETA: 0s - loss: 0.0630 - acc: 0.9774\n",
            "Epoch 17: ReduceLROnPlateau reducing learning rate to 2.429999949526973e-06.\n",
            "132/132 [==============================] - 84s 637ms/step - loss: 0.0630 - acc: 0.9774 - val_loss: 0.3573 - val_acc: 0.8394 - lr: 8.1000e-06\n",
            "Epoch 18/50\n",
            "132/132 [==============================] - 84s 634ms/step - loss: 0.0612 - acc: 0.9788 - val_loss: 0.3458 - val_acc: 0.8437 - lr: 2.4300e-06\n",
            "Epoch 19/50\n",
            "132/132 [==============================] - ETA: 0s - loss: 0.0585 - acc: 0.9812\n",
            "Epoch 19: ReduceLROnPlateau reducing learning rate to 7.289999985005124e-07.\n",
            "132/132 [==============================] - 84s 634ms/step - loss: 0.0585 - acc: 0.9812 - val_loss: 0.3483 - val_acc: 0.8437 - lr: 2.4300e-06\n",
            "Epoch 20/50\n",
            "132/132 [==============================] - 84s 633ms/step - loss: 0.0557 - acc: 0.9822 - val_loss: 0.3803 - val_acc: 0.8308 - lr: 7.2900e-07\n",
            "Epoch 21/50\n",
            "132/132 [==============================] - ETA: 0s - loss: 0.0548 - acc: 0.9836\n",
            "Epoch 21: ReduceLROnPlateau reducing learning rate to 2.1870000637136398e-07.\n",
            "132/132 [==============================] - 84s 634ms/step - loss: 0.0548 - acc: 0.9836 - val_loss: 0.3557 - val_acc: 0.8373 - lr: 7.2900e-07\n",
            "Epoch 22/50\n",
            "132/132 [==============================] - 84s 632ms/step - loss: 0.0686 - acc: 0.9762 - val_loss: 0.3797 - val_acc: 0.8266 - lr: 2.1870e-07\n",
            "Epoch 23/50\n",
            "132/132 [==============================] - ETA: 0s - loss: 0.0622 - acc: 0.9781\n",
            "Epoch 23: ReduceLROnPlateau reducing learning rate to 6.561000276406048e-08.\n",
            "132/132 [==============================] - 84s 634ms/step - loss: 0.0622 - acc: 0.9781 - val_loss: 0.3768 - val_acc: 0.8266 - lr: 2.1870e-07\n",
            "Epoch 24/50\n",
            "132/132 [==============================] - 84s 635ms/step - loss: 0.0557 - acc: 0.9815 - val_loss: 0.3644 - val_acc: 0.8437 - lr: 6.5610e-08\n",
            "Epoch 25/50\n",
            "132/132 [==============================] - ETA: 0s - loss: 0.0606 - acc: 0.9793\n",
            "Epoch 25: ReduceLROnPlateau reducing learning rate to 1.9683000829218145e-08.\n",
            "132/132 [==============================] - 84s 634ms/step - loss: 0.0606 - acc: 0.9793 - val_loss: 0.3468 - val_acc: 0.8373 - lr: 6.5610e-08\n",
            "Epoch 26/50\n",
            "132/132 [==============================] - 84s 635ms/step - loss: 0.0568 - acc: 0.9815 - val_loss: 0.3645 - val_acc: 0.8394 - lr: 1.9683e-08\n",
            "Epoch 27/50\n",
            "132/132 [==============================] - ETA: 0s - loss: 0.0561 - acc: 0.9826\n",
            "Epoch 27: ReduceLROnPlateau reducing learning rate to 1e-08.\n",
            "132/132 [==============================] - 84s 634ms/step - loss: 0.0561 - acc: 0.9826 - val_loss: 0.3611 - val_acc: 0.8330 - lr: 1.9683e-08\n",
            "Epoch 28/50\n",
            "132/132 [==============================] - 84s 635ms/step - loss: 0.0617 - acc: 0.9805 - val_loss: 0.3707 - val_acc: 0.8373 - lr: 1.0000e-08\n"
          ]
        }
      ],
      "source": [
        "learning_rate_reduction = ReduceLROnPlateau(monitor='val_acc', patience = 2, verbose=1,factor=0.3, min_lr=0.00000001)\n",
        "chkpt = ModelCheckpoint(filepath='best_model_effB3_4_vol2.hdf5', monitor='val_acc', save_best_only=True, save_weights_only=True)\n",
        "early_stopping = tf.keras.callbacks.EarlyStopping(patience=13, monitor='val_acc', restore_best_weights=True)\n",
        "\n",
        "history34 = model34.fit(train_gen, epochs=50, validation_data=valid_gen, callbacks=[learning_rate_reduction, chkpt, early_stopping])"
      ]
    },
    {
      "cell_type": "code",
      "execution_count": null,
      "metadata": {
        "id": "U-DhNnJn8x3D"
      },
      "outputs": [],
      "source": [
        "model34.load_weights(\"best_model_effB3_4_vol2.hdf5\")\n",
        "preds = model34.predict(X_test)\n",
        "labelled_preds = one_hot_encoder.inverse_transform(preds)\n",
        "pred = pd.DataFrame(labelled_preds, columns =[\"class_id\"])\n",
        "df = pd.read_csv('submission3.csv')\n",
        "df ['class_id']= pred\n",
        "df.to_csv(\"final_submission68_vol2.csv\", index=False)"
      ]
    },
    {
      "cell_type": "markdown",
      "metadata": {
        "id": "_HGxAR-U60_2"
      },
      "source": [
        "35)"
      ]
    },
    {
      "cell_type": "code",
      "execution_count": null,
      "metadata": {
        "id": "7hj5gxFW60xB"
      },
      "outputs": [],
      "source": [
        "base_model35 = tf.keras.applications.EfficientNetB3(include_top=False,\n",
        "                                     weights='imagenet',\n",
        "                                     input_shape=(224, 224, 3))\n",
        "x = base_model35.output\n",
        "x = tf.keras.layers.GlobalAveragePooling2D()(x)\n",
        "x = Dense(512, activation=None, kernel_regularizer = L1L2(l1=1e-5, l2=1e-3))(x)\n",
        "x = BatchNormalization()(x)\n",
        "x = Activation('swish')(x)\n",
        "x = Dropout(0.5)(x)\n",
        "x = Dense(512, activation=None, kernel_regularizer = L1L2(l1=1e-5, l2=1e-3))(x)\n",
        "x = BatchNormalization()(x)\n",
        "x = Activation('swish')(x)\n",
        "x = Dropout(0.5)(x)\n",
        "ouput1 = Dense(3, activation= 'sigmoid')(x)\n",
        "\n",
        "model35 = Model(inputs=base_model35.input, outputs=ouput1)\n",
        "\n",
        "model35.compile(loss='binary_crossentropy', \n",
        "              optimizer='adam', metrics=['acc'])"
      ]
    },
    {
      "cell_type": "code",
      "execution_count": null,
      "metadata": {
        "colab": {
          "base_uri": "https://localhost:8080/"
        },
        "id": "lD_I_zK97CYC",
        "outputId": "7217cd0a-33af-45af-d664-ad0bb2bcabc7"
      },
      "outputs": [
        {
          "name": "stdout",
          "output_type": "stream",
          "text": [
            "Epoch 1/20\n",
            "132/132 [==============================] - 78s 482ms/step - loss: 1.7684 - acc: 0.7386 - val_loss: 1.4336 - val_acc: 0.7602 - lr: 0.0010\n",
            "Epoch 2/20\n",
            "132/132 [==============================] - 60s 454ms/step - loss: 1.0814 - acc: 0.8050 - val_loss: 0.8540 - val_acc: 0.8116 - lr: 0.0010\n",
            "Epoch 3/20\n",
            "132/132 [==============================] - 60s 450ms/step - loss: 0.6843 - acc: 0.8138 - val_loss: 0.5644 - val_acc: 0.8244 - lr: 0.0010\n",
            "Epoch 4/20\n",
            "132/132 [==============================] - 60s 455ms/step - loss: 0.4615 - acc: 0.8254 - val_loss: 0.4187 - val_acc: 0.7987 - lr: 0.0010\n",
            "Epoch 5/20\n",
            "132/132 [==============================] - 60s 454ms/step - loss: 0.3706 - acc: 0.8400 - val_loss: 0.4150 - val_acc: 0.8030 - lr: 0.0010\n",
            "Epoch 6/20\n",
            "132/132 [==============================] - 60s 453ms/step - loss: 0.3371 - acc: 0.8466 - val_loss: 0.3942 - val_acc: 0.8030 - lr: 0.0010\n",
            "Epoch 7/20\n",
            "132/132 [==============================] - 60s 452ms/step - loss: 0.3220 - acc: 0.8480 - val_loss: 0.3849 - val_acc: 0.8009 - lr: 0.0010\n",
            "Epoch 8/20\n",
            "132/132 [==============================] - 59s 442ms/step - loss: 0.2814 - acc: 0.8566 - val_loss: 0.4111 - val_acc: 0.7923 - lr: 0.0010\n",
            "Epoch 9/20\n",
            "132/132 [==============================] - ETA: 0s - loss: 0.2614 - acc: 0.8780\n",
            "Epoch 9: ReduceLROnPlateau reducing learning rate to 0.0003000000142492354.\n",
            "132/132 [==============================] - 59s 442ms/step - loss: 0.2614 - acc: 0.8780 - val_loss: 0.4778 - val_acc: 0.7623 - lr: 0.0010\n",
            "Epoch 10/20\n",
            "132/132 [==============================] - 60s 453ms/step - loss: 0.2085 - acc: 0.9027 - val_loss: 0.2969 - val_acc: 0.8158 - lr: 3.0000e-04\n",
            "Epoch 11/20\n",
            "132/132 [==============================] - 60s 454ms/step - loss: 0.1503 - acc: 0.9372 - val_loss: 0.2875 - val_acc: 0.8458 - lr: 3.0000e-04\n",
            "Epoch 12/20\n",
            "132/132 [==============================] - 59s 441ms/step - loss: 0.1291 - acc: 0.9465 - val_loss: 0.3727 - val_acc: 0.8116 - lr: 3.0000e-04\n",
            "Epoch 13/20\n",
            "132/132 [==============================] - ETA: 0s - loss: 0.1241 - acc: 0.9463\n",
            "Epoch 13: ReduceLROnPlateau reducing learning rate to 9.000000427477062e-05.\n",
            "132/132 [==============================] - 59s 443ms/step - loss: 0.1241 - acc: 0.9463 - val_loss: 0.4866 - val_acc: 0.7559 - lr: 3.0000e-04\n",
            "Epoch 14/20\n",
            "132/132 [==============================] - 58s 440ms/step - loss: 0.0904 - acc: 0.9679 - val_loss: 0.3376 - val_acc: 0.8094 - lr: 9.0000e-05\n",
            "Epoch 15/20\n",
            "132/132 [==============================] - ETA: 0s - loss: 0.0749 - acc: 0.9722\n",
            "Epoch 15: ReduceLROnPlateau reducing learning rate to 2.700000040931627e-05.\n",
            "132/132 [==============================] - 59s 442ms/step - loss: 0.0749 - acc: 0.9722 - val_loss: 0.3476 - val_acc: 0.8458 - lr: 9.0000e-05\n",
            "Epoch 16/20\n",
            "132/132 [==============================] - 59s 441ms/step - loss: 0.0641 - acc: 0.9774 - val_loss: 0.3685 - val_acc: 0.8308 - lr: 2.7000e-05\n",
            "Epoch 17/20\n",
            "132/132 [==============================] - ETA: 0s - loss: 0.0617 - acc: 0.9798\n",
            "Epoch 17: ReduceLROnPlateau reducing learning rate to 8.100000013655517e-06.\n",
            "132/132 [==============================] - 58s 441ms/step - loss: 0.0617 - acc: 0.9798 - val_loss: 0.3513 - val_acc: 0.8373 - lr: 2.7000e-05\n",
            "Epoch 18/20\n",
            "132/132 [==============================] - 59s 442ms/step - loss: 0.0560 - acc: 0.9826 - val_loss: 0.3560 - val_acc: 0.8351 - lr: 8.1000e-06\n",
            "Epoch 19/20\n",
            "132/132 [==============================] - ETA: 0s - loss: 0.0490 - acc: 0.9845\n",
            "Epoch 19: ReduceLROnPlateau reducing learning rate to 2.429999949526973e-06.\n",
            "132/132 [==============================] - 59s 443ms/step - loss: 0.0490 - acc: 0.9845 - val_loss: 0.3747 - val_acc: 0.8394 - lr: 8.1000e-06\n",
            "Epoch 20/20\n",
            "132/132 [==============================] - 59s 441ms/step - loss: 0.0522 - acc: 0.9810 - val_loss: 0.3965 - val_acc: 0.8287 - lr: 2.4300e-06\n"
          ]
        }
      ],
      "source": [
        "learning_rate_reduction = ReduceLROnPlateau(monitor='val_loss', patience = 2, verbose=1,factor=0.3, min_lr=0.00000001)\n",
        "chkpt = ModelCheckpoint(filepath='best_model_effB3_5.hdf5', monitor='val_loss', save_best_only=True, save_weights_only=True)\n",
        "early_stopping = tf.keras.callbacks.EarlyStopping(patience=13, monitor='val_loss', restore_best_weights=True)\n",
        "\n",
        "history35 = model35.fit(train_gen, epochs=20, validation_data=valid_gen, callbacks=[learning_rate_reduction, chkpt, early_stopping])"
      ]
    },
    {
      "cell_type": "code",
      "execution_count": null,
      "metadata": {
        "id": "tuNC6W0W7Lo8"
      },
      "outputs": [],
      "source": [
        "model35.load_weights(\"best_model_effB3_5.hdf5\")\n",
        "preds = model35.predict(X_test)\n",
        "labelled_preds = one_hot_encoder.inverse_transform(preds)\n",
        "pred = pd.DataFrame(labelled_preds, columns =[\"class_id\"])\n",
        "df = pd.read_csv('submission3.csv')\n",
        "df ['class_id']= pred\n",
        "df.to_csv(\"final_submission69.csv\", index=False)"
      ]
    },
    {
      "cell_type": "code",
      "execution_count": null,
      "metadata": {
        "colab": {
          "base_uri": "https://localhost:8080/"
        },
        "id": "i3Uqy5xe9N5x",
        "outputId": "66d1b6b3-2c8c-4f51-dd15-0a69d791d446"
      },
      "outputs": [
        {
          "name": "stdout",
          "output_type": "stream",
          "text": [
            "Epoch 1/35\n",
            "132/132 [==============================] - 101s 660ms/step - loss: 1.7355 - acc: 0.7477 - val_loss: 1.4295 - val_acc: 0.7216 - lr: 0.0010\n",
            "Epoch 2/35\n",
            "132/132 [==============================] - 86s 646ms/step - loss: 1.0232 - acc: 0.7974 - val_loss: 0.8426 - val_acc: 0.7923 - lr: 0.0010\n",
            "Epoch 3/35\n",
            "132/132 [==============================] - 84s 634ms/step - loss: 0.6304 - acc: 0.8105 - val_loss: 0.5450 - val_acc: 0.7859 - lr: 0.0010\n",
            "Epoch 4/35\n",
            "132/132 [==============================] - 85s 645ms/step - loss: 0.4639 - acc: 0.8197 - val_loss: 0.4158 - val_acc: 0.8223 - lr: 0.0010\n",
            "Epoch 5/35\n",
            "132/132 [==============================] - 84s 633ms/step - loss: 0.3779 - acc: 0.8369 - val_loss: 0.4200 - val_acc: 0.7859 - lr: 0.0010\n",
            "Epoch 6/35\n",
            "132/132 [==============================] - ETA: 0s - loss: 0.3422 - acc: 0.8376\n",
            "Epoch 6: ReduceLROnPlateau reducing learning rate to 0.0003000000142492354.\n",
            "132/132 [==============================] - 84s 633ms/step - loss: 0.3422 - acc: 0.8376 - val_loss: 0.3759 - val_acc: 0.7901 - lr: 0.0010\n",
            "Epoch 7/35\n",
            "132/132 [==============================] - 85s 643ms/step - loss: 0.2595 - acc: 0.8837 - val_loss: 0.3125 - val_acc: 0.8266 - lr: 3.0000e-04\n",
            "Epoch 8/35\n",
            "132/132 [==============================] - 84s 631ms/step - loss: 0.2062 - acc: 0.9061 - val_loss: 0.3561 - val_acc: 0.8094 - lr: 3.0000e-04\n",
            "Epoch 9/35\n",
            "132/132 [==============================] - 85s 644ms/step - loss: 0.1849 - acc: 0.9137 - val_loss: 0.3006 - val_acc: 0.8308 - lr: 3.0000e-04\n",
            "Epoch 10/35\n",
            "132/132 [==============================] - 86s 647ms/step - loss: 0.1682 - acc: 0.9270 - val_loss: 0.3015 - val_acc: 0.8458 - lr: 3.0000e-04\n",
            "Epoch 11/35\n",
            "132/132 [==============================] - 84s 633ms/step - loss: 0.1469 - acc: 0.9377 - val_loss: 0.3278 - val_acc: 0.8330 - lr: 3.0000e-04\n",
            "Epoch 12/35\n",
            "132/132 [==============================] - ETA: 0s - loss: 0.1311 - acc: 0.9439\n",
            "Epoch 12: ReduceLROnPlateau reducing learning rate to 9.000000427477062e-05.\n",
            "132/132 [==============================] - 84s 631ms/step - loss: 0.1311 - acc: 0.9439 - val_loss: 0.3471 - val_acc: 0.8223 - lr: 3.0000e-04\n",
            "Epoch 13/35\n",
            "132/132 [==============================] - 84s 632ms/step - loss: 0.1029 - acc: 0.9622 - val_loss: 0.3235 - val_acc: 0.8458 - lr: 9.0000e-05\n",
            "Epoch 14/35\n",
            "132/132 [==============================] - ETA: 0s - loss: 0.0749 - acc: 0.9757\n",
            "Epoch 14: ReduceLROnPlateau reducing learning rate to 2.700000040931627e-05.\n",
            "132/132 [==============================] - 84s 632ms/step - loss: 0.0749 - acc: 0.9757 - val_loss: 0.3287 - val_acc: 0.8437 - lr: 9.0000e-05\n",
            "Epoch 15/35\n",
            "132/132 [==============================] - 84s 632ms/step - loss: 0.0652 - acc: 0.9767 - val_loss: 0.3558 - val_acc: 0.8394 - lr: 2.7000e-05\n",
            "Epoch 16/35\n",
            "132/132 [==============================] - ETA: 0s - loss: 0.0551 - acc: 0.9850\n",
            "Epoch 16: ReduceLROnPlateau reducing learning rate to 8.100000013655517e-06.\n",
            "132/132 [==============================] - 84s 632ms/step - loss: 0.0551 - acc: 0.9850 - val_loss: 0.3674 - val_acc: 0.8458 - lr: 2.7000e-05\n",
            "Epoch 17/35\n",
            "132/132 [==============================] - 84s 634ms/step - loss: 0.0533 - acc: 0.9848 - val_loss: 0.3862 - val_acc: 0.8437 - lr: 8.1000e-06\n",
            "Epoch 18/35\n",
            "132/132 [==============================] - ETA: 0s - loss: 0.0471 - acc: 0.9881\n",
            "Epoch 18: ReduceLROnPlateau reducing learning rate to 2.429999949526973e-06.\n",
            "132/132 [==============================] - 84s 634ms/step - loss: 0.0471 - acc: 0.9881 - val_loss: 0.3617 - val_acc: 0.8458 - lr: 8.1000e-06\n",
            "Epoch 19/35\n",
            "132/132 [==============================] - 85s 644ms/step - loss: 0.0518 - acc: 0.9843 - val_loss: 0.3680 - val_acc: 0.8544 - lr: 2.4300e-06\n",
            "Epoch 20/35\n",
            "132/132 [==============================] - 84s 635ms/step - loss: 0.0475 - acc: 0.9857 - val_loss: 0.3756 - val_acc: 0.8351 - lr: 2.4300e-06\n",
            "Epoch 21/35\n",
            "132/132 [==============================] - 85s 645ms/step - loss: 0.0512 - acc: 0.9855 - val_loss: 0.3809 - val_acc: 0.8694 - lr: 2.4300e-06\n",
            "Epoch 22/35\n",
            "132/132 [==============================] - 84s 630ms/step - loss: 0.0493 - acc: 0.9862 - val_loss: 0.3865 - val_acc: 0.8565 - lr: 2.4300e-06\n",
            "Epoch 23/35\n",
            "132/132 [==============================] - ETA: 0s - loss: 0.0532 - acc: 0.9807\n",
            "Epoch 23: ReduceLROnPlateau reducing learning rate to 7.289999985005124e-07.\n",
            "132/132 [==============================] - 84s 634ms/step - loss: 0.0532 - acc: 0.9807 - val_loss: 0.3597 - val_acc: 0.8544 - lr: 2.4300e-06\n",
            "Epoch 24/35\n",
            "132/132 [==============================] - 84s 632ms/step - loss: 0.0471 - acc: 0.9850 - val_loss: 0.3824 - val_acc: 0.8458 - lr: 7.2900e-07\n",
            "Epoch 25/35\n",
            "132/132 [==============================] - ETA: 0s - loss: 0.0542 - acc: 0.9848\n",
            "Epoch 25: ReduceLROnPlateau reducing learning rate to 2.1870000637136398e-07.\n",
            "132/132 [==============================] - 83s 630ms/step - loss: 0.0542 - acc: 0.9848 - val_loss: 0.3752 - val_acc: 0.8522 - lr: 7.2900e-07\n",
            "Epoch 26/35\n",
            "132/132 [==============================] - 83s 629ms/step - loss: 0.0459 - acc: 0.9881 - val_loss: 0.3725 - val_acc: 0.8587 - lr: 2.1870e-07\n",
            "Epoch 27/35\n",
            "132/132 [==============================] - ETA: 0s - loss: 0.0458 - acc: 0.9881\n",
            "Epoch 27: ReduceLROnPlateau reducing learning rate to 6.561000276406048e-08.\n",
            "132/132 [==============================] - 84s 631ms/step - loss: 0.0458 - acc: 0.9881 - val_loss: 0.3627 - val_acc: 0.8544 - lr: 2.1870e-07\n",
            "Epoch 28/35\n",
            "132/132 [==============================] - 84s 631ms/step - loss: 0.0541 - acc: 0.9810 - val_loss: 0.3396 - val_acc: 0.8630 - lr: 6.5610e-08\n",
            "Epoch 29/35\n",
            "132/132 [==============================] - ETA: 0s - loss: 0.0456 - acc: 0.9872\n",
            "Epoch 29: ReduceLROnPlateau reducing learning rate to 1.9683000829218145e-08.\n",
            "132/132 [==============================] - 84s 631ms/step - loss: 0.0456 - acc: 0.9872 - val_loss: 0.3930 - val_acc: 0.8415 - lr: 6.5610e-08\n",
            "Epoch 30/35\n",
            "132/132 [==============================] - 84s 631ms/step - loss: 0.0504 - acc: 0.9848 - val_loss: 0.3723 - val_acc: 0.8458 - lr: 1.9683e-08\n",
            "Epoch 31/35\n",
            "132/132 [==============================] - ETA: 0s - loss: 0.0478 - acc: 0.9872\n",
            "Epoch 31: ReduceLROnPlateau reducing learning rate to 1e-08.\n",
            "132/132 [==============================] - 84s 632ms/step - loss: 0.0478 - acc: 0.9872 - val_loss: 0.3549 - val_acc: 0.8587 - lr: 1.9683e-08\n",
            "Epoch 32/35\n",
            "132/132 [==============================] - 84s 635ms/step - loss: 0.0502 - acc: 0.9850 - val_loss: 0.3608 - val_acc: 0.8501 - lr: 1.0000e-08\n",
            "Epoch 33/35\n",
            "132/132 [==============================] - 84s 633ms/step - loss: 0.0542 - acc: 0.9817 - val_loss: 0.3585 - val_acc: 0.8544 - lr: 1.0000e-08\n",
            "Epoch 34/35\n",
            "132/132 [==============================] - 84s 634ms/step - loss: 0.0521 - acc: 0.9848 - val_loss: 0.3584 - val_acc: 0.8587 - lr: 1.0000e-08\n"
          ]
        }
      ],
      "source": [
        "learning_rate_reduction = ReduceLROnPlateau(monitor='val_acc', patience = 2, verbose=1,factor=0.3, min_lr=0.00000001)\n",
        "chkpt = ModelCheckpoint(filepath='best_model_effB3_5_vol2.hdf5', monitor='val_acc', save_best_only=True, save_weights_only=True)\n",
        "early_stopping = tf.keras.callbacks.EarlyStopping(patience=13, monitor='val_acc', restore_best_weights=True)\n",
        "\n",
        "history35 = model35.fit(train_gen, epochs=35, validation_data=valid_gen, callbacks=[learning_rate_reduction, chkpt, early_stopping])"
      ]
    },
    {
      "cell_type": "code",
      "execution_count": null,
      "metadata": {
        "id": "8maXSwkm9N8U"
      },
      "outputs": [],
      "source": [
        "model35.load_weights(\"best_model_effB3_5_vol2.hdf5\")\n",
        "preds = model35.predict(X_test)\n",
        "labelled_preds = one_hot_encoder.inverse_transform(preds)\n",
        "pred = pd.DataFrame(labelled_preds, columns =[\"class_id\"])\n",
        "df = pd.read_csv('submission3.csv')\n",
        "df ['class_id']= pred\n",
        "df.to_csv(\"final_submission69_vol2.csv\", index=False)"
      ]
    },
    {
      "cell_type": "markdown",
      "metadata": {
        "id": "K8NtpjGt7Xz0"
      },
      "source": [
        "36)"
      ]
    },
    {
      "cell_type": "code",
      "execution_count": null,
      "metadata": {
        "id": "fpvne3RT7TcM"
      },
      "outputs": [],
      "source": [
        "base_model36 = tf.keras.applications.EfficientNetB3(include_top=False,\n",
        "                                     weights='imagenet',\n",
        "                                     input_shape=(224, 224, 3))\n",
        "x = base_model36.output\n",
        "x = tf.keras.layers.GlobalAveragePooling2D()(x)\n",
        "x = Dense(512, activation=None, kernel_regularizer = L1L2(l1=1e-5, l2=1e-3))(x)\n",
        "x = BatchNormalization()(x)\n",
        "x = Activation('swish')(x)\n",
        "x = Dropout(0.5)(x)\n",
        "x = Dense(512, activation=None, kernel_regularizer = L1L2(l1=1e-5, l2=1e-3))(x)\n",
        "x = BatchNormalization()(x)\n",
        "x = Activation('swish')(x)\n",
        "x = Dropout(0.5)(x)\n",
        "ouput1 = Dense(3, activation= 'sigmoid')(x)\n",
        "\n",
        "model36 = Model(inputs=base_model36.input, outputs=ouput1)\n",
        "\n",
        "model36.compile(loss='binary_crossentropy', \n",
        "              optimizer='adam', metrics=['acc'])"
      ]
    },
    {
      "cell_type": "code",
      "execution_count": null,
      "metadata": {
        "colab": {
          "base_uri": "https://localhost:8080/"
        },
        "id": "-3Fl4yjg7hgk",
        "outputId": "aabec1ac-cd9f-4397-bce3-8b793aec6c47"
      },
      "outputs": [
        {
          "name": "stdout",
          "output_type": "stream",
          "text": [
            "Epoch 1/60\n",
            "132/132 [==============================] - 75s 471ms/step - loss: 1.7492 - acc: 0.7444 - val_loss: 1.4678 - val_acc: 0.6981 - lr: 0.0010\n",
            "Epoch 2/60\n",
            "132/132 [==============================] - 61s 460ms/step - loss: 1.0570 - acc: 0.7957 - val_loss: 1.1470 - val_acc: 0.6745 - lr: 0.0010\n",
            "Epoch 3/60\n",
            "132/132 [==============================] - 61s 457ms/step - loss: 0.6548 - acc: 0.8174 - val_loss: 0.6082 - val_acc: 0.7580 - lr: 0.0010\n",
            "Epoch 4/60\n",
            "132/132 [==============================] - 61s 457ms/step - loss: 0.4551 - acc: 0.8328 - val_loss: 0.4720 - val_acc: 0.7987 - lr: 0.0010\n",
            "Epoch 5/60\n",
            "132/132 [==============================] - 61s 457ms/step - loss: 0.3764 - acc: 0.8326 - val_loss: 0.4345 - val_acc: 0.7730 - lr: 0.0010\n",
            "Epoch 6/60\n",
            "132/132 [==============================] - 61s 457ms/step - loss: 0.3332 - acc: 0.8523 - val_loss: 0.3688 - val_acc: 0.8073 - lr: 0.0010\n",
            "Epoch 7/60\n",
            "132/132 [==============================] - 61s 458ms/step - loss: 0.3078 - acc: 0.8485 - val_loss: 0.3545 - val_acc: 0.8266 - lr: 0.0010\n",
            "Epoch 8/60\n",
            "132/132 [==============================] - 59s 446ms/step - loss: 0.3185 - acc: 0.8599 - val_loss: 0.4046 - val_acc: 0.8009 - lr: 0.0010\n",
            "Epoch 9/60\n",
            "132/132 [==============================] - 60s 455ms/step - loss: 0.2799 - acc: 0.8721 - val_loss: 0.3392 - val_acc: 0.8073 - lr: 0.0010\n",
            "Epoch 10/60\n",
            "132/132 [==============================] - 59s 448ms/step - loss: 0.2534 - acc: 0.8849 - val_loss: 0.4106 - val_acc: 0.7666 - lr: 0.0010\n",
            "Epoch 11/60\n",
            "132/132 [==============================] - ETA: 0s - loss: 0.2353 - acc: 0.8927\n",
            "Epoch 11: ReduceLROnPlateau reducing learning rate to 0.0003000000142492354.\n",
            "132/132 [==============================] - 59s 444ms/step - loss: 0.2353 - acc: 0.8927 - val_loss: 0.4069 - val_acc: 0.7987 - lr: 0.0010\n",
            "Epoch 12/60\n",
            "132/132 [==============================] - 61s 457ms/step - loss: 0.1845 - acc: 0.9206 - val_loss: 0.3234 - val_acc: 0.8244 - lr: 3.0000e-04\n",
            "Epoch 13/60\n",
            "132/132 [==============================] - 61s 457ms/step - loss: 0.1338 - acc: 0.9451 - val_loss: 0.3090 - val_acc: 0.8330 - lr: 3.0000e-04\n",
            "Epoch 14/60\n",
            "132/132 [==============================] - 59s 447ms/step - loss: 0.1104 - acc: 0.9579 - val_loss: 0.3502 - val_acc: 0.8287 - lr: 3.0000e-04\n",
            "Epoch 15/60\n",
            "132/132 [==============================] - ETA: 0s - loss: 0.0937 - acc: 0.9615\n",
            "Epoch 15: ReduceLROnPlateau reducing learning rate to 9.000000427477062e-05.\n",
            "132/132 [==============================] - 59s 446ms/step - loss: 0.0937 - acc: 0.9615 - val_loss: 0.4073 - val_acc: 0.8073 - lr: 3.0000e-04\n",
            "Epoch 16/60\n",
            "132/132 [==============================] - 59s 443ms/step - loss: 0.0709 - acc: 0.9755 - val_loss: 0.3623 - val_acc: 0.8116 - lr: 9.0000e-05\n",
            "Epoch 17/60\n",
            "132/132 [==============================] - ETA: 0s - loss: 0.0560 - acc: 0.9788\n",
            "Epoch 17: ReduceLROnPlateau reducing learning rate to 2.700000040931627e-05.\n",
            "132/132 [==============================] - 59s 447ms/step - loss: 0.0560 - acc: 0.9788 - val_loss: 0.3627 - val_acc: 0.8394 - lr: 9.0000e-05\n",
            "Epoch 18/60\n",
            "132/132 [==============================] - 59s 446ms/step - loss: 0.0565 - acc: 0.9805 - val_loss: 0.3849 - val_acc: 0.8373 - lr: 2.7000e-05\n",
            "Epoch 19/60\n",
            "132/132 [==============================] - ETA: 0s - loss: 0.0424 - acc: 0.9893\n",
            "Epoch 19: ReduceLROnPlateau reducing learning rate to 8.100000013655517e-06.\n",
            "132/132 [==============================] - 59s 447ms/step - loss: 0.0424 - acc: 0.9893 - val_loss: 0.3715 - val_acc: 0.8351 - lr: 2.7000e-05\n",
            "Epoch 20/60\n",
            "132/132 [==============================] - 59s 447ms/step - loss: 0.0413 - acc: 0.9876 - val_loss: 0.3895 - val_acc: 0.8201 - lr: 8.1000e-06\n",
            "Epoch 21/60\n",
            "132/132 [==============================] - ETA: 0s - loss: 0.0387 - acc: 0.9883\n",
            "Epoch 21: ReduceLROnPlateau reducing learning rate to 2.429999949526973e-06.\n",
            "132/132 [==============================] - 59s 443ms/step - loss: 0.0387 - acc: 0.9883 - val_loss: 0.3995 - val_acc: 0.8394 - lr: 8.1000e-06\n",
            "Epoch 22/60\n",
            "132/132 [==============================] - 59s 446ms/step - loss: 0.0458 - acc: 0.9836 - val_loss: 0.4143 - val_acc: 0.8394 - lr: 2.4300e-06\n",
            "Epoch 23/60\n",
            "132/132 [==============================] - ETA: 0s - loss: 0.0393 - acc: 0.9874\n",
            "Epoch 23: ReduceLROnPlateau reducing learning rate to 7.289999985005124e-07.\n",
            "132/132 [==============================] - 60s 452ms/step - loss: 0.0393 - acc: 0.9874 - val_loss: 0.4327 - val_acc: 0.8223 - lr: 2.4300e-06\n",
            "Epoch 24/60\n",
            "132/132 [==============================] - 60s 450ms/step - loss: 0.0422 - acc: 0.9874 - val_loss: 0.4239 - val_acc: 0.8266 - lr: 7.2900e-07\n",
            "Epoch 25/60\n",
            "132/132 [==============================] - ETA: 0s - loss: 0.0420 - acc: 0.9848\n",
            "Epoch 25: ReduceLROnPlateau reducing learning rate to 2.1870000637136398e-07.\n",
            "132/132 [==============================] - 60s 450ms/step - loss: 0.0420 - acc: 0.9848 - val_loss: 0.4109 - val_acc: 0.8373 - lr: 7.2900e-07\n",
            "Epoch 26/60\n",
            "132/132 [==============================] - 59s 446ms/step - loss: 0.0416 - acc: 0.9872 - val_loss: 0.4448 - val_acc: 0.8373 - lr: 2.1870e-07\n"
          ]
        }
      ],
      "source": [
        "learning_rate_reduction = ReduceLROnPlateau(monitor='val_loss', patience = 2, verbose=1,factor=0.3, min_lr=0.00000001)\n",
        "chkpt = ModelCheckpoint(filepath='best_model_effB3_6.hdf5', monitor='val_loss', save_best_only=True, save_weights_only=True)\n",
        "early_stopping = tf.keras.callbacks.EarlyStopping(patience=13, monitor='val_loss', restore_best_weights=True)\n",
        "\n",
        "history36 = model36.fit(train_gen, epochs=60, validation_data=valid_gen, callbacks=[learning_rate_reduction, chkpt, early_stopping])"
      ]
    },
    {
      "cell_type": "code",
      "execution_count": null,
      "metadata": {
        "id": "FjvQ1p_l7o3F"
      },
      "outputs": [],
      "source": [
        "model36.load_weights(\"best_model_effB3_6.hdf5\")\n",
        "preds = model36.predict(X_test)\n",
        "labelled_preds = one_hot_encoder.inverse_transform(preds)\n",
        "pred = pd.DataFrame(labelled_preds, columns =[\"class_id\"])\n",
        "df = pd.read_csv('submission3.csv')\n",
        "df ['class_id']= pred\n",
        "df.to_csv(\"final_submission70.csv\", index=False)"
      ]
    },
    {
      "cell_type": "code",
      "execution_count": null,
      "metadata": {
        "colab": {
          "base_uri": "https://localhost:8080/"
        },
        "id": "d_LWCsLwWxKA",
        "outputId": "1a1295b9-a59b-4cb7-9347-d3b93e54527e"
      },
      "outputs": [
        {
          "name": "stdout",
          "output_type": "stream",
          "text": [
            "Epoch 1/60\n",
            "132/132 [==============================] - 104s 673ms/step - loss: 1.7328 - acc: 0.7432 - val_loss: 1.7526 - val_acc: 0.7495 - lr: 0.0010\n",
            "Epoch 2/60\n",
            "132/132 [==============================] - 86s 649ms/step - loss: 1.0308 - acc: 0.8057 - val_loss: 0.8516 - val_acc: 0.7816 - lr: 0.0010\n",
            "Epoch 3/60\n",
            "132/132 [==============================] - 84s 630ms/step - loss: 0.6365 - acc: 0.8117 - val_loss: 0.6479 - val_acc: 0.7709 - lr: 0.0010\n",
            "Epoch 4/60\n",
            "132/132 [==============================] - ETA: 0s - loss: 0.4479 - acc: 0.8281\n",
            "Epoch 4: ReduceLROnPlateau reducing learning rate to 0.0003000000142492354.\n",
            "132/132 [==============================] - 83s 629ms/step - loss: 0.4479 - acc: 0.8281 - val_loss: 0.4947 - val_acc: 0.7645 - lr: 0.0010\n",
            "Epoch 5/60\n",
            "132/132 [==============================] - 85s 641ms/step - loss: 0.3401 - acc: 0.8630 - val_loss: 0.3568 - val_acc: 0.8437 - lr: 3.0000e-04\n",
            "Epoch 6/60\n",
            "132/132 [==============================] - 83s 630ms/step - loss: 0.2727 - acc: 0.8892 - val_loss: 0.3528 - val_acc: 0.8051 - lr: 3.0000e-04\n",
            "Epoch 7/60\n",
            "132/132 [==============================] - ETA: 0s - loss: 0.2528 - acc: 0.8977\n",
            "Epoch 7: ReduceLROnPlateau reducing learning rate to 9.000000427477062e-05.\n",
            "132/132 [==============================] - 84s 630ms/step - loss: 0.2528 - acc: 0.8977 - val_loss: 0.3732 - val_acc: 0.8244 - lr: 3.0000e-04\n",
            "Epoch 8/60\n",
            "132/132 [==============================] - 83s 630ms/step - loss: 0.1999 - acc: 0.9182 - val_loss: 0.3161 - val_acc: 0.8330 - lr: 9.0000e-05\n",
            "Epoch 9/60\n",
            "132/132 [==============================] - ETA: 0s - loss: 0.1691 - acc: 0.9434\n",
            "Epoch 9: ReduceLROnPlateau reducing learning rate to 2.700000040931627e-05.\n",
            "132/132 [==============================] - 83s 629ms/step - loss: 0.1691 - acc: 0.9434 - val_loss: 0.3462 - val_acc: 0.8330 - lr: 9.0000e-05\n",
            "Epoch 10/60\n",
            "132/132 [==============================] - 83s 630ms/step - loss: 0.1423 - acc: 0.9489 - val_loss: 0.3535 - val_acc: 0.8415 - lr: 2.7000e-05\n",
            "Epoch 11/60\n",
            "132/132 [==============================] - ETA: 0s - loss: 0.1402 - acc: 0.9560\n",
            "Epoch 11: ReduceLROnPlateau reducing learning rate to 8.100000013655517e-06.\n",
            "132/132 [==============================] - 83s 630ms/step - loss: 0.1402 - acc: 0.9560 - val_loss: 0.3503 - val_acc: 0.8373 - lr: 2.7000e-05\n",
            "Epoch 12/60\n",
            "132/132 [==============================] - 83s 630ms/step - loss: 0.1325 - acc: 0.9529 - val_loss: 0.3614 - val_acc: 0.8394 - lr: 8.1000e-06\n",
            "Epoch 13/60\n",
            "132/132 [==============================] - ETA: 0s - loss: 0.1176 - acc: 0.9650\n",
            "Epoch 13: ReduceLROnPlateau reducing learning rate to 2.429999949526973e-06.\n",
            "132/132 [==============================] - 83s 630ms/step - loss: 0.1176 - acc: 0.9650 - val_loss: 0.3626 - val_acc: 0.8437 - lr: 8.1000e-06\n",
            "Epoch 14/60\n",
            "132/132 [==============================] - 85s 641ms/step - loss: 0.1186 - acc: 0.9622 - val_loss: 0.3750 - val_acc: 0.8501 - lr: 2.4300e-06\n",
            "Epoch 15/60\n",
            "132/132 [==============================] - 83s 630ms/step - loss: 0.1224 - acc: 0.9593 - val_loss: 0.3834 - val_acc: 0.8330 - lr: 2.4300e-06\n",
            "Epoch 16/60\n",
            "132/132 [==============================] - ETA: 0s - loss: 0.1190 - acc: 0.9631\n",
            "Epoch 16: ReduceLROnPlateau reducing learning rate to 7.289999985005124e-07.\n",
            "132/132 [==============================] - 83s 629ms/step - loss: 0.1190 - acc: 0.9631 - val_loss: 0.3689 - val_acc: 0.8351 - lr: 2.4300e-06\n",
            "Epoch 17/60\n",
            "132/132 [==============================] - 83s 629ms/step - loss: 0.1243 - acc: 0.9610 - val_loss: 0.3678 - val_acc: 0.8415 - lr: 7.2900e-07\n",
            "Epoch 18/60\n",
            "132/132 [==============================] - 85s 642ms/step - loss: 0.1235 - acc: 0.9608 - val_loss: 0.3612 - val_acc: 0.8522 - lr: 7.2900e-07\n",
            "Epoch 19/60\n",
            "132/132 [==============================] - 83s 630ms/step - loss: 0.1230 - acc: 0.9629 - val_loss: 0.3796 - val_acc: 0.8287 - lr: 7.2900e-07\n",
            "Epoch 20/60\n",
            "132/132 [==============================] - ETA: 0s - loss: 0.1129 - acc: 0.9679\n",
            "Epoch 20: ReduceLROnPlateau reducing learning rate to 2.1870000637136398e-07.\n",
            "132/132 [==============================] - 83s 629ms/step - loss: 0.1129 - acc: 0.9679 - val_loss: 0.3669 - val_acc: 0.8522 - lr: 7.2900e-07\n",
            "Epoch 21/60\n",
            "132/132 [==============================] - 83s 629ms/step - loss: 0.1209 - acc: 0.9615 - val_loss: 0.3687 - val_acc: 0.8458 - lr: 2.1870e-07\n",
            "Epoch 22/60\n",
            "132/132 [==============================] - ETA: 0s - loss: 0.1212 - acc: 0.9617\n",
            "Epoch 22: ReduceLROnPlateau reducing learning rate to 6.561000276406048e-08.\n",
            "132/132 [==============================] - 83s 630ms/step - loss: 0.1212 - acc: 0.9617 - val_loss: 0.3834 - val_acc: 0.8458 - lr: 2.1870e-07\n",
            "Epoch 23/60\n",
            "132/132 [==============================] - 85s 644ms/step - loss: 0.1200 - acc: 0.9622 - val_loss: 0.3762 - val_acc: 0.8544 - lr: 6.5610e-08\n",
            "Epoch 24/60\n",
            "132/132 [==============================] - 84s 630ms/step - loss: 0.1157 - acc: 0.9660 - val_loss: 0.3862 - val_acc: 0.8308 - lr: 6.5610e-08\n",
            "Epoch 25/60\n",
            "132/132 [==============================] - 85s 641ms/step - loss: 0.1173 - acc: 0.9634 - val_loss: 0.3560 - val_acc: 0.8587 - lr: 6.5610e-08\n",
            "Epoch 26/60\n",
            "132/132 [==============================] - 83s 630ms/step - loss: 0.1104 - acc: 0.9655 - val_loss: 0.3713 - val_acc: 0.8458 - lr: 6.5610e-08\n",
            "Epoch 27/60\n",
            "132/132 [==============================] - ETA: 0s - loss: 0.1147 - acc: 0.9639\n",
            "Epoch 27: ReduceLROnPlateau reducing learning rate to 1.9683000829218145e-08.\n",
            "132/132 [==============================] - 83s 629ms/step - loss: 0.1147 - acc: 0.9639 - val_loss: 0.3733 - val_acc: 0.8522 - lr: 6.5610e-08\n",
            "Epoch 28/60\n",
            "132/132 [==============================] - 84s 631ms/step - loss: 0.1160 - acc: 0.9677 - val_loss: 0.3825 - val_acc: 0.8437 - lr: 1.9683e-08\n",
            "Epoch 29/60\n",
            "132/132 [==============================] - ETA: 0s - loss: 0.1179 - acc: 0.9598\n",
            "Epoch 29: ReduceLROnPlateau reducing learning rate to 1e-08.\n",
            "132/132 [==============================] - 84s 633ms/step - loss: 0.1179 - acc: 0.9598 - val_loss: 0.3784 - val_acc: 0.8373 - lr: 1.9683e-08\n",
            "Epoch 30/60\n",
            "132/132 [==============================] - 84s 637ms/step - loss: 0.1185 - acc: 0.9624 - val_loss: 0.3823 - val_acc: 0.8522 - lr: 1.0000e-08\n",
            "Epoch 31/60\n",
            "132/132 [==============================] - 84s 635ms/step - loss: 0.1221 - acc: 0.9610 - val_loss: 0.3912 - val_acc: 0.8244 - lr: 1.0000e-08\n",
            "Epoch 32/60\n",
            "132/132 [==============================] - 84s 636ms/step - loss: 0.1163 - acc: 0.9639 - val_loss: 0.3792 - val_acc: 0.8480 - lr: 1.0000e-08\n",
            "Epoch 33/60\n",
            "132/132 [==============================] - 84s 634ms/step - loss: 0.1242 - acc: 0.9617 - val_loss: 0.3778 - val_acc: 0.8351 - lr: 1.0000e-08\n",
            "Epoch 34/60\n",
            "132/132 [==============================] - 84s 634ms/step - loss: 0.1242 - acc: 0.9648 - val_loss: 0.3825 - val_acc: 0.8287 - lr: 1.0000e-08\n",
            "Epoch 35/60\n",
            "132/132 [==============================] - 84s 634ms/step - loss: 0.1191 - acc: 0.9629 - val_loss: 0.3914 - val_acc: 0.8351 - lr: 1.0000e-08\n",
            "Epoch 36/60\n",
            "132/132 [==============================] - 84s 634ms/step - loss: 0.1162 - acc: 0.9662 - val_loss: 0.3800 - val_acc: 0.8373 - lr: 1.0000e-08\n",
            "Epoch 37/60\n",
            "132/132 [==============================] - 84s 634ms/step - loss: 0.1169 - acc: 0.9629 - val_loss: 0.3962 - val_acc: 0.8373 - lr: 1.0000e-08\n",
            "Epoch 38/60\n",
            "132/132 [==============================] - 84s 634ms/step - loss: 0.1209 - acc: 0.9615 - val_loss: 0.4083 - val_acc: 0.8180 - lr: 1.0000e-08\n"
          ]
        }
      ],
      "source": [
        "learning_rate_reduction = ReduceLROnPlateau(monitor='val_acc', patience = 2, verbose=1,factor=0.3, min_lr=0.00000001)\n",
        "chkpt = ModelCheckpoint(filepath='best_model_effB3_6_vol2.hdf5', monitor='val_acc', save_best_only=True, save_weights_only=True)\n",
        "early_stopping = tf.keras.callbacks.EarlyStopping(patience=13, monitor='val_acc', restore_best_weights=True)\n",
        "\n",
        "history36 = model36.fit(train_gen, epochs=60, validation_data=valid_gen, callbacks=[learning_rate_reduction, chkpt, early_stopping])"
      ]
    },
    {
      "cell_type": "code",
      "execution_count": null,
      "metadata": {
        "id": "eVv9RSdaWxM_"
      },
      "outputs": [],
      "source": [
        "model36.load_weights(\"best_model_effB3_6_vol2.hdf5\")\n",
        "preds = model36.predict(X_test)\n",
        "labelled_preds = one_hot_encoder.inverse_transform(preds)\n",
        "pred = pd.DataFrame(labelled_preds, columns =[\"class_id\"])\n",
        "df = pd.read_csv('submission3.csv')\n",
        "df ['class_id']= pred\n",
        "df.to_csv(\"final_submission70_vol2.csv\", index=False)"
      ]
    },
    {
      "cell_type": "markdown",
      "metadata": {
        "id": "_BorqZTDSHhR"
      },
      "source": [
        "37)"
      ]
    },
    {
      "cell_type": "code",
      "execution_count": null,
      "metadata": {
        "id": "mVQRH-D-7hjM"
      },
      "outputs": [],
      "source": [
        "base_model37 = tf.keras.applications.EfficientNetB3(include_top=False,\n",
        "                                     weights='imagenet',\n",
        "                                     input_shape=(224, 224, 3))\n",
        "x = base_model37.output\n",
        "x = tf.keras.layers.GlobalAveragePooling2D()(x)\n",
        "x = Dense(512, activation=None, kernel_regularizer = L1L2(l1=1e-5, l2=1e-3))(x)\n",
        "x = BatchNormalization()(x)\n",
        "x = Activation('swish')(x)\n",
        "x = Dropout(0.2)(x)\n",
        "x = Dense(512, activation=None, kernel_regularizer = L1L2(l1=1e-5, l2=1e-3))(x)\n",
        "x = BatchNormalization()(x)\n",
        "x = Activation('swish')(x)\n",
        "x = Dropout(0.2)(x)\n",
        "ouput1 = Dense(3, activation= 'softmax')(x)\n",
        "\n",
        "model37 = Model(inputs=base_model37.input, outputs=ouput1)\n",
        "\n",
        "model37.compile(loss='binary_crossentropy', \n",
        "              optimizer='adam', metrics=['acc'])"
      ]
    },
    {
      "cell_type": "code",
      "execution_count": null,
      "metadata": {
        "colab": {
          "base_uri": "https://localhost:8080/"
        },
        "id": "E6TInFoRScQP",
        "outputId": "b32ee3a5-2f55-4797-ab65-ecdfe67b0877"
      },
      "outputs": [
        {
          "name": "stdout",
          "output_type": "stream",
          "text": [
            "Epoch 1/60\n",
            "132/132 [==============================] - 84s 512ms/step - loss: 1.6017 - acc: 0.7581 - val_loss: 1.0996 - val_acc: 0.7794 - lr: 0.0010\n",
            "Epoch 2/60\n",
            "132/132 [==============================] - 61s 464ms/step - loss: 0.7945 - acc: 0.8029 - val_loss: 0.5698 - val_acc: 0.8009 - lr: 0.0010\n",
            "Epoch 3/60\n",
            "132/132 [==============================] - 62s 467ms/step - loss: 0.4592 - acc: 0.8126 - val_loss: 0.5153 - val_acc: 0.7794 - lr: 0.0010\n",
            "Epoch 4/60\n",
            "132/132 [==============================] - 69s 518ms/step - loss: 0.3498 - acc: 0.8380 - val_loss: 0.3975 - val_acc: 0.7709 - lr: 0.0010\n",
            "Epoch 5/60\n",
            "132/132 [==============================] - 67s 506ms/step - loss: 0.3183 - acc: 0.8407 - val_loss: 0.3613 - val_acc: 0.8223 - lr: 0.0010\n",
            "Epoch 6/60\n",
            "132/132 [==============================] - 68s 510ms/step - loss: 0.2820 - acc: 0.8537 - val_loss: 0.3116 - val_acc: 0.8116 - lr: 0.0010\n",
            "Epoch 7/60\n",
            "132/132 [==============================] - 60s 453ms/step - loss: 0.2675 - acc: 0.8559 - val_loss: 0.3508 - val_acc: 0.8073 - lr: 0.0010\n",
            "Epoch 8/60\n",
            "132/132 [==============================] - ETA: 0s - loss: 0.2713 - acc: 0.8644\n",
            "Epoch 8: ReduceLROnPlateau reducing learning rate to 0.0003000000142492354.\n",
            "132/132 [==============================] - 60s 453ms/step - loss: 0.2713 - acc: 0.8644 - val_loss: 0.3223 - val_acc: 0.7966 - lr: 0.0010\n",
            "Epoch 9/60\n",
            "132/132 [==============================] - 61s 460ms/step - loss: 0.1859 - acc: 0.9082 - val_loss: 0.3059 - val_acc: 0.8394 - lr: 3.0000e-04\n",
            "Epoch 10/60\n",
            "132/132 [==============================] - 61s 458ms/step - loss: 0.1434 - acc: 0.9303 - val_loss: 0.2854 - val_acc: 0.8287 - lr: 3.0000e-04\n",
            "Epoch 11/60\n",
            "132/132 [==============================] - 60s 449ms/step - loss: 0.1339 - acc: 0.9339 - val_loss: 0.3668 - val_acc: 0.8266 - lr: 3.0000e-04\n",
            "Epoch 12/60\n",
            "132/132 [==============================] - ETA: 0s - loss: 0.1185 - acc: 0.9439\n",
            "Epoch 12: ReduceLROnPlateau reducing learning rate to 9.000000427477062e-05.\n",
            "132/132 [==============================] - 60s 451ms/step - loss: 0.1185 - acc: 0.9439 - val_loss: 0.3646 - val_acc: 0.8394 - lr: 3.0000e-04\n",
            "Epoch 13/60\n",
            "132/132 [==============================] - 60s 449ms/step - loss: 0.0871 - acc: 0.9648 - val_loss: 0.3258 - val_acc: 0.8394 - lr: 9.0000e-05\n",
            "Epoch 14/60\n",
            "132/132 [==============================] - ETA: 0s - loss: 0.0669 - acc: 0.9719\n",
            "Epoch 14: ReduceLROnPlateau reducing learning rate to 2.700000040931627e-05.\n",
            "132/132 [==============================] - 64s 486ms/step - loss: 0.0669 - acc: 0.9719 - val_loss: 0.3146 - val_acc: 0.8394 - lr: 9.0000e-05\n",
            "Epoch 15/60\n",
            "132/132 [==============================] - 69s 518ms/step - loss: 0.0565 - acc: 0.9781 - val_loss: 0.3212 - val_acc: 0.8651 - lr: 2.7000e-05\n",
            "Epoch 16/60\n",
            "132/132 [==============================] - ETA: 0s - loss: 0.0497 - acc: 0.9798\n",
            "Epoch 16: ReduceLROnPlateau reducing learning rate to 8.100000013655517e-06.\n",
            "132/132 [==============================] - 69s 523ms/step - loss: 0.0497 - acc: 0.9798 - val_loss: 0.3381 - val_acc: 0.8544 - lr: 2.7000e-05\n",
            "Epoch 17/60\n",
            "132/132 [==============================] - 67s 507ms/step - loss: 0.0427 - acc: 0.9841 - val_loss: 0.3678 - val_acc: 0.8501 - lr: 8.1000e-06\n",
            "Epoch 18/60\n",
            "132/132 [==============================] - ETA: 0s - loss: 0.0478 - acc: 0.9791\n",
            "Epoch 18: ReduceLROnPlateau reducing learning rate to 2.429999949526973e-06.\n",
            "132/132 [==============================] - 68s 515ms/step - loss: 0.0478 - acc: 0.9791 - val_loss: 0.3550 - val_acc: 0.8501 - lr: 8.1000e-06\n",
            "Epoch 19/60\n",
            "132/132 [==============================] - 67s 507ms/step - loss: 0.0393 - acc: 0.9836 - val_loss: 0.3900 - val_acc: 0.8458 - lr: 2.4300e-06\n",
            "Epoch 20/60\n",
            "132/132 [==============================] - ETA: 0s - loss: 0.0453 - acc: 0.9795\n",
            "Epoch 20: ReduceLROnPlateau reducing learning rate to 7.289999985005124e-07.\n",
            "132/132 [==============================] - 61s 457ms/step - loss: 0.0453 - acc: 0.9795 - val_loss: 0.3764 - val_acc: 0.8608 - lr: 2.4300e-06\n",
            "Epoch 21/60\n",
            "132/132 [==============================] - 60s 450ms/step - loss: 0.0403 - acc: 0.9867 - val_loss: 0.3938 - val_acc: 0.8330 - lr: 7.2900e-07\n",
            "Epoch 22/60\n",
            "132/132 [==============================] - ETA: 0s - loss: 0.0432 - acc: 0.9824\n",
            "Epoch 22: ReduceLROnPlateau reducing learning rate to 2.1870000637136398e-07.\n",
            "132/132 [==============================] - 60s 451ms/step - loss: 0.0432 - acc: 0.9824 - val_loss: 0.4122 - val_acc: 0.8415 - lr: 7.2900e-07\n",
            "Epoch 23/60\n",
            "132/132 [==============================] - 60s 450ms/step - loss: 0.0392 - acc: 0.9862 - val_loss: 0.3613 - val_acc: 0.8501 - lr: 2.1870e-07\n"
          ]
        }
      ],
      "source": [
        "learning_rate_reduction = ReduceLROnPlateau(monitor='val_loss', patience = 2, verbose=1,factor=0.3, min_lr=0.00000001)\n",
        "chkpt = ModelCheckpoint(filepath='best_model_effB3_7.hdf5', monitor='val_loss', save_best_only=True, save_weights_only=True)\n",
        "early_stopping = tf.keras.callbacks.EarlyStopping(patience=13, monitor='val_loss', restore_best_weights=True)\n",
        "\n",
        "history37 = model37.fit(train_gen, epochs=60, validation_data=valid_gen, callbacks=[learning_rate_reduction, chkpt, early_stopping])"
      ]
    },
    {
      "cell_type": "code",
      "execution_count": null,
      "metadata": {
        "id": "g8miwyWuTBjP"
      },
      "outputs": [],
      "source": [
        "model37.load_weights(\"best_model_effB3_7.hdf5\")\n",
        "preds = model37.predict(X_test)\n",
        "labelled_preds = one_hot_encoder.inverse_transform(preds)\n",
        "pred = pd.DataFrame(labelled_preds, columns =[\"class_id\"])\n",
        "df = pd.read_csv('submission3.csv')\n",
        "df ['class_id']= pred\n",
        "df.to_csv(\"final_submission71.csv\", index=False)"
      ]
    },
    {
      "cell_type": "code",
      "execution_count": null,
      "metadata": {
        "colab": {
          "base_uri": "https://localhost:8080/"
        },
        "id": "KvIgHdL5XA3Z",
        "outputId": "e640202a-24a9-4184-e575-3c3883f4911b"
      },
      "outputs": [
        {
          "name": "stdout",
          "output_type": "stream",
          "text": [
            "Epoch 1/60\n",
            "132/132 [==============================] - 101s 660ms/step - loss: 1.6541 - acc: 0.7501 - val_loss: 1.2589 - val_acc: 0.7923 - lr: 0.0010\n",
            "Epoch 2/60\n",
            "132/132 [==============================] - 84s 631ms/step - loss: 0.8735 - acc: 0.7993 - val_loss: 0.9295 - val_acc: 0.6338 - lr: 0.0010\n",
            "Epoch 3/60\n",
            "132/132 [==============================] - ETA: 0s - loss: 0.4874 - acc: 0.8171\n",
            "Epoch 3: ReduceLROnPlateau reducing learning rate to 0.0003000000142492354.\n",
            "132/132 [==============================] - 83s 629ms/step - loss: 0.4874 - acc: 0.8171 - val_loss: 0.5778 - val_acc: 0.7323 - lr: 0.0010\n",
            "Epoch 4/60\n",
            "132/132 [==============================] - 85s 639ms/step - loss: 0.3404 - acc: 0.8499 - val_loss: 0.3527 - val_acc: 0.8287 - lr: 3.0000e-04\n",
            "Epoch 5/60\n",
            "132/132 [==============================] - 83s 626ms/step - loss: 0.2771 - acc: 0.8768 - val_loss: 0.3548 - val_acc: 0.8223 - lr: 3.0000e-04\n",
            "Epoch 6/60\n",
            "132/132 [==============================] - 85s 643ms/step - loss: 0.2470 - acc: 0.8835 - val_loss: 0.3309 - val_acc: 0.8330 - lr: 3.0000e-04\n",
            "Epoch 7/60\n",
            "132/132 [==============================] - 83s 628ms/step - loss: 0.2086 - acc: 0.9030 - val_loss: 0.3382 - val_acc: 0.8137 - lr: 3.0000e-04\n",
            "Epoch 8/60\n",
            "132/132 [==============================] - ETA: 0s - loss: 0.1972 - acc: 0.9084\n",
            "Epoch 8: ReduceLROnPlateau reducing learning rate to 9.000000427477062e-05.\n",
            "132/132 [==============================] - 83s 628ms/step - loss: 0.1972 - acc: 0.9084 - val_loss: 0.3365 - val_acc: 0.8030 - lr: 3.0000e-04\n",
            "Epoch 9/60\n",
            "132/132 [==============================] - 83s 628ms/step - loss: 0.1452 - acc: 0.9365 - val_loss: 0.3163 - val_acc: 0.8201 - lr: 9.0000e-05\n",
            "Epoch 10/60\n",
            "132/132 [==============================] - ETA: 0s - loss: 0.1089 - acc: 0.9579\n",
            "Epoch 10: ReduceLROnPlateau reducing learning rate to 2.700000040931627e-05.\n",
            "132/132 [==============================] - 83s 629ms/step - loss: 0.1089 - acc: 0.9579 - val_loss: 0.3428 - val_acc: 0.8223 - lr: 9.0000e-05\n",
            "Epoch 11/60\n",
            "132/132 [==============================] - 83s 628ms/step - loss: 0.0968 - acc: 0.9605 - val_loss: 0.3536 - val_acc: 0.8137 - lr: 2.7000e-05\n",
            "Epoch 12/60\n",
            "132/132 [==============================] - ETA: 0s - loss: 0.0845 - acc: 0.9684\n",
            "Epoch 12: ReduceLROnPlateau reducing learning rate to 8.100000013655517e-06.\n",
            "132/132 [==============================] - 83s 625ms/step - loss: 0.0845 - acc: 0.9684 - val_loss: 0.3615 - val_acc: 0.8287 - lr: 2.7000e-05\n",
            "Epoch 13/60\n",
            "132/132 [==============================] - 83s 629ms/step - loss: 0.0799 - acc: 0.9686 - val_loss: 0.3934 - val_acc: 0.8223 - lr: 8.1000e-06\n",
            "Epoch 14/60\n",
            "132/132 [==============================] - 85s 638ms/step - loss: 0.0745 - acc: 0.9703 - val_loss: 0.3558 - val_acc: 0.8394 - lr: 8.1000e-06\n",
            "Epoch 15/60\n",
            "132/132 [==============================] - 83s 628ms/step - loss: 0.0697 - acc: 0.9755 - val_loss: 0.4067 - val_acc: 0.8223 - lr: 8.1000e-06\n",
            "Epoch 16/60\n",
            "132/132 [==============================] - ETA: 0s - loss: 0.0738 - acc: 0.9710\n",
            "Epoch 16: ReduceLROnPlateau reducing learning rate to 2.429999949526973e-06.\n",
            "132/132 [==============================] - 83s 628ms/step - loss: 0.0738 - acc: 0.9710 - val_loss: 0.3819 - val_acc: 0.8180 - lr: 8.1000e-06\n",
            "Epoch 17/60\n",
            "132/132 [==============================] - 84s 630ms/step - loss: 0.0674 - acc: 0.9748 - val_loss: 0.4081 - val_acc: 0.8223 - lr: 2.4300e-06\n",
            "Epoch 18/60\n",
            "132/132 [==============================] - ETA: 0s - loss: 0.0698 - acc: 0.9736\n",
            "Epoch 18: ReduceLROnPlateau reducing learning rate to 7.289999985005124e-07.\n",
            "132/132 [==============================] - 83s 628ms/step - loss: 0.0698 - acc: 0.9736 - val_loss: 0.4171 - val_acc: 0.8330 - lr: 2.4300e-06\n",
            "Epoch 19/60\n",
            "132/132 [==============================] - 83s 628ms/step - loss: 0.0712 - acc: 0.9719 - val_loss: 0.3922 - val_acc: 0.8223 - lr: 7.2900e-07\n",
            "Epoch 20/60\n",
            "132/132 [==============================] - ETA: 0s - loss: 0.0682 - acc: 0.9736\n",
            "Epoch 20: ReduceLROnPlateau reducing learning rate to 2.1870000637136398e-07.\n",
            "132/132 [==============================] - 83s 624ms/step - loss: 0.0682 - acc: 0.9736 - val_loss: 0.4065 - val_acc: 0.8287 - lr: 7.2900e-07\n",
            "Epoch 21/60\n",
            "132/132 [==============================] - 83s 627ms/step - loss: 0.0656 - acc: 0.9762 - val_loss: 0.4046 - val_acc: 0.8201 - lr: 2.1870e-07\n",
            "Epoch 22/60\n",
            "132/132 [==============================] - ETA: 0s - loss: 0.0688 - acc: 0.9731\n",
            "Epoch 22: ReduceLROnPlateau reducing learning rate to 6.561000276406048e-08.\n",
            "132/132 [==============================] - 83s 629ms/step - loss: 0.0688 - acc: 0.9731 - val_loss: 0.3874 - val_acc: 0.8223 - lr: 2.1870e-07\n",
            "Epoch 23/60\n",
            "132/132 [==============================] - 84s 631ms/step - loss: 0.0668 - acc: 0.9738 - val_loss: 0.4016 - val_acc: 0.8201 - lr: 6.5610e-08\n",
            "Epoch 24/60\n",
            "132/132 [==============================] - ETA: 0s - loss: 0.0657 - acc: 0.9753\n",
            "Epoch 24: ReduceLROnPlateau reducing learning rate to 1.9683000829218145e-08.\n",
            "132/132 [==============================] - 83s 629ms/step - loss: 0.0657 - acc: 0.9753 - val_loss: 0.3853 - val_acc: 0.8394 - lr: 6.5610e-08\n",
            "Epoch 25/60\n",
            "132/132 [==============================] - 83s 628ms/step - loss: 0.0626 - acc: 0.9769 - val_loss: 0.3830 - val_acc: 0.8137 - lr: 1.9683e-08\n",
            "Epoch 26/60\n",
            "132/132 [==============================] - ETA: 0s - loss: 0.0646 - acc: 0.9772\n",
            "Epoch 26: ReduceLROnPlateau reducing learning rate to 1e-08.\n",
            "132/132 [==============================] - 83s 629ms/step - loss: 0.0646 - acc: 0.9772 - val_loss: 0.4042 - val_acc: 0.8266 - lr: 1.9683e-08\n",
            "Epoch 27/60\n",
            "132/132 [==============================] - 83s 630ms/step - loss: 0.0676 - acc: 0.9753 - val_loss: 0.3933 - val_acc: 0.8223 - lr: 1.0000e-08\n"
          ]
        }
      ],
      "source": [
        "learning_rate_reduction = ReduceLROnPlateau(monitor='val_acc', patience = 2, verbose=1,factor=0.3, min_lr=0.00000001)\n",
        "chkpt = ModelCheckpoint(filepath='best_model_effB3_7_vol2.hdf5', monitor='val_acc', save_best_only=True, save_weights_only=True)\n",
        "early_stopping = tf.keras.callbacks.EarlyStopping(patience=13, monitor='val_acc', restore_best_weights=True)\n",
        "\n",
        "history37 = model37.fit(train_gen, epochs=60, validation_data=valid_gen, callbacks=[learning_rate_reduction, chkpt, early_stopping])"
      ]
    },
    {
      "cell_type": "code",
      "execution_count": null,
      "metadata": {
        "id": "Vr9uB5cjXA65"
      },
      "outputs": [],
      "source": [
        "model37.load_weights(\"best_model_effB3_7_vol2.hdf5\")\n",
        "preds = model37.predict(X_test)\n",
        "labelled_preds = one_hot_encoder.inverse_transform(preds)\n",
        "pred = pd.DataFrame(labelled_preds, columns =[\"class_id\"])\n",
        "df = pd.read_csv('submission3.csv')\n",
        "df ['class_id']= pred\n",
        "df.to_csv(\"final_submission71_vol2.csv\", index=False)"
      ]
    },
    {
      "cell_type": "markdown",
      "metadata": {
        "id": "upwaNl0sTKfO"
      },
      "source": [
        "38)"
      ]
    },
    {
      "cell_type": "code",
      "execution_count": null,
      "metadata": {
        "id": "d-o-0y62TKLX"
      },
      "outputs": [],
      "source": [
        "base_model38 = tf.keras.applications.EfficientNetB3(include_top=False,\n",
        "                                     weights='imagenet',\n",
        "                                     input_shape=(224, 224, 3))\n",
        "x = base_model38.output\n",
        "x = tf.keras.layers.GlobalAveragePooling2D()(x)\n",
        "x = Dense(256, activation=None, kernel_regularizer = L1L2(l1=1e-5, l2=1e-3))(x)\n",
        "x = BatchNormalization()(x)\n",
        "x = Activation('swish')(x)\n",
        "x = Dropout(0.3)(x)\n",
        "x = Dense(256, activation=None, kernel_regularizer = L1L2(l1=1e-5, l2=1e-3))(x)\n",
        "x = BatchNormalization()(x)\n",
        "x = Activation('swish')(x)\n",
        "x = Dropout(0.3)(x)\n",
        "ouput1 = Dense(3, activation= 'softmax')(x)\n",
        "\n",
        "model38 = Model(inputs=base_model38.input, outputs=ouput1)\n",
        "\n",
        "model38.compile(loss='binary_crossentropy', \n",
        "              optimizer='adam', metrics=['acc'])"
      ]
    },
    {
      "cell_type": "code",
      "execution_count": null,
      "metadata": {
        "colab": {
          "base_uri": "https://localhost:8080/"
        },
        "id": "u05eA4q6US3z",
        "outputId": "4a35ea7b-50d5-4885-dc9f-922dbeb79010"
      },
      "outputs": [
        {
          "name": "stdout",
          "output_type": "stream",
          "text": [
            "Epoch 1/80\n",
            "132/132 [==============================] - 76s 472ms/step - loss: 1.1023 - acc: 0.7512 - val_loss: 1.0913 - val_acc: 0.6488 - lr: 0.0010\n",
            "Epoch 2/80\n",
            "132/132 [==============================] - 60s 455ms/step - loss: 0.7122 - acc: 0.8062 - val_loss: 0.6104 - val_acc: 0.7837 - lr: 0.0010\n",
            "Epoch 3/80\n",
            "132/132 [==============================] - 59s 446ms/step - loss: 0.4743 - acc: 0.8254 - val_loss: 0.6584 - val_acc: 0.6403 - lr: 0.0010\n",
            "Epoch 4/80\n",
            "132/132 [==============================] - 60s 456ms/step - loss: 0.3759 - acc: 0.8266 - val_loss: 0.4159 - val_acc: 0.7837 - lr: 0.0010\n",
            "Epoch 5/80\n",
            "132/132 [==============================] - 61s 457ms/step - loss: 0.3312 - acc: 0.8350 - val_loss: 0.3529 - val_acc: 0.7837 - lr: 0.0010\n",
            "Epoch 6/80\n",
            "132/132 [==============================] - 61s 457ms/step - loss: 0.2900 - acc: 0.8385 - val_loss: 0.3382 - val_acc: 0.8009 - lr: 0.0010\n",
            "Epoch 7/80\n",
            "132/132 [==============================] - 61s 457ms/step - loss: 0.2752 - acc: 0.8535 - val_loss: 0.3241 - val_acc: 0.8223 - lr: 0.0010\n",
            "Epoch 8/80\n",
            "132/132 [==============================] - 59s 447ms/step - loss: 0.2539 - acc: 0.8671 - val_loss: 0.3720 - val_acc: 0.8180 - lr: 0.0010\n",
            "Epoch 9/80\n",
            "132/132 [==============================] - ETA: 0s - loss: 0.2286 - acc: 0.8823\n",
            "Epoch 9: ReduceLROnPlateau reducing learning rate to 0.0003000000142492354.\n",
            "132/132 [==============================] - 59s 447ms/step - loss: 0.2286 - acc: 0.8823 - val_loss: 0.4902 - val_acc: 0.7666 - lr: 0.0010\n",
            "Epoch 10/80\n",
            "132/132 [==============================] - 61s 457ms/step - loss: 0.1817 - acc: 0.9118 - val_loss: 0.2931 - val_acc: 0.7880 - lr: 3.0000e-04\n",
            "Epoch 11/80\n",
            "132/132 [==============================] - 59s 446ms/step - loss: 0.1316 - acc: 0.9379 - val_loss: 0.3079 - val_acc: 0.8437 - lr: 3.0000e-04\n",
            "Epoch 12/80\n",
            "132/132 [==============================] - ETA: 0s - loss: 0.1127 - acc: 0.9460\n",
            "Epoch 12: ReduceLROnPlateau reducing learning rate to 9.000000427477062e-05.\n",
            "132/132 [==============================] - 59s 448ms/step - loss: 0.1127 - acc: 0.9460 - val_loss: 0.3787 - val_acc: 0.8073 - lr: 3.0000e-04\n",
            "Epoch 13/80\n",
            "132/132 [==============================] - 59s 447ms/step - loss: 0.0988 - acc: 0.9584 - val_loss: 0.3261 - val_acc: 0.8287 - lr: 9.0000e-05\n",
            "Epoch 14/80\n",
            "132/132 [==============================] - ETA: 0s - loss: 0.0829 - acc: 0.9622\n",
            "Epoch 14: ReduceLROnPlateau reducing learning rate to 2.700000040931627e-05.\n",
            "132/132 [==============================] - 59s 447ms/step - loss: 0.0829 - acc: 0.9622 - val_loss: 0.3111 - val_acc: 0.8522 - lr: 9.0000e-05\n",
            "Epoch 15/80\n",
            "132/132 [==============================] - 59s 447ms/step - loss: 0.0676 - acc: 0.9731 - val_loss: 0.3203 - val_acc: 0.8308 - lr: 2.7000e-05\n",
            "Epoch 16/80\n",
            "132/132 [==============================] - ETA: 0s - loss: 0.0626 - acc: 0.9767\n",
            "Epoch 16: ReduceLROnPlateau reducing learning rate to 8.100000013655517e-06.\n",
            "132/132 [==============================] - 59s 447ms/step - loss: 0.0626 - acc: 0.9767 - val_loss: 0.3374 - val_acc: 0.8287 - lr: 2.7000e-05\n",
            "Epoch 17/80\n",
            "132/132 [==============================] - 59s 447ms/step - loss: 0.0608 - acc: 0.9748 - val_loss: 0.3487 - val_acc: 0.8351 - lr: 8.1000e-06\n",
            "Epoch 18/80\n",
            "132/132 [==============================] - ETA: 0s - loss: 0.0574 - acc: 0.9753\n",
            "Epoch 18: ReduceLROnPlateau reducing learning rate to 2.429999949526973e-06.\n",
            "132/132 [==============================] - 59s 447ms/step - loss: 0.0574 - acc: 0.9753 - val_loss: 0.3579 - val_acc: 0.8308 - lr: 8.1000e-06\n",
            "Epoch 19/80\n",
            "132/132 [==============================] - 59s 448ms/step - loss: 0.0570 - acc: 0.9767 - val_loss: 0.3412 - val_acc: 0.8308 - lr: 2.4300e-06\n",
            "Epoch 20/80\n",
            "132/132 [==============================] - ETA: 0s - loss: 0.0547 - acc: 0.9795\n",
            "Epoch 20: ReduceLROnPlateau reducing learning rate to 7.289999985005124e-07.\n",
            "132/132 [==============================] - 59s 446ms/step - loss: 0.0547 - acc: 0.9795 - val_loss: 0.3447 - val_acc: 0.8415 - lr: 2.4300e-06\n",
            "Epoch 21/80\n",
            "132/132 [==============================] - 59s 446ms/step - loss: 0.0536 - acc: 0.9793 - val_loss: 0.3319 - val_acc: 0.8480 - lr: 7.2900e-07\n",
            "Epoch 22/80\n",
            "132/132 [==============================] - ETA: 0s - loss: 0.0532 - acc: 0.9805\n",
            "Epoch 22: ReduceLROnPlateau reducing learning rate to 2.1870000637136398e-07.\n",
            "132/132 [==============================] - 59s 447ms/step - loss: 0.0532 - acc: 0.9805 - val_loss: 0.3764 - val_acc: 0.8244 - lr: 7.2900e-07\n",
            "Epoch 23/80\n",
            "132/132 [==============================] - 59s 449ms/step - loss: 0.0575 - acc: 0.9774 - val_loss: 0.3846 - val_acc: 0.8458 - lr: 2.1870e-07\n"
          ]
        }
      ],
      "source": [
        "learning_rate_reduction = ReduceLROnPlateau(monitor='val_loss', patience = 2, verbose=1,factor=0.3, min_lr=0.00000001)\n",
        "chkpt = ModelCheckpoint(filepath='best_model_effB3_8.hdf5', monitor='val_loss', save_best_only=True, save_weights_only=True)\n",
        "early_stopping = tf.keras.callbacks.EarlyStopping(patience=13, monitor='val_loss', restore_best_weights=True)\n",
        "\n",
        "history38 = model38.fit(train_gen, epochs=80, validation_data=valid_gen, callbacks=[learning_rate_reduction, chkpt, early_stopping])"
      ]
    },
    {
      "cell_type": "code",
      "execution_count": null,
      "metadata": {
        "id": "HLE2B3w6UVrv"
      },
      "outputs": [],
      "source": [
        "model38.load_weights(\"best_model_effB3_8.hdf5\")\n",
        "preds = model38.predict(X_test)\n",
        "labelled_preds = one_hot_encoder.inverse_transform(preds)\n",
        "pred = pd.DataFrame(labelled_preds, columns =[\"class_id\"])\n",
        "df = pd.read_csv('submission3.csv')\n",
        "df ['class_id']= pred\n",
        "df.to_csv(\"final_submission72.csv\", index=False)"
      ]
    },
    {
      "cell_type": "code",
      "execution_count": null,
      "metadata": {
        "colab": {
          "base_uri": "https://localhost:8080/"
        },
        "id": "CsWE-EBhXQBM",
        "outputId": "1448279d-5d59-4c81-8644-dffd885ad152"
      },
      "outputs": [
        {
          "name": "stdout",
          "output_type": "stream",
          "text": [
            "Epoch 1/80\n",
            "132/132 [==============================] - 100s 655ms/step - loss: 1.1049 - acc: 0.7441 - val_loss: 1.0144 - val_acc: 0.7131 - lr: 0.0010\n",
            "Epoch 2/80\n",
            "132/132 [==============================] - 85s 641ms/step - loss: 0.7147 - acc: 0.7988 - val_loss: 0.5825 - val_acc: 0.7901 - lr: 0.0010\n",
            "Epoch 3/80\n",
            "132/132 [==============================] - 83s 628ms/step - loss: 0.4835 - acc: 0.8150 - val_loss: 0.5238 - val_acc: 0.7687 - lr: 0.0010\n",
            "Epoch 4/80\n",
            "132/132 [==============================] - ETA: 0s - loss: 0.3768 - acc: 0.8361\n",
            "Epoch 4: ReduceLROnPlateau reducing learning rate to 0.0003000000142492354.\n",
            "132/132 [==============================] - 83s 629ms/step - loss: 0.3768 - acc: 0.8361 - val_loss: 0.4569 - val_acc: 0.7430 - lr: 0.0010\n",
            "Epoch 5/80\n",
            "132/132 [==============================] - 85s 644ms/step - loss: 0.2856 - acc: 0.8652 - val_loss: 0.3333 - val_acc: 0.8137 - lr: 3.0000e-04\n",
            "Epoch 6/80\n",
            "132/132 [==============================] - 83s 627ms/step - loss: 0.2441 - acc: 0.8882 - val_loss: 0.3120 - val_acc: 0.8116 - lr: 3.0000e-04\n",
            "Epoch 7/80\n",
            "132/132 [==============================] - ETA: 0s - loss: 0.2164 - acc: 0.8982\n",
            "Epoch 7: ReduceLROnPlateau reducing learning rate to 9.000000427477062e-05.\n",
            "132/132 [==============================] - 84s 631ms/step - loss: 0.2164 - acc: 0.8982 - val_loss: 0.3422 - val_acc: 0.8051 - lr: 3.0000e-04\n",
            "Epoch 8/80\n",
            "132/132 [==============================] - 85s 640ms/step - loss: 0.1684 - acc: 0.9329 - val_loss: 0.3490 - val_acc: 0.8287 - lr: 9.0000e-05\n",
            "Epoch 9/80\n",
            "132/132 [==============================] - 85s 639ms/step - loss: 0.1491 - acc: 0.9386 - val_loss: 0.3276 - val_acc: 0.8458 - lr: 9.0000e-05\n",
            "Epoch 10/80\n",
            "132/132 [==============================] - 83s 629ms/step - loss: 0.1227 - acc: 0.9558 - val_loss: 0.3485 - val_acc: 0.8308 - lr: 9.0000e-05\n",
            "Epoch 11/80\n",
            "132/132 [==============================] - ETA: 0s - loss: 0.1160 - acc: 0.9558\n",
            "Epoch 11: ReduceLROnPlateau reducing learning rate to 2.700000040931627e-05.\n",
            "132/132 [==============================] - 84s 631ms/step - loss: 0.1160 - acc: 0.9558 - val_loss: 0.3327 - val_acc: 0.8308 - lr: 9.0000e-05\n",
            "Epoch 12/80\n",
            "132/132 [==============================] - 83s 626ms/step - loss: 0.1016 - acc: 0.9658 - val_loss: 0.3722 - val_acc: 0.8308 - lr: 2.7000e-05\n",
            "Epoch 13/80\n",
            "132/132 [==============================] - ETA: 0s - loss: 0.0983 - acc: 0.9653\n",
            "Epoch 13: ReduceLROnPlateau reducing learning rate to 8.100000013655517e-06.\n",
            "132/132 [==============================] - 83s 628ms/step - loss: 0.0983 - acc: 0.9653 - val_loss: 0.3598 - val_acc: 0.8351 - lr: 2.7000e-05\n",
            "Epoch 14/80\n",
            "132/132 [==============================] - 83s 627ms/step - loss: 0.0898 - acc: 0.9691 - val_loss: 0.3513 - val_acc: 0.8394 - lr: 8.1000e-06\n",
            "Epoch 15/80\n",
            "132/132 [==============================] - ETA: 0s - loss: 0.0837 - acc: 0.9736\n",
            "Epoch 15: ReduceLROnPlateau reducing learning rate to 2.429999949526973e-06.\n",
            "132/132 [==============================] - 83s 627ms/step - loss: 0.0837 - acc: 0.9736 - val_loss: 0.4020 - val_acc: 0.8287 - lr: 8.1000e-06\n",
            "Epoch 16/80\n",
            "132/132 [==============================] - 83s 628ms/step - loss: 0.0777 - acc: 0.9769 - val_loss: 0.3808 - val_acc: 0.8458 - lr: 2.4300e-06\n",
            "Epoch 17/80\n",
            "132/132 [==============================] - ETA: 0s - loss: 0.0813 - acc: 0.9743\n",
            "Epoch 17: ReduceLROnPlateau reducing learning rate to 7.289999985005124e-07.\n",
            "132/132 [==============================] - 84s 632ms/step - loss: 0.0813 - acc: 0.9743 - val_loss: 0.3895 - val_acc: 0.8394 - lr: 2.4300e-06\n",
            "Epoch 18/80\n",
            "132/132 [==============================] - 83s 626ms/step - loss: 0.0814 - acc: 0.9772 - val_loss: 0.3795 - val_acc: 0.8415 - lr: 7.2900e-07\n",
            "Epoch 19/80\n",
            "132/132 [==============================] - ETA: 0s - loss: 0.0838 - acc: 0.9719\n",
            "Epoch 19: ReduceLROnPlateau reducing learning rate to 2.1870000637136398e-07.\n",
            "132/132 [==============================] - 83s 630ms/step - loss: 0.0838 - acc: 0.9719 - val_loss: 0.3790 - val_acc: 0.8330 - lr: 7.2900e-07\n",
            "Epoch 20/80\n",
            "132/132 [==============================] - 85s 643ms/step - loss: 0.0838 - acc: 0.9748 - val_loss: 0.3615 - val_acc: 0.8608 - lr: 2.1870e-07\n",
            "Epoch 21/80\n",
            "132/132 [==============================] - 83s 627ms/step - loss: 0.0788 - acc: 0.9769 - val_loss: 0.3491 - val_acc: 0.8565 - lr: 2.1870e-07\n",
            "Epoch 22/80\n",
            "132/132 [==============================] - ETA: 0s - loss: 0.0804 - acc: 0.9753\n",
            "Epoch 22: ReduceLROnPlateau reducing learning rate to 6.561000276406048e-08.\n",
            "132/132 [==============================] - 84s 631ms/step - loss: 0.0804 - acc: 0.9753 - val_loss: 0.3926 - val_acc: 0.8330 - lr: 2.1870e-07\n",
            "Epoch 23/80\n",
            "132/132 [==============================] - 83s 629ms/step - loss: 0.0818 - acc: 0.9738 - val_loss: 0.3918 - val_acc: 0.8351 - lr: 6.5610e-08\n",
            "Epoch 24/80\n",
            "132/132 [==============================] - ETA: 0s - loss: 0.0816 - acc: 0.9750\n",
            "Epoch 24: ReduceLROnPlateau reducing learning rate to 1.9683000829218145e-08.\n",
            "132/132 [==============================] - 83s 629ms/step - loss: 0.0816 - acc: 0.9750 - val_loss: 0.3846 - val_acc: 0.8351 - lr: 6.5610e-08\n",
            "Epoch 25/80\n",
            "132/132 [==============================] - 83s 625ms/step - loss: 0.0805 - acc: 0.9767 - val_loss: 0.3637 - val_acc: 0.8458 - lr: 1.9683e-08\n",
            "Epoch 26/80\n",
            "132/132 [==============================] - ETA: 0s - loss: 0.0783 - acc: 0.9784\n",
            "Epoch 26: ReduceLROnPlateau reducing learning rate to 1e-08.\n",
            "132/132 [==============================] - 83s 629ms/step - loss: 0.0783 - acc: 0.9784 - val_loss: 0.3853 - val_acc: 0.8330 - lr: 1.9683e-08\n",
            "Epoch 27/80\n",
            "132/132 [==============================] - 83s 627ms/step - loss: 0.0783 - acc: 0.9765 - val_loss: 0.3668 - val_acc: 0.8330 - lr: 1.0000e-08\n",
            "Epoch 28/80\n",
            "132/132 [==============================] - 83s 625ms/step - loss: 0.0819 - acc: 0.9741 - val_loss: 0.3909 - val_acc: 0.8308 - lr: 1.0000e-08\n",
            "Epoch 29/80\n",
            "132/132 [==============================] - 83s 626ms/step - loss: 0.0827 - acc: 0.9748 - val_loss: 0.3733 - val_acc: 0.8394 - lr: 1.0000e-08\n",
            "Epoch 30/80\n",
            "132/132 [==============================] - 83s 630ms/step - loss: 0.0876 - acc: 0.9715 - val_loss: 0.3576 - val_acc: 0.8437 - lr: 1.0000e-08\n",
            "Epoch 31/80\n",
            "132/132 [==============================] - 83s 627ms/step - loss: 0.0814 - acc: 0.9762 - val_loss: 0.3510 - val_acc: 0.8522 - lr: 1.0000e-08\n",
            "Epoch 32/80\n",
            "132/132 [==============================] - 83s 628ms/step - loss: 0.0812 - acc: 0.9736 - val_loss: 0.3923 - val_acc: 0.8308 - lr: 1.0000e-08\n",
            "Epoch 33/80\n",
            "132/132 [==============================] - 83s 628ms/step - loss: 0.0807 - acc: 0.9769 - val_loss: 0.3813 - val_acc: 0.8308 - lr: 1.0000e-08\n"
          ]
        }
      ],
      "source": [
        "learning_rate_reduction = ReduceLROnPlateau(monitor='val_acc', patience = 2, verbose=1,factor=0.3, min_lr=0.00000001)\n",
        "chkpt = ModelCheckpoint(filepath='best_model_effB3_8_vol2.hdf5', monitor='val_acc', save_best_only=True, save_weights_only=True)\n",
        "early_stopping = tf.keras.callbacks.EarlyStopping(patience=13, monitor='val_acc', restore_best_weights=True)\n",
        "\n",
        "history38 = model38.fit(train_gen, epochs=80, validation_data=valid_gen, callbacks=[learning_rate_reduction, chkpt, early_stopping])"
      ]
    },
    {
      "cell_type": "code",
      "execution_count": null,
      "metadata": {
        "id": "hwjtFHMbXQE1"
      },
      "outputs": [],
      "source": [
        "model38.load_weights(\"best_model_effB3_8_vol2.hdf5\")\n",
        "preds = model38.predict(X_test)\n",
        "labelled_preds = one_hot_encoder.inverse_transform(preds)\n",
        "pred = pd.DataFrame(labelled_preds, columns =[\"class_id\"])\n",
        "df = pd.read_csv('submission3.csv')\n",
        "df ['class_id']= pred\n",
        "df.to_csv(\"final_submission72_vol2.csv\", index=False)"
      ]
    },
    {
      "cell_type": "markdown",
      "source": [
        "###EfficientNetV2B0\n"
      ],
      "metadata": {
        "id": "CypbrvSq1esj"
      }
    },
    {
      "cell_type": "code",
      "source": [
        "base_model4 = tf.keras.applications.EfficientNetV2B0(include_top=False,\n",
        "                                     weights='imagenet',\n",
        "                                     input_shape=(224, 224, 3))\n",
        "x = base_model4.output\n",
        "x = tf.keras.layers.GlobalAveragePooling2D()(x)\n",
        "x = Dense(512, activation=None, kernel_regularizer = L1L2(l1=1e-5, l2=1e-3))(x)\n",
        "x = BatchNormalization()(x)\n",
        "x = Activation('swish')(x)\n",
        "x = Dropout(0.3)(x)\n",
        "x = Dense(512, activation=None, kernel_regularizer = L1L2(l1=1e-5, l2=1e-3))(x)\n",
        "x = BatchNormalization()(x)\n",
        "x = Activation('swish')(x)\n",
        "x = Dropout(0.3)(x)\n",
        "ouput1 = Dense(3, activation= 'softmax')(x)\n",
        "\n",
        "model4 = Model(inputs=base_model4.input, outputs=ouput1)\n",
        "\n",
        "model4.compile(loss='categorical_crossentropy', \n",
        "              optimizer=tf.keras.optimizers.Adam(1e-3, decay = 1e-3 * 0.1), metrics=['acc'])"
      ],
      "metadata": {
        "id": "oEsBuKl81liI",
        "colab": {
          "base_uri": "https://localhost:8080/"
        },
        "outputId": "d319a916-3ea3-495e-988c-4a7f318e9eb3"
      },
      "execution_count": null,
      "outputs": [
        {
          "output_type": "stream",
          "name": "stdout",
          "text": [
            "Downloading data from https://storage.googleapis.com/tensorflow/keras-applications/efficientnet_v2/efficientnetv2-b0_notop.h5\n",
            "24281088/24274472 [==============================] - 0s 0us/step\n",
            "24289280/24274472 [==============================] - 0s 0us/step\n"
          ]
        }
      ]
    },
    {
      "cell_type": "code",
      "source": [
        "learning_rate_reduction = ReduceLROnPlateau(monitor='val_loss', patience = 2, verbose=1,factor=0.3, min_lr=0.00000001)\n",
        "chkpt = ModelCheckpoint(filepath='best_model_effV2B0.hdf5', monitor='val_loss', save_best_only=True, save_weights_only=True)\n",
        "early_stopping = tf.keras.callbacks.EarlyStopping(patience=13, monitor='val_loss', restore_best_weights=True)\n",
        "\n",
        "history4 = model4.fit(train_gen, epochs=25, validation_data=valid_gen, callbacks=[learning_rate_reduction, chkpt, early_stopping])"
      ],
      "metadata": {
        "colab": {
          "base_uri": "https://localhost:8080/"
        },
        "id": "vVkLqqKb16Xg",
        "outputId": "ec8ef451-9e22-41e0-a3e1-04817d085a28"
      },
      "execution_count": null,
      "outputs": [
        {
          "output_type": "stream",
          "name": "stdout",
          "text": [
            "Epoch 1/25\n",
            "132/132 [==============================] - 63s 403ms/step - loss: 2.0764 - acc: 0.7520 - val_loss: 1.7443 - val_acc: 0.8030 - lr: 0.0010\n",
            "Epoch 2/25\n",
            "132/132 [==============================] - 53s 400ms/step - loss: 1.5988 - acc: 0.8086 - val_loss: 1.5081 - val_acc: 0.7709 - lr: 0.0010\n",
            "Epoch 3/25\n",
            "132/132 [==============================] - 51s 385ms/step - loss: 1.2613 - acc: 0.8088 - val_loss: 1.1855 - val_acc: 0.7944 - lr: 0.0010\n",
            "Epoch 4/25\n",
            "132/132 [==============================] - 51s 387ms/step - loss: 0.9894 - acc: 0.8150 - val_loss: 0.9316 - val_acc: 0.7859 - lr: 0.0010\n",
            "Epoch 5/25\n",
            "132/132 [==============================] - 51s 386ms/step - loss: 0.7816 - acc: 0.8316 - val_loss: 0.7755 - val_acc: 0.8073 - lr: 0.0010\n",
            "Epoch 6/25\n",
            "132/132 [==============================] - 51s 389ms/step - loss: 0.6321 - acc: 0.8411 - val_loss: 0.6085 - val_acc: 0.8223 - lr: 0.0010\n",
            "Epoch 7/25\n",
            "132/132 [==============================] - 51s 387ms/step - loss: 0.5285 - acc: 0.8502 - val_loss: 0.5511 - val_acc: 0.8330 - lr: 0.0010\n",
            "Epoch 8/25\n",
            "132/132 [==============================] - 51s 387ms/step - loss: 0.4587 - acc: 0.8649 - val_loss: 0.5178 - val_acc: 0.8266 - lr: 0.0010\n",
            "Epoch 9/25\n",
            "132/132 [==============================] - 51s 388ms/step - loss: 0.4196 - acc: 0.8642 - val_loss: 0.4728 - val_acc: 0.8330 - lr: 0.0010\n",
            "Epoch 10/25\n",
            "132/132 [==============================] - 50s 379ms/step - loss: 0.3889 - acc: 0.8706 - val_loss: 0.5383 - val_acc: 0.8158 - lr: 0.0010\n",
            "Epoch 11/25\n",
            "132/132 [==============================] - ETA: 0s - loss: 0.3594 - acc: 0.8856\n",
            "Epoch 11: ReduceLROnPlateau reducing learning rate to 0.0003000000142492354.\n",
            "132/132 [==============================] - 50s 378ms/step - loss: 0.3594 - acc: 0.8856 - val_loss: 0.5068 - val_acc: 0.8244 - lr: 0.0010\n",
            "Epoch 12/25\n",
            "132/132 [==============================] - 51s 385ms/step - loss: 0.2506 - acc: 0.9222 - val_loss: 0.3999 - val_acc: 0.8501 - lr: 3.0000e-04\n",
            "Epoch 13/25\n",
            "132/132 [==============================] - 50s 381ms/step - loss: 0.1985 - acc: 0.9439 - val_loss: 0.4313 - val_acc: 0.8437 - lr: 3.0000e-04\n",
            "Epoch 14/25\n",
            "132/132 [==============================] - ETA: 0s - loss: 0.1719 - acc: 0.9515\n",
            "Epoch 14: ReduceLROnPlateau reducing learning rate to 9.000000427477062e-05.\n",
            "132/132 [==============================] - 50s 378ms/step - loss: 0.1719 - acc: 0.9515 - val_loss: 0.4363 - val_acc: 0.8501 - lr: 3.0000e-04\n",
            "Epoch 15/25\n",
            "132/132 [==============================] - 50s 380ms/step - loss: 0.1247 - acc: 0.9669 - val_loss: 0.4927 - val_acc: 0.8544 - lr: 9.0000e-05\n",
            "Epoch 16/25\n",
            "132/132 [==============================] - ETA: 0s - loss: 0.1065 - acc: 0.9741\n",
            "Epoch 16: ReduceLROnPlateau reducing learning rate to 2.700000040931627e-05.\n",
            "132/132 [==============================] - 50s 380ms/step - loss: 0.1065 - acc: 0.9741 - val_loss: 0.5417 - val_acc: 0.8587 - lr: 9.0000e-05\n",
            "Epoch 17/25\n",
            "132/132 [==============================] - 50s 378ms/step - loss: 0.0944 - acc: 0.9800 - val_loss: 0.5067 - val_acc: 0.8758 - lr: 2.7000e-05\n",
            "Epoch 18/25\n",
            "132/132 [==============================] - ETA: 0s - loss: 0.0815 - acc: 0.9841\n",
            "Epoch 18: ReduceLROnPlateau reducing learning rate to 8.100000013655517e-06.\n",
            "132/132 [==============================] - 50s 379ms/step - loss: 0.0815 - acc: 0.9841 - val_loss: 0.5391 - val_acc: 0.8651 - lr: 2.7000e-05\n",
            "Epoch 19/25\n",
            "132/132 [==============================] - 50s 381ms/step - loss: 0.0795 - acc: 0.9810 - val_loss: 0.5284 - val_acc: 0.8565 - lr: 8.1000e-06\n",
            "Epoch 20/25\n",
            "132/132 [==============================] - ETA: 0s - loss: 0.0817 - acc: 0.9817\n",
            "Epoch 20: ReduceLROnPlateau reducing learning rate to 2.429999949526973e-06.\n",
            "132/132 [==============================] - 53s 398ms/step - loss: 0.0817 - acc: 0.9817 - val_loss: 0.5536 - val_acc: 0.8608 - lr: 8.1000e-06\n",
            "Epoch 21/25\n",
            "132/132 [==============================] - 51s 385ms/step - loss: 0.0805 - acc: 0.9817 - val_loss: 0.5912 - val_acc: 0.8608 - lr: 2.4300e-06\n",
            "Epoch 22/25\n",
            "132/132 [==============================] - ETA: 0s - loss: 0.0810 - acc: 0.9822\n",
            "Epoch 22: ReduceLROnPlateau reducing learning rate to 7.289999985005124e-07.\n",
            "132/132 [==============================] - 55s 416ms/step - loss: 0.0810 - acc: 0.9822 - val_loss: 0.5275 - val_acc: 0.8608 - lr: 2.4300e-06\n",
            "Epoch 23/25\n",
            "132/132 [==============================] - 50s 379ms/step - loss: 0.0739 - acc: 0.9864 - val_loss: 0.6083 - val_acc: 0.8587 - lr: 7.2900e-07\n",
            "Epoch 24/25\n",
            "132/132 [==============================] - ETA: 0s - loss: 0.0749 - acc: 0.9838\n",
            "Epoch 24: ReduceLROnPlateau reducing learning rate to 2.1870000637136398e-07.\n",
            "132/132 [==============================] - 50s 380ms/step - loss: 0.0749 - acc: 0.9838 - val_loss: 0.5984 - val_acc: 0.8501 - lr: 7.2900e-07\n",
            "Epoch 25/25\n",
            "132/132 [==============================] - 50s 379ms/step - loss: 0.0770 - acc: 0.9857 - val_loss: 0.5952 - val_acc: 0.8672 - lr: 2.1870e-07\n"
          ]
        }
      ]
    },
    {
      "cell_type": "code",
      "source": [
        "model4.load_weights(\"best_model_effV2B0.hdf5\")\n",
        "preds = model4.predict(X_test)\n",
        "labelled_preds = one_hot_encoder.inverse_transform(preds)\n",
        "pred = pd.DataFrame(labelled_preds, columns =[\"class_id\"])\n",
        "df = pd.read_csv('submission3.csv')\n",
        "df ['class_id']= pred\n",
        "df.to_csv(\"final_submission55.csv\", index=False)"
      ],
      "metadata": {
        "id": "xgnYuDMM2Ddz"
      },
      "execution_count": null,
      "outputs": []
    },
    {
      "cell_type": "markdown",
      "source": [
        "###EfficientNetV2B1"
      ],
      "metadata": {
        "id": "vP1yh4MKI8wl"
      }
    },
    {
      "cell_type": "code",
      "source": [
        "base_model5 = tf.keras.applications.EfficientNetV2B1(include_top=False,\n",
        "                                     weights='imagenet',\n",
        "                                     input_shape=(224, 224, 3))\n",
        "x = base_model5.output\n",
        "x = tf.keras.layers.GlobalAveragePooling2D()(x)\n",
        "x = Dense(512, activation=None, kernel_regularizer = L1L2(l1=1e-5, l2=1e-3))(x)\n",
        "x = BatchNormalization()(x)\n",
        "x = Activation('swish')(x)\n",
        "x = Dropout(0.3)(x)\n",
        "x = Dense(512, activation=None, kernel_regularizer = L1L2(l1=1e-5, l2=1e-3))(x)\n",
        "x = BatchNormalization()(x)\n",
        "x = Activation('swish')(x)\n",
        "x = Dropout(0.3)(x)\n",
        "ouput1 = Dense(3, activation= 'softmax')(x)\n",
        "\n",
        "model5 = Model(inputs=base_model5.input, outputs=ouput1)\n",
        "\n",
        "model5.compile(loss='categorical_crossentropy', \n",
        "              optimizer=tf.keras.optimizers.Adam(1e-3, decay = 1e-3 * 0.1), metrics=['acc'])"
      ],
      "metadata": {
        "id": "sEOZB1FpJDsD"
      },
      "execution_count": null,
      "outputs": []
    },
    {
      "cell_type": "code",
      "source": [
        "learning_rate_reduction = ReduceLROnPlateau(monitor='val_loss', patience = 2, verbose=1,factor=0.3, min_lr=0.00000001)\n",
        "chkpt = ModelCheckpoint(filepath='best_model_effV2B1.hdf5', monitor='val_loss', save_best_only=True, save_weights_only=True)\n",
        "early_stopping = tf.keras.callbacks.EarlyStopping(patience=13, monitor='val_loss', restore_best_weights=True)\n",
        "\n",
        "history5 = model5.fit(train_gen, epochs=25, validation_data=valid_gen, callbacks=[learning_rate_reduction, chkpt, early_stopping])"
      ],
      "metadata": {
        "colab": {
          "base_uri": "https://localhost:8080/"
        },
        "id": "m5qNt-DLJPqH",
        "outputId": "906ff868-836c-42fc-c006-74f94e4cfc34"
      },
      "execution_count": null,
      "outputs": [
        {
          "output_type": "stream",
          "name": "stdout",
          "text": [
            "Epoch 1/25\n",
            "132/132 [==============================] - 69s 430ms/step - loss: 2.0388 - acc: 0.7536 - val_loss: 1.7417 - val_acc: 0.7859 - lr: 0.0010\n",
            "Epoch 2/25\n",
            "132/132 [==============================] - 54s 408ms/step - loss: 1.5591 - acc: 0.7950 - val_loss: 1.3031 - val_acc: 0.8351 - lr: 0.0010\n",
            "Epoch 3/25\n",
            "132/132 [==============================] - 54s 405ms/step - loss: 1.1790 - acc: 0.8174 - val_loss: 1.0184 - val_acc: 0.8308 - lr: 0.0010\n",
            "Epoch 4/25\n",
            "132/132 [==============================] - 54s 405ms/step - loss: 0.9325 - acc: 0.8183 - val_loss: 0.8075 - val_acc: 0.8351 - lr: 0.0010\n",
            "Epoch 5/25\n",
            "132/132 [==============================] - 53s 403ms/step - loss: 0.7205 - acc: 0.8347 - val_loss: 0.7073 - val_acc: 0.8094 - lr: 0.0010\n",
            "Epoch 6/25\n",
            "132/132 [==============================] - 53s 399ms/step - loss: 0.5782 - acc: 0.8514 - val_loss: 0.7917 - val_acc: 0.7580 - lr: 0.0010\n",
            "Epoch 7/25\n",
            "132/132 [==============================] - 54s 405ms/step - loss: 0.4961 - acc: 0.8606 - val_loss: 0.4996 - val_acc: 0.8522 - lr: 0.0010\n",
            "Epoch 8/25\n",
            "132/132 [==============================] - 53s 400ms/step - loss: 0.4298 - acc: 0.8690 - val_loss: 0.5554 - val_acc: 0.7880 - lr: 0.0010\n",
            "Epoch 9/25\n",
            "132/132 [==============================] - 54s 406ms/step - loss: 0.4138 - acc: 0.8640 - val_loss: 0.4422 - val_acc: 0.8608 - lr: 0.0010\n",
            "Epoch 10/25\n",
            "132/132 [==============================] - 53s 397ms/step - loss: 0.3584 - acc: 0.8897 - val_loss: 0.4684 - val_acc: 0.8287 - lr: 0.0010\n",
            "Epoch 11/25\n",
            "132/132 [==============================] - ETA: 0s - loss: 0.3474 - acc: 0.8882\n",
            "Epoch 11: ReduceLROnPlateau reducing learning rate to 0.0003000000142492354.\n",
            "132/132 [==============================] - 53s 400ms/step - loss: 0.3474 - acc: 0.8882 - val_loss: 0.4916 - val_acc: 0.8330 - lr: 0.0010\n",
            "Epoch 12/25\n",
            "132/132 [==============================] - 53s 400ms/step - loss: 0.2317 - acc: 0.9334 - val_loss: 0.4497 - val_acc: 0.8501 - lr: 3.0000e-04\n",
            "Epoch 13/25\n",
            "132/132 [==============================] - ETA: 0s - loss: 0.1725 - acc: 0.9536\n",
            "Epoch 13: ReduceLROnPlateau reducing learning rate to 9.000000427477062e-05.\n",
            "132/132 [==============================] - 53s 401ms/step - loss: 0.1725 - acc: 0.9536 - val_loss: 0.4527 - val_acc: 0.8587 - lr: 3.0000e-04\n",
            "Epoch 14/25\n",
            "132/132 [==============================] - 53s 401ms/step - loss: 0.1235 - acc: 0.9705 - val_loss: 0.4704 - val_acc: 0.8565 - lr: 9.0000e-05\n",
            "Epoch 15/25\n",
            "132/132 [==============================] - ETA: 0s - loss: 0.1093 - acc: 0.9715\n",
            "Epoch 15: ReduceLROnPlateau reducing learning rate to 2.700000040931627e-05.\n",
            "132/132 [==============================] - 53s 397ms/step - loss: 0.1093 - acc: 0.9715 - val_loss: 0.4920 - val_acc: 0.8608 - lr: 9.0000e-05\n",
            "Epoch 16/25\n",
            "132/132 [==============================] - 53s 397ms/step - loss: 0.1009 - acc: 0.9765 - val_loss: 0.5760 - val_acc: 0.8480 - lr: 2.7000e-05\n",
            "Epoch 17/25\n",
            "132/132 [==============================] - ETA: 0s - loss: 0.0844 - acc: 0.9824\n",
            "Epoch 17: ReduceLROnPlateau reducing learning rate to 8.100000013655517e-06.\n",
            "132/132 [==============================] - 53s 398ms/step - loss: 0.0844 - acc: 0.9824 - val_loss: 0.5140 - val_acc: 0.8715 - lr: 2.7000e-05\n",
            "Epoch 18/25\n",
            "132/132 [==============================] - 53s 397ms/step - loss: 0.0758 - acc: 0.9845 - val_loss: 0.5904 - val_acc: 0.8801 - lr: 8.1000e-06\n",
            "Epoch 19/25\n",
            "132/132 [==============================] - ETA: 0s - loss: 0.0770 - acc: 0.9864\n",
            "Epoch 19: ReduceLROnPlateau reducing learning rate to 2.429999949526973e-06.\n",
            "132/132 [==============================] - 53s 398ms/step - loss: 0.0770 - acc: 0.9864 - val_loss: 0.6133 - val_acc: 0.8608 - lr: 8.1000e-06\n",
            "Epoch 20/25\n",
            "132/132 [==============================] - 53s 399ms/step - loss: 0.0747 - acc: 0.9862 - val_loss: 0.6029 - val_acc: 0.8630 - lr: 2.4300e-06\n",
            "Epoch 21/25\n",
            "132/132 [==============================] - ETA: 0s - loss: 0.0767 - acc: 0.9857\n",
            "Epoch 21: ReduceLROnPlateau reducing learning rate to 7.289999985005124e-07.\n",
            "132/132 [==============================] - 53s 401ms/step - loss: 0.0767 - acc: 0.9857 - val_loss: 0.6087 - val_acc: 0.8544 - lr: 2.4300e-06\n",
            "Epoch 22/25\n",
            "132/132 [==============================] - 53s 400ms/step - loss: 0.0876 - acc: 0.9800 - val_loss: 0.5387 - val_acc: 0.8565 - lr: 7.2900e-07\n"
          ]
        }
      ]
    },
    {
      "cell_type": "code",
      "source": [
        "model5.load_weights(\"best_model_effV2B1.hdf5\")\n",
        "preds = model5.predict(X_test)\n",
        "labelled_preds = one_hot_encoder.inverse_transform(preds)\n",
        "pred = pd.DataFrame(labelled_preds, columns =[\"class_id\"])\n",
        "df = pd.read_csv('submission3.csv')\n",
        "df ['class_id']= pred\n",
        "df.to_csv(\"final_submission41.csv\", index=False)"
      ],
      "metadata": {
        "id": "RHs5d14BJcx0"
      },
      "execution_count": null,
      "outputs": []
    },
    {
      "cell_type": "markdown",
      "source": [
        "###EfficientNetV2B2 -> Removed on Final Results"
      ],
      "metadata": {
        "id": "rKWKCHYvJx6A"
      }
    },
    {
      "cell_type": "code",
      "source": [
        "base_model6 = tf.keras.applications.EfficientNetV2B2(include_top=False,\n",
        "                                     weights='imagenet',\n",
        "                                     input_shape=(224, 224, 3))\n",
        "x = base_model6.output\n",
        "x = tf.keras.layers.GlobalAveragePooling2D()(x)\n",
        "x = Dense(512, activation=None, kernel_regularizer = L1L2(l1=1e-5, l2=1e-3))(x)\n",
        "x = BatchNormalization()(x)\n",
        "x = Activation('swish')(x)\n",
        "x = Dropout(0.3)(x)\n",
        "x = Dense(512, activation=None, kernel_regularizer = L1L2(l1=1e-5, l2=1e-3))(x)\n",
        "x = BatchNormalization()(x)\n",
        "x = Activation('swish')(x)\n",
        "x = Dropout(0.3)(x)\n",
        "ouput1 = Dense(3, activation= 'softmax')(x)\n",
        "\n",
        "model6 = Model(inputs=base_model6.input, outputs=ouput1)\n",
        "\n",
        "model6.compile(loss='categorical_crossentropy', \n",
        "              optimizer=tf.keras.optimizers.Adam(1e-3, decay = 1e-3 * 0.1), metrics=['acc'])"
      ],
      "metadata": {
        "id": "r9yrnH6GJ2v2"
      },
      "execution_count": null,
      "outputs": []
    },
    {
      "cell_type": "code",
      "source": [
        "learning_rate_reduction = ReduceLROnPlateau(monitor='val_loss', patience = 2, verbose=1,factor=0.3, min_lr=0.00000001)\n",
        "chkpt = ModelCheckpoint(filepath='best_model_effV2B2.hdf5', monitor='val_loss', save_best_only=True, save_weights_only=True)\n",
        "early_stopping = tf.keras.callbacks.EarlyStopping(patience=13, monitor='val_loss', restore_best_weights=True)\n",
        "\n",
        "history6 = model6.fit(train_gen, epochs=26, validation_data=valid_gen, callbacks=[learning_rate_reduction, chkpt, early_stopping])"
      ],
      "metadata": {
        "colab": {
          "base_uri": "https://localhost:8080/"
        },
        "id": "QUD6G-71Kvfh",
        "outputId": "92757384-3bf8-4ed4-fb57-0e007371856f"
      },
      "execution_count": null,
      "outputs": [
        {
          "output_type": "stream",
          "name": "stdout",
          "text": [
            "Epoch 1/26\n",
            "132/132 [==============================] - 68s 421ms/step - loss: 2.1432 - acc: 0.7375 - val_loss: 1.8277 - val_acc: 0.7901 - lr: 0.0010\n",
            "Epoch 2/26\n",
            "132/132 [==============================] - 55s 415ms/step - loss: 1.6833 - acc: 0.7788 - val_loss: 1.4623 - val_acc: 0.8051 - lr: 0.0010\n",
            "Epoch 3/26\n",
            "132/132 [==============================] - 55s 412ms/step - loss: 1.3108 - acc: 0.8010 - val_loss: 1.0951 - val_acc: 0.8223 - lr: 0.0010\n",
            "Epoch 4/26\n",
            "132/132 [==============================] - 54s 407ms/step - loss: 1.0322 - acc: 0.8090 - val_loss: 0.9331 - val_acc: 0.8009 - lr: 0.0010\n",
            "Epoch 5/26\n",
            "132/132 [==============================] - 54s 408ms/step - loss: 0.8992 - acc: 0.7931 - val_loss: 0.8836 - val_acc: 0.7987 - lr: 0.0010\n",
            "Epoch 6/26\n",
            "132/132 [==============================] - 53s 402ms/step - loss: 0.8437 - acc: 0.7717 - val_loss: 2.8764 - val_acc: 0.6831 - lr: 0.0010\n",
            "Epoch 7/26\n",
            "132/132 [==============================] - ETA: 0s - loss: 0.7614 - acc: 0.7636\n",
            "Epoch 7: ReduceLROnPlateau reducing learning rate to 0.0003000000142492354.\n",
            "132/132 [==============================] - 53s 396ms/step - loss: 0.7614 - acc: 0.7636 - val_loss: 9.9570 - val_acc: 0.4540 - lr: 0.0010\n",
            "Epoch 8/26\n",
            "132/132 [==============================] - 54s 407ms/step - loss: 0.6905 - acc: 0.7822 - val_loss: 0.6279 - val_acc: 0.8201 - lr: 3.0000e-04\n",
            "Epoch 9/26\n",
            "132/132 [==============================] - 55s 411ms/step - loss: 0.6096 - acc: 0.8062 - val_loss: 0.5523 - val_acc: 0.8266 - lr: 3.0000e-04\n",
            "Epoch 10/26\n",
            "132/132 [==============================] - 54s 407ms/step - loss: 0.5485 - acc: 0.8190 - val_loss: 0.5129 - val_acc: 0.8351 - lr: 3.0000e-04\n",
            "Epoch 11/26\n",
            "132/132 [==============================] - 54s 410ms/step - loss: 0.5293 - acc: 0.8273 - val_loss: 0.5070 - val_acc: 0.8094 - lr: 3.0000e-04\n",
            "Epoch 12/26\n",
            "132/132 [==============================] - 53s 401ms/step - loss: 0.4990 - acc: 0.8345 - val_loss: 0.5181 - val_acc: 0.8308 - lr: 3.0000e-04\n",
            "Epoch 13/26\n",
            "132/132 [==============================] - 54s 408ms/step - loss: 0.4697 - acc: 0.8430 - val_loss: 0.4989 - val_acc: 0.8287 - lr: 3.0000e-04\n",
            "Epoch 14/26\n",
            "132/132 [==============================] - 54s 410ms/step - loss: 0.4377 - acc: 0.8552 - val_loss: 0.4767 - val_acc: 0.8351 - lr: 3.0000e-04\n",
            "Epoch 15/26\n",
            "132/132 [==============================] - 53s 400ms/step - loss: 0.4337 - acc: 0.8509 - val_loss: 0.4779 - val_acc: 0.8458 - lr: 3.0000e-04\n",
            "Epoch 16/26\n",
            "132/132 [==============================] - 54s 410ms/step - loss: 0.4052 - acc: 0.8578 - val_loss: 0.4562 - val_acc: 0.8308 - lr: 3.0000e-04\n",
            "Epoch 17/26\n",
            "132/132 [==============================] - 54s 406ms/step - loss: 0.3897 - acc: 0.8668 - val_loss: 0.4465 - val_acc: 0.8394 - lr: 3.0000e-04\n",
            "Epoch 18/26\n",
            "132/132 [==============================] - 53s 399ms/step - loss: 0.3622 - acc: 0.8702 - val_loss: 0.4613 - val_acc: 0.8244 - lr: 3.0000e-04\n",
            "Epoch 19/26\n",
            "132/132 [==============================] - ETA: 0s - loss: 0.3449 - acc: 0.8801\n",
            "Epoch 19: ReduceLROnPlateau reducing learning rate to 9.000000427477062e-05.\n",
            "132/132 [==============================] - 53s 399ms/step - loss: 0.3449 - acc: 0.8801 - val_loss: 0.5434 - val_acc: 0.8351 - lr: 3.0000e-04\n",
            "Epoch 20/26\n",
            "132/132 [==============================] - 54s 409ms/step - loss: 0.2961 - acc: 0.8994 - val_loss: 0.4231 - val_acc: 0.8501 - lr: 9.0000e-05\n",
            "Epoch 21/26\n",
            "132/132 [==============================] - 53s 398ms/step - loss: 0.2416 - acc: 0.9268 - val_loss: 0.4663 - val_acc: 0.8544 - lr: 9.0000e-05\n",
            "Epoch 22/26\n",
            "132/132 [==============================] - ETA: 0s - loss: 0.2479 - acc: 0.9201\n",
            "Epoch 22: ReduceLROnPlateau reducing learning rate to 2.700000040931627e-05.\n",
            "132/132 [==============================] - 53s 400ms/step - loss: 0.2479 - acc: 0.9201 - val_loss: 0.4492 - val_acc: 0.8458 - lr: 9.0000e-05\n",
            "Epoch 23/26\n",
            "132/132 [==============================] - 53s 399ms/step - loss: 0.2032 - acc: 0.9382 - val_loss: 0.4322 - val_acc: 0.8630 - lr: 2.7000e-05\n",
            "Epoch 24/26\n",
            "132/132 [==============================] - ETA: 0s - loss: 0.2066 - acc: 0.9377\n",
            "Epoch 24: ReduceLROnPlateau reducing learning rate to 8.100000013655517e-06.\n",
            "132/132 [==============================] - 53s 399ms/step - loss: 0.2066 - acc: 0.9377 - val_loss: 0.4555 - val_acc: 0.8480 - lr: 2.7000e-05\n",
            "Epoch 25/26\n",
            "132/132 [==============================] - 53s 398ms/step - loss: 0.1984 - acc: 0.9358 - val_loss: 0.5021 - val_acc: 0.8437 - lr: 8.1000e-06\n",
            "Epoch 26/26\n",
            "132/132 [==============================] - ETA: 0s - loss: 0.2011 - acc: 0.9382\n",
            "Epoch 26: ReduceLROnPlateau reducing learning rate to 2.429999949526973e-06.\n",
            "132/132 [==============================] - 53s 398ms/step - loss: 0.2011 - acc: 0.9382 - val_loss: 0.4776 - val_acc: 0.8672 - lr: 8.1000e-06\n"
          ]
        }
      ]
    },
    {
      "cell_type": "code",
      "source": [
        "model6.load_weights(\"best_model_effV2B2.hdf5\")\n",
        "preds = model6.predict(X_test)\n",
        "labelled_preds = one_hot_encoder.inverse_transform(preds)\n",
        "pred = pd.DataFrame(labelled_preds, columns =[\"class_id\"])\n",
        "df = pd.read_csv('submission3.csv')\n",
        "df ['class_id']= pred\n",
        "df.to_csv(\"final_submission42.csv\", index=False)"
      ],
      "metadata": {
        "id": "dT2mSZy4K1oI"
      },
      "execution_count": null,
      "outputs": []
    },
    {
      "cell_type": "markdown",
      "source": [
        "###EfficientNetV2B3"
      ],
      "metadata": {
        "id": "jqwUHGq0LC35"
      }
    },
    {
      "cell_type": "code",
      "source": [
        "base_model7 = tf.keras.applications.EfficientNetV2B3(include_top=False,\n",
        "                                     weights='imagenet',\n",
        "                                     input_shape=(224, 224, 3))\n",
        "x = base_model7.output\n",
        "x = tf.keras.layers.GlobalAveragePooling2D()(x)\n",
        "x = Dense(512, activation=None, kernel_regularizer = L1L2(l1=1e-5, l2=1e-3))(x)\n",
        "x = BatchNormalization()(x)\n",
        "x = Activation('swish')(x)\n",
        "x = Dropout(0.3)(x)\n",
        "x = Dense(512, activation=None, kernel_regularizer = L1L2(l1=1e-5, l2=1e-3))(x)\n",
        "x = BatchNormalization()(x)\n",
        "x = Activation('swish')(x)\n",
        "x = Dropout(0.3)(x)\n",
        "ouput1 = Dense(3, activation= 'softmax')(x)\n",
        "\n",
        "model7 = Model(inputs=base_model7.input, outputs=ouput1)\n",
        "\n",
        "model7.compile(loss='categorical_crossentropy', \n",
        "              optimizer=tf.keras.optimizers.Adam(1e-3, decay = 1e-3 * 0.1), metrics=['acc'])"
      ],
      "metadata": {
        "colab": {
          "base_uri": "https://localhost:8080/"
        },
        "id": "iCKwM8zNLIxK",
        "outputId": "76c3eb16-c381-4603-de98-ee1ae8af5d09"
      },
      "execution_count": null,
      "outputs": [
        {
          "output_type": "stream",
          "name": "stdout",
          "text": [
            "Downloading data from https://storage.googleapis.com/tensorflow/keras-applications/efficientnet_v2/efficientnetv2-b3_notop.h5\n",
            "52609024/52606240 [==============================] - 1s 0us/step\n",
            "52617216/52606240 [==============================] - 1s 0us/step\n"
          ]
        }
      ]
    },
    {
      "cell_type": "code",
      "source": [
        "learning_rate_reduction = ReduceLROnPlateau(monitor='val_loss', patience = 2, verbose=1,factor=0.3, min_lr=0.00000001)\n",
        "chkpt = ModelCheckpoint(filepath='best_model_effV2B3.hdf5', monitor='val_loss', save_best_only=True, save_weights_only=True)\n",
        "early_stopping = tf.keras.callbacks.EarlyStopping(patience=13, monitor='val_loss', restore_best_weights=True)\n",
        "\n",
        "history7 = model7.fit(train_gen, epochs=26, validation_data=valid_gen, callbacks=[learning_rate_reduction, chkpt, early_stopping])"
      ],
      "metadata": {
        "colab": {
          "base_uri": "https://localhost:8080/"
        },
        "id": "P9Edj18ILP8v",
        "outputId": "892a261f-7c71-43ea-ef52-b4d991f7e20b"
      },
      "execution_count": null,
      "outputs": [
        {
          "output_type": "stream",
          "name": "stdout",
          "text": [
            "Epoch 1/26\n",
            "132/132 [==============================] - 74s 446ms/step - loss: 2.1729 - acc: 0.7187 - val_loss: 1.8387 - val_acc: 0.7859 - lr: 0.0010\n",
            "Epoch 2/26\n",
            "132/132 [==============================] - 55s 413ms/step - loss: 1.6485 - acc: 0.7936 - val_loss: 1.4412 - val_acc: 0.8094 - lr: 0.0010\n",
            "Epoch 3/26\n",
            "132/132 [==============================] - 55s 417ms/step - loss: 1.2910 - acc: 0.8055 - val_loss: 1.0758 - val_acc: 0.8394 - lr: 0.0010\n",
            "Epoch 4/26\n",
            "132/132 [==============================] - 55s 417ms/step - loss: 0.9843 - acc: 0.8143 - val_loss: 0.9656 - val_acc: 0.7666 - lr: 0.0010\n",
            "Epoch 5/26\n",
            "132/132 [==============================] - 55s 416ms/step - loss: 0.8081 - acc: 0.8117 - val_loss: 0.6967 - val_acc: 0.8373 - lr: 0.0010\n",
            "Epoch 6/26\n",
            "132/132 [==============================] - 55s 414ms/step - loss: 0.6213 - acc: 0.8380 - val_loss: 0.5853 - val_acc: 0.8394 - lr: 0.0010\n",
            "Epoch 7/26\n",
            "132/132 [==============================] - 56s 419ms/step - loss: 0.5456 - acc: 0.8445 - val_loss: 0.5844 - val_acc: 0.8051 - lr: 0.0010\n",
            "Epoch 8/26\n",
            "132/132 [==============================] - 56s 418ms/step - loss: 0.4807 - acc: 0.8552 - val_loss: 0.5443 - val_acc: 0.8009 - lr: 0.0010\n",
            "Epoch 9/26\n",
            "132/132 [==============================] - 55s 416ms/step - loss: 0.4236 - acc: 0.8647 - val_loss: 0.5299 - val_acc: 0.8330 - lr: 0.0010\n",
            "Epoch 10/26\n",
            "132/132 [==============================] - 56s 421ms/step - loss: 0.3909 - acc: 0.8723 - val_loss: 0.4964 - val_acc: 0.8030 - lr: 0.0010\n",
            "Epoch 11/26\n",
            "132/132 [==============================] - 54s 405ms/step - loss: 0.3618 - acc: 0.8778 - val_loss: 0.5277 - val_acc: 0.8137 - lr: 0.0010\n",
            "Epoch 12/26\n",
            "132/132 [==============================] - ETA: 0s - loss: 0.3426 - acc: 0.8866\n",
            "Epoch 12: ReduceLROnPlateau reducing learning rate to 0.0003000000142492354.\n",
            "132/132 [==============================] - 54s 405ms/step - loss: 0.3426 - acc: 0.8866 - val_loss: 0.5338 - val_acc: 0.7730 - lr: 0.0010\n",
            "Epoch 13/26\n",
            "132/132 [==============================] - 55s 416ms/step - loss: 0.2537 - acc: 0.9187 - val_loss: 0.4915 - val_acc: 0.8394 - lr: 3.0000e-04\n",
            "Epoch 14/26\n",
            "132/132 [==============================] - 54s 406ms/step - loss: 0.1881 - acc: 0.9486 - val_loss: 0.5116 - val_acc: 0.8351 - lr: 3.0000e-04\n",
            "Epoch 15/26\n",
            "132/132 [==============================] - ETA: 0s - loss: 0.1535 - acc: 0.9579\n",
            "Epoch 15: ReduceLROnPlateau reducing learning rate to 9.000000427477062e-05.\n",
            "132/132 [==============================] - 54s 404ms/step - loss: 0.1535 - acc: 0.9579 - val_loss: 0.5051 - val_acc: 0.8608 - lr: 3.0000e-04\n",
            "Epoch 16/26\n",
            "132/132 [==============================] - 54s 407ms/step - loss: 0.1190 - acc: 0.9665 - val_loss: 0.5189 - val_acc: 0.8480 - lr: 9.0000e-05\n",
            "Epoch 17/26\n",
            "132/132 [==============================] - ETA: 0s - loss: 0.0940 - acc: 0.9779\n",
            "Epoch 17: ReduceLROnPlateau reducing learning rate to 2.700000040931627e-05.\n",
            "132/132 [==============================] - 54s 403ms/step - loss: 0.0940 - acc: 0.9779 - val_loss: 0.5702 - val_acc: 0.8522 - lr: 9.0000e-05\n",
            "Epoch 18/26\n",
            "132/132 [==============================] - 54s 403ms/step - loss: 0.0904 - acc: 0.9781 - val_loss: 0.6262 - val_acc: 0.8501 - lr: 2.7000e-05\n",
            "Epoch 19/26\n",
            "132/132 [==============================] - ETA: 0s - loss: 0.0767 - acc: 0.9843\n",
            "Epoch 19: ReduceLROnPlateau reducing learning rate to 8.100000013655517e-06.\n",
            "132/132 [==============================] - 54s 404ms/step - loss: 0.0767 - acc: 0.9843 - val_loss: 0.6469 - val_acc: 0.8373 - lr: 2.7000e-05\n",
            "Epoch 20/26\n",
            "132/132 [==============================] - 54s 407ms/step - loss: 0.0741 - acc: 0.9824 - val_loss: 0.6323 - val_acc: 0.8565 - lr: 8.1000e-06\n",
            "Epoch 21/26\n",
            "132/132 [==============================] - ETA: 0s - loss: 0.0650 - acc: 0.9862\n",
            "Epoch 21: ReduceLROnPlateau reducing learning rate to 2.429999949526973e-06.\n",
            "132/132 [==============================] - 54s 404ms/step - loss: 0.0650 - acc: 0.9862 - val_loss: 0.5707 - val_acc: 0.8501 - lr: 8.1000e-06\n",
            "Epoch 22/26\n",
            "132/132 [==============================] - 54s 405ms/step - loss: 0.0671 - acc: 0.9864 - val_loss: 0.6231 - val_acc: 0.8415 - lr: 2.4300e-06\n",
            "Epoch 23/26\n",
            "132/132 [==============================] - ETA: 0s - loss: 0.0655 - acc: 0.9848\n",
            "Epoch 23: ReduceLROnPlateau reducing learning rate to 7.289999985005124e-07.\n",
            "132/132 [==============================] - 54s 407ms/step - loss: 0.0655 - acc: 0.9848 - val_loss: 0.5973 - val_acc: 0.8544 - lr: 2.4300e-06\n",
            "Epoch 24/26\n",
            "132/132 [==============================] - 54s 404ms/step - loss: 0.0634 - acc: 0.9883 - val_loss: 0.6099 - val_acc: 0.8458 - lr: 7.2900e-07\n",
            "Epoch 25/26\n",
            "132/132 [==============================] - ETA: 0s - loss: 0.0648 - acc: 0.9883\n",
            "Epoch 25: ReduceLROnPlateau reducing learning rate to 2.1870000637136398e-07.\n",
            "132/132 [==============================] - 54s 405ms/step - loss: 0.0648 - acc: 0.9883 - val_loss: 0.5867 - val_acc: 0.8415 - lr: 7.2900e-07\n",
            "Epoch 26/26\n",
            "132/132 [==============================] - 54s 407ms/step - loss: 0.0776 - acc: 0.9864 - val_loss: 0.6382 - val_acc: 0.8415 - lr: 2.1870e-07\n"
          ]
        }
      ]
    },
    {
      "cell_type": "code",
      "source": [
        "model7.load_weights(\"best_model_effV2B3.hdf5\")\n",
        "preds = model7.predict(X_test)\n",
        "labelled_preds = one_hot_encoder.inverse_transform(preds)\n",
        "pred = pd.DataFrame(labelled_preds, columns =[\"class_id\"])\n",
        "df = pd.read_csv('submission3.csv')\n",
        "df ['class_id']= pred\n",
        "df.to_csv(\"final_submission43.csv\", index=False)"
      ],
      "metadata": {
        "id": "pa1Uja6DLTCc"
      },
      "execution_count": null,
      "outputs": []
    },
    {
      "cell_type": "markdown",
      "source": [
        "###EfficientNetV2M -> base_model19 Removed on Final Results"
      ],
      "metadata": {
        "id": "1tBeyxo348rC"
      }
    },
    {
      "cell_type": "code",
      "source": [
        "datagen = ImageDataGenerator(\n",
        "        rotation_range = 2,\n",
        "        zoom_range = 0.1, \n",
        "        width_shift_range = 0.1, \n",
        "        height_shift_range = 0.1,\n",
        "        brightness_range=[0.6,1.4],\n",
        "        fill_mode= \"nearest\",validation_split=0.1)"
      ],
      "metadata": {
        "id": "SAPW7KBE5HYu"
      },
      "execution_count": null,
      "outputs": []
    },
    {
      "cell_type": "code",
      "source": [
        "datagen.fit(X_train)\n",
        "train_gen = datagen.flow(X_train, y_train, batch_size=40, subset=\"training\")\n",
        "valid_gen = datagen.flow(X_train, y_train, batch_size=40, subset= \"validation\")"
      ],
      "metadata": {
        "id": "AtmHiWbA5HfD"
      },
      "execution_count": null,
      "outputs": []
    },
    {
      "cell_type": "code",
      "source": [
        "base_model14 = tf.keras.applications.EfficientNetV2M(include_top=False,\n",
        "                                     weights='imagenet',\n",
        "                                     input_shape=(224, 224, 3))\n",
        "x = base_model14.output\n",
        "x = tf.keras.layers.GlobalAveragePooling2D()(x)\n",
        "x = Dense(224, activation=None, kernel_regularizer = L1L2(l1=1e-5, l2=1e-3))(x)\n",
        "x = BatchNormalization()(x)\n",
        "x = Activation('swish')(x)\n",
        "x = Dropout(0.2)(x)\n",
        "x = Dense(224, activation=None, kernel_regularizer = L1L2(l1=1e-5, l2=1e-3))(x)\n",
        "x = BatchNormalization()(x)\n",
        "x = Activation('swish')(x)\n",
        "x = Dropout(0.2)(x)\n",
        "ouput1 = Dense(3, activation= 'softmax')(x)\n",
        "\n",
        "model14 = Model(inputs=base_model14.input, outputs=ouput1)\n",
        "model14.compile(loss='categorical_crossentropy', \n",
        "              optimizer=tf.keras.optimizers.Adam(1e-3, decay = 1e-3 * 0.1), metrics=['acc'])\n",
        "\n"
      ],
      "metadata": {
        "id": "cyD1CWYy48rI"
      },
      "execution_count": null,
      "outputs": []
    },
    {
      "cell_type": "code",
      "source": [
        "#checkpoints\n",
        "learning_rate_reduction = ReduceLROnPlateau(monitor='val_acc', patience = 2, verbose=1,factor=0.3, min_lr=0.000001)\n",
        "chkpt = ModelCheckpoint(filepath='best_model_EfficientNetV2M_50epochs_40.hdf5', monitor='val_acc', save_best_only=True, save_weights_only=True)\n",
        "\n",
        "#fit\n",
        "history = model14.fit(train_gen, epochs=50, validation_data=valid_gen, callbacks=[learning_rate_reduction, chkpt])"
      ],
      "metadata": {
        "colab": {
          "base_uri": "https://localhost:8080/"
        },
        "outputId": "d4f40b85-0dfb-4c23-988c-c1b97f1011a8",
        "id": "MwCpFV2t48rI"
      },
      "execution_count": null,
      "outputs": [
        {
          "output_type": "stream",
          "name": "stdout",
          "text": [
            "Epoch 1/50\n",
            "106/106 [==============================] - 144s 1s/step - loss: 1.3349 - acc: 0.7334 - val_loss: 1.1964 - val_acc: 0.7752 - lr: 0.0010\n",
            "Epoch 2/50\n",
            "106/106 [==============================] - 109s 1s/step - loss: 1.0486 - acc: 0.7936 - val_loss: 1.1152 - val_acc: 0.7216 - lr: 0.0010\n",
            "Epoch 3/50\n",
            "106/106 [==============================] - ETA: 0s - loss: 0.8915 - acc: 0.8081\n",
            "Epoch 3: ReduceLROnPlateau reducing learning rate to 0.0003000000142492354.\n",
            "106/106 [==============================] - 112s 1s/step - loss: 0.8915 - acc: 0.8081 - val_loss: 2.5287 - val_acc: 0.6060 - lr: 0.0010\n",
            "Epoch 4/50\n",
            "106/106 [==============================] - 115s 1s/step - loss: 0.7764 - acc: 0.8162 - val_loss: 0.7484 - val_acc: 0.8201 - lr: 3.0000e-04\n",
            "Epoch 5/50\n",
            "106/106 [==============================] - 115s 1s/step - loss: 0.6601 - acc: 0.8568 - val_loss: 0.6927 - val_acc: 0.8373 - lr: 3.0000e-04\n",
            "Epoch 6/50\n",
            "106/106 [==============================] - 112s 1s/step - loss: 0.6199 - acc: 0.8576 - val_loss: 0.6827 - val_acc: 0.8073 - lr: 3.0000e-04\n",
            "Epoch 7/50\n",
            "106/106 [==============================] - ETA: 0s - loss: 0.5475 - acc: 0.8799\n",
            "Epoch 7: ReduceLROnPlateau reducing learning rate to 9.000000427477062e-05.\n",
            "106/106 [==============================] - 112s 1s/step - loss: 0.5475 - acc: 0.8799 - val_loss: 0.6331 - val_acc: 0.8308 - lr: 3.0000e-04\n",
            "Epoch 8/50\n",
            "106/106 [==============================] - 112s 1s/step - loss: 0.4497 - acc: 0.9182 - val_loss: 0.6386 - val_acc: 0.8287 - lr: 9.0000e-05\n",
            "Epoch 9/50\n",
            "106/106 [==============================] - 115s 1s/step - loss: 0.3996 - acc: 0.9360 - val_loss: 0.6312 - val_acc: 0.8437 - lr: 9.0000e-05\n",
            "Epoch 10/50\n",
            "106/106 [==============================] - 112s 1s/step - loss: 0.3629 - acc: 0.9453 - val_loss: 0.6539 - val_acc: 0.8373 - lr: 9.0000e-05\n",
            "Epoch 11/50\n",
            "106/106 [==============================] - ETA: 0s - loss: 0.3549 - acc: 0.9453\n",
            "Epoch 11: ReduceLROnPlateau reducing learning rate to 2.700000040931627e-05.\n",
            "106/106 [==============================] - 112s 1s/step - loss: 0.3549 - acc: 0.9453 - val_loss: 0.6213 - val_acc: 0.8437 - lr: 9.0000e-05\n",
            "Epoch 12/50\n",
            "106/106 [==============================] - 112s 1s/step - loss: 0.2980 - acc: 0.9688 - val_loss: 0.6707 - val_acc: 0.8180 - lr: 2.7000e-05\n",
            "Epoch 13/50\n",
            "106/106 [==============================] - ETA: 0s - loss: 0.2839 - acc: 0.9698\n",
            "Epoch 13: ReduceLROnPlateau reducing learning rate to 8.100000013655517e-06.\n",
            "106/106 [==============================] - 112s 1s/step - loss: 0.2839 - acc: 0.9698 - val_loss: 0.6990 - val_acc: 0.8373 - lr: 2.7000e-05\n",
            "Epoch 14/50\n",
            "106/106 [==============================] - 115s 1s/step - loss: 0.2728 - acc: 0.9750 - val_loss: 0.6853 - val_acc: 0.8480 - lr: 8.1000e-06\n",
            "Epoch 15/50\n",
            "106/106 [==============================] - 115s 1s/step - loss: 0.2607 - acc: 0.9784 - val_loss: 0.6516 - val_acc: 0.8522 - lr: 8.1000e-06\n",
            "Epoch 16/50\n",
            "106/106 [==============================] - 112s 1s/step - loss: 0.2646 - acc: 0.9765 - val_loss: 0.7029 - val_acc: 0.8437 - lr: 8.1000e-06\n",
            "Epoch 17/50\n",
            "106/106 [==============================] - ETA: 0s - loss: 0.2635 - acc: 0.9757\n",
            "Epoch 17: ReduceLROnPlateau reducing learning rate to 2.429999949526973e-06.\n",
            "106/106 [==============================] - 112s 1s/step - loss: 0.2635 - acc: 0.9757 - val_loss: 0.7101 - val_acc: 0.8373 - lr: 8.1000e-06\n",
            "Epoch 18/50\n",
            "106/106 [==============================] - 112s 1s/step - loss: 0.2639 - acc: 0.9755 - val_loss: 0.6931 - val_acc: 0.8373 - lr: 2.4300e-06\n",
            "Epoch 19/50\n",
            "106/106 [==============================] - ETA: 0s - loss: 0.2559 - acc: 0.9788\n",
            "Epoch 19: ReduceLROnPlateau reducing learning rate to 1e-06.\n",
            "106/106 [==============================] - 112s 1s/step - loss: 0.2559 - acc: 0.9788 - val_loss: 0.7309 - val_acc: 0.8330 - lr: 2.4300e-06\n",
            "Epoch 20/50\n",
            "106/106 [==============================] - 112s 1s/step - loss: 0.2587 - acc: 0.9779 - val_loss: 0.6888 - val_acc: 0.8437 - lr: 1.0000e-06\n",
            "Epoch 21/50\n",
            "106/106 [==============================] - 112s 1s/step - loss: 0.2581 - acc: 0.9774 - val_loss: 0.6918 - val_acc: 0.8415 - lr: 1.0000e-06\n",
            "Epoch 22/50\n",
            "106/106 [==============================] - 115s 1s/step - loss: 0.2536 - acc: 0.9795 - val_loss: 0.6905 - val_acc: 0.8565 - lr: 1.0000e-06\n",
            "Epoch 23/50\n",
            "106/106 [==============================] - 112s 1s/step - loss: 0.2515 - acc: 0.9822 - val_loss: 0.7190 - val_acc: 0.8394 - lr: 1.0000e-06\n",
            "Epoch 24/50\n",
            "106/106 [==============================] - 112s 1s/step - loss: 0.2500 - acc: 0.9826 - val_loss: 0.6916 - val_acc: 0.8394 - lr: 1.0000e-06\n",
            "Epoch 25/50\n",
            "106/106 [==============================] - 112s 1s/step - loss: 0.2588 - acc: 0.9772 - val_loss: 0.7045 - val_acc: 0.8501 - lr: 1.0000e-06\n",
            "Epoch 26/50\n",
            "106/106 [==============================] - 112s 1s/step - loss: 0.2499 - acc: 0.9810 - val_loss: 0.7100 - val_acc: 0.8480 - lr: 1.0000e-06\n",
            "Epoch 27/50\n",
            "106/106 [==============================] - 112s 1s/step - loss: 0.2471 - acc: 0.9819 - val_loss: 0.7191 - val_acc: 0.8308 - lr: 1.0000e-06\n",
            "Epoch 28/50\n",
            "106/106 [==============================] - 112s 1s/step - loss: 0.2510 - acc: 0.9810 - val_loss: 0.7460 - val_acc: 0.8201 - lr: 1.0000e-06\n",
            "Epoch 29/50\n",
            "106/106 [==============================] - 112s 1s/step - loss: 0.2509 - acc: 0.9800 - val_loss: 0.7360 - val_acc: 0.8351 - lr: 1.0000e-06\n",
            "Epoch 30/50\n",
            "106/106 [==============================] - 112s 1s/step - loss: 0.2538 - acc: 0.9803 - val_loss: 0.7304 - val_acc: 0.8437 - lr: 1.0000e-06\n",
            "Epoch 31/50\n",
            "106/106 [==============================] - 112s 1s/step - loss: 0.2534 - acc: 0.9786 - val_loss: 0.7360 - val_acc: 0.8458 - lr: 1.0000e-06\n",
            "Epoch 32/50\n",
            "106/106 [==============================] - 115s 1s/step - loss: 0.2467 - acc: 0.9819 - val_loss: 0.6717 - val_acc: 0.8587 - lr: 1.0000e-06\n",
            "Epoch 33/50\n",
            "106/106 [==============================] - 112s 1s/step - loss: 0.2544 - acc: 0.9779 - val_loss: 0.6918 - val_acc: 0.8544 - lr: 1.0000e-06\n",
            "Epoch 34/50\n",
            "106/106 [==============================] - 112s 1s/step - loss: 0.2476 - acc: 0.9853 - val_loss: 0.7143 - val_acc: 0.8373 - lr: 1.0000e-06\n",
            "Epoch 35/50\n",
            "106/106 [==============================] - 115s 1s/step - loss: 0.2459 - acc: 0.9815 - val_loss: 0.7060 - val_acc: 0.8608 - lr: 1.0000e-06\n",
            "Epoch 36/50\n",
            "106/106 [==============================] - 112s 1s/step - loss: 0.2428 - acc: 0.9826 - val_loss: 0.7578 - val_acc: 0.8373 - lr: 1.0000e-06\n",
            "Epoch 37/50\n",
            "106/106 [==============================] - 112s 1s/step - loss: 0.2506 - acc: 0.9798 - val_loss: 0.7028 - val_acc: 0.8522 - lr: 1.0000e-06\n",
            "Epoch 38/50\n",
            "106/106 [==============================] - 112s 1s/step - loss: 0.2452 - acc: 0.9819 - val_loss: 0.7105 - val_acc: 0.8437 - lr: 1.0000e-06\n",
            "Epoch 39/50\n",
            "106/106 [==============================] - 112s 1s/step - loss: 0.2451 - acc: 0.9812 - val_loss: 0.7273 - val_acc: 0.8330 - lr: 1.0000e-06\n",
            "Epoch 40/50\n",
            "106/106 [==============================] - 112s 1s/step - loss: 0.2490 - acc: 0.9798 - val_loss: 0.6793 - val_acc: 0.8437 - lr: 1.0000e-06\n",
            "Epoch 41/50\n",
            "106/106 [==============================] - 112s 1s/step - loss: 0.2476 - acc: 0.9812 - val_loss: 0.7212 - val_acc: 0.8394 - lr: 1.0000e-06\n",
            "Epoch 42/50\n",
            "106/106 [==============================] - 112s 1s/step - loss: 0.2477 - acc: 0.9810 - val_loss: 0.7042 - val_acc: 0.8373 - lr: 1.0000e-06\n",
            "Epoch 43/50\n",
            "106/106 [==============================] - 116s 1s/step - loss: 0.2525 - acc: 0.9781 - val_loss: 0.6381 - val_acc: 0.8672 - lr: 1.0000e-06\n",
            "Epoch 44/50\n",
            "106/106 [==============================] - 112s 1s/step - loss: 0.2394 - acc: 0.9845 - val_loss: 0.7280 - val_acc: 0.8415 - lr: 1.0000e-06\n",
            "Epoch 45/50\n",
            "106/106 [==============================] - 112s 1s/step - loss: 0.2471 - acc: 0.9805 - val_loss: 0.6778 - val_acc: 0.8415 - lr: 1.0000e-06\n",
            "Epoch 46/50\n",
            "106/106 [==============================] - 112s 1s/step - loss: 0.2461 - acc: 0.9803 - val_loss: 0.7122 - val_acc: 0.8458 - lr: 1.0000e-06\n",
            "Epoch 47/50\n",
            "106/106 [==============================] - 112s 1s/step - loss: 0.2438 - acc: 0.9834 - val_loss: 0.7348 - val_acc: 0.8394 - lr: 1.0000e-06\n",
            "Epoch 48/50\n",
            "106/106 [==============================] - 112s 1s/step - loss: 0.2499 - acc: 0.9807 - val_loss: 0.6957 - val_acc: 0.8373 - lr: 1.0000e-06\n",
            "Epoch 49/50\n",
            "106/106 [==============================] - 112s 1s/step - loss: 0.2493 - acc: 0.9815 - val_loss: 0.7177 - val_acc: 0.8437 - lr: 1.0000e-06\n",
            "Epoch 50/50\n",
            "106/106 [==============================] - 112s 1s/step - loss: 0.2410 - acc: 0.9836 - val_loss: 0.7316 - val_acc: 0.8480 - lr: 1.0000e-06\n"
          ]
        }
      ]
    },
    {
      "cell_type": "code",
      "source": [
        "model14.load_weights(\"best_model_EfficientNetV2M_50epochs_40.hdf5\")\n",
        "preds = model14.predict(X_test)\n",
        "labelled_preds = one_hot_encoder.inverse_transform(preds)\n",
        "pred = pd.DataFrame(labelled_preds, columns =[\"class_id\"])\n",
        "df = pd.read_csv('submission3.csv')\n",
        "df ['class_id']= pred\n",
        "df.to_csv(\"final_submission_EfficientNetV2M_50epochs_40.csv\", index=False)"
      ],
      "metadata": {
        "id": "fzqDyU1j48rJ"
      },
      "execution_count": null,
      "outputs": []
    },
    {
      "cell_type": "code",
      "source": [
        "datagen = ImageDataGenerator(\n",
        "        rotation_range = 2,\n",
        "        zoom_range = 0.1, \n",
        "        width_shift_range = 0.1, \n",
        "        height_shift_range = 0.1,\n",
        "        brightness_range=[0.6,1.4],\n",
        "        fill_mode= \"nearest\",validation_split=0.1)"
      ],
      "metadata": {
        "id": "2oI5XYdaT1xC"
      },
      "execution_count": null,
      "outputs": []
    },
    {
      "cell_type": "code",
      "source": [
        "datagen.fit(X_train)\n",
        "train_gen = datagen.flow(X_train, y_train, batch_size=45, subset=\"training\")\n",
        "valid_gen = datagen.flow(X_train, y_train, batch_size=45, subset= \"validation\")"
      ],
      "metadata": {
        "id": "I-uLYw1rT1xC"
      },
      "execution_count": null,
      "outputs": []
    },
    {
      "cell_type": "code",
      "source": [
        "base_model16 = tf.keras.applications.EfficientNetV2M(include_top=False,\n",
        "                                     weights='imagenet',\n",
        "                                     input_shape=(224, 224, 3))\n",
        "x = base_model16.output\n",
        "x = tf.keras.layers.GlobalAveragePooling2D()(x)\n",
        "x = Dense(512, activation=None, kernel_regularizer = L1L2(l1=1e-5, l2=1e-3))(x)\n",
        "x = BatchNormalization()(x)\n",
        "x = Activation('relu')(x)\n",
        "x = Dropout(0.3)(x)\n",
        "x = Dense(512, activation=None, kernel_regularizer = L1L2(l1=1e-5, l2=1e-3))(x)\n",
        "x = BatchNormalization()(x)\n",
        "x = Activation('relu')(x)\n",
        "x = Dropout(0.3)(x)\n",
        "ouput1 = Dense(3, activation= 'softmax')(x)\n",
        "\n",
        "model16 = Model(inputs=base_model16.input, outputs=ouput1)\n",
        "model16.compile(loss='categorical_crossentropy', \n",
        "              optimizer=tf.keras.optimizers.Adam(1e-3, decay = 1e-3 * 0.1), metrics=['acc'])"
      ],
      "metadata": {
        "colab": {
          "base_uri": "https://localhost:8080/"
        },
        "id": "JUm4H7z5aO2V",
        "outputId": "fdc6872b-4f53-4b27-989e-cb99301b4246"
      },
      "execution_count": null,
      "outputs": [
        {
          "output_type": "stream",
          "name": "stdout",
          "text": [
            "Downloading data from https://storage.googleapis.com/tensorflow/keras-applications/efficientnet_v2/efficientnetv2-m_notop.h5\n",
            "214204416/214201816 [==============================] - 1s 0us/step\n",
            "214212608/214201816 [==============================] - 1s 0us/step\n"
          ]
        }
      ]
    },
    {
      "cell_type": "code",
      "source": [
        "#checkpoints\n",
        "learning_rate_reduction = ReduceLROnPlateau(monitor='val_acc', patience = 2, verbose=1,factor=0.3, min_lr=0.000001)\n",
        "chkpt = ModelCheckpoint(filepath='best_model_EfficientNetV2M_vol2.hdf5', monitor='val_acc', save_best_only=True, save_weights_only=True)\n",
        "\n",
        "#fit\n",
        "history = model16.fit(train_gen, epochs=10, validation_data=valid_gen, callbacks=[learning_rate_reduction, chkpt])"
      ],
      "metadata": {
        "colab": {
          "base_uri": "https://localhost:8080/"
        },
        "outputId": "d42c115d-f3e8-4caa-8873-6112803ab79c",
        "id": "PQ8DWNZnaO2W"
      },
      "execution_count": null,
      "outputs": [
        {
          "output_type": "stream",
          "name": "stdout",
          "text": [
            "Epoch 1/10\n",
            "104/104 [==============================] - 210s 2s/step - loss: 2.0884 - acc: 0.7453 - val_loss: 2.0835 - val_acc: 0.7018 - lr: 0.0010\n",
            "Epoch 2/10\n",
            "104/104 [==============================] - 172s 2s/step - loss: 1.6448 - acc: 0.7928 - val_loss: 1.5949 - val_acc: 0.7339 - lr: 0.0010\n",
            "Epoch 3/10\n",
            "104/104 [==============================] - 173s 2s/step - loss: 1.2627 - acc: 0.8183 - val_loss: 1.0442 - val_acc: 0.8555 - lr: 0.0010\n",
            "Epoch 4/10\n",
            "104/104 [==============================] - 172s 2s/step - loss: 0.9819 - acc: 0.8221 - val_loss: 0.8369 - val_acc: 0.8553 - lr: 0.0010\n",
            "Epoch 5/10\n",
            "104/104 [==============================] - ETA: 0s - loss: 0.8213 - acc: 0.8283\n",
            "Epoch 5: ReduceLROnPlateau reducing learning rate to 0.0003000000142492354.\n",
            "104/104 [==============================] - 171s 2s/step - loss: 0.8213 - acc: 0.8283 - val_loss: 0.8169 - val_acc: 0.7992 - lr: 0.0010\n",
            "Epoch 6/10\n",
            "104/104 [==============================] - 174s 2s/step - loss: 0.7131 - acc: 0.8343 - val_loss: 0.6027 - val_acc: 0.8784 - lr: 3.0000e-04\n",
            "Epoch 7/10\n",
            "104/104 [==============================] - 174s 2s/step - loss: 0.6024 - acc: 0.8619 - val_loss: 0.5264 - val_acc: 0.8973 - lr: 3.0000e-04\n",
            "Epoch 8/10\n",
            "104/104 [==============================] - 178s 2s/step - loss: 0.5273 - acc: 0.8840 - val_loss: 0.4706 - val_acc: 0.8985 - lr: 3.0000e-04\n",
            "Epoch 9/10\n",
            "104/104 [==============================] - 175s 2s/step - loss: 0.4670 - acc: 0.8932 - val_loss: 0.4021 - val_acc: 0.9204 - lr: 3.0000e-04\n",
            "Epoch 10/10\n",
            "104/104 [==============================] - 179s 2s/step - loss: 0.3998 - acc: 0.9163 - val_loss: 0.3352 - val_acc: 0.9362 - lr: 3.0000e-04\n"
          ]
        }
      ]
    },
    {
      "cell_type": "code",
      "source": [
        "model16.load_weights('best_model_EfficientNetV2M_vol2.hdf5')\n",
        "preds = model16.predict(X_test)\n",
        "labelled_preds = one_hot_encoder.inverse_transform(preds)\n",
        "pred = pd.DataFrame(labelled_preds, columns =[\"class_id\"])\n",
        "df = pd.read_csv('submission3.csv')\n",
        "df ['class_id']= pred\n",
        "df.to_csv(\"final_submission_EfficientNetV2M_vol2.csv\", index=False)"
      ],
      "metadata": {
        "id": "dEdbd1YIhY_7"
      },
      "execution_count": null,
      "outputs": []
    },
    {
      "cell_type": "code",
      "source": [
        "base_model19 = tf.keras.applications.EfficientNetV2M(include_top=False,\n",
        "                                     weights='imagenet',\n",
        "                                     input_shape=(224, 224, 3))\n",
        "x = base_model19.output\n",
        "x = tf.keras.layers.GlobalAveragePooling2D()(x)\n",
        "x = Dense(512, activation=None, kernel_regularizer = L1L2(l1=1e-5, l2=1e-3))(x)\n",
        "x = BatchNormalization()(x)\n",
        "x = Activation('swish')(x)\n",
        "x = Dropout(0.5)(x)\n",
        "x = Dense(512, activation=None, kernel_regularizer = L1L2(l1=1e-5, l2=1e-3))(x)\n",
        "x = BatchNormalization()(x)\n",
        "x = Activation('swish')(x)\n",
        "x = Dropout(0.5)(x)\n",
        "ouput1 = Dense(3, activation= 'softmax')(x)\n",
        "\n",
        "model19 = Model(inputs=base_model19.input, outputs=ouput1)\n",
        "model19.compile(loss='categorical_crossentropy', \n",
        "              optimizer=tf.keras.optimizers.Adam(1e-3, decay = 1e-3 * 0.1), metrics=['acc'])"
      ],
      "metadata": {
        "id": "KxyFo3jKT1xC"
      },
      "execution_count": null,
      "outputs": []
    },
    {
      "cell_type": "code",
      "source": [
        "#checkpoints\n",
        "learning_rate_reduction = ReduceLROnPlateau(monitor='val_acc', patience = 2, verbose=1,factor=0.3, min_lr=0.000001)\n",
        "chkpt = ModelCheckpoint(filepath='best_model_EfficientNetV2M_vol6.hdf5', monitor='val_acc', save_best_only=True, save_weights_only=True)\n",
        "\n",
        "#fit\n",
        "history = model19.fit(train_gen, epochs=10, validation_data=valid_gen, callbacks=[learning_rate_reduction, chkpt])"
      ],
      "metadata": {
        "colab": {
          "base_uri": "https://localhost:8080/"
        },
        "outputId": "c826cb77-aa50-4962-b1aa-4382008d047e",
        "id": "ZEas3ei1T1xD"
      },
      "execution_count": null,
      "outputs": [
        {
          "output_type": "stream",
          "name": "stdout",
          "text": [
            "Epoch 1/10\n",
            "104/104 [==============================] - 200s 2s/step - loss: 2.0952 - acc: 0.7380 - val_loss: 1.7505 - val_acc: 0.8266 - lr: 0.0010\n",
            "Epoch 2/10\n",
            "104/104 [==============================] - 170s 2s/step - loss: 1.6983 - acc: 0.7770 - val_loss: 1.5436 - val_acc: 0.7975 - lr: 0.0010\n",
            "Epoch 3/10\n",
            "104/104 [==============================] - 174s 2s/step - loss: 1.3640 - acc: 0.7729 - val_loss: 1.1381 - val_acc: 0.8307 - lr: 0.0010\n",
            "Epoch 4/10\n",
            "104/104 [==============================] - 171s 2s/step - loss: 1.1220 - acc: 0.7920 - val_loss: 0.9992 - val_acc: 0.8035 - lr: 0.0010\n",
            "Epoch 5/10\n",
            "104/104 [==============================] - ETA: 0s - loss: 1.0344 - acc: 0.7601\n",
            "Epoch 5: ReduceLROnPlateau reducing learning rate to 0.0003000000142492354.\n",
            "104/104 [==============================] - 171s 2s/step - loss: 1.0344 - acc: 0.7601 - val_loss: 0.8978 - val_acc: 0.7821 - lr: 0.0010\n",
            "Epoch 6/10\n",
            "104/104 [==============================] - 171s 2s/step - loss: 0.8465 - acc: 0.7964 - val_loss: 0.7746 - val_acc: 0.8179 - lr: 3.0000e-04\n",
            "Epoch 7/10\n",
            "104/104 [==============================] - ETA: 0s - loss: 0.7552 - acc: 0.8146\n",
            "Epoch 7: ReduceLROnPlateau reducing learning rate to 9.000000427477062e-05.\n",
            "104/104 [==============================] - 171s 2s/step - loss: 0.7552 - acc: 0.8146 - val_loss: 0.7075 - val_acc: 0.8219 - lr: 3.0000e-04\n",
            "Epoch 8/10\n",
            "104/104 [==============================] - 174s 2s/step - loss: 0.6957 - acc: 0.8277 - val_loss: 0.6509 - val_acc: 0.8478 - lr: 9.0000e-05\n",
            "Epoch 9/10\n",
            "104/104 [==============================] - 174s 2s/step - loss: 0.6509 - acc: 0.8457 - val_loss: 0.6119 - val_acc: 0.8654 - lr: 9.0000e-05\n",
            "Epoch 10/10\n",
            "104/104 [==============================] - 174s 2s/step - loss: 0.6315 - acc: 0.8508 - val_loss: 0.5752 - val_acc: 0.8786 - lr: 9.0000e-05\n"
          ]
        }
      ]
    },
    {
      "cell_type": "code",
      "source": [
        "model19.load_weights('best_model_EfficientNetV2M_vol6.hdf5')\n",
        "preds = model19.predict(X_test)\n",
        "labelled_preds = one_hot_encoder.inverse_transform(preds)\n",
        "pred = pd.DataFrame(labelled_preds, columns =[\"class_id\"])\n",
        "df = pd.read_csv('submission3.csv')\n",
        "df ['class_id']= pred\n",
        "df.to_csv(\"final_submission_EfficientNetV2M_vol6.csv\", index=False)"
      ],
      "metadata": {
        "id": "g2npB6GVT1xD"
      },
      "execution_count": null,
      "outputs": []
    },
    {
      "cell_type": "code",
      "source": [
        "base_model20 = tf.keras.applications.EfficientNetV2M(include_top=False,\n",
        "                                     weights='imagenet',\n",
        "                                     input_shape=(224, 224, 3))\n",
        "x = base_model20.output\n",
        "x = tf.keras.layers.GlobalAveragePooling2D()(x)\n",
        "x = Dense(512, activation=None, kernel_regularizer = L1L2(l1=1e-5, l2=1e-3))(x)\n",
        "x = BatchNormalization()(x)\n",
        "x = Activation('swish')(x)\n",
        "x = Dropout(0.5)(x)\n",
        "x = Dense(512, activation=None, kernel_regularizer = L1L2(l1=1e-5, l2=1e-3))(x)\n",
        "x = BatchNormalization()(x)\n",
        "x = Activation('swish')(x)\n",
        "x = Dropout(0.5)(x)\n",
        "ouput1 = Dense(3, activation= 'softmax')(x)\n",
        "\n",
        "model20 = Model(inputs=base_model20.input, outputs=ouput1)\n",
        "model20.compile(loss='categorical_crossentropy', \n",
        "              optimizer=tf.keras.optimizers.Adam(1e-3, decay = 1e-3 * 0.1), metrics=['acc'])"
      ],
      "metadata": {
        "id": "ZJqhbK0EgNRP"
      },
      "execution_count": null,
      "outputs": []
    },
    {
      "cell_type": "code",
      "source": [
        "#checkpoints\n",
        "learning_rate_reduction = ReduceLROnPlateau(monitor='val_acc', patience = 2, verbose=1,factor=0.3, min_lr=0.000001)\n",
        "chkpt = ModelCheckpoint(filepath='best_model_EfficientNetV2M_vol7.hdf5', monitor='val_acc', save_best_only=True, save_weights_only=True)\n",
        "\n",
        "#fit\n",
        "history = model20.fit(train_gen, epochs=50, validation_data=valid_gen, callbacks=[learning_rate_reduction, chkpt])"
      ],
      "metadata": {
        "colab": {
          "base_uri": "https://localhost:8080/"
        },
        "outputId": "bab9af0a-ef8b-489b-9af9-562e6325e0b8",
        "id": "eL3yc_6OgNRP"
      },
      "execution_count": null,
      "outputs": [
        {
          "output_type": "stream",
          "name": "stdout",
          "text": [
            "Epoch 1/50\n",
            "104/104 [==============================] - 209s 2s/step - loss: 2.1217 - acc: 0.7179 - val_loss: 1.8074 - val_acc: 0.8039 - lr: 0.0010\n",
            "Epoch 2/50\n",
            "104/104 [==============================] - 170s 2s/step - loss: 1.6724 - acc: 0.8031 - val_loss: 1.5628 - val_acc: 0.7990 - lr: 0.0010\n",
            "Epoch 3/50\n",
            "104/104 [==============================] - ETA: 0s - loss: 1.5122 - acc: 0.7661\n",
            "Epoch 3: ReduceLROnPlateau reducing learning rate to 0.0003000000142492354.\n",
            "104/104 [==============================] - 170s 2s/step - loss: 1.5122 - acc: 0.7661 - val_loss: 4.3048 - val_acc: 0.6203 - lr: 0.0010\n",
            "Epoch 4/50\n",
            "104/104 [==============================] - 173s 2s/step - loss: 1.2637 - acc: 0.7864 - val_loss: 1.1842 - val_acc: 0.8061 - lr: 3.0000e-04\n",
            "Epoch 5/50\n",
            "104/104 [==============================] - 172s 2s/step - loss: 1.1417 - acc: 0.8097 - val_loss: 1.0507 - val_acc: 0.8266 - lr: 3.0000e-04\n",
            "Epoch 6/50\n",
            "104/104 [==============================] - 173s 2s/step - loss: 1.0201 - acc: 0.8281 - val_loss: 0.9685 - val_acc: 0.8328 - lr: 3.0000e-04\n",
            "Epoch 7/50\n",
            "104/104 [==============================] - 173s 2s/step - loss: 0.9294 - acc: 0.8345 - val_loss: 0.8789 - val_acc: 0.8560 - lr: 3.0000e-04\n",
            "Epoch 8/50\n",
            "104/104 [==============================] - 174s 2s/step - loss: 0.8386 - acc: 0.8521 - val_loss: 0.7629 - val_acc: 0.8707 - lr: 3.0000e-04\n",
            "Epoch 9/50\n",
            "104/104 [==============================] - 173s 2s/step - loss: 0.7655 - acc: 0.8510 - val_loss: 0.7224 - val_acc: 0.8735 - lr: 3.0000e-04\n",
            "Epoch 10/50\n",
            "104/104 [==============================] - 172s 2s/step - loss: 0.6786 - acc: 0.8701 - val_loss: 0.6084 - val_acc: 0.8932 - lr: 3.0000e-04\n",
            "Epoch 11/50\n",
            "104/104 [==============================] - 170s 2s/step - loss: 0.6146 - acc: 0.8763 - val_loss: 0.5631 - val_acc: 0.8823 - lr: 3.0000e-04\n",
            "Epoch 12/50\n",
            "104/104 [==============================] - 172s 2s/step - loss: 0.5549 - acc: 0.8870 - val_loss: 0.5201 - val_acc: 0.8975 - lr: 3.0000e-04\n",
            "Epoch 13/50\n",
            "104/104 [==============================] - 173s 2s/step - loss: 0.4948 - acc: 0.8975 - val_loss: 0.4481 - val_acc: 0.9103 - lr: 3.0000e-04\n",
            "Epoch 14/50\n",
            "104/104 [==============================] - 173s 2s/step - loss: 0.4446 - acc: 0.9037 - val_loss: 0.4008 - val_acc: 0.9187 - lr: 3.0000e-04\n",
            "Epoch 15/50\n",
            "104/104 [==============================] - 173s 2s/step - loss: 0.3881 - acc: 0.9229 - val_loss: 0.3629 - val_acc: 0.9206 - lr: 3.0000e-04\n",
            "Epoch 16/50\n",
            "104/104 [==============================] - 173s 2s/step - loss: 0.3553 - acc: 0.9277 - val_loss: 0.3115 - val_acc: 0.9381 - lr: 3.0000e-04\n",
            "Epoch 17/50\n",
            "104/104 [==============================] - 173s 2s/step - loss: 0.3320 - acc: 0.9313 - val_loss: 0.2623 - val_acc: 0.9568 - lr: 3.0000e-04\n",
            "Epoch 18/50\n",
            "104/104 [==============================] - 173s 2s/step - loss: 0.2825 - acc: 0.9452 - val_loss: 0.2342 - val_acc: 0.9591 - lr: 3.0000e-04\n",
            "Epoch 19/50\n",
            "104/104 [==============================] - 173s 2s/step - loss: 0.2640 - acc: 0.9405 - val_loss: 0.2166 - val_acc: 0.9630 - lr: 3.0000e-04\n",
            "Epoch 20/50\n",
            "104/104 [==============================] - 170s 2s/step - loss: 0.2132 - acc: 0.9613 - val_loss: 0.2513 - val_acc: 0.9424 - lr: 3.0000e-04\n",
            "Epoch 21/50\n",
            "104/104 [==============================] - 173s 2s/step - loss: 0.2149 - acc: 0.9568 - val_loss: 0.1624 - val_acc: 0.9750 - lr: 3.0000e-04\n",
            "Epoch 22/50\n",
            "104/104 [==============================] - 174s 2s/step - loss: 0.1965 - acc: 0.9602 - val_loss: 0.1449 - val_acc: 0.9801 - lr: 3.0000e-04\n",
            "Epoch 23/50\n",
            "104/104 [==============================] - 170s 2s/step - loss: 0.1673 - acc: 0.9715 - val_loss: 0.1428 - val_acc: 0.9747 - lr: 3.0000e-04\n",
            "Epoch 24/50\n",
            "104/104 [==============================] - ETA: 0s - loss: 0.1700 - acc: 0.9625\n",
            "Epoch 24: ReduceLROnPlateau reducing learning rate to 9.000000427477062e-05.\n",
            "104/104 [==============================] - 170s 2s/step - loss: 0.1700 - acc: 0.9625 - val_loss: 0.1596 - val_acc: 0.9688 - lr: 3.0000e-04\n",
            "Epoch 25/50\n",
            "104/104 [==============================] - 173s 2s/step - loss: 0.1157 - acc: 0.9857 - val_loss: 0.0860 - val_acc: 0.9949 - lr: 9.0000e-05\n",
            "Epoch 26/50\n",
            "104/104 [==============================] - 173s 2s/step - loss: 0.0882 - acc: 0.9923 - val_loss: 0.0791 - val_acc: 0.9955 - lr: 9.0000e-05\n",
            "Epoch 27/50\n",
            "104/104 [==============================] - 172s 2s/step - loss: 0.0794 - acc: 0.9951 - val_loss: 0.0696 - val_acc: 0.9979 - lr: 9.0000e-05\n",
            "Epoch 28/50\n",
            "104/104 [==============================] - 170s 2s/step - loss: 0.0777 - acc: 0.9929 - val_loss: 0.0654 - val_acc: 0.9979 - lr: 9.0000e-05\n",
            "Epoch 29/50\n",
            "104/104 [==============================] - ETA: 0s - loss: 0.0676 - acc: 0.9968\n",
            "Epoch 29: ReduceLROnPlateau reducing learning rate to 2.700000040931627e-05.\n",
            "104/104 [==============================] - 170s 2s/step - loss: 0.0676 - acc: 0.9968 - val_loss: 0.0633 - val_acc: 0.9974 - lr: 9.0000e-05\n",
            "Epoch 30/50\n",
            "104/104 [==============================] - 173s 2s/step - loss: 0.0689 - acc: 0.9957 - val_loss: 0.0582 - val_acc: 0.9991 - lr: 2.7000e-05\n",
            "Epoch 31/50\n",
            "104/104 [==============================] - 170s 2s/step - loss: 0.0643 - acc: 0.9964 - val_loss: 0.0571 - val_acc: 0.9983 - lr: 2.7000e-05\n",
            "Epoch 32/50\n",
            "104/104 [==============================] - 173s 2s/step - loss: 0.0599 - acc: 0.9970 - val_loss: 0.0545 - val_acc: 0.9994 - lr: 2.7000e-05\n",
            "Epoch 33/50\n",
            "104/104 [==============================] - 170s 2s/step - loss: 0.0579 - acc: 0.9981 - val_loss: 0.0549 - val_acc: 0.9983 - lr: 2.7000e-05\n",
            "Epoch 34/50\n",
            "104/104 [==============================] - ETA: 0s - loss: 0.0575 - acc: 0.9979\n",
            "Epoch 34: ReduceLROnPlateau reducing learning rate to 8.100000013655517e-06.\n",
            "104/104 [==============================] - 170s 2s/step - loss: 0.0575 - acc: 0.9979 - val_loss: 0.0523 - val_acc: 0.9989 - lr: 2.7000e-05\n",
            "Epoch 35/50\n",
            "104/104 [==============================] - 173s 2s/step - loss: 0.0553 - acc: 0.9981 - val_loss: 0.0515 - val_acc: 0.9996 - lr: 8.1000e-06\n",
            "Epoch 36/50\n",
            "104/104 [==============================] - 170s 2s/step - loss: 0.0569 - acc: 0.9974 - val_loss: 0.0520 - val_acc: 0.9989 - lr: 8.1000e-06\n",
            "Epoch 37/50\n",
            "104/104 [==============================] - ETA: 0s - loss: 0.0526 - acc: 0.9985\n",
            "Epoch 37: ReduceLROnPlateau reducing learning rate to 2.429999949526973e-06.\n",
            "104/104 [==============================] - 170s 2s/step - loss: 0.0526 - acc: 0.9985 - val_loss: 0.0505 - val_acc: 0.9991 - lr: 8.1000e-06\n",
            "Epoch 38/50\n",
            "104/104 [==============================] - 174s 2s/step - loss: 0.0544 - acc: 0.9981 - val_loss: 0.0501 - val_acc: 0.9998 - lr: 2.4300e-06\n",
            "Epoch 39/50\n",
            "104/104 [==============================] - 170s 2s/step - loss: 0.0517 - acc: 0.9994 - val_loss: 0.0502 - val_acc: 0.9996 - lr: 2.4300e-06\n",
            "Epoch 40/50\n",
            "104/104 [==============================] - ETA: 0s - loss: 0.0526 - acc: 0.9989\n",
            "Epoch 40: ReduceLROnPlateau reducing learning rate to 1e-06.\n",
            "104/104 [==============================] - 170s 2s/step - loss: 0.0526 - acc: 0.9989 - val_loss: 0.0501 - val_acc: 0.9994 - lr: 2.4300e-06\n",
            "Epoch 41/50\n",
            "104/104 [==============================] - 170s 2s/step - loss: 0.0529 - acc: 0.9985 - val_loss: 0.0503 - val_acc: 0.9994 - lr: 1.0000e-06\n",
            "Epoch 42/50\n",
            "104/104 [==============================] - 170s 2s/step - loss: 0.0536 - acc: 0.9983 - val_loss: 0.0496 - val_acc: 0.9998 - lr: 1.0000e-06\n",
            "Epoch 43/50\n",
            "104/104 [==============================] - 170s 2s/step - loss: 0.0515 - acc: 0.9994 - val_loss: 0.0493 - val_acc: 0.9996 - lr: 1.0000e-06\n",
            "Epoch 44/50\n",
            "104/104 [==============================] - 170s 2s/step - loss: 0.0535 - acc: 0.9981 - val_loss: 0.0498 - val_acc: 0.9994 - lr: 1.0000e-06\n",
            "Epoch 45/50\n",
            "104/104 [==============================] - 170s 2s/step - loss: 0.0522 - acc: 0.9989 - val_loss: 0.0494 - val_acc: 0.9996 - lr: 1.0000e-06\n",
            "Epoch 46/50\n",
            "104/104 [==============================] - 170s 2s/step - loss: 0.0518 - acc: 0.9989 - val_loss: 0.0491 - val_acc: 0.9998 - lr: 1.0000e-06\n",
            "Epoch 47/50\n",
            "104/104 [==============================] - 170s 2s/step - loss: 0.0517 - acc: 0.9991 - val_loss: 0.0499 - val_acc: 0.9991 - lr: 1.0000e-06\n",
            "Epoch 48/50\n",
            "104/104 [==============================] - 170s 2s/step - loss: 0.0504 - acc: 0.9996 - val_loss: 0.0490 - val_acc: 0.9996 - lr: 1.0000e-06\n",
            "Epoch 49/50\n",
            "104/104 [==============================] - 170s 2s/step - loss: 0.0529 - acc: 0.9985 - val_loss: 0.0489 - val_acc: 0.9998 - lr: 1.0000e-06\n",
            "Epoch 50/50\n",
            "104/104 [==============================] - 170s 2s/step - loss: 0.0525 - acc: 0.9981 - val_loss: 0.0491 - val_acc: 0.9998 - lr: 1.0000e-06\n"
          ]
        }
      ]
    },
    {
      "cell_type": "code",
      "source": [
        "model20.load_weights('best_model_EfficientNetV2M_vol7.hdf5')\n",
        "preds = model20.predict(X_test)\n",
        "labelled_preds = one_hot_encoder.inverse_transform(preds)\n",
        "pred = pd.DataFrame(labelled_preds, columns =[\"class_id\"])\n",
        "df = pd.read_csv('submission3.csv')\n",
        "df ['class_id']= pred\n",
        "df.to_csv(\"final_submission_EfficientNetV2M_vol7.csv\", index=False)"
      ],
      "metadata": {
        "id": "e8AiHbNigNRP"
      },
      "execution_count": null,
      "outputs": []
    },
    {
      "cell_type": "markdown",
      "source": [
        "###MobileNet"
      ],
      "metadata": {
        "id": "-5n68tdlp-9i"
      }
    },
    {
      "cell_type": "code",
      "source": [
        "base_model8 = tf.keras.applications.MobileNet(include_top=False,\n",
        "                                     weights='imagenet',\n",
        "                                     input_shape=(224, 224, 3))\n",
        "x = base_model8.output\n",
        "x = tf.keras.layers.GlobalAveragePooling2D()(x)\n",
        "x = Dense(512, activation=None, kernel_regularizer = L1L2(l1=1e-5, l2=1e-3))(x)\n",
        "x = BatchNormalization()(x)\n",
        "x = Activation('swish')(x)\n",
        "x = Dropout(0.3)(x)\n",
        "x = Dense(512, activation=None, kernel_regularizer = L1L2(l1=1e-5, l2=1e-3))(x)\n",
        "x = BatchNormalization()(x)\n",
        "x = Activation('swish')(x)\n",
        "x = Dropout(0.3)(x)\n",
        "ouput1 = Dense(3, activation= 'softmax')(x)\n",
        "\n",
        "model8 = Model(inputs=base_model8.input, outputs=ouput1)\n",
        "\n",
        "model8.compile(loss='categorical_crossentropy', \n",
        "              optimizer=tf.keras.optimizers.Adam(1e-3, decay = 1e-3 * 0.1), metrics=['acc'])\n",
        "model8.summary()"
      ],
      "metadata": {
        "colab": {
          "base_uri": "https://localhost:8080/"
        },
        "id": "Stf933V_qEcg",
        "outputId": "4724aaca-cd5c-4039-b4e6-a882db4b26a1"
      },
      "execution_count": null,
      "outputs": [
        {
          "output_type": "stream",
          "name": "stdout",
          "text": [
            "Model: \"model_11\"\n",
            "_________________________________________________________________\n",
            " Layer (type)                Output Shape              Param #   \n",
            "=================================================================\n",
            " input_12 (InputLayer)       [(None, 224, 224, 3)]     0         \n",
            "                                                                 \n",
            " conv1 (Conv2D)              (None, 112, 112, 32)      864       \n",
            "                                                                 \n",
            " conv1_bn (BatchNormalizatio  (None, 112, 112, 32)     128       \n",
            " n)                                                              \n",
            "                                                                 \n",
            " conv1_relu (ReLU)           (None, 112, 112, 32)      0         \n",
            "                                                                 \n",
            " conv_dw_1 (DepthwiseConv2D)  (None, 112, 112, 32)     288       \n",
            "                                                                 \n",
            " conv_dw_1_bn (BatchNormaliz  (None, 112, 112, 32)     128       \n",
            " ation)                                                          \n",
            "                                                                 \n",
            " conv_dw_1_relu (ReLU)       (None, 112, 112, 32)      0         \n",
            "                                                                 \n",
            " conv_pw_1 (Conv2D)          (None, 112, 112, 64)      2048      \n",
            "                                                                 \n",
            " conv_pw_1_bn (BatchNormaliz  (None, 112, 112, 64)     256       \n",
            " ation)                                                          \n",
            "                                                                 \n",
            " conv_pw_1_relu (ReLU)       (None, 112, 112, 64)      0         \n",
            "                                                                 \n",
            " conv_pad_2 (ZeroPadding2D)  (None, 113, 113, 64)      0         \n",
            "                                                                 \n",
            " conv_dw_2 (DepthwiseConv2D)  (None, 56, 56, 64)       576       \n",
            "                                                                 \n",
            " conv_dw_2_bn (BatchNormaliz  (None, 56, 56, 64)       256       \n",
            " ation)                                                          \n",
            "                                                                 \n",
            " conv_dw_2_relu (ReLU)       (None, 56, 56, 64)        0         \n",
            "                                                                 \n",
            " conv_pw_2 (Conv2D)          (None, 56, 56, 128)       8192      \n",
            "                                                                 \n",
            " conv_pw_2_bn (BatchNormaliz  (None, 56, 56, 128)      512       \n",
            " ation)                                                          \n",
            "                                                                 \n",
            " conv_pw_2_relu (ReLU)       (None, 56, 56, 128)       0         \n",
            "                                                                 \n",
            " conv_dw_3 (DepthwiseConv2D)  (None, 56, 56, 128)      1152      \n",
            "                                                                 \n",
            " conv_dw_3_bn (BatchNormaliz  (None, 56, 56, 128)      512       \n",
            " ation)                                                          \n",
            "                                                                 \n",
            " conv_dw_3_relu (ReLU)       (None, 56, 56, 128)       0         \n",
            "                                                                 \n",
            " conv_pw_3 (Conv2D)          (None, 56, 56, 128)       16384     \n",
            "                                                                 \n",
            " conv_pw_3_bn (BatchNormaliz  (None, 56, 56, 128)      512       \n",
            " ation)                                                          \n",
            "                                                                 \n",
            " conv_pw_3_relu (ReLU)       (None, 56, 56, 128)       0         \n",
            "                                                                 \n",
            " conv_pad_4 (ZeroPadding2D)  (None, 57, 57, 128)       0         \n",
            "                                                                 \n",
            " conv_dw_4 (DepthwiseConv2D)  (None, 28, 28, 128)      1152      \n",
            "                                                                 \n",
            " conv_dw_4_bn (BatchNormaliz  (None, 28, 28, 128)      512       \n",
            " ation)                                                          \n",
            "                                                                 \n",
            " conv_dw_4_relu (ReLU)       (None, 28, 28, 128)       0         \n",
            "                                                                 \n",
            " conv_pw_4 (Conv2D)          (None, 28, 28, 256)       32768     \n",
            "                                                                 \n",
            " conv_pw_4_bn (BatchNormaliz  (None, 28, 28, 256)      1024      \n",
            " ation)                                                          \n",
            "                                                                 \n",
            " conv_pw_4_relu (ReLU)       (None, 28, 28, 256)       0         \n",
            "                                                                 \n",
            " conv_dw_5 (DepthwiseConv2D)  (None, 28, 28, 256)      2304      \n",
            "                                                                 \n",
            " conv_dw_5_bn (BatchNormaliz  (None, 28, 28, 256)      1024      \n",
            " ation)                                                          \n",
            "                                                                 \n",
            " conv_dw_5_relu (ReLU)       (None, 28, 28, 256)       0         \n",
            "                                                                 \n",
            " conv_pw_5 (Conv2D)          (None, 28, 28, 256)       65536     \n",
            "                                                                 \n",
            " conv_pw_5_bn (BatchNormaliz  (None, 28, 28, 256)      1024      \n",
            " ation)                                                          \n",
            "                                                                 \n",
            " conv_pw_5_relu (ReLU)       (None, 28, 28, 256)       0         \n",
            "                                                                 \n",
            " conv_pad_6 (ZeroPadding2D)  (None, 29, 29, 256)       0         \n",
            "                                                                 \n",
            " conv_dw_6 (DepthwiseConv2D)  (None, 14, 14, 256)      2304      \n",
            "                                                                 \n",
            " conv_dw_6_bn (BatchNormaliz  (None, 14, 14, 256)      1024      \n",
            " ation)                                                          \n",
            "                                                                 \n",
            " conv_dw_6_relu (ReLU)       (None, 14, 14, 256)       0         \n",
            "                                                                 \n",
            " conv_pw_6 (Conv2D)          (None, 14, 14, 512)       131072    \n",
            "                                                                 \n",
            " conv_pw_6_bn (BatchNormaliz  (None, 14, 14, 512)      2048      \n",
            " ation)                                                          \n",
            "                                                                 \n",
            " conv_pw_6_relu (ReLU)       (None, 14, 14, 512)       0         \n",
            "                                                                 \n",
            " conv_dw_7 (DepthwiseConv2D)  (None, 14, 14, 512)      4608      \n",
            "                                                                 \n",
            " conv_dw_7_bn (BatchNormaliz  (None, 14, 14, 512)      2048      \n",
            " ation)                                                          \n",
            "                                                                 \n",
            " conv_dw_7_relu (ReLU)       (None, 14, 14, 512)       0         \n",
            "                                                                 \n",
            " conv_pw_7 (Conv2D)          (None, 14, 14, 512)       262144    \n",
            "                                                                 \n",
            " conv_pw_7_bn (BatchNormaliz  (None, 14, 14, 512)      2048      \n",
            " ation)                                                          \n",
            "                                                                 \n",
            " conv_pw_7_relu (ReLU)       (None, 14, 14, 512)       0         \n",
            "                                                                 \n",
            " conv_dw_8 (DepthwiseConv2D)  (None, 14, 14, 512)      4608      \n",
            "                                                                 \n",
            " conv_dw_8_bn (BatchNormaliz  (None, 14, 14, 512)      2048      \n",
            " ation)                                                          \n",
            "                                                                 \n",
            " conv_dw_8_relu (ReLU)       (None, 14, 14, 512)       0         \n",
            "                                                                 \n",
            " conv_pw_8 (Conv2D)          (None, 14, 14, 512)       262144    \n",
            "                                                                 \n",
            " conv_pw_8_bn (BatchNormaliz  (None, 14, 14, 512)      2048      \n",
            " ation)                                                          \n",
            "                                                                 \n",
            " conv_pw_8_relu (ReLU)       (None, 14, 14, 512)       0         \n",
            "                                                                 \n",
            " conv_dw_9 (DepthwiseConv2D)  (None, 14, 14, 512)      4608      \n",
            "                                                                 \n",
            " conv_dw_9_bn (BatchNormaliz  (None, 14, 14, 512)      2048      \n",
            " ation)                                                          \n",
            "                                                                 \n",
            " conv_dw_9_relu (ReLU)       (None, 14, 14, 512)       0         \n",
            "                                                                 \n",
            " conv_pw_9 (Conv2D)          (None, 14, 14, 512)       262144    \n",
            "                                                                 \n",
            " conv_pw_9_bn (BatchNormaliz  (None, 14, 14, 512)      2048      \n",
            " ation)                                                          \n",
            "                                                                 \n",
            " conv_pw_9_relu (ReLU)       (None, 14, 14, 512)       0         \n",
            "                                                                 \n",
            " conv_dw_10 (DepthwiseConv2D  (None, 14, 14, 512)      4608      \n",
            " )                                                               \n",
            "                                                                 \n",
            " conv_dw_10_bn (BatchNormali  (None, 14, 14, 512)      2048      \n",
            " zation)                                                         \n",
            "                                                                 \n",
            " conv_dw_10_relu (ReLU)      (None, 14, 14, 512)       0         \n",
            "                                                                 \n",
            " conv_pw_10 (Conv2D)         (None, 14, 14, 512)       262144    \n",
            "                                                                 \n",
            " conv_pw_10_bn (BatchNormali  (None, 14, 14, 512)      2048      \n",
            " zation)                                                         \n",
            "                                                                 \n",
            " conv_pw_10_relu (ReLU)      (None, 14, 14, 512)       0         \n",
            "                                                                 \n",
            " conv_dw_11 (DepthwiseConv2D  (None, 14, 14, 512)      4608      \n",
            " )                                                               \n",
            "                                                                 \n",
            " conv_dw_11_bn (BatchNormali  (None, 14, 14, 512)      2048      \n",
            " zation)                                                         \n",
            "                                                                 \n",
            " conv_dw_11_relu (ReLU)      (None, 14, 14, 512)       0         \n",
            "                                                                 \n",
            " conv_pw_11 (Conv2D)         (None, 14, 14, 512)       262144    \n",
            "                                                                 \n",
            " conv_pw_11_bn (BatchNormali  (None, 14, 14, 512)      2048      \n",
            " zation)                                                         \n",
            "                                                                 \n",
            " conv_pw_11_relu (ReLU)      (None, 14, 14, 512)       0         \n",
            "                                                                 \n",
            " conv_pad_12 (ZeroPadding2D)  (None, 15, 15, 512)      0         \n",
            "                                                                 \n",
            " conv_dw_12 (DepthwiseConv2D  (None, 7, 7, 512)        4608      \n",
            " )                                                               \n",
            "                                                                 \n",
            " conv_dw_12_bn (BatchNormali  (None, 7, 7, 512)        2048      \n",
            " zation)                                                         \n",
            "                                                                 \n",
            " conv_dw_12_relu (ReLU)      (None, 7, 7, 512)         0         \n",
            "                                                                 \n",
            " conv_pw_12 (Conv2D)         (None, 7, 7, 1024)        524288    \n",
            "                                                                 \n",
            " conv_pw_12_bn (BatchNormali  (None, 7, 7, 1024)       4096      \n",
            " zation)                                                         \n",
            "                                                                 \n",
            " conv_pw_12_relu (ReLU)      (None, 7, 7, 1024)        0         \n",
            "                                                                 \n",
            " conv_dw_13 (DepthwiseConv2D  (None, 7, 7, 1024)       9216      \n",
            " )                                                               \n",
            "                                                                 \n",
            " conv_dw_13_bn (BatchNormali  (None, 7, 7, 1024)       4096      \n",
            " zation)                                                         \n",
            "                                                                 \n",
            " conv_dw_13_relu (ReLU)      (None, 7, 7, 1024)        0         \n",
            "                                                                 \n",
            " conv_pw_13 (Conv2D)         (None, 7, 7, 1024)        1048576   \n",
            "                                                                 \n",
            " conv_pw_13_bn (BatchNormali  (None, 7, 7, 1024)       4096      \n",
            " zation)                                                         \n",
            "                                                                 \n",
            " conv_pw_13_relu (ReLU)      (None, 7, 7, 1024)        0         \n",
            "                                                                 \n",
            " global_average_pooling2d_11  (None, 1024)             0         \n",
            "  (GlobalAveragePooling2D)                                       \n",
            "                                                                 \n",
            " dense_33 (Dense)            (None, 512)               524800    \n",
            "                                                                 \n",
            " batch_normalization_22 (Bat  (None, 512)              2048      \n",
            " chNormalization)                                                \n",
            "                                                                 \n",
            " activation_22 (Activation)  (None, 512)               0         \n",
            "                                                                 \n",
            " dropout_22 (Dropout)        (None, 512)               0         \n",
            "                                                                 \n",
            " dense_34 (Dense)            (None, 512)               262656    \n",
            "                                                                 \n",
            " batch_normalization_23 (Bat  (None, 512)              2048      \n",
            " chNormalization)                                                \n",
            "                                                                 \n",
            " activation_23 (Activation)  (None, 512)               0         \n",
            "                                                                 \n",
            " dropout_23 (Dropout)        (None, 512)               0         \n",
            "                                                                 \n",
            " dense_35 (Dense)            (None, 3)                 1539      \n",
            "                                                                 \n",
            "=================================================================\n",
            "Total params: 4,021,955\n",
            "Trainable params: 3,998,019\n",
            "Non-trainable params: 23,936\n",
            "_________________________________________________________________\n"
          ]
        }
      ]
    },
    {
      "cell_type": "code",
      "source": [
        "learning_rate_reduction = ReduceLROnPlateau(monitor='val_loss', patience = 2, verbose=1,factor=0.3, min_lr=0.00000001)\n",
        "chkpt = ModelCheckpoint(filepath='best_model_MN.hdf5', monitor='val_loss', save_best_only=True, save_weights_only=True)\n",
        "early_stopping = tf.keras.callbacks.EarlyStopping(patience=13, monitor='val_loss', restore_best_weights=True)\n",
        "\n",
        "history8 = model8.fit(train_gen, epochs=20, validation_data=valid_gen, callbacks=[learning_rate_reduction, chkpt, early_stopping])"
      ],
      "metadata": {
        "colab": {
          "base_uri": "https://localhost:8080/"
        },
        "id": "HwqmGhgeqW0M",
        "outputId": "73fc3781-3180-4689-8bdd-59c88aca9bf3"
      },
      "execution_count": null,
      "outputs": [
        {
          "output_type": "stream",
          "name": "stdout",
          "text": [
            "Epoch 1/20\n",
            "132/132 [==============================] - 68s 487ms/step - loss: 2.0216 - acc: 0.7389 - val_loss: 2.1545 - val_acc: 0.7816 - lr: 0.0010\n",
            "Epoch 2/20\n",
            "132/132 [==============================] - 56s 423ms/step - loss: 1.5712 - acc: 0.8017 - val_loss: 1.7701 - val_acc: 0.7131 - lr: 0.0010\n",
            "Epoch 3/20\n",
            "132/132 [==============================] - 53s 398ms/step - loss: 1.2306 - acc: 0.8162 - val_loss: 1.1688 - val_acc: 0.8094 - lr: 0.0010\n",
            "Epoch 4/20\n",
            "132/132 [==============================] - 54s 410ms/step - loss: 0.9619 - acc: 0.8288 - val_loss: 0.8996 - val_acc: 0.8373 - lr: 0.0010\n",
            "Epoch 5/20\n",
            "132/132 [==============================] - 53s 399ms/step - loss: 0.7599 - acc: 0.8361 - val_loss: 0.8362 - val_acc: 0.7966 - lr: 0.0010\n",
            "Epoch 6/20\n",
            "132/132 [==============================] - 53s 399ms/step - loss: 0.6119 - acc: 0.8485 - val_loss: 0.6912 - val_acc: 0.7923 - lr: 0.0010\n",
            "Epoch 7/20\n",
            "132/132 [==============================] - 52s 392ms/step - loss: 0.5250 - acc: 0.8623 - val_loss: 0.7040 - val_acc: 0.7966 - lr: 0.0010\n",
            "Epoch 8/20\n",
            "132/132 [==============================] - 52s 396ms/step - loss: 0.4663 - acc: 0.8578 - val_loss: 0.5448 - val_acc: 0.8116 - lr: 0.0010\n",
            "Epoch 9/20\n",
            "132/132 [==============================] - 52s 394ms/step - loss: 0.4242 - acc: 0.8621 - val_loss: 0.4557 - val_acc: 0.8608 - lr: 0.0010\n",
            "Epoch 10/20\n",
            "132/132 [==============================] - 52s 389ms/step - loss: 0.3675 - acc: 0.8799 - val_loss: 0.7024 - val_acc: 0.7109 - lr: 0.0010\n",
            "Epoch 11/20\n",
            "132/132 [==============================] - ETA: 0s - loss: 0.3538 - acc: 0.8823\n",
            "Epoch 11: ReduceLROnPlateau reducing learning rate to 0.0003000000142492354.\n",
            "132/132 [==============================] - 52s 389ms/step - loss: 0.3538 - acc: 0.8823 - val_loss: 0.4724 - val_acc: 0.8266 - lr: 0.0010\n",
            "Epoch 12/20\n",
            "132/132 [==============================] - 52s 391ms/step - loss: 0.2536 - acc: 0.9208 - val_loss: 0.4609 - val_acc: 0.8394 - lr: 3.0000e-04\n",
            "Epoch 13/20\n",
            "132/132 [==============================] - ETA: 0s - loss: 0.2016 - acc: 0.9370\n",
            "Epoch 13: ReduceLROnPlateau reducing learning rate to 9.000000427477062e-05.\n",
            "132/132 [==============================] - 52s 391ms/step - loss: 0.2016 - acc: 0.9370 - val_loss: 0.5058 - val_acc: 0.8137 - lr: 3.0000e-04\n",
            "Epoch 14/20\n",
            "132/132 [==============================] - 52s 391ms/step - loss: 0.1590 - acc: 0.9581 - val_loss: 0.4931 - val_acc: 0.8351 - lr: 9.0000e-05\n",
            "Epoch 15/20\n",
            "132/132 [==============================] - ETA: 0s - loss: 0.1335 - acc: 0.9624\n",
            "Epoch 15: ReduceLROnPlateau reducing learning rate to 2.700000040931627e-05.\n",
            "132/132 [==============================] - 51s 388ms/step - loss: 0.1335 - acc: 0.9624 - val_loss: 0.5623 - val_acc: 0.8223 - lr: 9.0000e-05\n",
            "Epoch 16/20\n",
            "132/132 [==============================] - 52s 391ms/step - loss: 0.1222 - acc: 0.9693 - val_loss: 0.5652 - val_acc: 0.8415 - lr: 2.7000e-05\n",
            "Epoch 17/20\n",
            "132/132 [==============================] - ETA: 0s - loss: 0.1146 - acc: 0.9727\n",
            "Epoch 17: ReduceLROnPlateau reducing learning rate to 8.100000013655517e-06.\n",
            "132/132 [==============================] - 52s 390ms/step - loss: 0.1146 - acc: 0.9727 - val_loss: 0.5375 - val_acc: 0.8544 - lr: 2.7000e-05\n",
            "Epoch 18/20\n",
            "132/132 [==============================] - 52s 391ms/step - loss: 0.1034 - acc: 0.9736 - val_loss: 0.5314 - val_acc: 0.8480 - lr: 8.1000e-06\n",
            "Epoch 19/20\n",
            "132/132 [==============================] - ETA: 0s - loss: 0.0972 - acc: 0.9776\n",
            "Epoch 19: ReduceLROnPlateau reducing learning rate to 2.429999949526973e-06.\n",
            "132/132 [==============================] - 52s 390ms/step - loss: 0.0972 - acc: 0.9776 - val_loss: 0.5721 - val_acc: 0.8394 - lr: 8.1000e-06\n",
            "Epoch 20/20\n",
            "132/132 [==============================] - 52s 391ms/step - loss: 0.0978 - acc: 0.9765 - val_loss: 0.5361 - val_acc: 0.8415 - lr: 2.4300e-06\n"
          ]
        }
      ]
    },
    {
      "cell_type": "code",
      "source": [
        "model8.load_weights(\"best_model_MN.hdf5\")\n",
        "preds = model8.predict(X_test)\n",
        "labelled_preds = one_hot_encoder.inverse_transform(preds)\n",
        "pred = pd.DataFrame(labelled_preds, columns =[\"class_id\"])\n",
        "df = pd.read_csv('submission3.csv')\n",
        "df ['class_id']= pred\n",
        "df.to_csv(\"final_submission46.csv\", index=False)"
      ],
      "metadata": {
        "id": "AeZfn63_qegV"
      },
      "execution_count": null,
      "outputs": []
    },
    {
      "cell_type": "markdown",
      "source": [
        "###MobileNetV2 ->  Removed on Final Results"
      ],
      "metadata": {
        "id": "g1pTRhgaqwmd"
      }
    },
    {
      "cell_type": "code",
      "source": [
        "base_model9 = tf.keras.applications.MobileNetV2(include_top=False,\n",
        "                                     weights='imagenet',\n",
        "                                     input_shape=(224, 224, 3))\n",
        "x = base_model9.output\n",
        "x = tf.keras.layers.GlobalAveragePooling2D()(x)\n",
        "x = Dense(512, activation=None, kernel_regularizer = L1L2(l1=1e-5, l2=1e-3))(x)\n",
        "x = BatchNormalization()(x)\n",
        "x = Activation('swish')(x)\n",
        "x = Dropout(0.3)(x)\n",
        "x = Dense(512, activation=None, kernel_regularizer = L1L2(l1=1e-5, l2=1e-3))(x)\n",
        "x = BatchNormalization()(x)\n",
        "x = Activation('swish')(x)\n",
        "x = Dropout(0.3)(x)\n",
        "ouput1 = Dense(3, activation= 'softmax')(x)\n",
        "\n",
        "model9 = Model(inputs=base_model9.input, outputs=ouput1)\n",
        "\n",
        "model9.compile(loss='categorical_crossentropy', \n",
        "              optimizer=tf.keras.optimizers.Adam(1e-3, decay = 1e-3 * 0.1), metrics=['acc'])"
      ],
      "metadata": {
        "colab": {
          "base_uri": "https://localhost:8080/"
        },
        "id": "2HJx3jMnqzby",
        "outputId": "dca70a18-5af4-4cbe-8897-d8c175fca9e0"
      },
      "execution_count": null,
      "outputs": [
        {
          "output_type": "stream",
          "name": "stdout",
          "text": [
            "Downloading data from https://storage.googleapis.com/tensorflow/keras-applications/mobilenet_v2/mobilenet_v2_weights_tf_dim_ordering_tf_kernels_1.0_224_no_top.h5\n",
            "9412608/9406464 [==============================] - 0s 0us/step\n",
            "9420800/9406464 [==============================] - 0s 0us/step\n"
          ]
        }
      ]
    },
    {
      "cell_type": "code",
      "source": [
        "learning_rate_reduction = ReduceLROnPlateau(monitor='val_loss', patience = 2, verbose=1,factor=0.3, min_lr=0.00000001)\n",
        "chkpt = ModelCheckpoint(filepath='best_model_MNV2.hdf5', monitor='val_loss', save_best_only=True, save_weights_only=True)\n",
        "early_stopping = tf.keras.callbacks.EarlyStopping(patience=13, monitor='val_loss', restore_best_weights=True)\n",
        "\n",
        "history9 = model9.fit(train_gen, epochs=20, validation_data=valid_gen, callbacks=[learning_rate_reduction, chkpt, early_stopping])"
      ],
      "metadata": {
        "colab": {
          "base_uri": "https://localhost:8080/"
        },
        "id": "ZoJqT3NIq-64",
        "outputId": "3fe1a0b6-a0f5-4e50-cfcd-118d4f041d29"
      },
      "execution_count": null,
      "outputs": [
        {
          "output_type": "stream",
          "name": "stdout",
          "text": [
            "Epoch 1/20\n",
            "132/132 [==============================] - 60s 412ms/step - loss: 2.1421 - acc: 0.7146 - val_loss: 5.1924 - val_acc: 0.2998 - lr: 0.0010\n",
            "Epoch 2/20\n",
            "132/132 [==============================] - 54s 405ms/step - loss: 1.6561 - acc: 0.7857 - val_loss: 4.8682 - val_acc: 0.4069 - lr: 0.0010\n",
            "Epoch 3/20\n",
            "132/132 [==============================] - 53s 401ms/step - loss: 1.2740 - acc: 0.7990 - val_loss: 2.7762 - val_acc: 0.4347 - lr: 0.0010\n",
            "Epoch 4/20\n",
            "132/132 [==============================] - 53s 401ms/step - loss: 1.0031 - acc: 0.8209 - val_loss: 1.2577 - val_acc: 0.7666 - lr: 0.0010\n",
            "Epoch 5/20\n",
            "132/132 [==============================] - 52s 395ms/step - loss: 0.8178 - acc: 0.8140 - val_loss: 3.0075 - val_acc: 0.4861 - lr: 0.0010\n",
            "Epoch 6/20\n",
            "132/132 [==============================] - 53s 397ms/step - loss: 0.6889 - acc: 0.8193 - val_loss: 1.0821 - val_acc: 0.6253 - lr: 0.0010\n",
            "Epoch 7/20\n",
            "132/132 [==============================] - 52s 395ms/step - loss: 0.5899 - acc: 0.8333 - val_loss: 1.7274 - val_acc: 0.4968 - lr: 0.0010\n",
            "Epoch 8/20\n",
            "132/132 [==============================] - ETA: 0s - loss: 0.5326 - acc: 0.8331\n",
            "Epoch 8: ReduceLROnPlateau reducing learning rate to 0.0003000000142492354.\n",
            "132/132 [==============================] - 52s 394ms/step - loss: 0.5326 - acc: 0.8331 - val_loss: 6.7646 - val_acc: 0.3298 - lr: 0.0010\n",
            "Epoch 9/20\n",
            "132/132 [==============================] - 52s 390ms/step - loss: 0.4195 - acc: 0.8702 - val_loss: 1.1069 - val_acc: 0.6831 - lr: 3.0000e-04\n",
            "Epoch 10/20\n",
            "132/132 [==============================] - 53s 398ms/step - loss: 0.3771 - acc: 0.8820 - val_loss: 0.8199 - val_acc: 0.7173 - lr: 3.0000e-04\n",
            "Epoch 11/20\n",
            "132/132 [==============================] - 52s 396ms/step - loss: 0.3447 - acc: 0.8968 - val_loss: 0.8022 - val_acc: 0.7409 - lr: 3.0000e-04\n",
            "Epoch 12/20\n",
            "132/132 [==============================] - 52s 392ms/step - loss: 0.3279 - acc: 0.8980 - val_loss: 0.8922 - val_acc: 0.7045 - lr: 3.0000e-04\n",
            "Epoch 13/20\n",
            "132/132 [==============================] - ETA: 0s - loss: 0.2956 - acc: 0.9096\n",
            "Epoch 13: ReduceLROnPlateau reducing learning rate to 9.000000427477062e-05.\n",
            "132/132 [==============================] - 52s 392ms/step - loss: 0.2956 - acc: 0.9096 - val_loss: 1.1577 - val_acc: 0.6510 - lr: 3.0000e-04\n",
            "Epoch 14/20\n",
            "132/132 [==============================] - 53s 398ms/step - loss: 0.2277 - acc: 0.9306 - val_loss: 0.7364 - val_acc: 0.7687 - lr: 9.0000e-05\n",
            "Epoch 15/20\n",
            "132/132 [==============================] - 52s 391ms/step - loss: 0.2125 - acc: 0.9353 - val_loss: 0.8028 - val_acc: 0.7516 - lr: 9.0000e-05\n",
            "Epoch 16/20\n",
            "132/132 [==============================] - 53s 399ms/step - loss: 0.1904 - acc: 0.9496 - val_loss: 0.6677 - val_acc: 0.8009 - lr: 9.0000e-05\n",
            "Epoch 17/20\n",
            "132/132 [==============================] - 52s 392ms/step - loss: 0.1644 - acc: 0.9572 - val_loss: 0.8184 - val_acc: 0.7816 - lr: 9.0000e-05\n",
            "Epoch 18/20\n",
            "132/132 [==============================] - ETA: 0s - loss: 0.1641 - acc: 0.9572\n",
            "Epoch 18: ReduceLROnPlateau reducing learning rate to 2.700000040931627e-05.\n",
            "132/132 [==============================] - 52s 390ms/step - loss: 0.1641 - acc: 0.9572 - val_loss: 0.6825 - val_acc: 0.8030 - lr: 9.0000e-05\n",
            "Epoch 19/20\n",
            "132/132 [==============================] - 52s 392ms/step - loss: 0.1347 - acc: 0.9672 - val_loss: 0.7378 - val_acc: 0.8137 - lr: 2.7000e-05\n",
            "Epoch 20/20\n",
            "132/132 [==============================] - ETA: 0s - loss: 0.1392 - acc: 0.9677\n",
            "Epoch 20: ReduceLROnPlateau reducing learning rate to 8.100000013655517e-06.\n",
            "132/132 [==============================] - 52s 393ms/step - loss: 0.1392 - acc: 0.9677 - val_loss: 0.6790 - val_acc: 0.8158 - lr: 2.7000e-05\n"
          ]
        }
      ]
    },
    {
      "cell_type": "code",
      "source": [
        "model9.load_weights(\"best_model_MNV2.hdf5\")\n",
        "preds = model9.predict(X_test)\n",
        "labelled_preds = one_hot_encoder.inverse_transform(preds)\n",
        "pred = pd.DataFrame(labelled_preds, columns =[\"class_id\"])\n",
        "df = pd.read_csv('submission3.csv')\n",
        "df ['class_id']= pred\n",
        "df.to_csv(\"final_submission47.csv\", index=False)"
      ],
      "metadata": {
        "id": "wmiblIWDrDt6"
      },
      "execution_count": null,
      "outputs": []
    },
    {
      "cell_type": "markdown",
      "metadata": {
        "id": "uXahXAf23bP0"
      },
      "source": [
        "#Majority Voting"
      ]
    },
    {
      "cell_type": "markdown",
      "metadata": {
        "id": "Owp_c8lp4EZI"
      },
      "source": [
        "###Get the predictions -> Keep only the 16 predictions"
      ]
    },
    {
      "cell_type": "code",
      "execution_count": 1,
      "metadata": {
        "id": "d7WVjHYI3erx"
      },
      "outputs": [],
      "source": [
        "#removed \n",
        "#model.load_weights(\"best_model_effB0.hdf5\")\n",
        "#preds = model.predict(X_test) "
      ]
    },
    {
      "cell_type": "code",
      "execution_count": null,
      "metadata": {
        "id": "1tObNiUy3v-j"
      },
      "outputs": [],
      "source": [
        "model1.load_weights(\"best_model_effB1.hdf5\")\n",
        "preds1 = model1.predict(X_test) "
      ]
    },
    {
      "cell_type": "code",
      "execution_count": null,
      "metadata": {
        "id": "pg1Nfx__31aO"
      },
      "outputs": [],
      "source": [
        "model2.load_weights(\"best_model_effB2.hdf5\")\n",
        "preds2 = model2.predict(X_test) "
      ]
    },
    {
      "cell_type": "code",
      "execution_count": null,
      "metadata": {
        "id": "ouZqjAmN3523"
      },
      "outputs": [],
      "source": [
        "model3.load_weights(\"best_model_effB3.hdf5\")\n",
        "preds3 = model3.predict(X_test) "
      ]
    },
    {
      "cell_type": "code",
      "execution_count": null,
      "metadata": {
        "id": "ucLYXDcKWeTl"
      },
      "outputs": [],
      "source": [
        "model31.load_weights(\"best_model_effB3_1.hdf5\")\n",
        "preds31 = model31.predict(X_test)"
      ]
    },
    {
      "cell_type": "code",
      "execution_count": null,
      "metadata": {
        "id": "UygBGTMBWeau"
      },
      "outputs": [],
      "source": [
        "#removed \n",
        "#model32.load_weights(\"best_model_effB3_2.hdf5\")\n",
        "#preds32 = model32.predict(X_test) "
      ]
    },
    {
      "cell_type": "code",
      "execution_count": null,
      "metadata": {
        "id": "ypFfJBcgWehf"
      },
      "outputs": [],
      "source": [
        "model33.load_weights(\"best_model_effB3_3.hdf5\")\n",
        "preds33 = model33.predict(X_test)"
      ]
    },
    {
      "cell_type": "code",
      "execution_count": null,
      "metadata": {
        "id": "Yw0SGLLlWen7"
      },
      "outputs": [],
      "source": [
        "model34.load_weights(\"best_model_effB3_4.hdf5\")\n",
        "preds34 = model34.predict(X_test)"
      ]
    },
    {
      "cell_type": "code",
      "execution_count": null,
      "metadata": {
        "id": "KDil9tM5Wetf"
      },
      "outputs": [],
      "source": [
        "model35.load_weights(\"best_model_effB3_5.hdf5\")\n",
        "preds35 = model35.predict(X_test)"
      ]
    },
    {
      "cell_type": "code",
      "execution_count": null,
      "metadata": {
        "id": "95jOenf1WezU"
      },
      "outputs": [],
      "source": [
        "#removed\n",
        "#model36.load_weights(\"best_model_effB3_6.hdf5\")\n",
        "#preds36 = model36.predict(X_test)"
      ]
    },
    {
      "cell_type": "code",
      "execution_count": null,
      "metadata": {
        "id": "NDtHqp7fWe6L"
      },
      "outputs": [],
      "source": [
        "model37.load_weights(\"best_model_effB3_7.hdf5\")\n",
        "preds37 = model37.predict(X_test)"
      ]
    },
    {
      "cell_type": "code",
      "execution_count": null,
      "metadata": {
        "id": "Ef1OTZKNWe_0"
      },
      "outputs": [],
      "source": [
        "model38.load_weights(\"best_model_effB3_8.hdf5\")\n",
        "preds38 = model38.predict(X_test)"
      ]
    },
    {
      "cell_type": "code",
      "execution_count": null,
      "metadata": {
        "id": "kfcEkUjR39vB"
      },
      "outputs": [],
      "source": [
        "model4.load_weights(\"best_model_effV2B0.hdf5\")\n",
        "preds4 = model4.predict(X_test)"
      ]
    },
    {
      "cell_type": "code",
      "execution_count": null,
      "metadata": {
        "id": "tyivwEgKL6oH"
      },
      "outputs": [],
      "source": [
        "model5.load_weights(\"best_model_effV2B1.hdf5\")\n",
        "preds5 = model5.predict(X_test)"
      ]
    },
    {
      "cell_type": "code",
      "execution_count": null,
      "metadata": {
        "id": "A3yMXF4KMCHf"
      },
      "outputs": [],
      "source": [
        "#removed\n",
        "#model6.load_weights(\"best_model_effV2B2.hdf5\")\n",
        "#preds6 = model6.predict(X_test)"
      ]
    },
    {
      "cell_type": "code",
      "execution_count": null,
      "metadata": {
        "id": "v9O1HRLoMG9e"
      },
      "outputs": [],
      "source": [
        "model7.load_weights(\"best_model_effV2B3.hdf5\")\n",
        "preds7 = model7.predict(X_test)"
      ]
    },
    {
      "cell_type": "code",
      "execution_count": null,
      "metadata": {
        "id": "42LwsvBKrL5S"
      },
      "outputs": [],
      "source": [
        "model8.load_weights(\"best_model_MN.hdf5\")\n",
        "preds8 = model8.predict(X_test) "
      ]
    },
    {
      "cell_type": "code",
      "execution_count": null,
      "metadata": {
        "id": "sv3L07tnrT2l"
      },
      "outputs": [],
      "source": [
        "#removed\n",
        "#model9.load_weights(\"best_model_MNV2.hdf5\")\n",
        "#preds9 = model9.predict(X_test) "
      ]
    },
    {
      "cell_type": "code",
      "source": [
        "model14.load_weights('best_model_EfficientNetV2M_50epochs_40.hdf5')\n",
        "preds14 = model14.predict(X_test)"
      ],
      "metadata": {
        "id": "kU0vmVPhmQjV"
      },
      "execution_count": null,
      "outputs": []
    },
    {
      "cell_type": "code",
      "source": [
        "model16.load_weights('best_model_EfficientNetV2M_vol2.hdf5')\n",
        "preds16 = model16.predict(X_test) "
      ],
      "metadata": {
        "id": "pCw6O8EcmQmS"
      },
      "execution_count": null,
      "outputs": []
    },
    {
      "cell_type": "code",
      "source": [
        "#removed\n",
        "#model19.load_weights('best_model_EfficientNetV2M_vol6.hdf5')\n",
        "#preds19 = model19.predict(X_test)"
      ],
      "metadata": {
        "id": "hM73TZDXmQo-"
      },
      "execution_count": null,
      "outputs": []
    },
    {
      "cell_type": "code",
      "source": [
        "model20.load_weights('best_model_EfficientNetV2M_vol7.hdf5')\n",
        "preds20 = model20.predict(X_test)"
      ],
      "metadata": {
        "id": "qQuaVcS7mRC2"
      },
      "execution_count": null,
      "outputs": []
    },
    {
      "cell_type": "markdown",
      "source": [
        "###Soft voting"
      ],
      "metadata": {
        "id": "A89lDQZMnIAF"
      }
    },
    {
      "cell_type": "code",
      "source": [
        "a = np.mean( np.array([preds1, preds2, preds3, preds31, preds33, preds34, preds35, preds37, preds38, preds4, preds5, preds7, preds8, preds14, preds16, preds20]), axis=0 )\n",
        "final_labels = one_hot_encoder.inverse_transform(a)\n",
        "final_labels"
      ],
      "metadata": {
        "id": "cxvb1glGnJ1g"
      },
      "execution_count": null,
      "outputs": []
    },
    {
      "cell_type": "code",
      "source": [
        "pred = pd.DataFrame(final_labels, columns =[\"class_id\"])\n",
        "df = pd.read_csv('submission3.csv')\n",
        "df ['class_id']= pred\n",
        "df.to_csv(\"final_submission_last_day_2.csv.csv\", index=False)"
      ],
      "metadata": {
        "id": "HGUervFMnNzB"
      },
      "execution_count": null,
      "outputs": []
    }
  ]
}